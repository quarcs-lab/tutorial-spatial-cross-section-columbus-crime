{
 "cells": [
  {
   "cell_type": "markdown",
   "source": "# Setup",
   "metadata": {
    "cell_id": "3590368e64a04359be728c4810739d96",
    "tags": [],
    "is_collapsed": false,
    "deepnote_cell_type": "text-cell-h1"
   }
  },
  {
   "cell_type": "code",
   "metadata": {
    "tags": [],
    "cell_id": "25643e7b-62d4-4b87-9c13-81bba2dce456",
    "deepnote_to_be_reexecuted": false,
    "source_hash": "7afae456",
    "execution_start": 1653788946115,
    "execution_millis": 3022,
    "deepnote_cell_type": "code",
    "deepnote_cell_height": 1068.953125
   },
   "source": "# Load libraries\nimport numpy as np\nimport pandas as pd\npd.set_option('display.max_columns', None)\n\nimport matplotlib.pyplot as plt\nplt.style.use('ggplot')\nfrom matplotlib.ticker import FormatStrFormatter\nfrom matplotlib_scalebar.scalebar import ScaleBar\nfrom pylab import rcParams\nimport matplotlib as mpl\nmpl.rcParams['figure.dpi'] = 72\n\nimport seaborn as sns\n#sns.set_style(\"darkgrid\")\n#sns.set_context(context=\"paper\", font_scale=1.5, rc=None)\n#sns.set(font=\"serif\")\n\nimport plotly.express as px\nimport plotly.graph_objects as go\n\nimport geopandas as gpd\n\n\nimport libpysal\nfrom libpysal  import weights\nfrom libpysal.weights import Queen\n\nimport esda\nfrom esda.moran import Moran, Moran_Local\n\nimport splot\nfrom splot.esda import moran_scatterplot, plot_moran, lisa_cluster, plot_local_autocorrelation\nfrom splot.libpysal import plot_spatial_weights\n\nfrom giddy.directional import Rose\n\nimport statsmodels.api as sm\nimport statsmodels.formula.api as smf\n\nfrom spreg import OLS\nfrom spreg import MoranRes\nfrom spreg import ML_Lag\nfrom spreg import ML_Error \n\nfrom mgwr.gwr import GWR, MGWR\nfrom mgwr.sel_bw import Sel_BW\nfrom mgwr.utils import shift_colormap, truncate_colormap\n\nimport warnings\nwarnings.filterwarnings('ignore') ",
   "execution_count": 1,
   "outputs": []
  },
  {
   "cell_type": "markdown",
   "source": "# Import  data",
   "metadata": {
    "cell_id": "08ea85f1a6b74726b383a40e5f893533",
    "tags": [],
    "is_collapsed": false,
    "deepnote_cell_type": "text-cell-h1"
   }
  },
  {
   "cell_type": "code",
   "source": "gdf = gpd.read_file(\"/work/tutorial-spatial-cross-section-columbus-crime/columbus.geojson\")\ngdf",
   "metadata": {
    "cell_id": "c3a419ff3e224b2485a3f1fdf5895ed6",
    "tags": [],
    "deepnote_to_be_reexecuted": false,
    "source_hash": "bcdd8176",
    "execution_start": 1653788949138,
    "execution_millis": 102,
    "deepnote_cell_type": "code",
    "deepnote_cell_height": 631.953125
   },
   "outputs": [
    {
     "output_type": "execute_result",
     "execution_count": 2,
     "data": {
      "application/vnd.deepnote.dataframe.v3+json": {
       "column_count": 21,
       "row_count": 49,
       "columns": [
        {
         "name": "AREA",
         "dtype": "float64",
         "stats": {
          "unique_count": 49,
          "nan_count": 0,
          "min": "0.034377",
          "max": "0.699258",
          "histogram": [
           {
            "bin_start": 0.034377,
            "bin_end": 0.10086510000000001,
            "count": 13
           },
           {
            "bin_start": 0.10086510000000001,
            "bin_end": 0.1673532,
            "count": 9
           },
           {
            "bin_start": 0.1673532,
            "bin_end": 0.23384130000000003,
            "count": 13
           },
           {
            "bin_start": 0.23384130000000003,
            "bin_end": 0.3003294,
            "count": 8
           },
           {
            "bin_start": 0.3003294,
            "bin_end": 0.3668175,
            "count": 2
           },
           {
            "bin_start": 0.3668175,
            "bin_end": 0.43330560000000007,
            "count": 0
           },
           {
            "bin_start": 0.43330560000000007,
            "bin_end": 0.49979370000000006,
            "count": 2
           },
           {
            "bin_start": 0.49979370000000006,
            "bin_end": 0.5662818000000001,
            "count": 1
           },
           {
            "bin_start": 0.5662818000000001,
            "bin_end": 0.6327699000000001,
            "count": 0
           },
           {
            "bin_start": 0.6327699000000001,
            "bin_end": 0.699258,
            "count": 1
           }
          ]
         }
        },
        {
         "name": "PERIMETER",
         "dtype": "float64",
         "stats": {
          "unique_count": 49,
          "nan_count": 0,
          "min": "0.902125",
          "max": "5.07749",
          "histogram": [
           {
            "bin_start": 0.902125,
            "bin_end": 1.3196615,
            "count": 10
           },
           {
            "bin_start": 1.3196615,
            "bin_end": 1.737198,
            "count": 12
           },
           {
            "bin_start": 1.737198,
            "bin_end": 2.1547345,
            "count": 11
           },
           {
            "bin_start": 2.1547345,
            "bin_end": 2.572271,
            "count": 12
           },
           {
            "bin_start": 2.572271,
            "bin_end": 2.9898075,
            "count": 0
           },
           {
            "bin_start": 2.9898075,
            "bin_end": 3.407344,
            "count": 3
           },
           {
            "bin_start": 3.407344,
            "bin_end": 3.8248805,
            "count": 0
           },
           {
            "bin_start": 3.8248805,
            "bin_end": 4.2424170000000005,
            "count": 0
           },
           {
            "bin_start": 4.2424170000000005,
            "bin_end": 4.6599535,
            "count": 0
           },
           {
            "bin_start": 4.6599535,
            "bin_end": 5.07749,
            "count": 1
           }
          ]
         }
        },
        {
         "name": "COLUMBUS_",
         "dtype": "int64",
         "stats": {
          "unique_count": 49,
          "nan_count": 0,
          "min": "2",
          "max": "50",
          "histogram": [
           {
            "bin_start": 2,
            "bin_end": 6.8,
            "count": 5
           },
           {
            "bin_start": 6.8,
            "bin_end": 11.6,
            "count": 5
           },
           {
            "bin_start": 11.6,
            "bin_end": 16.4,
            "count": 5
           },
           {
            "bin_start": 16.4,
            "bin_end": 21.2,
            "count": 5
           },
           {
            "bin_start": 21.2,
            "bin_end": 26,
            "count": 4
           },
           {
            "bin_start": 26,
            "bin_end": 30.799999999999997,
            "count": 5
           },
           {
            "bin_start": 30.799999999999997,
            "bin_end": 35.6,
            "count": 5
           },
           {
            "bin_start": 35.6,
            "bin_end": 40.4,
            "count": 5
           },
           {
            "bin_start": 40.4,
            "bin_end": 45.199999999999996,
            "count": 5
           },
           {
            "bin_start": 45.199999999999996,
            "bin_end": 50,
            "count": 5
           }
          ]
         }
        },
        {
         "name": "COLUMBUS_I",
         "dtype": "int64",
         "stats": {
          "unique_count": 49,
          "nan_count": 0,
          "min": "1",
          "max": "49",
          "histogram": [
           {
            "bin_start": 1,
            "bin_end": 5.8,
            "count": 5
           },
           {
            "bin_start": 5.8,
            "bin_end": 10.6,
            "count": 5
           },
           {
            "bin_start": 10.6,
            "bin_end": 15.399999999999999,
            "count": 5
           },
           {
            "bin_start": 15.399999999999999,
            "bin_end": 20.2,
            "count": 5
           },
           {
            "bin_start": 20.2,
            "bin_end": 25,
            "count": 4
           },
           {
            "bin_start": 25,
            "bin_end": 29.799999999999997,
            "count": 5
           },
           {
            "bin_start": 29.799999999999997,
            "bin_end": 34.6,
            "count": 5
           },
           {
            "bin_start": 34.6,
            "bin_end": 39.4,
            "count": 5
           },
           {
            "bin_start": 39.4,
            "bin_end": 44.199999999999996,
            "count": 5
           },
           {
            "bin_start": 44.199999999999996,
            "bin_end": 49,
            "count": 5
           }
          ]
         }
        },
        {
         "name": "POLYID",
         "dtype": "int64",
         "stats": {
          "unique_count": 49,
          "nan_count": 0,
          "min": "1",
          "max": "49",
          "histogram": [
           {
            "bin_start": 1,
            "bin_end": 5.8,
            "count": 5
           },
           {
            "bin_start": 5.8,
            "bin_end": 10.6,
            "count": 5
           },
           {
            "bin_start": 10.6,
            "bin_end": 15.399999999999999,
            "count": 5
           },
           {
            "bin_start": 15.399999999999999,
            "bin_end": 20.2,
            "count": 5
           },
           {
            "bin_start": 20.2,
            "bin_end": 25,
            "count": 4
           },
           {
            "bin_start": 25,
            "bin_end": 29.799999999999997,
            "count": 5
           },
           {
            "bin_start": 29.799999999999997,
            "bin_end": 34.6,
            "count": 5
           },
           {
            "bin_start": 34.6,
            "bin_end": 39.4,
            "count": 5
           },
           {
            "bin_start": 39.4,
            "bin_end": 44.199999999999996,
            "count": 5
           },
           {
            "bin_start": 44.199999999999996,
            "bin_end": 49,
            "count": 5
           }
          ]
         }
        },
        {
         "name": "NEIG",
         "dtype": "int64",
         "stats": {
          "unique_count": 49,
          "nan_count": 0,
          "min": "1",
          "max": "49",
          "histogram": [
           {
            "bin_start": 1,
            "bin_end": 5.8,
            "count": 5
           },
           {
            "bin_start": 5.8,
            "bin_end": 10.6,
            "count": 5
           },
           {
            "bin_start": 10.6,
            "bin_end": 15.399999999999999,
            "count": 5
           },
           {
            "bin_start": 15.399999999999999,
            "bin_end": 20.2,
            "count": 5
           },
           {
            "bin_start": 20.2,
            "bin_end": 25,
            "count": 4
           },
           {
            "bin_start": 25,
            "bin_end": 29.799999999999997,
            "count": 5
           },
           {
            "bin_start": 29.799999999999997,
            "bin_end": 34.6,
            "count": 5
           },
           {
            "bin_start": 34.6,
            "bin_end": 39.4,
            "count": 5
           },
           {
            "bin_start": 39.4,
            "bin_end": 44.199999999999996,
            "count": 5
           },
           {
            "bin_start": 44.199999999999996,
            "bin_end": 49,
            "count": 5
           }
          ]
         }
        },
        {
         "name": "HOVAL",
         "dtype": "float64",
         "stats": {
          "unique_count": 49,
          "nan_count": 0,
          "min": "17.9",
          "max": "96.400002",
          "histogram": [
           {
            "bin_start": 17.9,
            "bin_end": 25.7500002,
            "count": 13
           },
           {
            "bin_start": 25.7500002,
            "bin_end": 33.6000004,
            "count": 12
           },
           {
            "bin_start": 33.6000004,
            "bin_end": 41.450000599999996,
            "count": 6
           },
           {
            "bin_start": 41.450000599999996,
            "bin_end": 49.30000079999999,
            "count": 9
           },
           {
            "bin_start": 49.30000079999999,
            "bin_end": 57.150000999999996,
            "count": 2
           },
           {
            "bin_start": 57.150000999999996,
            "bin_end": 65.00000119999999,
            "count": 2
           },
           {
            "bin_start": 65.00000119999999,
            "bin_end": 72.8500014,
            "count": 0
           },
           {
            "bin_start": 72.8500014,
            "bin_end": 80.7000016,
            "count": 3
           },
           {
            "bin_start": 80.7000016,
            "bin_end": 88.55000179999999,
            "count": 1
           },
           {
            "bin_start": 88.55000179999999,
            "bin_end": 96.400002,
            "count": 1
           }
          ]
         }
        },
        {
         "name": "INC",
         "dtype": "float64",
         "stats": {
          "unique_count": 49,
          "nan_count": 0,
          "min": "4.477",
          "max": "31.07",
          "histogram": [
           {
            "bin_start": 4.477,
            "bin_end": 7.1363,
            "count": 1
           },
           {
            "bin_start": 7.1363,
            "bin_end": 9.7956,
            "count": 8
           },
           {
            "bin_start": 9.7956,
            "bin_end": 12.4549,
            "count": 13
           },
           {
            "bin_start": 12.4549,
            "bin_end": 15.1142,
            "count": 8
           },
           {
            "bin_start": 15.1142,
            "bin_end": 17.7735,
            "count": 6
           },
           {
            "bin_start": 17.7735,
            "bin_end": 20.4328,
            "count": 7
           },
           {
            "bin_start": 20.4328,
            "bin_end": 23.0921,
            "count": 3
           },
           {
            "bin_start": 23.0921,
            "bin_end": 25.7514,
            "count": 0
           },
           {
            "bin_start": 25.7514,
            "bin_end": 28.410700000000002,
            "count": 1
           },
           {
            "bin_start": 28.410700000000002,
            "bin_end": 31.07,
            "count": 2
           }
          ]
         }
        },
        {
         "name": "CRIME",
         "dtype": "float64",
         "stats": {
          "unique_count": 49,
          "nan_count": 0,
          "min": "0.178269",
          "max": "68.892044",
          "histogram": [
           {
            "bin_start": 0.178269,
            "bin_end": 7.0496465,
            "count": 2
           },
           {
            "bin_start": 7.0496465,
            "bin_end": 13.921024,
            "count": 0
           },
           {
            "bin_start": 13.921024,
            "bin_end": 20.792401499999997,
            "count": 11
           },
           {
            "bin_start": 20.792401499999997,
            "bin_end": 27.663778999999998,
            "count": 5
           },
           {
            "bin_start": 27.663778999999998,
            "bin_end": 34.5351565,
            "count": 7
           },
           {
            "bin_start": 34.5351565,
            "bin_end": 41.40653399999999,
            "count": 7
           },
           {
            "bin_start": 41.40653399999999,
            "bin_end": 48.277911499999995,
            "count": 4
           },
           {
            "bin_start": 48.277911499999995,
            "bin_end": 55.149288999999996,
            "count": 6
           },
           {
            "bin_start": 55.149288999999996,
            "bin_end": 62.0206665,
            "count": 5
           },
           {
            "bin_start": 62.0206665,
            "bin_end": 68.892044,
            "count": 2
           }
          ]
         }
        },
        {
         "name": "OPEN",
         "dtype": "float64",
         "stats": {
          "unique_count": 40,
          "nan_count": 0,
          "min": "0.0",
          "max": "24.998068",
          "histogram": [
           {
            "bin_start": 0,
            "bin_end": 2.4998068,
            "count": 32
           },
           {
            "bin_start": 2.4998068,
            "bin_end": 4.9996136,
            "count": 10
           },
           {
            "bin_start": 4.9996136,
            "bin_end": 7.4994204,
            "count": 4
           },
           {
            "bin_start": 7.4994204,
            "bin_end": 9.9992272,
            "count": 1
           },
           {
            "bin_start": 9.9992272,
            "bin_end": 12.499034,
            "count": 0
           },
           {
            "bin_start": 12.499034,
            "bin_end": 14.9988408,
            "count": 0
           },
           {
            "bin_start": 14.9988408,
            "bin_end": 17.498647599999998,
            "count": 0
           },
           {
            "bin_start": 17.498647599999998,
            "bin_end": 19.9984544,
            "count": 1
           },
           {
            "bin_start": 19.9984544,
            "bin_end": 22.4982612,
            "count": 0
           },
           {
            "bin_start": 22.4982612,
            "bin_end": 24.998068,
            "count": 1
           }
          ]
         }
        },
        {
         "name": "PLUMB",
         "dtype": "float64",
         "stats": {
          "unique_count": 49,
          "nan_count": 0,
          "min": "0.132743",
          "max": "18.811075",
          "histogram": [
           {
            "bin_start": 0.132743,
            "bin_end": 2.0005762,
            "count": 34
           },
           {
            "bin_start": 2.0005762,
            "bin_end": 3.8684093999999996,
            "count": 8
           },
           {
            "bin_start": 3.8684093999999996,
            "bin_end": 5.736242599999999,
            "count": 2
           },
           {
            "bin_start": 5.736242599999999,
            "bin_end": 7.604075799999999,
            "count": 2
           },
           {
            "bin_start": 7.604075799999999,
            "bin_end": 9.471908999999998,
            "count": 0
           },
           {
            "bin_start": 9.471908999999998,
            "bin_end": 11.339742199999998,
            "count": 0
           },
           {
            "bin_start": 11.339742199999998,
            "bin_end": 13.207575399999998,
            "count": 0
           },
           {
            "bin_start": 13.207575399999998,
            "bin_end": 15.075408599999998,
            "count": 1
           },
           {
            "bin_start": 15.075408599999998,
            "bin_end": 16.9432418,
            "count": 1
           },
           {
            "bin_start": 16.9432418,
            "bin_end": 18.811075,
            "count": 1
           }
          ]
         }
        },
        {
         "name": "DISCBD",
         "dtype": "float64",
         "stats": {
          "unique_count": 46,
          "nan_count": 0,
          "min": "0.37",
          "max": "5.57",
          "histogram": [
           {
            "bin_start": 0.37,
            "bin_end": 0.89,
            "count": 4
           },
           {
            "bin_start": 0.89,
            "bin_end": 1.4100000000000001,
            "count": 4
           },
           {
            "bin_start": 1.4100000000000001,
            "bin_end": 1.9300000000000002,
            "count": 8
           },
           {
            "bin_start": 1.9300000000000002,
            "bin_end": 2.45,
            "count": 7
           },
           {
            "bin_start": 2.45,
            "bin_end": 2.97,
            "count": 5
           },
           {
            "bin_start": 2.97,
            "bin_end": 3.49,
            "count": 3
           },
           {
            "bin_start": 3.49,
            "bin_end": 4.01,
            "count": 6
           },
           {
            "bin_start": 4.01,
            "bin_end": 4.53,
            "count": 5
           },
           {
            "bin_start": 4.53,
            "bin_end": 5.05,
            "count": 3
           },
           {
            "bin_start": 5.05,
            "bin_end": 5.57,
            "count": 4
           }
          ]
         }
        },
        {
         "name": "X",
         "dtype": "float64",
         "stats": {
          "unique_count": 49,
          "nan_count": 0,
          "min": "24.25",
          "max": "51.240002",
          "histogram": [
           {
            "bin_start": 24.25,
            "bin_end": 26.9490002,
            "count": 2
           },
           {
            "bin_start": 26.9490002,
            "bin_end": 29.6480004,
            "count": 3
           },
           {
            "bin_start": 29.6480004,
            "bin_end": 32.3470006,
            "count": 1
           },
           {
            "bin_start": 32.3470006,
            "bin_end": 35.0460008,
            "count": 2
           },
           {
            "bin_start": 35.0460008,
            "bin_end": 37.745001,
            "count": 10
           },
           {
            "bin_start": 37.745001,
            "bin_end": 40.444001199999995,
            "count": 10
           },
           {
            "bin_start": 40.444001199999995,
            "bin_end": 43.143001399999996,
            "count": 6
           },
           {
            "bin_start": 43.143001399999996,
            "bin_end": 45.842001599999996,
            "count": 7
           },
           {
            "bin_start": 45.842001599999996,
            "bin_end": 48.5410018,
            "count": 3
           },
           {
            "bin_start": 48.5410018,
            "bin_end": 51.240002,
            "count": 5
           }
          ]
         }
        },
        {
         "name": "Y",
         "dtype": "float64",
         "stats": {
          "unique_count": 49,
          "nan_count": 0,
          "min": "24.959999",
          "max": "44.07",
          "histogram": [
           {
            "bin_start": 24.959999,
            "bin_end": 26.8709991,
            "count": 7
           },
           {
            "bin_start": 26.8709991,
            "bin_end": 28.7819992,
            "count": 7
           },
           {
            "bin_start": 28.7819992,
            "bin_end": 30.6929993,
            "count": 8
           },
           {
            "bin_start": 30.6929993,
            "bin_end": 32.6039994,
            "count": 4
           },
           {
            "bin_start": 32.6039994,
            "bin_end": 34.5149995,
            "count": 7
           },
           {
            "bin_start": 34.5149995,
            "bin_end": 36.4259996,
            "count": 8
           },
           {
            "bin_start": 36.4259996,
            "bin_end": 38.3369997,
            "count": 1
           },
           {
            "bin_start": 38.3369997,
            "bin_end": 40.2479998,
            "count": 3
           },
           {
            "bin_start": 40.2479998,
            "bin_end": 42.1589999,
            "count": 2
           },
           {
            "bin_start": 42.1589999,
            "bin_end": 44.07,
            "count": 2
           }
          ]
         }
        },
        {
         "name": "NSA",
         "dtype": "int64",
         "stats": {
          "unique_count": 2,
          "nan_count": 0,
          "min": "0",
          "max": "1",
          "histogram": [
           {
            "bin_start": 0,
            "bin_end": 0.1,
            "count": 25
           },
           {
            "bin_start": 0.1,
            "bin_end": 0.2,
            "count": 0
           },
           {
            "bin_start": 0.2,
            "bin_end": 0.30000000000000004,
            "count": 0
           },
           {
            "bin_start": 0.30000000000000004,
            "bin_end": 0.4,
            "count": 0
           },
           {
            "bin_start": 0.4,
            "bin_end": 0.5,
            "count": 0
           },
           {
            "bin_start": 0.5,
            "bin_end": 0.6000000000000001,
            "count": 0
           },
           {
            "bin_start": 0.6000000000000001,
            "bin_end": 0.7000000000000001,
            "count": 0
           },
           {
            "bin_start": 0.7000000000000001,
            "bin_end": 0.8,
            "count": 0
           },
           {
            "bin_start": 0.8,
            "bin_end": 0.9,
            "count": 0
           },
           {
            "bin_start": 0.9,
            "bin_end": 1,
            "count": 24
           }
          ]
         }
        },
        {
         "name": "NSB",
         "dtype": "int64",
         "stats": {
          "unique_count": 2,
          "nan_count": 0,
          "min": "0",
          "max": "1",
          "histogram": [
           {
            "bin_start": 0,
            "bin_end": 0.1,
            "count": 24
           },
           {
            "bin_start": 0.1,
            "bin_end": 0.2,
            "count": 0
           },
           {
            "bin_start": 0.2,
            "bin_end": 0.30000000000000004,
            "count": 0
           },
           {
            "bin_start": 0.30000000000000004,
            "bin_end": 0.4,
            "count": 0
           },
           {
            "bin_start": 0.4,
            "bin_end": 0.5,
            "count": 0
           },
           {
            "bin_start": 0.5,
            "bin_end": 0.6000000000000001,
            "count": 0
           },
           {
            "bin_start": 0.6000000000000001,
            "bin_end": 0.7000000000000001,
            "count": 0
           },
           {
            "bin_start": 0.7000000000000001,
            "bin_end": 0.8,
            "count": 0
           },
           {
            "bin_start": 0.8,
            "bin_end": 0.9,
            "count": 0
           },
           {
            "bin_start": 0.9,
            "bin_end": 1,
            "count": 25
           }
          ]
         }
        },
        {
         "name": "EW",
         "dtype": "int64",
         "stats": {
          "unique_count": 2,
          "nan_count": 0,
          "min": "0",
          "max": "1",
          "histogram": [
           {
            "bin_start": 0,
            "bin_end": 0.1,
            "count": 20
           },
           {
            "bin_start": 0.1,
            "bin_end": 0.2,
            "count": 0
           },
           {
            "bin_start": 0.2,
            "bin_end": 0.30000000000000004,
            "count": 0
           },
           {
            "bin_start": 0.30000000000000004,
            "bin_end": 0.4,
            "count": 0
           },
           {
            "bin_start": 0.4,
            "bin_end": 0.5,
            "count": 0
           },
           {
            "bin_start": 0.5,
            "bin_end": 0.6000000000000001,
            "count": 0
           },
           {
            "bin_start": 0.6000000000000001,
            "bin_end": 0.7000000000000001,
            "count": 0
           },
           {
            "bin_start": 0.7000000000000001,
            "bin_end": 0.8,
            "count": 0
           },
           {
            "bin_start": 0.8,
            "bin_end": 0.9,
            "count": 0
           },
           {
            "bin_start": 0.9,
            "bin_end": 1,
            "count": 29
           }
          ]
         }
        },
        {
         "name": "CP",
         "dtype": "int64",
         "stats": {
          "unique_count": 2,
          "nan_count": 0,
          "min": "0",
          "max": "1",
          "histogram": [
           {
            "bin_start": 0,
            "bin_end": 0.1,
            "count": 25
           },
           {
            "bin_start": 0.1,
            "bin_end": 0.2,
            "count": 0
           },
           {
            "bin_start": 0.2,
            "bin_end": 0.30000000000000004,
            "count": 0
           },
           {
            "bin_start": 0.30000000000000004,
            "bin_end": 0.4,
            "count": 0
           },
           {
            "bin_start": 0.4,
            "bin_end": 0.5,
            "count": 0
           },
           {
            "bin_start": 0.5,
            "bin_end": 0.6000000000000001,
            "count": 0
           },
           {
            "bin_start": 0.6000000000000001,
            "bin_end": 0.7000000000000001,
            "count": 0
           },
           {
            "bin_start": 0.7000000000000001,
            "bin_end": 0.8,
            "count": 0
           },
           {
            "bin_start": 0.8,
            "bin_end": 0.9,
            "count": 0
           },
           {
            "bin_start": 0.9,
            "bin_end": 1,
            "count": 24
           }
          ]
         }
        },
        {
         "name": "THOUS",
         "dtype": "int64",
         "stats": {
          "unique_count": 1,
          "nan_count": 0,
          "min": "1000",
          "max": "1000",
          "histogram": [
           {
            "bin_start": 999.5,
            "bin_end": 999.6,
            "count": 0
           },
           {
            "bin_start": 999.6,
            "bin_end": 999.7,
            "count": 0
           },
           {
            "bin_start": 999.7,
            "bin_end": 999.8,
            "count": 0
           },
           {
            "bin_start": 999.8,
            "bin_end": 999.9,
            "count": 0
           },
           {
            "bin_start": 999.9,
            "bin_end": 1000,
            "count": 0
           },
           {
            "bin_start": 1000,
            "bin_end": 1000.1,
            "count": 49
           },
           {
            "bin_start": 1000.1,
            "bin_end": 1000.2,
            "count": 0
           },
           {
            "bin_start": 1000.2,
            "bin_end": 1000.3,
            "count": 0
           },
           {
            "bin_start": 1000.3,
            "bin_end": 1000.4,
            "count": 0
           },
           {
            "bin_start": 1000.4,
            "bin_end": 1000.5,
            "count": 0
           }
          ]
         }
        },
        {
         "name": "NEIGNO",
         "dtype": "int64",
         "stats": {
          "unique_count": 49,
          "nan_count": 0,
          "min": "1001",
          "max": "1049",
          "histogram": [
           {
            "bin_start": 1001,
            "bin_end": 1005.8,
            "count": 5
           },
           {
            "bin_start": 1005.8,
            "bin_end": 1010.6,
            "count": 5
           },
           {
            "bin_start": 1010.6,
            "bin_end": 1015.4,
            "count": 5
           },
           {
            "bin_start": 1015.4,
            "bin_end": 1020.2,
            "count": 5
           },
           {
            "bin_start": 1020.2,
            "bin_end": 1025,
            "count": 4
           },
           {
            "bin_start": 1025,
            "bin_end": 1029.8,
            "count": 5
           },
           {
            "bin_start": 1029.8,
            "bin_end": 1034.6,
            "count": 5
           },
           {
            "bin_start": 1034.6,
            "bin_end": 1039.4,
            "count": 5
           },
           {
            "bin_start": 1039.4,
            "bin_end": 1044.2,
            "count": 5
           },
           {
            "bin_start": 1044.2,
            "bin_end": 1049,
            "count": 5
           }
          ]
         }
        },
        {
         "name": "geometry",
         "dtype": "geometry",
         "stats": {
          "unique_count": 49,
          "nan_count": 0,
          "categories": [
           {
            "name": "POLYGON ((8.624129295349119 14.2369804382324, 8.559700012207029 14.742449760437, 8.809452056884769 14.7344303131104, 8.808412551879879 14.6365203857422, 8.91930484771729 14.638500213623, 9.087138175964361 14.6304903030396, 9.09996509552002 14.2448301315308, 9.01504707336426 14.2418403625488, 9.008951187133791 13.995059967041, 8.81814002990723 14.0020503997803, 8.653305053710939 14.0080900192261, 8.64290237426758 14.0897102355957, 8.63259220123291 14.1705904006958, 8.62582588195801 14.2236700057983, 8.624129295349119 14.2369804382324))",
            "count": 1
           },
           {
            "name": "POLYGON ((8.252790451049799 14.2369403839111, 8.28275775909424 14.2299404144287, 8.33071136474609 14.2299404144287, 8.383658409118651 14.2289304733276, 8.444600105285639 14.2289199829102, 8.544504165649411 14.2349004745483, 8.624129295349119 14.2369804382324, 8.62582588195801 14.2236700057983, 8.63259220123291 14.1705904006958, 8.64290237426758 14.0897102355957, 8.653305053710939 14.0080900192261, 8.66218852996826 13.9098997116089, 8.6665506362915 13.8617000579834, 8.605281829833981 13.8392496109009, 8.579310417175289 13.8412504196167, 8.562577247619631 13.8425397872925, 8.540358543396 13.842399597168, 8.51638698577881 13.8416795730591, 8.5029354095459 13.8387298583984, 8.47340774536133 13.8322696685791, 8.459499359130859 13.8203496932983, 8.43143272399902 13.7933101654053, 8.41544723510742 13.7903099060059, 8.387155532836911 13.7889699935913, 8.37348747253418 13.7883195877075, 8.32354640960693 13.7860803604126, 8.284571647644039 13.784330368042, 8.291547775268549 13.7413702011108, 8.2296028137207 13.7273902893066, 8.22661304473877 13.7443799972534, 8.21564388275146 13.7943296432495, 8.198686599731451 13.8582801818848, 8.16972541809082 13.8832597732544, 8.12777042388916 13.8922595977783, 8.093802452087401 13.8912601470947, 8.06383800506592 13.9052600860596, 8.04487228393555 13.9432201385498, 8.0378885269165 13.9672002792358, 7.99911594390869 14.0245704650879, 7.99936580657959 14.0349702835083, 8.00301361083984 14.1870203018188, 7.95008897781372 14.2439699172974, 8.11193943023682 14.2639303207397, 8.147891998291019 14.2329597473145, 8.18185520172119 14.225959777832, 8.20982837677002 14.2269496917725, 8.252790451049799 14.2369403839111))",
            "count": 1
           },
           {
            "name": "47 others",
            "count": 47
           }
          ]
         }
        },
        {
         "name": "_deepnote_index_column",
         "dtype": "int64"
        }
       ],
       "rows": [
        {
         "AREA": 0.309441,
         "PERIMETER": 2.440629,
         "COLUMBUS_": 2,
         "COLUMBUS_I": 5,
         "POLYID": 1,
         "NEIG": 5,
         "HOVAL": 80.467003,
         "INC": 19.531,
         "CRIME": 15.72598,
         "OPEN": 2.850747,
         "PLUMB": 0.217155,
         "DISCBD": 5.03,
         "X": 38.799999,
         "Y": 44.07,
         "NSA": 1,
         "NSB": 1,
         "EW": 1,
         "CP": 0,
         "THOUS": 1000,
         "NEIGNO": 1005,
         "geometry": "POLYGON ((8.624129295349119 14.2369804382324, 8.559700012207029 14.742449760437, 8.809452056884769 14.7344303131104, 8.808412551879879 14.6365203857422, 8.91930484771729 14.638500213623, 9.087138175964361 14.6304903030396, 9.09996509552002 14.2448301315308, 9.01504707336426 14.2418403625488, 9.008951187133791 13.995059967041, 8.81814002990723 14.0020503997803, 8.653305053710939 14.0080900192261, 8.64290237426758 14.0897102355957, 8.63259220123291 14.1705904006958, 8.62582588195801 14.2236700057983, 8.624129295349119 14.2369804382324))",
         "_deepnote_index_column": 0
        },
        {
         "AREA": 0.259329,
         "PERIMETER": 2.236939,
         "COLUMBUS_": 3,
         "COLUMBUS_I": 1,
         "POLYID": 2,
         "NEIG": 1,
         "HOVAL": 44.567001,
         "INC": 21.232,
         "CRIME": 18.801754,
         "OPEN": 5.29672,
         "PLUMB": 0.320581,
         "DISCBD": 4.27,
         "X": 35.619999,
         "Y": 42.380001,
         "NSA": 1,
         "NSB": 1,
         "EW": 0,
         "CP": 0,
         "THOUS": 1000,
         "NEIGNO": 1001,
         "geometry": "POLYGON ((8.252790451049799 14.2369403839111, 8.28275775909424 14.2299404144287, 8.33071136474609 14.2299404144287, 8.383658409118651 14.2289304733276, 8.444600105285639 14.2289199829102, 8.544504165649411 14.2349004745483, 8.624129295349119 14.2369804382324, 8.62582588195801 14.2236700057983, 8.63259220123291 14.1705904006958, 8.64290237426758 14.0897102355957, 8.653305053710939 14.0080900192261, 8.66218852996826 13.9098997116089, 8.6665506362915 13.8617000579834, 8.605281829833981 13.8392496109009, 8.579310417175289 13.8412504196167, 8.562577247619631 13.8425397872925, 8.540358543396 13.842399597168, 8.51638698577881 13.8416795730591, 8.5029354095459 13.8387298583984, 8.47340774536133 13.8322696685791, 8.459499359130859 13.8203496932983, 8.43143272399902 13.7933101654053, 8.41544723510742 13.7903099060059, 8.387155532836911 13.7889699935913, 8.37348747253418 13.7883195877075, 8.32354640960693 13.7860803604126, 8.284571647644039 13.784330368042, 8.291547775268549 13.7413702011108, 8.…",
         "_deepnote_index_column": 1
        },
        {
         "AREA": 0.192468,
         "PERIMETER": 2.187547,
         "COLUMBUS_": 4,
         "COLUMBUS_I": 6,
         "POLYID": 3,
         "NEIG": 6,
         "HOVAL": 26.35,
         "INC": 15.956,
         "CRIME": 30.626781,
         "OPEN": 4.534649,
         "PLUMB": 0.374404,
         "DISCBD": 3.89,
         "X": 39.82,
         "Y": 41.18,
         "NSA": 1,
         "NSB": 1,
         "EW": 1,
         "CP": 0,
         "THOUS": 1000,
         "NEIGNO": 1006,
         "geometry": "POLYGON ((8.653305053710939 14.0080900192261, 8.81814002990723 14.0020503997803, 9.008951187133791 13.995059967041, 9.008928298950201 13.9381103515625, 9.34359073638916 13.9130802154541, 9.351485252380369 13.6752901077271, 9.298501014709471 13.5893802642822, 9.27382183074951 13.5885601043701, 9.24455547332764 13.5913801193237, 9.24254322052002 13.5584096908569, 9.19658184051514 13.5444297790527, 9.190605163574221 13.586389541626, 9.16662693023682 13.5813999176025, 9.161684036254879 13.7082901000977, 8.909939765930179 13.7155303955078, 8.677577018737789 13.7222099304199, 8.6665506362915 13.8617000579834, 8.66218852996826 13.9098997116089, 8.653305053710939 14.0080900192261))",
         "_deepnote_index_column": 2
        },
        {
         "AREA": 0.083841,
         "PERIMETER": 1.427635,
         "COLUMBUS_": 5,
         "COLUMBUS_I": 2,
         "POLYID": 4,
         "NEIG": 2,
         "HOVAL": 33.200001,
         "INC": 4.477,
         "CRIME": 32.38776,
         "OPEN": 0.394427,
         "PLUMB": 1.186944,
         "DISCBD": 3.7,
         "X": 36.5,
         "Y": 40.52,
         "NSA": 1,
         "NSB": 1,
         "EW": 0,
         "CP": 0,
         "THOUS": 1000,
         "NEIGNO": 1002,
         "geometry": "POLYGON ((8.459499359130859 13.8203496932983, 8.47340774536133 13.8322696685791, 8.5029354095459 13.8387298583984, 8.51638698577881 13.8416795730591, 8.540358543396 13.842399597168, 8.562577247619631 13.8425397872925, 8.579310417175289 13.8412504196167, 8.605281829833981 13.8392496109009, 8.6665506362915 13.8617000579834, 8.677577018737789 13.7222099304199, 8.68527412414551 13.6395196914673, 8.62817859649658 13.6394596099854, 8.588301658630369 13.6418199539185, 8.571109771728519 13.6412696838379, 8.54751586914062 13.64381980896, 8.53726768493652 13.6444301605225, 8.50529861450195 13.6444301605225, 8.45934391021729 13.6444301605225, 8.450570106506349 13.6045398712158, 8.43933582305908 13.6055202484131, 8.380410194396971 13.6164703369141, 8.38541221618652 13.6344499588013, 8.31647205352783 13.6164798736572, 8.294443130493161 13.6045703887939, 8.279500007629389 13.5965003967285, 8.24752712249756 13.5865097045898, 8.20157432556152 13.5915098190308, 8.201583862304689 13.6144895553589, 8.19…",
         "_deepnote_index_column": 3
        },
        {
         "AREA": 0.488888,
         "PERIMETER": 2.997133,
         "COLUMBUS_": 6,
         "COLUMBUS_I": 7,
         "POLYID": 5,
         "NEIG": 7,
         "HOVAL": 23.225,
         "INC": 11.252,
         "CRIME": 50.73151,
         "OPEN": 0.405664,
         "PLUMB": 0.624596,
         "DISCBD": 2.83,
         "X": 40.009998,
         "Y": 38,
         "NSA": 1,
         "NSB": 1,
         "EW": 1,
         "CP": 0,
         "THOUS": 1000,
         "NEIGNO": 1007,
         "geometry": "POLYGON ((8.68527412414551 13.6395196914673, 8.677577018737789 13.7222099304199, 8.909939765930179 13.7155303955078, 9.161684036254879 13.7082901000977, 9.16662693023682 13.5813999176025, 9.190605163574221 13.586389541626, 9.19658184051514 13.5444297790527, 9.24254322052002 13.5584096908569, 9.24455547332764 13.5913801193237, 9.27382183074951 13.5885601043701, 9.298501014709471 13.5893802642822, 9.310471534729 13.54541015625, 9.401384353637701 13.5503997802734, 9.333296775817869 13.2724199295044, 9.23626708984375 12.8762798309326, 9.2333869934082 12.8640003204346, 8.94357299804688 12.8622198104858, 8.75772857666016 12.8610897064209, 8.733969688415529 13.1163396835327, 8.68527412414551 13.6395196914673))",
         "_deepnote_index_column": 4
        },
        {
         "AREA": 0.283079,
         "PERIMETER": 2.335634,
         "COLUMBUS_": 7,
         "COLUMBUS_I": 8,
         "POLYID": 6,
         "NEIG": 8,
         "HOVAL": 28.75,
         "INC": 16.028999,
         "CRIME": 26.066658,
         "OPEN": 0.563075,
         "PLUMB": 0.25413,
         "DISCBD": 3.78,
         "X": 43.75,
         "Y": 39.279999,
         "NSA": 1,
         "NSB": 1,
         "EW": 1,
         "CP": 0,
         "THOUS": 1000,
         "NEIGNO": 1008,
         "geometry": "POLYGON ((9.401384353637701 13.5503997802734, 9.43441104888916 13.6942701339722, 9.605246543884279 13.6982402801514, 9.651198387146 13.6922397613525, 9.68716621398926 13.6972303390503, 9.6861457824707 13.6452798843384, 9.845992088317869 13.652250289917, 10.0507898330688 13.6502304077148, 10.1037197113037 13.6032600402832, 10.1756296157837 13.5652904510498, 10.1806001663208 13.4823598861694, 10.1675996780396 13.4713697433472, 10.1536102294922 13.4543895721436, 10.1356201171875 13.4393997192383, 10.1196298599243 13.4294099807739, 10.121600151062 13.3444900512695, 10.0966196060181 13.342490196228, 10.0856304168701 13.3334999084473, 10.0526599884033 13.3365001678467, 10.0276699066162 13.2985401153564, 9.7721061706543 13.2921104431152, 9.677009582519529 13.2965898513794, 9.67100715637207 13.2736101150513, 9.333296775817869 13.2724199295044, 9.401384353637701 13.5503997802734))",
         "_deepnote_index_column": 5
        },
        {
         "AREA": 0.257084,
         "PERIMETER": 2.554577,
         "COLUMBUS_": 8,
         "COLUMBUS_I": 4,
         "POLYID": 7,
         "NEIG": 4,
         "HOVAL": 75,
         "INC": 8.438,
         "CRIME": 0.178269,
         "OPEN": 0,
         "PLUMB": 2.402402,
         "DISCBD": 2.74,
         "X": 33.360001,
         "Y": 38.41,
         "NSA": 1,
         "NSB": 1,
         "EW": 0,
         "CP": 0,
         "THOUS": 1000,
         "NEIGNO": 1004,
         "geometry": "POLYGON ((8.037740707397459 13.6075201034546, 8.06271553039551 13.6045198440552, 8.072694778442379 13.5805397033691, 8.115653038024901 13.5795402526855, 8.130637168884279 13.5765399932861, 8.197451591491699 13.5757703781128, 8.189590454101561 13.5457601547241, 8.17945003509521 13.5298299789429, 8.16470527648926 13.5110597610474, 8.14012622833252 13.4797697067261, 8.128536224365231 13.470100402832, 8.12171840667725 13.4610395431519, 8.109848022460939 13.4326400756836, 8.10498046875 13.4209899902344, 8.18153667449951 13.4159097671509, 8.293397903442379 13.4084901809692, 8.38032245635986 13.4046602249146, 8.45657253265381 13.1040697097778, 8.425149917602541 13.0939197540283, 8.41215229034424 13.0689496994019, 8.35126972198486 13.066499710083, 8.288271903991699 13.0639696121216, 8.28026294708252 13.0260000228882, 8.232307434082029 13.0200099945068, 8.220302581787109 12.9790496826172, 8.154367446899411 12.9780597686768, 8.14520359039307 12.9420204162598, 8.10440063476562 12.9430503845215, …",
         "_deepnote_index_column": 6
        },
        {
         "AREA": 0.204954,
         "PERIMETER": 2.139524,
         "COLUMBUS_": 9,
         "COLUMBUS_I": 3,
         "POLYID": 8,
         "NEIG": 3,
         "HOVAL": 37.125,
         "INC": 11.337,
         "CRIME": 38.425858,
         "OPEN": 3.483478,
         "PLUMB": 2.739726,
         "DISCBD": 2.89,
         "X": 36.709999,
         "Y": 38.709999,
         "NSA": 1,
         "NSB": 1,
         "EW": 0,
         "CP": 0,
         "THOUS": 1000,
         "NEIGNO": 1003,
         "geometry": "POLYGON ((8.24752712249756 13.5865097045898, 8.279500007629389 13.5965003967285, 8.294443130493161 13.6045703887939, 8.31647205352783 13.6164798736572, 8.38541221618652 13.6344499588013, 8.380410194396971 13.6164703369141, 8.43933582305908 13.6055202484131, 8.450570106506349 13.6045398712158, 8.45934391021729 13.6444301605225, 8.50529861450195 13.6444301605225, 8.53726768493652 13.6444301605225, 8.54751586914062 13.64381980896, 8.571109771728519 13.6412696838379, 8.588301658630369 13.6418199539185, 8.62817859649658 13.6394596099854, 8.68527412414551 13.6395196914673, 8.733969688415529 13.1163396835327, 8.651877403259279 13.1136703491211, 8.59698963165283 13.1118898391724, 8.58599758148193 13.1068897247314, 8.517032623291019 13.1053895950317, 8.45657253265381 13.1040697097778, 8.38032245635986 13.4046602249146, 8.293397903442379 13.4084901809692, 8.18153667449951 13.4159097671509, 8.10498046875 13.4209899902344, 8.109848022460939 13.4326400756836, 8.12171840667725 13.4610395431519, 8.1…",
         "_deepnote_index_column": 7
        },
        {
         "AREA": 0.500755,
         "PERIMETER": 3.169707,
         "COLUMBUS_": 10,
         "COLUMBUS_I": 18,
         "POLYID": 9,
         "NEIG": 18,
         "HOVAL": 52.599998,
         "INC": 17.586,
         "CRIME": 30.515917,
         "OPEN": 0.527488,
         "PLUMB": 0.890736,
         "DISCBD": 3.17,
         "X": 43.439999,
         "Y": 35.919998,
         "NSA": 1,
         "NSB": 1,
         "EW": 1,
         "CP": 0,
         "THOUS": 1000,
         "NEIGNO": 1018,
         "geometry": "POLYGON ((9.333296775817869 13.2724199295044, 9.67100715637207 13.2736101150513, 9.677009582519529 13.2965898513794, 9.7721061706543 13.2921104431152, 10.0276699066162 13.2985401153564, 9.950613975524901 12.9838304519653, 10.0045604705811 12.9768295288086, 10.0825099945068 13.0337696075439, 10.0836496353149 13.0198698043823, 10.0868196487427 12.9814300537109, 10.0891704559326 12.9528102874756, 10.0916299819946 12.9230403900146, 10.0935096740723 12.9002199172974, 10.0954303741455 12.8768997192383, 10.0154399871826 12.7240495681763, 9.763668060302731 12.6731300354004, 9.72367477416992 12.5951995849609, 9.55582809448242 12.5951900482178, 9.47149753570557 12.5957098007202, 9.38600540161133 12.5962400436401, 9.383021354675289 12.6272096633911, 9.258048057556151 12.6306104660034, 9.124277114868161 12.6342401504517, 9.146787643432621 12.6587400436401, 9.166311264038089 12.6799802780151, 9.187246322631839 12.7091703414917, 9.20620822906494 12.7588396072388, 9.21353244781494 12.7780303955078, …",
         "_deepnote_index_column": 8
        },
        {
         "AREA": 0.246689,
         "PERIMETER": 2.087235,
         "COLUMBUS_": 11,
         "COLUMBUS_I": 10,
         "POLYID": 10,
         "NEIG": 10,
         "HOVAL": 96.400002,
         "INC": 13.598,
         "CRIME": 34.000835,
         "OPEN": 1.548348,
         "PLUMB": 0.557724,
         "DISCBD": 4.33,
         "X": 47.610001,
         "Y": 36.419998,
         "NSA": 1,
         "NSB": 1,
         "EW": 1,
         "CP": 0,
         "THOUS": 1000,
         "NEIGNO": 1010,
         "geometry": "POLYGON ((10.0825099945068 13.0337696075439, 10.0924997329712 13.0527496337891, 10.1264896392822 13.0907096862793, 10.1824598312378 13.1576499938965, 10.2674198150635 13.2545499801636, 10.2893896102905 13.2475500106812, 10.3163604736328 13.2445497512817, 10.3323497772217 13.2395496368408, 10.368260383606 13.2464303970337, 10.3942899703979 13.2465400695801, 10.4172697067261 13.247540473938, 10.4502401351929 13.2515296936035, 10.4752197265625 13.2615203857422, 10.4752197265625 13.2725095748901, 10.5341596603394 13.2714996337891, 10.5661296844482 13.2714996337891, 10.6030902862549 13.2655000686646, 10.6320600509644 13.2634897232056, 10.6390495300293 13.2445096969604, 10.640040397644 13.2195301055908, 10.6490201950073 13.1995496749878, 10.6460103988647 13.1765699386597, 10.6470098495483 13.1575899124146, 10.6459999084473 13.1445999145508, 10.6379995346069 13.1296100616455, 10.6389904022217 13.1046304702759, 10.6319799423218 13.0706596374512, 10.6269798278809 13.0516796112061, 10.627969741…",
         "_deepnote_index_column": 9
        }
       ]
      },
      "text/plain": "        AREA  PERIMETER  COLUMBUS_  COLUMBUS_I  POLYID  NEIG      HOVAL  \\\n0   0.309441   2.440629          2           5       1     5  80.467003   \n1   0.259329   2.236939          3           1       2     1  44.567001   \n2   0.192468   2.187547          4           6       3     6  26.350000   \n3   0.083841   1.427635          5           2       4     2  33.200001   \n4   0.488888   2.997133          6           7       5     7  23.225000   \n5   0.283079   2.335634          7           8       6     8  28.750000   \n6   0.257084   2.554577          8           4       7     4  75.000000   \n7   0.204954   2.139524          9           3       8     3  37.125000   \n8   0.500755   3.169707         10          18       9    18  52.599998   \n9   0.246689   2.087235         11          10      10    10  96.400002   \n10  0.041012   0.919488         12          38      11    38  19.700001   \n11  0.035769   0.902125         13          37      12    37  19.900000   \n12  0.034377   0.936590         14          39      13    39  41.700001   \n13  0.060884   1.128424         15          40      14    40  42.900002   \n14  0.106653   1.437606         16           9      15     9  18.000000   \n15  0.093154   1.340061         17          36      16    36  18.799999   \n16  0.102087   1.382359         18          11      17    11  41.750000   \n17  0.055494   1.183352         19          42      18    42  60.000000   \n18  0.061342   1.249247         20          41      19    41  30.600000   \n19  0.444629   3.174601         21          17      20    17  81.266998   \n20  0.699258   5.077490         22          43      21    43  19.975000   \n21  0.192891   1.992717         23          19      22    19  30.450001   \n22  0.247120   2.147528         24          12      23    12  47.733002   \n23  0.192226   2.240392         25          35      24    35  53.200001   \n24  0.171680   1.666489         26          32      25    32  17.900000   \n25  0.107298   1.406823         27          20      26    20  20.299999   \n26  0.137802   1.780751         28          21      27    21  34.099998   \n27  0.174773   1.637148         29          31      28    31  22.850000   \n28  0.085972   1.312158         30          33      29    33  32.500000   \n29  0.104355   1.524931         31          34      30    34  22.500000   \n30  0.117409   1.716047         32          45      31    45  31.799999   \n31  0.185580   2.108951         33          13      32    13  40.299999   \n32  0.087472   1.507971         34          22      33    22  23.600000   \n33  0.226594   2.519132         35          44      34    44  28.450001   \n34  0.175453   1.974937         36          23      35    23  27.000000   \n35  0.178130   1.790058         37          46      36    46  36.299999   \n36  0.121154   1.402252         38          30      37    30  43.299999   \n37  0.053881   0.934509         39          24      38    24  22.700001   \n38  0.174823   2.335402         40          47      39    47  39.599998   \n39  0.302908   2.285487         41          16      40    16  61.950001   \n40  0.137024   1.525097         42          14      41    14  42.099998   \n41  0.266541   2.176543         43          49      42    49  44.333000   \n42  0.060241   0.967793         44          29      43    29  25.700001   \n43  0.173337   1.868044         45          25      44    25  33.500000   \n44  0.256431   2.193039         46          28      45    28  27.733000   \n45  0.124728   1.841029         47          48      46    48  76.099998   \n46  0.245249   2.079986         48          15      47    15  42.500000   \n47  0.069762   1.102032         49          27      48    27  26.799999   \n48  0.205964   2.199169         50          26      49    26  35.799999   \n\n          INC      CRIME       OPEN      PLUMB  DISCBD          X          Y  \\\n0   19.531000  15.725980   2.850747   0.217155    5.03  38.799999  44.070000   \n1   21.232000  18.801754   5.296720   0.320581    4.27  35.619999  42.380001   \n2   15.956000  30.626781   4.534649   0.374404    3.89  39.820000  41.180000   \n3    4.477000  32.387760   0.394427   1.186944    3.70  36.500000  40.520000   \n4   11.252000  50.731510   0.405664   0.624596    2.83  40.009998  38.000000   \n5   16.028999  26.066658   0.563075   0.254130    3.78  43.750000  39.279999   \n6    8.438000   0.178269   0.000000   2.402402    2.74  33.360001  38.410000   \n7   11.337000  38.425858   3.483478   2.739726    2.89  36.709999  38.709999   \n8   17.586000  30.515917   0.527488   0.890736    3.17  43.439999  35.919998   \n9   13.598000  34.000835   1.548348   0.557724    4.33  47.610001  36.419998   \n10   7.467000  62.275448   0.000000   1.479915    1.90  37.849998  36.299999   \n11  10.048000  56.705669   3.157895   2.635046    1.91  37.130001  36.119999   \n12   9.549000  46.716129   0.000000   6.328423    2.09  35.950001  36.400002   \n13   9.963000  57.066132   0.477104   5.110962    1.83  35.720001  35.599998   \n14   9.873000  48.585487   0.174325   1.311475    1.70  39.610001  34.910000   \n15   7.625000  54.838711   0.533737   4.687500    1.10  37.599998  34.080002   \n16   9.798000  36.868774   0.448232   1.619745    4.47  48.580002  34.459999   \n17  13.185000  43.962486  24.998068  13.849287    1.58  36.150002  33.919998   \n18  11.618000  54.521965   0.111111   2.622951    1.53  35.759998  34.660000   \n19  31.070000   0.223797   5.318607   0.167224    3.57  46.730000  31.910000   \n20  10.655000  40.074074   1.643756   1.559576    1.41  34.080002  30.420000   \n21  11.709000  33.705048   4.539754   1.785714    2.45  43.369999  33.459999   \n22  21.155001  20.048504   0.532632   0.216763    4.78  49.610001  32.650002   \n23  14.236000  38.297871   0.626220  18.811075    0.42  36.599998  32.090000   \n24   8.461000  61.299175   0.000000   6.529851    0.83  39.360001  32.880001   \n25   8.085000  40.969742   1.238288   2.534275    1.50  41.130001  33.139999   \n26  10.822000  52.794430  19.368099   1.483516    2.24  43.950001  31.610001   \n27   7.856000  56.919785   0.509305   3.001072    1.41  41.310001  30.900000   \n28   8.681000  60.750446   0.000000   2.645051    0.81  39.720001  30.639999   \n29  13.906000  68.892044   1.638780  15.600624    0.37  38.290001  30.350000   \n30  16.940001  17.677214   3.936443   0.853890    3.78  27.940001  29.850000   \n31  18.941999  19.145592   2.221022   0.255102    4.76  50.110001  29.910000   \n32   9.918000  41.968163   0.000000   1.023891    2.28  44.099998  30.400000   \n33  14.948000  23.974028   3.029087   0.386803    3.06  30.320000  28.260000   \n34  12.814000  39.175053   4.220401   0.633675    2.37  43.700001  29.180000   \n35  18.739000  14.305556   6.773331   0.332349    4.23  27.270000  28.209999   \n36  17.017000  42.445076   4.839273   1.230329    1.08  38.320000  28.820000   \n37  11.107000  53.710938   0.000000   0.800000    1.58  41.040001  28.780001   \n38  18.476999  19.100863   0.000000   0.314663    5.53  24.250000  26.690001   \n39  29.833000  16.241299   6.451310   0.132743    4.40  48.439999  27.930000   \n40  22.207001  18.905146   0.293317   0.247036    5.33  51.240002  27.799999   \n41  25.872999  16.491890   1.792993   0.134439    3.87  29.020000  26.580000   \n42  13.380000  36.663612   0.000000   0.589226    1.95  41.090000  27.490000   \n43  16.961000  25.962263   1.463993   0.329761    2.67  43.230000  27.309999   \n44  14.135000  29.028488   1.006118   2.391200    2.13  39.320000  25.850000   \n45  18.323999  16.530533   9.683953   0.424628    5.27  25.469999  25.709999   \n46  18.950001  27.822861   0.000000   0.268817    5.57  50.889999  25.240000   \n47  11.813000  26.645266   4.884389   1.034807    2.33  41.209999  25.900000   \n48  18.796000  22.541491   0.259826   0.901442    3.03  42.669998  24.959999   \n\n    NSA  NSB  EW  CP  THOUS  NEIGNO  \\\n0     1    1   1   0   1000    1005   \n1     1    1   0   0   1000    1001   \n2     1    1   1   0   1000    1006   \n3     1    1   0   0   1000    1002   \n4     1    1   1   0   1000    1007   \n5     1    1   1   0   1000    1008   \n6     1    1   0   0   1000    1004   \n7     1    1   0   0   1000    1003   \n8     1    1   1   0   1000    1018   \n9     1    1   1   0   1000    1010   \n10    1    1   0   1   1000    1038   \n11    1    1   0   1   1000    1037   \n12    1    1   0   1   1000    1039   \n13    1    1   0   1   1000    1040   \n14    1    1   1   1   1000    1009   \n15    1    1   0   1   1000    1036   \n16    1    1   1   0   1000    1011   \n17    1    1   0   1   1000    1042   \n18    1    1   0   1   1000    1041   \n19    0    1   1   0   1000    1017   \n20    0    0   0   1   1000    1043   \n21    1    1   1   1   1000    1019   \n22    0    0   1   0   1000    1012   \n23    1    1   0   1   1000    1035   \n24    1    1   1   1   1000    1032   \n25    1    1   1   1   1000    1020   \n26    0    0   1   1   1000    1021   \n27    0    0   1   1   1000    1031   \n28    0    0   1   1   1000    1033   \n29    0    0   0   1   1000    1034   \n30    1    1   0   0   1000    1045   \n31    0    0   1   0   1000    1013   \n32    0    0   1   1   1000    1022   \n33    0    0   0   0   1000    1044   \n34    0    0   1   1   1000    1023   \n35    0    0   0   0   1000    1046   \n36    0    0   1   1   1000    1030   \n37    0    0   1   1   1000    1024   \n38    0    0   0   0   1000    1047   \n39    0    0   1   0   1000    1016   \n40    0    0   1   0   1000    1014   \n41    0    0   0   0   1000    1049   \n42    0    0   1   1   1000    1029   \n43    0    0   1   0   1000    1025   \n44    0    0   1   1   1000    1028   \n45    0    0   0   0   1000    1048   \n46    0    0   1   0   1000    1015   \n47    0    0   1   1   1000    1027   \n48    0    0   1   0   1000    1026   \n\n                                             geometry  \n0   POLYGON ((8.62413 14.23698, 8.55970 14.74245, ...  \n1   POLYGON ((8.25279 14.23694, 8.28276 14.22994, ...  \n2   POLYGON ((8.65331 14.00809, 8.81814 14.00205, ...  \n3   POLYGON ((8.45950 13.82035, 8.47341 13.83227, ...  \n4   POLYGON ((8.68527 13.63952, 8.67758 13.72221, ...  \n5   POLYGON ((9.40138 13.55040, 9.43441 13.69427, ...  \n6   POLYGON ((8.03774 13.60752, 8.06272 13.60452, ...  \n7   POLYGON ((8.24753 13.58651, 8.27950 13.59650, ...  \n8   POLYGON ((9.33330 13.27242, 9.67101 13.27361, ...  \n9   POLYGON ((10.08251 13.03377, 10.09250 13.05275...  \n10  POLYGON ((8.58600 13.10689, 8.59699 13.11189, ...  \n11  POLYGON ((8.45657 13.10407, 8.51703 13.10539, ...  \n12  POLYGON ((8.14520 12.94202, 8.15437 12.97806, ...  \n13  POLYGON ((8.06244 12.94410, 8.10440 12.94305, ...  \n14  POLYGON ((8.75773 12.86109, 8.94357 12.86222, ...  \n15  POLYGON ((8.63283 12.81015, 8.69377 12.81114, ...  \n16  POLYGON ((10.35660 12.78114, 10.50110 12.80532...  \n17  POLYGON ((8.43101 12.78806, 8.47897 12.78819, ...  \n18  POLYGON ((8.12232 12.78723, 8.25918 12.78760, ...  \n19  POLYGON ((10.01544 12.72405, 10.17841 12.75132...  \n20  POLYGON ((7.84243 12.40560, 8.13114 12.37360, ...  \n21  POLYGON ((9.38601 12.59624, 9.47150 12.59571, ...  \n22  POLYGON ((10.66777 12.64803, 10.77667 12.65201...  \n23  POLYGON ((8.14824 12.64535, 8.22316 12.64534, ...  \n24  POLYGON ((8.78557 12.53237, 8.85553 12.60630, ...  \n25  POLYGON ((9.12428 12.63424, 9.25805 12.63061, ...  \n26  POLYGON ((9.46878 12.23455, 9.65693 12.27403, ...  \n27  POLYGON ((9.39484 12.22656, 9.46878 12.23455, ...  \n28  POLYGON ((9.11609 12.17965, 9.13106 12.18216, ...  \n29  POLYGON ((8.64380 12.10209, 8.79039 12.12573, ...  \n30  POLYGON ((6.76331 11.98112, 6.94217 12.05603, ...  \n31  POLYGON ((10.42425 11.99064, 10.64090 12.01312...  \n32  POLYGON ((9.48067 12.00275, 9.75540 12.00493, ...  \n33  POLYGON ((7.18583 11.84824, 7.31772 11.85615, ...  \n34  POLYGON ((9.48954 11.85992, 9.63947 11.86325, ...  \n35  POLYGON ((6.74126 11.79928, 7.01301 11.82622, ...  \n36  POLYGON ((8.71334 11.81002, 8.82917 11.80486, ...  \n37  POLYGON ((9.08497 11.79299, 9.20042 11.76711, ...  \n38  POLYGON ((6.18171 11.55357, 6.39456 11.71040, ...  \n39  POLYGON ((10.05659 11.74391, 10.25280 11.74282...  \n40  POLYGON ((10.80626 11.71883, 10.87822 11.72326...  \n41  POLYGON ((6.75833 11.46233, 6.77781 11.46591, ...  \n42  POLYGON ((9.09586 11.55919, 9.20775 11.55326, ...  \n43  POLYGON ((9.34161 11.54617, 9.50051 11.54202, ...  \n44  POLYGON ((9.00083 11.45802, 9.08284 11.45633, ...  \n45  POLYGON ((6.48137 11.43963, 6.55831 11.44220, ...  \n46  POLYGON ((11.09847 11.30317, 11.12221 11.31588...  \n47  POLYGON ((9.20767 11.31017, 9.33852 11.31238, ...  \n48  POLYGON ((9.39145 11.27540, 9.54631 11.28537, ...  ",
      "text/html": "<div>\n<style scoped>\n    .dataframe tbody tr th:only-of-type {\n        vertical-align: middle;\n    }\n\n    .dataframe tbody tr th {\n        vertical-align: top;\n    }\n\n    .dataframe thead th {\n        text-align: right;\n    }\n</style>\n<table border=\"1\" class=\"dataframe\">\n  <thead>\n    <tr style=\"text-align: right;\">\n      <th></th>\n      <th>AREA</th>\n      <th>PERIMETER</th>\n      <th>COLUMBUS_</th>\n      <th>COLUMBUS_I</th>\n      <th>POLYID</th>\n      <th>NEIG</th>\n      <th>HOVAL</th>\n      <th>INC</th>\n      <th>CRIME</th>\n      <th>OPEN</th>\n      <th>PLUMB</th>\n      <th>DISCBD</th>\n      <th>X</th>\n      <th>Y</th>\n      <th>NSA</th>\n      <th>NSB</th>\n      <th>EW</th>\n      <th>CP</th>\n      <th>THOUS</th>\n      <th>NEIGNO</th>\n      <th>geometry</th>\n    </tr>\n  </thead>\n  <tbody>\n    <tr>\n      <th>0</th>\n      <td>0.309441</td>\n      <td>2.440629</td>\n      <td>2</td>\n      <td>5</td>\n      <td>1</td>\n      <td>5</td>\n      <td>80.467003</td>\n      <td>19.531000</td>\n      <td>15.725980</td>\n      <td>2.850747</td>\n      <td>0.217155</td>\n      <td>5.03</td>\n      <td>38.799999</td>\n      <td>44.070000</td>\n      <td>1</td>\n      <td>1</td>\n      <td>1</td>\n      <td>0</td>\n      <td>1000</td>\n      <td>1005</td>\n      <td>POLYGON ((8.62413 14.23698, 8.55970 14.74245, ...</td>\n    </tr>\n    <tr>\n      <th>1</th>\n      <td>0.259329</td>\n      <td>2.236939</td>\n      <td>3</td>\n      <td>1</td>\n      <td>2</td>\n      <td>1</td>\n      <td>44.567001</td>\n      <td>21.232000</td>\n      <td>18.801754</td>\n      <td>5.296720</td>\n      <td>0.320581</td>\n      <td>4.27</td>\n      <td>35.619999</td>\n      <td>42.380001</td>\n      <td>1</td>\n      <td>1</td>\n      <td>0</td>\n      <td>0</td>\n      <td>1000</td>\n      <td>1001</td>\n      <td>POLYGON ((8.25279 14.23694, 8.28276 14.22994, ...</td>\n    </tr>\n    <tr>\n      <th>2</th>\n      <td>0.192468</td>\n      <td>2.187547</td>\n      <td>4</td>\n      <td>6</td>\n      <td>3</td>\n      <td>6</td>\n      <td>26.350000</td>\n      <td>15.956000</td>\n      <td>30.626781</td>\n      <td>4.534649</td>\n      <td>0.374404</td>\n      <td>3.89</td>\n      <td>39.820000</td>\n      <td>41.180000</td>\n      <td>1</td>\n      <td>1</td>\n      <td>1</td>\n      <td>0</td>\n      <td>1000</td>\n      <td>1006</td>\n      <td>POLYGON ((8.65331 14.00809, 8.81814 14.00205, ...</td>\n    </tr>\n    <tr>\n      <th>3</th>\n      <td>0.083841</td>\n      <td>1.427635</td>\n      <td>5</td>\n      <td>2</td>\n      <td>4</td>\n      <td>2</td>\n      <td>33.200001</td>\n      <td>4.477000</td>\n      <td>32.387760</td>\n      <td>0.394427</td>\n      <td>1.186944</td>\n      <td>3.70</td>\n      <td>36.500000</td>\n      <td>40.520000</td>\n      <td>1</td>\n      <td>1</td>\n      <td>0</td>\n      <td>0</td>\n      <td>1000</td>\n      <td>1002</td>\n      <td>POLYGON ((8.45950 13.82035, 8.47341 13.83227, ...</td>\n    </tr>\n    <tr>\n      <th>4</th>\n      <td>0.488888</td>\n      <td>2.997133</td>\n      <td>6</td>\n      <td>7</td>\n      <td>5</td>\n      <td>7</td>\n      <td>23.225000</td>\n      <td>11.252000</td>\n      <td>50.731510</td>\n      <td>0.405664</td>\n      <td>0.624596</td>\n      <td>2.83</td>\n      <td>40.009998</td>\n      <td>38.000000</td>\n      <td>1</td>\n      <td>1</td>\n      <td>1</td>\n      <td>0</td>\n      <td>1000</td>\n      <td>1007</td>\n      <td>POLYGON ((8.68527 13.63952, 8.67758 13.72221, ...</td>\n    </tr>\n    <tr>\n      <th>5</th>\n      <td>0.283079</td>\n      <td>2.335634</td>\n      <td>7</td>\n      <td>8</td>\n      <td>6</td>\n      <td>8</td>\n      <td>28.750000</td>\n      <td>16.028999</td>\n      <td>26.066658</td>\n      <td>0.563075</td>\n      <td>0.254130</td>\n      <td>3.78</td>\n      <td>43.750000</td>\n      <td>39.279999</td>\n      <td>1</td>\n      <td>1</td>\n      <td>1</td>\n      <td>0</td>\n      <td>1000</td>\n      <td>1008</td>\n      <td>POLYGON ((9.40138 13.55040, 9.43441 13.69427, ...</td>\n    </tr>\n    <tr>\n      <th>6</th>\n      <td>0.257084</td>\n      <td>2.554577</td>\n      <td>8</td>\n      <td>4</td>\n      <td>7</td>\n      <td>4</td>\n      <td>75.000000</td>\n      <td>8.438000</td>\n      <td>0.178269</td>\n      <td>0.000000</td>\n      <td>2.402402</td>\n      <td>2.74</td>\n      <td>33.360001</td>\n      <td>38.410000</td>\n      <td>1</td>\n      <td>1</td>\n      <td>0</td>\n      <td>0</td>\n      <td>1000</td>\n      <td>1004</td>\n      <td>POLYGON ((8.03774 13.60752, 8.06272 13.60452, ...</td>\n    </tr>\n    <tr>\n      <th>7</th>\n      <td>0.204954</td>\n      <td>2.139524</td>\n      <td>9</td>\n      <td>3</td>\n      <td>8</td>\n      <td>3</td>\n      <td>37.125000</td>\n      <td>11.337000</td>\n      <td>38.425858</td>\n      <td>3.483478</td>\n      <td>2.739726</td>\n      <td>2.89</td>\n      <td>36.709999</td>\n      <td>38.709999</td>\n      <td>1</td>\n      <td>1</td>\n      <td>0</td>\n      <td>0</td>\n      <td>1000</td>\n      <td>1003</td>\n      <td>POLYGON ((8.24753 13.58651, 8.27950 13.59650, ...</td>\n    </tr>\n    <tr>\n      <th>8</th>\n      <td>0.500755</td>\n      <td>3.169707</td>\n      <td>10</td>\n      <td>18</td>\n      <td>9</td>\n      <td>18</td>\n      <td>52.599998</td>\n      <td>17.586000</td>\n      <td>30.515917</td>\n      <td>0.527488</td>\n      <td>0.890736</td>\n      <td>3.17</td>\n      <td>43.439999</td>\n      <td>35.919998</td>\n      <td>1</td>\n      <td>1</td>\n      <td>1</td>\n      <td>0</td>\n      <td>1000</td>\n      <td>1018</td>\n      <td>POLYGON ((9.33330 13.27242, 9.67101 13.27361, ...</td>\n    </tr>\n    <tr>\n      <th>9</th>\n      <td>0.246689</td>\n      <td>2.087235</td>\n      <td>11</td>\n      <td>10</td>\n      <td>10</td>\n      <td>10</td>\n      <td>96.400002</td>\n      <td>13.598000</td>\n      <td>34.000835</td>\n      <td>1.548348</td>\n      <td>0.557724</td>\n      <td>4.33</td>\n      <td>47.610001</td>\n      <td>36.419998</td>\n      <td>1</td>\n      <td>1</td>\n      <td>1</td>\n      <td>0</td>\n      <td>1000</td>\n      <td>1010</td>\n      <td>POLYGON ((10.08251 13.03377, 10.09250 13.05275...</td>\n    </tr>\n    <tr>\n      <th>10</th>\n      <td>0.041012</td>\n      <td>0.919488</td>\n      <td>12</td>\n      <td>38</td>\n      <td>11</td>\n      <td>38</td>\n      <td>19.700001</td>\n      <td>7.467000</td>\n      <td>62.275448</td>\n      <td>0.000000</td>\n      <td>1.479915</td>\n      <td>1.90</td>\n      <td>37.849998</td>\n      <td>36.299999</td>\n      <td>1</td>\n      <td>1</td>\n      <td>0</td>\n      <td>1</td>\n      <td>1000</td>\n      <td>1038</td>\n      <td>POLYGON ((8.58600 13.10689, 8.59699 13.11189, ...</td>\n    </tr>\n    <tr>\n      <th>11</th>\n      <td>0.035769</td>\n      <td>0.902125</td>\n      <td>13</td>\n      <td>37</td>\n      <td>12</td>\n      <td>37</td>\n      <td>19.900000</td>\n      <td>10.048000</td>\n      <td>56.705669</td>\n      <td>3.157895</td>\n      <td>2.635046</td>\n      <td>1.91</td>\n      <td>37.130001</td>\n      <td>36.119999</td>\n      <td>1</td>\n      <td>1</td>\n      <td>0</td>\n      <td>1</td>\n      <td>1000</td>\n      <td>1037</td>\n      <td>POLYGON ((8.45657 13.10407, 8.51703 13.10539, ...</td>\n    </tr>\n    <tr>\n      <th>12</th>\n      <td>0.034377</td>\n      <td>0.936590</td>\n      <td>14</td>\n      <td>39</td>\n      <td>13</td>\n      <td>39</td>\n      <td>41.700001</td>\n      <td>9.549000</td>\n      <td>46.716129</td>\n      <td>0.000000</td>\n      <td>6.328423</td>\n      <td>2.09</td>\n      <td>35.950001</td>\n      <td>36.400002</td>\n      <td>1</td>\n      <td>1</td>\n      <td>0</td>\n      <td>1</td>\n      <td>1000</td>\n      <td>1039</td>\n      <td>POLYGON ((8.14520 12.94202, 8.15437 12.97806, ...</td>\n    </tr>\n    <tr>\n      <th>13</th>\n      <td>0.060884</td>\n      <td>1.128424</td>\n      <td>15</td>\n      <td>40</td>\n      <td>14</td>\n      <td>40</td>\n      <td>42.900002</td>\n      <td>9.963000</td>\n      <td>57.066132</td>\n      <td>0.477104</td>\n      <td>5.110962</td>\n      <td>1.83</td>\n      <td>35.720001</td>\n      <td>35.599998</td>\n      <td>1</td>\n      <td>1</td>\n      <td>0</td>\n      <td>1</td>\n      <td>1000</td>\n      <td>1040</td>\n      <td>POLYGON ((8.06244 12.94410, 8.10440 12.94305, ...</td>\n    </tr>\n    <tr>\n      <th>14</th>\n      <td>0.106653</td>\n      <td>1.437606</td>\n      <td>16</td>\n      <td>9</td>\n      <td>15</td>\n      <td>9</td>\n      <td>18.000000</td>\n      <td>9.873000</td>\n      <td>48.585487</td>\n      <td>0.174325</td>\n      <td>1.311475</td>\n      <td>1.70</td>\n      <td>39.610001</td>\n      <td>34.910000</td>\n      <td>1</td>\n      <td>1</td>\n      <td>1</td>\n      <td>1</td>\n      <td>1000</td>\n      <td>1009</td>\n      <td>POLYGON ((8.75773 12.86109, 8.94357 12.86222, ...</td>\n    </tr>\n    <tr>\n      <th>15</th>\n      <td>0.093154</td>\n      <td>1.340061</td>\n      <td>17</td>\n      <td>36</td>\n      <td>16</td>\n      <td>36</td>\n      <td>18.799999</td>\n      <td>7.625000</td>\n      <td>54.838711</td>\n      <td>0.533737</td>\n      <td>4.687500</td>\n      <td>1.10</td>\n      <td>37.599998</td>\n      <td>34.080002</td>\n      <td>1</td>\n      <td>1</td>\n      <td>0</td>\n      <td>1</td>\n      <td>1000</td>\n      <td>1036</td>\n      <td>POLYGON ((8.63283 12.81015, 8.69377 12.81114, ...</td>\n    </tr>\n    <tr>\n      <th>16</th>\n      <td>0.102087</td>\n      <td>1.382359</td>\n      <td>18</td>\n      <td>11</td>\n      <td>17</td>\n      <td>11</td>\n      <td>41.750000</td>\n      <td>9.798000</td>\n      <td>36.868774</td>\n      <td>0.448232</td>\n      <td>1.619745</td>\n      <td>4.47</td>\n      <td>48.580002</td>\n      <td>34.459999</td>\n      <td>1</td>\n      <td>1</td>\n      <td>1</td>\n      <td>0</td>\n      <td>1000</td>\n      <td>1011</td>\n      <td>POLYGON ((10.35660 12.78114, 10.50110 12.80532...</td>\n    </tr>\n    <tr>\n      <th>17</th>\n      <td>0.055494</td>\n      <td>1.183352</td>\n      <td>19</td>\n      <td>42</td>\n      <td>18</td>\n      <td>42</td>\n      <td>60.000000</td>\n      <td>13.185000</td>\n      <td>43.962486</td>\n      <td>24.998068</td>\n      <td>13.849287</td>\n      <td>1.58</td>\n      <td>36.150002</td>\n      <td>33.919998</td>\n      <td>1</td>\n      <td>1</td>\n      <td>0</td>\n      <td>1</td>\n      <td>1000</td>\n      <td>1042</td>\n      <td>POLYGON ((8.43101 12.78806, 8.47897 12.78819, ...</td>\n    </tr>\n    <tr>\n      <th>18</th>\n      <td>0.061342</td>\n      <td>1.249247</td>\n      <td>20</td>\n      <td>41</td>\n      <td>19</td>\n      <td>41</td>\n      <td>30.600000</td>\n      <td>11.618000</td>\n      <td>54.521965</td>\n      <td>0.111111</td>\n      <td>2.622951</td>\n      <td>1.53</td>\n      <td>35.759998</td>\n      <td>34.660000</td>\n      <td>1</td>\n      <td>1</td>\n      <td>0</td>\n      <td>1</td>\n      <td>1000</td>\n      <td>1041</td>\n      <td>POLYGON ((8.12232 12.78723, 8.25918 12.78760, ...</td>\n    </tr>\n    <tr>\n      <th>19</th>\n      <td>0.444629</td>\n      <td>3.174601</td>\n      <td>21</td>\n      <td>17</td>\n      <td>20</td>\n      <td>17</td>\n      <td>81.266998</td>\n      <td>31.070000</td>\n      <td>0.223797</td>\n      <td>5.318607</td>\n      <td>0.167224</td>\n      <td>3.57</td>\n      <td>46.730000</td>\n      <td>31.910000</td>\n      <td>0</td>\n      <td>1</td>\n      <td>1</td>\n      <td>0</td>\n      <td>1000</td>\n      <td>1017</td>\n      <td>POLYGON ((10.01544 12.72405, 10.17841 12.75132...</td>\n    </tr>\n    <tr>\n      <th>20</th>\n      <td>0.699258</td>\n      <td>5.077490</td>\n      <td>22</td>\n      <td>43</td>\n      <td>21</td>\n      <td>43</td>\n      <td>19.975000</td>\n      <td>10.655000</td>\n      <td>40.074074</td>\n      <td>1.643756</td>\n      <td>1.559576</td>\n      <td>1.41</td>\n      <td>34.080002</td>\n      <td>30.420000</td>\n      <td>0</td>\n      <td>0</td>\n      <td>0</td>\n      <td>1</td>\n      <td>1000</td>\n      <td>1043</td>\n      <td>POLYGON ((7.84243 12.40560, 8.13114 12.37360, ...</td>\n    </tr>\n    <tr>\n      <th>21</th>\n      <td>0.192891</td>\n      <td>1.992717</td>\n      <td>23</td>\n      <td>19</td>\n      <td>22</td>\n      <td>19</td>\n      <td>30.450001</td>\n      <td>11.709000</td>\n      <td>33.705048</td>\n      <td>4.539754</td>\n      <td>1.785714</td>\n      <td>2.45</td>\n      <td>43.369999</td>\n      <td>33.459999</td>\n      <td>1</td>\n      <td>1</td>\n      <td>1</td>\n      <td>1</td>\n      <td>1000</td>\n      <td>1019</td>\n      <td>POLYGON ((9.38601 12.59624, 9.47150 12.59571, ...</td>\n    </tr>\n    <tr>\n      <th>22</th>\n      <td>0.247120</td>\n      <td>2.147528</td>\n      <td>24</td>\n      <td>12</td>\n      <td>23</td>\n      <td>12</td>\n      <td>47.733002</td>\n      <td>21.155001</td>\n      <td>20.048504</td>\n      <td>0.532632</td>\n      <td>0.216763</td>\n      <td>4.78</td>\n      <td>49.610001</td>\n      <td>32.650002</td>\n      <td>0</td>\n      <td>0</td>\n      <td>1</td>\n      <td>0</td>\n      <td>1000</td>\n      <td>1012</td>\n      <td>POLYGON ((10.66777 12.64803, 10.77667 12.65201...</td>\n    </tr>\n    <tr>\n      <th>23</th>\n      <td>0.192226</td>\n      <td>2.240392</td>\n      <td>25</td>\n      <td>35</td>\n      <td>24</td>\n      <td>35</td>\n      <td>53.200001</td>\n      <td>14.236000</td>\n      <td>38.297871</td>\n      <td>0.626220</td>\n      <td>18.811075</td>\n      <td>0.42</td>\n      <td>36.599998</td>\n      <td>32.090000</td>\n      <td>1</td>\n      <td>1</td>\n      <td>0</td>\n      <td>1</td>\n      <td>1000</td>\n      <td>1035</td>\n      <td>POLYGON ((8.14824 12.64535, 8.22316 12.64534, ...</td>\n    </tr>\n    <tr>\n      <th>24</th>\n      <td>0.171680</td>\n      <td>1.666489</td>\n      <td>26</td>\n      <td>32</td>\n      <td>25</td>\n      <td>32</td>\n      <td>17.900000</td>\n      <td>8.461000</td>\n      <td>61.299175</td>\n      <td>0.000000</td>\n      <td>6.529851</td>\n      <td>0.83</td>\n      <td>39.360001</td>\n      <td>32.880001</td>\n      <td>1</td>\n      <td>1</td>\n      <td>1</td>\n      <td>1</td>\n      <td>1000</td>\n      <td>1032</td>\n      <td>POLYGON ((8.78557 12.53237, 8.85553 12.60630, ...</td>\n    </tr>\n    <tr>\n      <th>25</th>\n      <td>0.107298</td>\n      <td>1.406823</td>\n      <td>27</td>\n      <td>20</td>\n      <td>26</td>\n      <td>20</td>\n      <td>20.299999</td>\n      <td>8.085000</td>\n      <td>40.969742</td>\n      <td>1.238288</td>\n      <td>2.534275</td>\n      <td>1.50</td>\n      <td>41.130001</td>\n      <td>33.139999</td>\n      <td>1</td>\n      <td>1</td>\n      <td>1</td>\n      <td>1</td>\n      <td>1000</td>\n      <td>1020</td>\n      <td>POLYGON ((9.12428 12.63424, 9.25805 12.63061, ...</td>\n    </tr>\n    <tr>\n      <th>26</th>\n      <td>0.137802</td>\n      <td>1.780751</td>\n      <td>28</td>\n      <td>21</td>\n      <td>27</td>\n      <td>21</td>\n      <td>34.099998</td>\n      <td>10.822000</td>\n      <td>52.794430</td>\n      <td>19.368099</td>\n      <td>1.483516</td>\n      <td>2.24</td>\n      <td>43.950001</td>\n      <td>31.610001</td>\n      <td>0</td>\n      <td>0</td>\n      <td>1</td>\n      <td>1</td>\n      <td>1000</td>\n      <td>1021</td>\n      <td>POLYGON ((9.46878 12.23455, 9.65693 12.27403, ...</td>\n    </tr>\n    <tr>\n      <th>27</th>\n      <td>0.174773</td>\n      <td>1.637148</td>\n      <td>29</td>\n      <td>31</td>\n      <td>28</td>\n      <td>31</td>\n      <td>22.850000</td>\n      <td>7.856000</td>\n      <td>56.919785</td>\n      <td>0.509305</td>\n      <td>3.001072</td>\n      <td>1.41</td>\n      <td>41.310001</td>\n      <td>30.900000</td>\n      <td>0</td>\n      <td>0</td>\n      <td>1</td>\n      <td>1</td>\n      <td>1000</td>\n      <td>1031</td>\n      <td>POLYGON ((9.39484 12.22656, 9.46878 12.23455, ...</td>\n    </tr>\n    <tr>\n      <th>28</th>\n      <td>0.085972</td>\n      <td>1.312158</td>\n      <td>30</td>\n      <td>33</td>\n      <td>29</td>\n      <td>33</td>\n      <td>32.500000</td>\n      <td>8.681000</td>\n      <td>60.750446</td>\n      <td>0.000000</td>\n      <td>2.645051</td>\n      <td>0.81</td>\n      <td>39.720001</td>\n      <td>30.639999</td>\n      <td>0</td>\n      <td>0</td>\n      <td>1</td>\n      <td>1</td>\n      <td>1000</td>\n      <td>1033</td>\n      <td>POLYGON ((9.11609 12.17965, 9.13106 12.18216, ...</td>\n    </tr>\n    <tr>\n      <th>29</th>\n      <td>0.104355</td>\n      <td>1.524931</td>\n      <td>31</td>\n      <td>34</td>\n      <td>30</td>\n      <td>34</td>\n      <td>22.500000</td>\n      <td>13.906000</td>\n      <td>68.892044</td>\n      <td>1.638780</td>\n      <td>15.600624</td>\n      <td>0.37</td>\n      <td>38.290001</td>\n      <td>30.350000</td>\n      <td>0</td>\n      <td>0</td>\n      <td>0</td>\n      <td>1</td>\n      <td>1000</td>\n      <td>1034</td>\n      <td>POLYGON ((8.64380 12.10209, 8.79039 12.12573, ...</td>\n    </tr>\n    <tr>\n      <th>30</th>\n      <td>0.117409</td>\n      <td>1.716047</td>\n      <td>32</td>\n      <td>45</td>\n      <td>31</td>\n      <td>45</td>\n      <td>31.799999</td>\n      <td>16.940001</td>\n      <td>17.677214</td>\n      <td>3.936443</td>\n      <td>0.853890</td>\n      <td>3.78</td>\n      <td>27.940001</td>\n      <td>29.850000</td>\n      <td>1</td>\n      <td>1</td>\n      <td>0</td>\n      <td>0</td>\n      <td>1000</td>\n      <td>1045</td>\n      <td>POLYGON ((6.76331 11.98112, 6.94217 12.05603, ...</td>\n    </tr>\n    <tr>\n      <th>31</th>\n      <td>0.185580</td>\n      <td>2.108951</td>\n      <td>33</td>\n      <td>13</td>\n      <td>32</td>\n      <td>13</td>\n      <td>40.299999</td>\n      <td>18.941999</td>\n      <td>19.145592</td>\n      <td>2.221022</td>\n      <td>0.255102</td>\n      <td>4.76</td>\n      <td>50.110001</td>\n      <td>29.910000</td>\n      <td>0</td>\n      <td>0</td>\n      <td>1</td>\n      <td>0</td>\n      <td>1000</td>\n      <td>1013</td>\n      <td>POLYGON ((10.42425 11.99064, 10.64090 12.01312...</td>\n    </tr>\n    <tr>\n      <th>32</th>\n      <td>0.087472</td>\n      <td>1.507971</td>\n      <td>34</td>\n      <td>22</td>\n      <td>33</td>\n      <td>22</td>\n      <td>23.600000</td>\n      <td>9.918000</td>\n      <td>41.968163</td>\n      <td>0.000000</td>\n      <td>1.023891</td>\n      <td>2.28</td>\n      <td>44.099998</td>\n      <td>30.400000</td>\n      <td>0</td>\n      <td>0</td>\n      <td>1</td>\n      <td>1</td>\n      <td>1000</td>\n      <td>1022</td>\n      <td>POLYGON ((9.48067 12.00275, 9.75540 12.00493, ...</td>\n    </tr>\n    <tr>\n      <th>33</th>\n      <td>0.226594</td>\n      <td>2.519132</td>\n      <td>35</td>\n      <td>44</td>\n      <td>34</td>\n      <td>44</td>\n      <td>28.450001</td>\n      <td>14.948000</td>\n      <td>23.974028</td>\n      <td>3.029087</td>\n      <td>0.386803</td>\n      <td>3.06</td>\n      <td>30.320000</td>\n      <td>28.260000</td>\n      <td>0</td>\n      <td>0</td>\n      <td>0</td>\n      <td>0</td>\n      <td>1000</td>\n      <td>1044</td>\n      <td>POLYGON ((7.18583 11.84824, 7.31772 11.85615, ...</td>\n    </tr>\n    <tr>\n      <th>34</th>\n      <td>0.175453</td>\n      <td>1.974937</td>\n      <td>36</td>\n      <td>23</td>\n      <td>35</td>\n      <td>23</td>\n      <td>27.000000</td>\n      <td>12.814000</td>\n      <td>39.175053</td>\n      <td>4.220401</td>\n      <td>0.633675</td>\n      <td>2.37</td>\n      <td>43.700001</td>\n      <td>29.180000</td>\n      <td>0</td>\n      <td>0</td>\n      <td>1</td>\n      <td>1</td>\n      <td>1000</td>\n      <td>1023</td>\n      <td>POLYGON ((9.48954 11.85992, 9.63947 11.86325, ...</td>\n    </tr>\n    <tr>\n      <th>35</th>\n      <td>0.178130</td>\n      <td>1.790058</td>\n      <td>37</td>\n      <td>46</td>\n      <td>36</td>\n      <td>46</td>\n      <td>36.299999</td>\n      <td>18.739000</td>\n      <td>14.305556</td>\n      <td>6.773331</td>\n      <td>0.332349</td>\n      <td>4.23</td>\n      <td>27.270000</td>\n      <td>28.209999</td>\n      <td>0</td>\n      <td>0</td>\n      <td>0</td>\n      <td>0</td>\n      <td>1000</td>\n      <td>1046</td>\n      <td>POLYGON ((6.74126 11.79928, 7.01301 11.82622, ...</td>\n    </tr>\n    <tr>\n      <th>36</th>\n      <td>0.121154</td>\n      <td>1.402252</td>\n      <td>38</td>\n      <td>30</td>\n      <td>37</td>\n      <td>30</td>\n      <td>43.299999</td>\n      <td>17.017000</td>\n      <td>42.445076</td>\n      <td>4.839273</td>\n      <td>1.230329</td>\n      <td>1.08</td>\n      <td>38.320000</td>\n      <td>28.820000</td>\n      <td>0</td>\n      <td>0</td>\n      <td>1</td>\n      <td>1</td>\n      <td>1000</td>\n      <td>1030</td>\n      <td>POLYGON ((8.71334 11.81002, 8.82917 11.80486, ...</td>\n    </tr>\n    <tr>\n      <th>37</th>\n      <td>0.053881</td>\n      <td>0.934509</td>\n      <td>39</td>\n      <td>24</td>\n      <td>38</td>\n      <td>24</td>\n      <td>22.700001</td>\n      <td>11.107000</td>\n      <td>53.710938</td>\n      <td>0.000000</td>\n      <td>0.800000</td>\n      <td>1.58</td>\n      <td>41.040001</td>\n      <td>28.780001</td>\n      <td>0</td>\n      <td>0</td>\n      <td>1</td>\n      <td>1</td>\n      <td>1000</td>\n      <td>1024</td>\n      <td>POLYGON ((9.08497 11.79299, 9.20042 11.76711, ...</td>\n    </tr>\n    <tr>\n      <th>38</th>\n      <td>0.174823</td>\n      <td>2.335402</td>\n      <td>40</td>\n      <td>47</td>\n      <td>39</td>\n      <td>47</td>\n      <td>39.599998</td>\n      <td>18.476999</td>\n      <td>19.100863</td>\n      <td>0.000000</td>\n      <td>0.314663</td>\n      <td>5.53</td>\n      <td>24.250000</td>\n      <td>26.690001</td>\n      <td>0</td>\n      <td>0</td>\n      <td>0</td>\n      <td>0</td>\n      <td>1000</td>\n      <td>1047</td>\n      <td>POLYGON ((6.18171 11.55357, 6.39456 11.71040, ...</td>\n    </tr>\n    <tr>\n      <th>39</th>\n      <td>0.302908</td>\n      <td>2.285487</td>\n      <td>41</td>\n      <td>16</td>\n      <td>40</td>\n      <td>16</td>\n      <td>61.950001</td>\n      <td>29.833000</td>\n      <td>16.241299</td>\n      <td>6.451310</td>\n      <td>0.132743</td>\n      <td>4.40</td>\n      <td>48.439999</td>\n      <td>27.930000</td>\n      <td>0</td>\n      <td>0</td>\n      <td>1</td>\n      <td>0</td>\n      <td>1000</td>\n      <td>1016</td>\n      <td>POLYGON ((10.05659 11.74391, 10.25280 11.74282...</td>\n    </tr>\n    <tr>\n      <th>40</th>\n      <td>0.137024</td>\n      <td>1.525097</td>\n      <td>42</td>\n      <td>14</td>\n      <td>41</td>\n      <td>14</td>\n      <td>42.099998</td>\n      <td>22.207001</td>\n      <td>18.905146</td>\n      <td>0.293317</td>\n      <td>0.247036</td>\n      <td>5.33</td>\n      <td>51.240002</td>\n      <td>27.799999</td>\n      <td>0</td>\n      <td>0</td>\n      <td>1</td>\n      <td>0</td>\n      <td>1000</td>\n      <td>1014</td>\n      <td>POLYGON ((10.80626 11.71883, 10.87822 11.72326...</td>\n    </tr>\n    <tr>\n      <th>41</th>\n      <td>0.266541</td>\n      <td>2.176543</td>\n      <td>43</td>\n      <td>49</td>\n      <td>42</td>\n      <td>49</td>\n      <td>44.333000</td>\n      <td>25.872999</td>\n      <td>16.491890</td>\n      <td>1.792993</td>\n      <td>0.134439</td>\n      <td>3.87</td>\n      <td>29.020000</td>\n      <td>26.580000</td>\n      <td>0</td>\n      <td>0</td>\n      <td>0</td>\n      <td>0</td>\n      <td>1000</td>\n      <td>1049</td>\n      <td>POLYGON ((6.75833 11.46233, 6.77781 11.46591, ...</td>\n    </tr>\n    <tr>\n      <th>42</th>\n      <td>0.060241</td>\n      <td>0.967793</td>\n      <td>44</td>\n      <td>29</td>\n      <td>43</td>\n      <td>29</td>\n      <td>25.700001</td>\n      <td>13.380000</td>\n      <td>36.663612</td>\n      <td>0.000000</td>\n      <td>0.589226</td>\n      <td>1.95</td>\n      <td>41.090000</td>\n      <td>27.490000</td>\n      <td>0</td>\n      <td>0</td>\n      <td>1</td>\n      <td>1</td>\n      <td>1000</td>\n      <td>1029</td>\n      <td>POLYGON ((9.09586 11.55919, 9.20775 11.55326, ...</td>\n    </tr>\n    <tr>\n      <th>43</th>\n      <td>0.173337</td>\n      <td>1.868044</td>\n      <td>45</td>\n      <td>25</td>\n      <td>44</td>\n      <td>25</td>\n      <td>33.500000</td>\n      <td>16.961000</td>\n      <td>25.962263</td>\n      <td>1.463993</td>\n      <td>0.329761</td>\n      <td>2.67</td>\n      <td>43.230000</td>\n      <td>27.309999</td>\n      <td>0</td>\n      <td>0</td>\n      <td>1</td>\n      <td>0</td>\n      <td>1000</td>\n      <td>1025</td>\n      <td>POLYGON ((9.34161 11.54617, 9.50051 11.54202, ...</td>\n    </tr>\n    <tr>\n      <th>44</th>\n      <td>0.256431</td>\n      <td>2.193039</td>\n      <td>46</td>\n      <td>28</td>\n      <td>45</td>\n      <td>28</td>\n      <td>27.733000</td>\n      <td>14.135000</td>\n      <td>29.028488</td>\n      <td>1.006118</td>\n      <td>2.391200</td>\n      <td>2.13</td>\n      <td>39.320000</td>\n      <td>25.850000</td>\n      <td>0</td>\n      <td>0</td>\n      <td>1</td>\n      <td>1</td>\n      <td>1000</td>\n      <td>1028</td>\n      <td>POLYGON ((9.00083 11.45802, 9.08284 11.45633, ...</td>\n    </tr>\n    <tr>\n      <th>45</th>\n      <td>0.124728</td>\n      <td>1.841029</td>\n      <td>47</td>\n      <td>48</td>\n      <td>46</td>\n      <td>48</td>\n      <td>76.099998</td>\n      <td>18.323999</td>\n      <td>16.530533</td>\n      <td>9.683953</td>\n      <td>0.424628</td>\n      <td>5.27</td>\n      <td>25.469999</td>\n      <td>25.709999</td>\n      <td>0</td>\n      <td>0</td>\n      <td>0</td>\n      <td>0</td>\n      <td>1000</td>\n      <td>1048</td>\n      <td>POLYGON ((6.48137 11.43963, 6.55831 11.44220, ...</td>\n    </tr>\n    <tr>\n      <th>46</th>\n      <td>0.245249</td>\n      <td>2.079986</td>\n      <td>48</td>\n      <td>15</td>\n      <td>47</td>\n      <td>15</td>\n      <td>42.500000</td>\n      <td>18.950001</td>\n      <td>27.822861</td>\n      <td>0.000000</td>\n      <td>0.268817</td>\n      <td>5.57</td>\n      <td>50.889999</td>\n      <td>25.240000</td>\n      <td>0</td>\n      <td>0</td>\n      <td>1</td>\n      <td>0</td>\n      <td>1000</td>\n      <td>1015</td>\n      <td>POLYGON ((11.09847 11.30317, 11.12221 11.31588...</td>\n    </tr>\n    <tr>\n      <th>47</th>\n      <td>0.069762</td>\n      <td>1.102032</td>\n      <td>49</td>\n      <td>27</td>\n      <td>48</td>\n      <td>27</td>\n      <td>26.799999</td>\n      <td>11.813000</td>\n      <td>26.645266</td>\n      <td>4.884389</td>\n      <td>1.034807</td>\n      <td>2.33</td>\n      <td>41.209999</td>\n      <td>25.900000</td>\n      <td>0</td>\n      <td>0</td>\n      <td>1</td>\n      <td>1</td>\n      <td>1000</td>\n      <td>1027</td>\n      <td>POLYGON ((9.20767 11.31017, 9.33852 11.31238, ...</td>\n    </tr>\n    <tr>\n      <th>48</th>\n      <td>0.205964</td>\n      <td>2.199169</td>\n      <td>50</td>\n      <td>26</td>\n      <td>49</td>\n      <td>26</td>\n      <td>35.799999</td>\n      <td>18.796000</td>\n      <td>22.541491</td>\n      <td>0.259826</td>\n      <td>0.901442</td>\n      <td>3.03</td>\n      <td>42.669998</td>\n      <td>24.959999</td>\n      <td>0</td>\n      <td>0</td>\n      <td>1</td>\n      <td>0</td>\n      <td>1000</td>\n      <td>1026</td>\n      <td>POLYGON ((9.39145 11.27540, 9.54631 11.28537, ...</td>\n    </tr>\n  </tbody>\n</table>\n</div>"
     },
     "metadata": {}
    }
   ],
   "execution_count": 2
  },
  {
   "cell_type": "markdown",
   "source": "# Create W",
   "metadata": {
    "cell_id": "6ee37b5d6c44433d858d8de380b1acb3",
    "tags": [],
    "is_collapsed": false,
    "deepnote_cell_type": "text-cell-h1"
   }
  },
  {
   "cell_type": "code",
   "source": "Wqueen = weights.Queen.from_dataframe(gdf, idVariable = 'POLYID')",
   "metadata": {
    "cell_id": "3d895de3124f4734bcdda5dafe845fd5",
    "tags": [],
    "deepnote_to_be_reexecuted": false,
    "source_hash": "a8d417c",
    "execution_start": 1653788949283,
    "execution_millis": 0,
    "deepnote_cell_type": "code",
    "deepnote_cell_height": 80.953125
   },
   "outputs": [],
   "execution_count": 3
  },
  {
   "cell_type": "markdown",
   "source": "# Create W in matrix form",
   "metadata": {
    "cell_id": "89fb5cc4d44545e5b6379f68efc9af4c",
    "tags": [],
    "is_collapsed": false,
    "deepnote_cell_type": "text-cell-h1"
   }
  },
  {
   "cell_type": "code",
   "source": "WqueenMatrix, ids = Wqueen.full()\ndf_WqueenMatrix = pd.DataFrame(WqueenMatrix)\ndf_WqueenMatrix",
   "metadata": {
    "cell_id": "5a80017c8a3542afa24b359923a30bbf",
    "tags": [],
    "deepnote_to_be_reexecuted": false,
    "source_hash": "818cae33",
    "execution_start": 1653788949284,
    "execution_millis": 669,
    "deepnote_cell_type": "code",
    "deepnote_cell_height": 649.953125
   },
   "outputs": [
    {
     "output_type": "execute_result",
     "execution_count": 4,
     "data": {
      "application/vnd.deepnote.dataframe.v3+json": {
       "column_count": 49,
       "row_count": 49,
       "columns": [
        {
         "name": 0,
         "dtype": "float64",
         "stats": {
          "unique_count": 2,
          "nan_count": 0,
          "min": "0.0",
          "max": "1.0",
          "histogram": [
           {
            "bin_start": 0,
            "bin_end": 0.1,
            "count": 47
           },
           {
            "bin_start": 0.1,
            "bin_end": 0.2,
            "count": 0
           },
           {
            "bin_start": 0.2,
            "bin_end": 0.30000000000000004,
            "count": 0
           },
           {
            "bin_start": 0.30000000000000004,
            "bin_end": 0.4,
            "count": 0
           },
           {
            "bin_start": 0.4,
            "bin_end": 0.5,
            "count": 0
           },
           {
            "bin_start": 0.5,
            "bin_end": 0.6000000000000001,
            "count": 0
           },
           {
            "bin_start": 0.6000000000000001,
            "bin_end": 0.7000000000000001,
            "count": 0
           },
           {
            "bin_start": 0.7000000000000001,
            "bin_end": 0.8,
            "count": 0
           },
           {
            "bin_start": 0.8,
            "bin_end": 0.9,
            "count": 0
           },
           {
            "bin_start": 0.9,
            "bin_end": 1,
            "count": 2
           }
          ]
         }
        },
        {
         "name": 1,
         "dtype": "float64",
         "stats": {
          "unique_count": 2,
          "nan_count": 0,
          "min": "0.0",
          "max": "1.0",
          "histogram": [
           {
            "bin_start": 0,
            "bin_end": 0.1,
            "count": 46
           },
           {
            "bin_start": 0.1,
            "bin_end": 0.2,
            "count": 0
           },
           {
            "bin_start": 0.2,
            "bin_end": 0.30000000000000004,
            "count": 0
           },
           {
            "bin_start": 0.30000000000000004,
            "bin_end": 0.4,
            "count": 0
           },
           {
            "bin_start": 0.4,
            "bin_end": 0.5,
            "count": 0
           },
           {
            "bin_start": 0.5,
            "bin_end": 0.6000000000000001,
            "count": 0
           },
           {
            "bin_start": 0.6000000000000001,
            "bin_end": 0.7000000000000001,
            "count": 0
           },
           {
            "bin_start": 0.7000000000000001,
            "bin_end": 0.8,
            "count": 0
           },
           {
            "bin_start": 0.8,
            "bin_end": 0.9,
            "count": 0
           },
           {
            "bin_start": 0.9,
            "bin_end": 1,
            "count": 3
           }
          ]
         }
        },
        {
         "name": 2,
         "dtype": "float64",
         "stats": {
          "unique_count": 2,
          "nan_count": 0,
          "min": "0.0",
          "max": "1.0",
          "histogram": [
           {
            "bin_start": 0,
            "bin_end": 0.1,
            "count": 45
           },
           {
            "bin_start": 0.1,
            "bin_end": 0.2,
            "count": 0
           },
           {
            "bin_start": 0.2,
            "bin_end": 0.30000000000000004,
            "count": 0
           },
           {
            "bin_start": 0.30000000000000004,
            "bin_end": 0.4,
            "count": 0
           },
           {
            "bin_start": 0.4,
            "bin_end": 0.5,
            "count": 0
           },
           {
            "bin_start": 0.5,
            "bin_end": 0.6000000000000001,
            "count": 0
           },
           {
            "bin_start": 0.6000000000000001,
            "bin_end": 0.7000000000000001,
            "count": 0
           },
           {
            "bin_start": 0.7000000000000001,
            "bin_end": 0.8,
            "count": 0
           },
           {
            "bin_start": 0.8,
            "bin_end": 0.9,
            "count": 0
           },
           {
            "bin_start": 0.9,
            "bin_end": 1,
            "count": 4
           }
          ]
         }
        },
        {
         "name": 3,
         "dtype": "float64",
         "stats": {
          "unique_count": 2,
          "nan_count": 0,
          "min": "0.0",
          "max": "1.0",
          "histogram": [
           {
            "bin_start": 0,
            "bin_end": 0.1,
            "count": 45
           },
           {
            "bin_start": 0.1,
            "bin_end": 0.2,
            "count": 0
           },
           {
            "bin_start": 0.2,
            "bin_end": 0.30000000000000004,
            "count": 0
           },
           {
            "bin_start": 0.30000000000000004,
            "bin_end": 0.4,
            "count": 0
           },
           {
            "bin_start": 0.4,
            "bin_end": 0.5,
            "count": 0
           },
           {
            "bin_start": 0.5,
            "bin_end": 0.6000000000000001,
            "count": 0
           },
           {
            "bin_start": 0.6000000000000001,
            "bin_end": 0.7000000000000001,
            "count": 0
           },
           {
            "bin_start": 0.7000000000000001,
            "bin_end": 0.8,
            "count": 0
           },
           {
            "bin_start": 0.8,
            "bin_end": 0.9,
            "count": 0
           },
           {
            "bin_start": 0.9,
            "bin_end": 1,
            "count": 4
           }
          ]
         }
        },
        {
         "name": 4,
         "dtype": "float64",
         "stats": {
          "unique_count": 2,
          "nan_count": 0,
          "min": "0.0",
          "max": "1.0",
          "histogram": [
           {
            "bin_start": 0,
            "bin_end": 0.1,
            "count": 41
           },
           {
            "bin_start": 0.1,
            "bin_end": 0.2,
            "count": 0
           },
           {
            "bin_start": 0.2,
            "bin_end": 0.30000000000000004,
            "count": 0
           },
           {
            "bin_start": 0.30000000000000004,
            "bin_end": 0.4,
            "count": 0
           },
           {
            "bin_start": 0.4,
            "bin_end": 0.5,
            "count": 0
           },
           {
            "bin_start": 0.5,
            "bin_end": 0.6000000000000001,
            "count": 0
           },
           {
            "bin_start": 0.6000000000000001,
            "bin_end": 0.7000000000000001,
            "count": 0
           },
           {
            "bin_start": 0.7000000000000001,
            "bin_end": 0.8,
            "count": 0
           },
           {
            "bin_start": 0.8,
            "bin_end": 0.9,
            "count": 0
           },
           {
            "bin_start": 0.9,
            "bin_end": 1,
            "count": 8
           }
          ]
         }
        },
        {
         "name": 5,
         "dtype": "float64",
         "stats": {
          "unique_count": 2,
          "nan_count": 0,
          "min": "0.0",
          "max": "1.0",
          "histogram": [
           {
            "bin_start": 0,
            "bin_end": 0.1,
            "count": 47
           },
           {
            "bin_start": 0.1,
            "bin_end": 0.2,
            "count": 0
           },
           {
            "bin_start": 0.2,
            "bin_end": 0.30000000000000004,
            "count": 0
           },
           {
            "bin_start": 0.30000000000000004,
            "bin_end": 0.4,
            "count": 0
           },
           {
            "bin_start": 0.4,
            "bin_end": 0.5,
            "count": 0
           },
           {
            "bin_start": 0.5,
            "bin_end": 0.6000000000000001,
            "count": 0
           },
           {
            "bin_start": 0.6000000000000001,
            "bin_end": 0.7000000000000001,
            "count": 0
           },
           {
            "bin_start": 0.7000000000000001,
            "bin_end": 0.8,
            "count": 0
           },
           {
            "bin_start": 0.8,
            "bin_end": 0.9,
            "count": 0
           },
           {
            "bin_start": 0.9,
            "bin_end": 1,
            "count": 2
           }
          ]
         }
        },
        {
         "name": 6,
         "dtype": "float64",
         "stats": {
          "unique_count": 2,
          "nan_count": 0,
          "min": "0.0",
          "max": "1.0",
          "histogram": [
           {
            "bin_start": 0,
            "bin_end": 0.1,
            "count": 45
           },
           {
            "bin_start": 0.1,
            "bin_end": 0.2,
            "count": 0
           },
           {
            "bin_start": 0.2,
            "bin_end": 0.30000000000000004,
            "count": 0
           },
           {
            "bin_start": 0.30000000000000004,
            "bin_end": 0.4,
            "count": 0
           },
           {
            "bin_start": 0.4,
            "bin_end": 0.5,
            "count": 0
           },
           {
            "bin_start": 0.5,
            "bin_end": 0.6000000000000001,
            "count": 0
           },
           {
            "bin_start": 0.6000000000000001,
            "bin_end": 0.7000000000000001,
            "count": 0
           },
           {
            "bin_start": 0.7000000000000001,
            "bin_end": 0.8,
            "count": 0
           },
           {
            "bin_start": 0.8,
            "bin_end": 0.9,
            "count": 0
           },
           {
            "bin_start": 0.9,
            "bin_end": 1,
            "count": 4
           }
          ]
         }
        },
        {
         "name": 7,
         "dtype": "float64",
         "stats": {
          "unique_count": 2,
          "nan_count": 0,
          "min": "0.0",
          "max": "1.0",
          "histogram": [
           {
            "bin_start": 0,
            "bin_end": 0.1,
            "count": 43
           },
           {
            "bin_start": 0.1,
            "bin_end": 0.2,
            "count": 0
           },
           {
            "bin_start": 0.2,
            "bin_end": 0.30000000000000004,
            "count": 0
           },
           {
            "bin_start": 0.30000000000000004,
            "bin_end": 0.4,
            "count": 0
           },
           {
            "bin_start": 0.4,
            "bin_end": 0.5,
            "count": 0
           },
           {
            "bin_start": 0.5,
            "bin_end": 0.6000000000000001,
            "count": 0
           },
           {
            "bin_start": 0.6000000000000001,
            "bin_end": 0.7000000000000001,
            "count": 0
           },
           {
            "bin_start": 0.7000000000000001,
            "bin_end": 0.8,
            "count": 0
           },
           {
            "bin_start": 0.8,
            "bin_end": 0.9,
            "count": 0
           },
           {
            "bin_start": 0.9,
            "bin_end": 1,
            "count": 6
           }
          ]
         }
        },
        {
         "name": 8,
         "dtype": "float64",
         "stats": {
          "unique_count": 2,
          "nan_count": 0,
          "min": "0.0",
          "max": "1.0",
          "histogram": [
           {
            "bin_start": 0,
            "bin_end": 0.1,
            "count": 41
           },
           {
            "bin_start": 0.1,
            "bin_end": 0.2,
            "count": 0
           },
           {
            "bin_start": 0.2,
            "bin_end": 0.30000000000000004,
            "count": 0
           },
           {
            "bin_start": 0.30000000000000004,
            "bin_end": 0.4,
            "count": 0
           },
           {
            "bin_start": 0.4,
            "bin_end": 0.5,
            "count": 0
           },
           {
            "bin_start": 0.5,
            "bin_end": 0.6000000000000001,
            "count": 0
           },
           {
            "bin_start": 0.6000000000000001,
            "bin_end": 0.7000000000000001,
            "count": 0
           },
           {
            "bin_start": 0.7000000000000001,
            "bin_end": 0.8,
            "count": 0
           },
           {
            "bin_start": 0.8,
            "bin_end": 0.9,
            "count": 0
           },
           {
            "bin_start": 0.9,
            "bin_end": 1,
            "count": 8
           }
          ]
         }
        },
        {
         "name": 9,
         "dtype": "float64",
         "stats": {
          "unique_count": 2,
          "nan_count": 0,
          "min": "0.0",
          "max": "1.0",
          "histogram": [
           {
            "bin_start": 0,
            "bin_end": 0.1,
            "count": 45
           },
           {
            "bin_start": 0.1,
            "bin_end": 0.2,
            "count": 0
           },
           {
            "bin_start": 0.2,
            "bin_end": 0.30000000000000004,
            "count": 0
           },
           {
            "bin_start": 0.30000000000000004,
            "bin_end": 0.4,
            "count": 0
           },
           {
            "bin_start": 0.4,
            "bin_end": 0.5,
            "count": 0
           },
           {
            "bin_start": 0.5,
            "bin_end": 0.6000000000000001,
            "count": 0
           },
           {
            "bin_start": 0.6000000000000001,
            "bin_end": 0.7000000000000001,
            "count": 0
           },
           {
            "bin_start": 0.7000000000000001,
            "bin_end": 0.8,
            "count": 0
           },
           {
            "bin_start": 0.8,
            "bin_end": 0.9,
            "count": 0
           },
           {
            "bin_start": 0.9,
            "bin_end": 1,
            "count": 4
           }
          ]
         }
        },
        {
         "name": 10,
         "dtype": "float64",
         "stats": {
          "unique_count": 2,
          "nan_count": 0,
          "min": "0.0",
          "max": "1.0",
          "histogram": [
           {
            "bin_start": 0,
            "bin_end": 0.1,
            "count": 44
           },
           {
            "bin_start": 0.1,
            "bin_end": 0.2,
            "count": 0
           },
           {
            "bin_start": 0.2,
            "bin_end": 0.30000000000000004,
            "count": 0
           },
           {
            "bin_start": 0.30000000000000004,
            "bin_end": 0.4,
            "count": 0
           },
           {
            "bin_start": 0.4,
            "bin_end": 0.5,
            "count": 0
           },
           {
            "bin_start": 0.5,
            "bin_end": 0.6000000000000001,
            "count": 0
           },
           {
            "bin_start": 0.6000000000000001,
            "bin_end": 0.7000000000000001,
            "count": 0
           },
           {
            "bin_start": 0.7000000000000001,
            "bin_end": 0.8,
            "count": 0
           },
           {
            "bin_start": 0.8,
            "bin_end": 0.9,
            "count": 0
           },
           {
            "bin_start": 0.9,
            "bin_end": 1,
            "count": 5
           }
          ]
         }
        },
        {
         "name": 11,
         "dtype": "float64",
         "stats": {
          "unique_count": 2,
          "nan_count": 0,
          "min": "0.0",
          "max": "1.0",
          "histogram": [
           {
            "bin_start": 0,
            "bin_end": 0.1,
            "count": 43
           },
           {
            "bin_start": 0.1,
            "bin_end": 0.2,
            "count": 0
           },
           {
            "bin_start": 0.2,
            "bin_end": 0.30000000000000004,
            "count": 0
           },
           {
            "bin_start": 0.30000000000000004,
            "bin_end": 0.4,
            "count": 0
           },
           {
            "bin_start": 0.4,
            "bin_end": 0.5,
            "count": 0
           },
           {
            "bin_start": 0.5,
            "bin_end": 0.6000000000000001,
            "count": 0
           },
           {
            "bin_start": 0.6000000000000001,
            "bin_end": 0.7000000000000001,
            "count": 0
           },
           {
            "bin_start": 0.7000000000000001,
            "bin_end": 0.8,
            "count": 0
           },
           {
            "bin_start": 0.8,
            "bin_end": 0.9,
            "count": 0
           },
           {
            "bin_start": 0.9,
            "bin_end": 1,
            "count": 6
           }
          ]
         }
        },
        {
         "name": 12,
         "dtype": "float64",
         "stats": {
          "unique_count": 2,
          "nan_count": 0,
          "min": "0.0",
          "max": "1.0",
          "histogram": [
           {
            "bin_start": 0,
            "bin_end": 0.1,
            "count": 45
           },
           {
            "bin_start": 0.1,
            "bin_end": 0.2,
            "count": 0
           },
           {
            "bin_start": 0.2,
            "bin_end": 0.30000000000000004,
            "count": 0
           },
           {
            "bin_start": 0.30000000000000004,
            "bin_end": 0.4,
            "count": 0
           },
           {
            "bin_start": 0.4,
            "bin_end": 0.5,
            "count": 0
           },
           {
            "bin_start": 0.5,
            "bin_end": 0.6000000000000001,
            "count": 0
           },
           {
            "bin_start": 0.6000000000000001,
            "bin_end": 0.7000000000000001,
            "count": 0
           },
           {
            "bin_start": 0.7000000000000001,
            "bin_end": 0.8,
            "count": 0
           },
           {
            "bin_start": 0.8,
            "bin_end": 0.9,
            "count": 0
           },
           {
            "bin_start": 0.9,
            "bin_end": 1,
            "count": 4
           }
          ]
         }
        },
        {
         "name": 13,
         "dtype": "float64",
         "stats": {
          "unique_count": 2,
          "nan_count": 0,
          "min": "0.0",
          "max": "1.0",
          "histogram": [
           {
            "bin_start": 0,
            "bin_end": 0.1,
            "count": 43
           },
           {
            "bin_start": 0.1,
            "bin_end": 0.2,
            "count": 0
           },
           {
            "bin_start": 0.2,
            "bin_end": 0.30000000000000004,
            "count": 0
           },
           {
            "bin_start": 0.30000000000000004,
            "bin_end": 0.4,
            "count": 0
           },
           {
            "bin_start": 0.4,
            "bin_end": 0.5,
            "count": 0
           },
           {
            "bin_start": 0.5,
            "bin_end": 0.6000000000000001,
            "count": 0
           },
           {
            "bin_start": 0.6000000000000001,
            "bin_end": 0.7000000000000001,
            "count": 0
           },
           {
            "bin_start": 0.7000000000000001,
            "bin_end": 0.8,
            "count": 0
           },
           {
            "bin_start": 0.8,
            "bin_end": 0.9,
            "count": 0
           },
           {
            "bin_start": 0.9,
            "bin_end": 1,
            "count": 6
           }
          ]
         }
        },
        {
         "name": 14,
         "dtype": "float64",
         "stats": {
          "unique_count": 2,
          "nan_count": 0,
          "min": "0.0",
          "max": "1.0",
          "histogram": [
           {
            "bin_start": 0,
            "bin_end": 0.1,
            "count": 43
           },
           {
            "bin_start": 0.1,
            "bin_end": 0.2,
            "count": 0
           },
           {
            "bin_start": 0.2,
            "bin_end": 0.30000000000000004,
            "count": 0
           },
           {
            "bin_start": 0.30000000000000004,
            "bin_end": 0.4,
            "count": 0
           },
           {
            "bin_start": 0.4,
            "bin_end": 0.5,
            "count": 0
           },
           {
            "bin_start": 0.5,
            "bin_end": 0.6000000000000001,
            "count": 0
           },
           {
            "bin_start": 0.6000000000000001,
            "bin_end": 0.7000000000000001,
            "count": 0
           },
           {
            "bin_start": 0.7000000000000001,
            "bin_end": 0.8,
            "count": 0
           },
           {
            "bin_start": 0.8,
            "bin_end": 0.9,
            "count": 0
           },
           {
            "bin_start": 0.9,
            "bin_end": 1,
            "count": 6
           }
          ]
         }
        },
        {
         "name": 15,
         "dtype": "float64",
         "stats": {
          "unique_count": 2,
          "nan_count": 0,
          "min": "0.0",
          "max": "1.0",
          "histogram": [
           {
            "bin_start": 0,
            "bin_end": 0.1,
            "count": 41
           },
           {
            "bin_start": 0.1,
            "bin_end": 0.2,
            "count": 0
           },
           {
            "bin_start": 0.2,
            "bin_end": 0.30000000000000004,
            "count": 0
           },
           {
            "bin_start": 0.30000000000000004,
            "bin_end": 0.4,
            "count": 0
           },
           {
            "bin_start": 0.4,
            "bin_end": 0.5,
            "count": 0
           },
           {
            "bin_start": 0.5,
            "bin_end": 0.6000000000000001,
            "count": 0
           },
           {
            "bin_start": 0.6000000000000001,
            "bin_end": 0.7000000000000001,
            "count": 0
           },
           {
            "bin_start": 0.7000000000000001,
            "bin_end": 0.8,
            "count": 0
           },
           {
            "bin_start": 0.8,
            "bin_end": 0.9,
            "count": 0
           },
           {
            "bin_start": 0.9,
            "bin_end": 1,
            "count": 8
           }
          ]
         }
        },
        {
         "name": 16,
         "dtype": "float64",
         "stats": {
          "unique_count": 2,
          "nan_count": 0,
          "min": "0.0",
          "max": "1.0",
          "histogram": [
           {
            "bin_start": 0,
            "bin_end": 0.1,
            "count": 46
           },
           {
            "bin_start": 0.1,
            "bin_end": 0.2,
            "count": 0
           },
           {
            "bin_start": 0.2,
            "bin_end": 0.30000000000000004,
            "count": 0
           },
           {
            "bin_start": 0.30000000000000004,
            "bin_end": 0.4,
            "count": 0
           },
           {
            "bin_start": 0.4,
            "bin_end": 0.5,
            "count": 0
           },
           {
            "bin_start": 0.5,
            "bin_end": 0.6000000000000001,
            "count": 0
           },
           {
            "bin_start": 0.6000000000000001,
            "bin_end": 0.7000000000000001,
            "count": 0
           },
           {
            "bin_start": 0.7000000000000001,
            "bin_end": 0.8,
            "count": 0
           },
           {
            "bin_start": 0.8,
            "bin_end": 0.9,
            "count": 0
           },
           {
            "bin_start": 0.9,
            "bin_end": 1,
            "count": 3
           }
          ]
         }
        },
        {
         "name": 17,
         "dtype": "float64",
         "stats": {
          "unique_count": 2,
          "nan_count": 0,
          "min": "0.0",
          "max": "1.0",
          "histogram": [
           {
            "bin_start": 0,
            "bin_end": 0.1,
            "count": 45
           },
           {
            "bin_start": 0.1,
            "bin_end": 0.2,
            "count": 0
           },
           {
            "bin_start": 0.2,
            "bin_end": 0.30000000000000004,
            "count": 0
           },
           {
            "bin_start": 0.30000000000000004,
            "bin_end": 0.4,
            "count": 0
           },
           {
            "bin_start": 0.4,
            "bin_end": 0.5,
            "count": 0
           },
           {
            "bin_start": 0.5,
            "bin_end": 0.6000000000000001,
            "count": 0
           },
           {
            "bin_start": 0.6000000000000001,
            "bin_end": 0.7000000000000001,
            "count": 0
           },
           {
            "bin_start": 0.7000000000000001,
            "bin_end": 0.8,
            "count": 0
           },
           {
            "bin_start": 0.8,
            "bin_end": 0.9,
            "count": 0
           },
           {
            "bin_start": 0.9,
            "bin_end": 1,
            "count": 4
           }
          ]
         }
        },
        {
         "name": 18,
         "dtype": "float64",
         "stats": {
          "unique_count": 2,
          "nan_count": 0,
          "min": "0.0",
          "max": "1.0",
          "histogram": [
           {
            "bin_start": 0,
            "bin_end": 0.1,
            "count": 46
           },
           {
            "bin_start": 0.1,
            "bin_end": 0.2,
            "count": 0
           },
           {
            "bin_start": 0.2,
            "bin_end": 0.30000000000000004,
            "count": 0
           },
           {
            "bin_start": 0.30000000000000004,
            "bin_end": 0.4,
            "count": 0
           },
           {
            "bin_start": 0.4,
            "bin_end": 0.5,
            "count": 0
           },
           {
            "bin_start": 0.5,
            "bin_end": 0.6000000000000001,
            "count": 0
           },
           {
            "bin_start": 0.6000000000000001,
            "bin_end": 0.7000000000000001,
            "count": 0
           },
           {
            "bin_start": 0.7000000000000001,
            "bin_end": 0.8,
            "count": 0
           },
           {
            "bin_start": 0.8,
            "bin_end": 0.9,
            "count": 0
           },
           {
            "bin_start": 0.9,
            "bin_end": 1,
            "count": 3
           }
          ]
         }
        },
        {
         "name": 19,
         "dtype": "float64",
         "stats": {
          "unique_count": 2,
          "nan_count": 0,
          "min": "0.0",
          "max": "1.0",
          "histogram": [
           {
            "bin_start": 0,
            "bin_end": 0.1,
            "count": 39
           },
           {
            "bin_start": 0.1,
            "bin_end": 0.2,
            "count": 0
           },
           {
            "bin_start": 0.2,
            "bin_end": 0.30000000000000004,
            "count": 0
           },
           {
            "bin_start": 0.30000000000000004,
            "bin_end": 0.4,
            "count": 0
           },
           {
            "bin_start": 0.4,
            "bin_end": 0.5,
            "count": 0
           },
           {
            "bin_start": 0.5,
            "bin_end": 0.6000000000000001,
            "count": 0
           },
           {
            "bin_start": 0.6000000000000001,
            "bin_end": 0.7000000000000001,
            "count": 0
           },
           {
            "bin_start": 0.7000000000000001,
            "bin_end": 0.8,
            "count": 0
           },
           {
            "bin_start": 0.8,
            "bin_end": 0.9,
            "count": 0
           },
           {
            "bin_start": 0.9,
            "bin_end": 1,
            "count": 10
           }
          ]
         }
        },
        {
         "name": 20,
         "dtype": "float64",
         "stats": {
          "unique_count": 2,
          "nan_count": 0,
          "min": "0.0",
          "max": "1.0",
          "histogram": [
           {
            "bin_start": 0,
            "bin_end": 0.1,
            "count": 46
           },
           {
            "bin_start": 0.1,
            "bin_end": 0.2,
            "count": 0
           },
           {
            "bin_start": 0.2,
            "bin_end": 0.30000000000000004,
            "count": 0
           },
           {
            "bin_start": 0.30000000000000004,
            "bin_end": 0.4,
            "count": 0
           },
           {
            "bin_start": 0.4,
            "bin_end": 0.5,
            "count": 0
           },
           {
            "bin_start": 0.5,
            "bin_end": 0.6000000000000001,
            "count": 0
           },
           {
            "bin_start": 0.6000000000000001,
            "bin_end": 0.7000000000000001,
            "count": 0
           },
           {
            "bin_start": 0.7000000000000001,
            "bin_end": 0.8,
            "count": 0
           },
           {
            "bin_start": 0.8,
            "bin_end": 0.9,
            "count": 0
           },
           {
            "bin_start": 0.9,
            "bin_end": 1,
            "count": 3
           }
          ]
         }
        },
        {
         "name": 21,
         "dtype": "float64",
         "stats": {
          "unique_count": 2,
          "nan_count": 0,
          "min": "0.0",
          "max": "1.0",
          "histogram": [
           {
            "bin_start": 0,
            "bin_end": 0.1,
            "count": 43
           },
           {
            "bin_start": 0.1,
            "bin_end": 0.2,
            "count": 0
           },
           {
            "bin_start": 0.2,
            "bin_end": 0.30000000000000004,
            "count": 0
           },
           {
            "bin_start": 0.30000000000000004,
            "bin_end": 0.4,
            "count": 0
           },
           {
            "bin_start": 0.4,
            "bin_end": 0.5,
            "count": 0
           },
           {
            "bin_start": 0.5,
            "bin_end": 0.6000000000000001,
            "count": 0
           },
           {
            "bin_start": 0.6000000000000001,
            "bin_end": 0.7000000000000001,
            "count": 0
           },
           {
            "bin_start": 0.7000000000000001,
            "bin_end": 0.8,
            "count": 0
           },
           {
            "bin_start": 0.8,
            "bin_end": 0.9,
            "count": 0
           },
           {
            "bin_start": 0.9,
            "bin_end": 1,
            "count": 6
           }
          ]
         }
        },
        {
         "name": 22,
         "dtype": "float64",
         "stats": {
          "unique_count": 2,
          "nan_count": 0,
          "min": "0.0",
          "max": "1.0",
          "histogram": [
           {
            "bin_start": 0,
            "bin_end": 0.1,
            "count": 46
           },
           {
            "bin_start": 0.1,
            "bin_end": 0.2,
            "count": 0
           },
           {
            "bin_start": 0.2,
            "bin_end": 0.30000000000000004,
            "count": 0
           },
           {
            "bin_start": 0.30000000000000004,
            "bin_end": 0.4,
            "count": 0
           },
           {
            "bin_start": 0.4,
            "bin_end": 0.5,
            "count": 0
           },
           {
            "bin_start": 0.5,
            "bin_end": 0.6000000000000001,
            "count": 0
           },
           {
            "bin_start": 0.6000000000000001,
            "bin_end": 0.7000000000000001,
            "count": 0
           },
           {
            "bin_start": 0.7000000000000001,
            "bin_end": 0.8,
            "count": 0
           },
           {
            "bin_start": 0.8,
            "bin_end": 0.9,
            "count": 0
           },
           {
            "bin_start": 0.9,
            "bin_end": 1,
            "count": 3
           }
          ]
         }
        },
        {
         "name": 23,
         "dtype": "float64",
         "stats": {
          "unique_count": 2,
          "nan_count": 0,
          "min": "0.0",
          "max": "1.0",
          "histogram": [
           {
            "bin_start": 0,
            "bin_end": 0.1,
            "count": 42
           },
           {
            "bin_start": 0.1,
            "bin_end": 0.2,
            "count": 0
           },
           {
            "bin_start": 0.2,
            "bin_end": 0.30000000000000004,
            "count": 0
           },
           {
            "bin_start": 0.30000000000000004,
            "bin_end": 0.4,
            "count": 0
           },
           {
            "bin_start": 0.4,
            "bin_end": 0.5,
            "count": 0
           },
           {
            "bin_start": 0.5,
            "bin_end": 0.6000000000000001,
            "count": 0
           },
           {
            "bin_start": 0.6000000000000001,
            "bin_end": 0.7000000000000001,
            "count": 0
           },
           {
            "bin_start": 0.7000000000000001,
            "bin_end": 0.8,
            "count": 0
           },
           {
            "bin_start": 0.8,
            "bin_end": 0.9,
            "count": 0
           },
           {
            "bin_start": 0.9,
            "bin_end": 1,
            "count": 7
           }
          ]
         }
        },
        {
         "name": 24,
         "dtype": "float64",
         "stats": {
          "unique_count": 2,
          "nan_count": 0,
          "min": "0.0",
          "max": "1.0",
          "histogram": [
           {
            "bin_start": 0,
            "bin_end": 0.1,
            "count": 41
           },
           {
            "bin_start": 0.1,
            "bin_end": 0.2,
            "count": 0
           },
           {
            "bin_start": 0.2,
            "bin_end": 0.30000000000000004,
            "count": 0
           },
           {
            "bin_start": 0.30000000000000004,
            "bin_end": 0.4,
            "count": 0
           },
           {
            "bin_start": 0.4,
            "bin_end": 0.5,
            "count": 0
           },
           {
            "bin_start": 0.5,
            "bin_end": 0.6000000000000001,
            "count": 0
           },
           {
            "bin_start": 0.6000000000000001,
            "bin_end": 0.7000000000000001,
            "count": 0
           },
           {
            "bin_start": 0.7000000000000001,
            "bin_end": 0.8,
            "count": 0
           },
           {
            "bin_start": 0.8,
            "bin_end": 0.9,
            "count": 0
           },
           {
            "bin_start": 0.9,
            "bin_end": 1,
            "count": 8
           }
          ]
         }
        },
        {
         "name": 25,
         "dtype": "float64",
         "stats": {
          "unique_count": 2,
          "nan_count": 0,
          "min": "0.0",
          "max": "1.0",
          "histogram": [
           {
            "bin_start": 0,
            "bin_end": 0.1,
            "count": 43
           },
           {
            "bin_start": 0.1,
            "bin_end": 0.2,
            "count": 0
           },
           {
            "bin_start": 0.2,
            "bin_end": 0.30000000000000004,
            "count": 0
           },
           {
            "bin_start": 0.30000000000000004,
            "bin_end": 0.4,
            "count": 0
           },
           {
            "bin_start": 0.4,
            "bin_end": 0.5,
            "count": 0
           },
           {
            "bin_start": 0.5,
            "bin_end": 0.6000000000000001,
            "count": 0
           },
           {
            "bin_start": 0.6000000000000001,
            "bin_end": 0.7000000000000001,
            "count": 0
           },
           {
            "bin_start": 0.7000000000000001,
            "bin_end": 0.8,
            "count": 0
           },
           {
            "bin_start": 0.8,
            "bin_end": 0.9,
            "count": 0
           },
           {
            "bin_start": 0.9,
            "bin_end": 1,
            "count": 6
           }
          ]
         }
        },
        {
         "name": 26,
         "dtype": "float64",
         "stats": {
          "unique_count": 2,
          "nan_count": 0,
          "min": "0.0",
          "max": "1.0",
          "histogram": [
           {
            "bin_start": 0,
            "bin_end": 0.1,
            "count": 45
           },
           {
            "bin_start": 0.1,
            "bin_end": 0.2,
            "count": 0
           },
           {
            "bin_start": 0.2,
            "bin_end": 0.30000000000000004,
            "count": 0
           },
           {
            "bin_start": 0.30000000000000004,
            "bin_end": 0.4,
            "count": 0
           },
           {
            "bin_start": 0.4,
            "bin_end": 0.5,
            "count": 0
           },
           {
            "bin_start": 0.5,
            "bin_end": 0.6000000000000001,
            "count": 0
           },
           {
            "bin_start": 0.6000000000000001,
            "bin_end": 0.7000000000000001,
            "count": 0
           },
           {
            "bin_start": 0.7000000000000001,
            "bin_end": 0.8,
            "count": 0
           },
           {
            "bin_start": 0.8,
            "bin_end": 0.9,
            "count": 0
           },
           {
            "bin_start": 0.9,
            "bin_end": 1,
            "count": 4
           }
          ]
         }
        },
        {
         "name": 27,
         "dtype": "float64",
         "stats": {
          "unique_count": 2,
          "nan_count": 0,
          "min": "0.0",
          "max": "1.0",
          "histogram": [
           {
            "bin_start": 0,
            "bin_end": 0.1,
            "count": 40
           },
           {
            "bin_start": 0.1,
            "bin_end": 0.2,
            "count": 0
           },
           {
            "bin_start": 0.2,
            "bin_end": 0.30000000000000004,
            "count": 0
           },
           {
            "bin_start": 0.30000000000000004,
            "bin_end": 0.4,
            "count": 0
           },
           {
            "bin_start": 0.4,
            "bin_end": 0.5,
            "count": 0
           },
           {
            "bin_start": 0.5,
            "bin_end": 0.6000000000000001,
            "count": 0
           },
           {
            "bin_start": 0.6000000000000001,
            "bin_end": 0.7000000000000001,
            "count": 0
           },
           {
            "bin_start": 0.7000000000000001,
            "bin_end": 0.8,
            "count": 0
           },
           {
            "bin_start": 0.8,
            "bin_end": 0.9,
            "count": 0
           },
           {
            "bin_start": 0.9,
            "bin_end": 1,
            "count": 9
           }
          ]
         }
        },
        {
         "name": 28,
         "dtype": "float64",
         "stats": {
          "unique_count": 2,
          "nan_count": 0,
          "min": "0.0",
          "max": "1.0",
          "histogram": [
           {
            "bin_start": 0,
            "bin_end": 0.1,
            "count": 42
           },
           {
            "bin_start": 0.1,
            "bin_end": 0.2,
            "count": 0
           },
           {
            "bin_start": 0.2,
            "bin_end": 0.30000000000000004,
            "count": 0
           },
           {
            "bin_start": 0.30000000000000004,
            "bin_end": 0.4,
            "count": 0
           },
           {
            "bin_start": 0.4,
            "bin_end": 0.5,
            "count": 0
           },
           {
            "bin_start": 0.5,
            "bin_end": 0.6000000000000001,
            "count": 0
           },
           {
            "bin_start": 0.6000000000000001,
            "bin_end": 0.7000000000000001,
            "count": 0
           },
           {
            "bin_start": 0.7000000000000001,
            "bin_end": 0.8,
            "count": 0
           },
           {
            "bin_start": 0.8,
            "bin_end": 0.9,
            "count": 0
           },
           {
            "bin_start": 0.9,
            "bin_end": 1,
            "count": 7
           }
          ]
         }
        },
        {
         "name": 29,
         "dtype": "float64",
         "stats": {
          "unique_count": 2,
          "nan_count": 0,
          "min": "0.0",
          "max": "1.0",
          "histogram": [
           {
            "bin_start": 0,
            "bin_end": 0.1,
            "count": 44
           },
           {
            "bin_start": 0.1,
            "bin_end": 0.2,
            "count": 0
           },
           {
            "bin_start": 0.2,
            "bin_end": 0.30000000000000004,
            "count": 0
           },
           {
            "bin_start": 0.30000000000000004,
            "bin_end": 0.4,
            "count": 0
           },
           {
            "bin_start": 0.4,
            "bin_end": 0.5,
            "count": 0
           },
           {
            "bin_start": 0.5,
            "bin_end": 0.6000000000000001,
            "count": 0
           },
           {
            "bin_start": 0.6000000000000001,
            "bin_end": 0.7000000000000001,
            "count": 0
           },
           {
            "bin_start": 0.7000000000000001,
            "bin_end": 0.8,
            "count": 0
           },
           {
            "bin_start": 0.8,
            "bin_end": 0.9,
            "count": 0
           },
           {
            "bin_start": 0.9,
            "bin_end": 1,
            "count": 5
           }
          ]
         }
        },
        {
         "name": 30,
         "dtype": "float64",
         "stats": {
          "unique_count": 2,
          "nan_count": 0,
          "min": "0.0",
          "max": "1.0",
          "histogram": [
           {
            "bin_start": 0,
            "bin_end": 0.1,
            "count": 46
           },
           {
            "bin_start": 0.1,
            "bin_end": 0.2,
            "count": 0
           },
           {
            "bin_start": 0.2,
            "bin_end": 0.30000000000000004,
            "count": 0
           },
           {
            "bin_start": 0.30000000000000004,
            "bin_end": 0.4,
            "count": 0
           },
           {
            "bin_start": 0.4,
            "bin_end": 0.5,
            "count": 0
           },
           {
            "bin_start": 0.5,
            "bin_end": 0.6000000000000001,
            "count": 0
           },
           {
            "bin_start": 0.6000000000000001,
            "bin_end": 0.7000000000000001,
            "count": 0
           },
           {
            "bin_start": 0.7000000000000001,
            "bin_end": 0.8,
            "count": 0
           },
           {
            "bin_start": 0.8,
            "bin_end": 0.9,
            "count": 0
           },
           {
            "bin_start": 0.9,
            "bin_end": 1,
            "count": 3
           }
          ]
         }
        },
        {
         "name": 31,
         "dtype": "float64",
         "stats": {
          "unique_count": 2,
          "nan_count": 0,
          "min": "0.0",
          "max": "1.0",
          "histogram": [
           {
            "bin_start": 0,
            "bin_end": 0.1,
            "count": 45
           },
           {
            "bin_start": 0.1,
            "bin_end": 0.2,
            "count": 0
           },
           {
            "bin_start": 0.2,
            "bin_end": 0.30000000000000004,
            "count": 0
           },
           {
            "bin_start": 0.30000000000000004,
            "bin_end": 0.4,
            "count": 0
           },
           {
            "bin_start": 0.4,
            "bin_end": 0.5,
            "count": 0
           },
           {
            "bin_start": 0.5,
            "bin_end": 0.6000000000000001,
            "count": 0
           },
           {
            "bin_start": 0.6000000000000001,
            "bin_end": 0.7000000000000001,
            "count": 0
           },
           {
            "bin_start": 0.7000000000000001,
            "bin_end": 0.8,
            "count": 0
           },
           {
            "bin_start": 0.8,
            "bin_end": 0.9,
            "count": 0
           },
           {
            "bin_start": 0.9,
            "bin_end": 1,
            "count": 4
           }
          ]
         }
        },
        {
         "name": 32,
         "dtype": "float64",
         "stats": {
          "unique_count": 2,
          "nan_count": 0,
          "min": "0.0",
          "max": "1.0",
          "histogram": [
           {
            "bin_start": 0,
            "bin_end": 0.1,
            "count": 45
           },
           {
            "bin_start": 0.1,
            "bin_end": 0.2,
            "count": 0
           },
           {
            "bin_start": 0.2,
            "bin_end": 0.30000000000000004,
            "count": 0
           },
           {
            "bin_start": 0.30000000000000004,
            "bin_end": 0.4,
            "count": 0
           },
           {
            "bin_start": 0.4,
            "bin_end": 0.5,
            "count": 0
           },
           {
            "bin_start": 0.5,
            "bin_end": 0.6000000000000001,
            "count": 0
           },
           {
            "bin_start": 0.6000000000000001,
            "bin_end": 0.7000000000000001,
            "count": 0
           },
           {
            "bin_start": 0.7000000000000001,
            "bin_end": 0.8,
            "count": 0
           },
           {
            "bin_start": 0.8,
            "bin_end": 0.9,
            "count": 0
           },
           {
            "bin_start": 0.9,
            "bin_end": 1,
            "count": 4
           }
          ]
         }
        },
        {
         "name": 33,
         "dtype": "float64",
         "stats": {
          "unique_count": 2,
          "nan_count": 0,
          "min": "0.0",
          "max": "1.0",
          "histogram": [
           {
            "bin_start": 0,
            "bin_end": 0.1,
            "count": 45
           },
           {
            "bin_start": 0.1,
            "bin_end": 0.2,
            "count": 0
           },
           {
            "bin_start": 0.2,
            "bin_end": 0.30000000000000004,
            "count": 0
           },
           {
            "bin_start": 0.30000000000000004,
            "bin_end": 0.4,
            "count": 0
           },
           {
            "bin_start": 0.4,
            "bin_end": 0.5,
            "count": 0
           },
           {
            "bin_start": 0.5,
            "bin_end": 0.6000000000000001,
            "count": 0
           },
           {
            "bin_start": 0.6000000000000001,
            "bin_end": 0.7000000000000001,
            "count": 0
           },
           {
            "bin_start": 0.7000000000000001,
            "bin_end": 0.8,
            "count": 0
           },
           {
            "bin_start": 0.8,
            "bin_end": 0.9,
            "count": 0
           },
           {
            "bin_start": 0.9,
            "bin_end": 1,
            "count": 4
           }
          ]
         }
        },
        {
         "name": 34,
         "dtype": "float64",
         "stats": {
          "unique_count": 2,
          "nan_count": 0,
          "min": "0.0",
          "max": "1.0",
          "histogram": [
           {
            "bin_start": 0,
            "bin_end": 0.1,
            "count": 42
           },
           {
            "bin_start": 0.1,
            "bin_end": 0.2,
            "count": 0
           },
           {
            "bin_start": 0.2,
            "bin_end": 0.30000000000000004,
            "count": 0
           },
           {
            "bin_start": 0.30000000000000004,
            "bin_end": 0.4,
            "count": 0
           },
           {
            "bin_start": 0.4,
            "bin_end": 0.5,
            "count": 0
           },
           {
            "bin_start": 0.5,
            "bin_end": 0.6000000000000001,
            "count": 0
           },
           {
            "bin_start": 0.6000000000000001,
            "bin_end": 0.7000000000000001,
            "count": 0
           },
           {
            "bin_start": 0.7000000000000001,
            "bin_end": 0.8,
            "count": 0
           },
           {
            "bin_start": 0.8,
            "bin_end": 0.9,
            "count": 0
           },
           {
            "bin_start": 0.9,
            "bin_end": 1,
            "count": 7
           }
          ]
         }
        },
        {
         "name": 35,
         "dtype": "float64",
         "stats": {
          "unique_count": 2,
          "nan_count": 0,
          "min": "0.0",
          "max": "1.0",
          "histogram": [
           {
            "bin_start": 0,
            "bin_end": 0.1,
            "count": 44
           },
           {
            "bin_start": 0.1,
            "bin_end": 0.2,
            "count": 0
           },
           {
            "bin_start": 0.2,
            "bin_end": 0.30000000000000004,
            "count": 0
           },
           {
            "bin_start": 0.30000000000000004,
            "bin_end": 0.4,
            "count": 0
           },
           {
            "bin_start": 0.4,
            "bin_end": 0.5,
            "count": 0
           },
           {
            "bin_start": 0.5,
            "bin_end": 0.6000000000000001,
            "count": 0
           },
           {
            "bin_start": 0.6000000000000001,
            "bin_end": 0.7000000000000001,
            "count": 0
           },
           {
            "bin_start": 0.7000000000000001,
            "bin_end": 0.8,
            "count": 0
           },
           {
            "bin_start": 0.8,
            "bin_end": 0.9,
            "count": 0
           },
           {
            "bin_start": 0.9,
            "bin_end": 1,
            "count": 5
           }
          ]
         }
        },
        {
         "name": 36,
         "dtype": "float64",
         "stats": {
          "unique_count": 2,
          "nan_count": 0,
          "min": "0.0",
          "max": "1.0",
          "histogram": [
           {
            "bin_start": 0,
            "bin_end": 0.1,
            "count": 43
           },
           {
            "bin_start": 0.1,
            "bin_end": 0.2,
            "count": 0
           },
           {
            "bin_start": 0.2,
            "bin_end": 0.30000000000000004,
            "count": 0
           },
           {
            "bin_start": 0.30000000000000004,
            "bin_end": 0.4,
            "count": 0
           },
           {
            "bin_start": 0.4,
            "bin_end": 0.5,
            "count": 0
           },
           {
            "bin_start": 0.5,
            "bin_end": 0.6000000000000001,
            "count": 0
           },
           {
            "bin_start": 0.6000000000000001,
            "bin_end": 0.7000000000000001,
            "count": 0
           },
           {
            "bin_start": 0.7000000000000001,
            "bin_end": 0.8,
            "count": 0
           },
           {
            "bin_start": 0.8,
            "bin_end": 0.9,
            "count": 0
           },
           {
            "bin_start": 0.9,
            "bin_end": 1,
            "count": 6
           }
          ]
         }
        },
        {
         "name": 37,
         "dtype": "float64",
         "stats": {
          "unique_count": 2,
          "nan_count": 0,
          "min": "0.0",
          "max": "1.0",
          "histogram": [
           {
            "bin_start": 0,
            "bin_end": 0.1,
            "count": 43
           },
           {
            "bin_start": 0.1,
            "bin_end": 0.2,
            "count": 0
           },
           {
            "bin_start": 0.2,
            "bin_end": 0.30000000000000004,
            "count": 0
           },
           {
            "bin_start": 0.30000000000000004,
            "bin_end": 0.4,
            "count": 0
           },
           {
            "bin_start": 0.4,
            "bin_end": 0.5,
            "count": 0
           },
           {
            "bin_start": 0.5,
            "bin_end": 0.6000000000000001,
            "count": 0
           },
           {
            "bin_start": 0.6000000000000001,
            "bin_end": 0.7000000000000001,
            "count": 0
           },
           {
            "bin_start": 0.7000000000000001,
            "bin_end": 0.8,
            "count": 0
           },
           {
            "bin_start": 0.8,
            "bin_end": 0.9,
            "count": 0
           },
           {
            "bin_start": 0.9,
            "bin_end": 1,
            "count": 6
           }
          ]
         }
        },
        {
         "name": 38,
         "dtype": "float64",
         "stats": {
          "unique_count": 2,
          "nan_count": 0,
          "min": "0.0",
          "max": "1.0",
          "histogram": [
           {
            "bin_start": 0,
            "bin_end": 0.1,
            "count": 46
           },
           {
            "bin_start": 0.1,
            "bin_end": 0.2,
            "count": 0
           },
           {
            "bin_start": 0.2,
            "bin_end": 0.30000000000000004,
            "count": 0
           },
           {
            "bin_start": 0.30000000000000004,
            "bin_end": 0.4,
            "count": 0
           },
           {
            "bin_start": 0.4,
            "bin_end": 0.5,
            "count": 0
           },
           {
            "bin_start": 0.5,
            "bin_end": 0.6000000000000001,
            "count": 0
           },
           {
            "bin_start": 0.6000000000000001,
            "bin_end": 0.7000000000000001,
            "count": 0
           },
           {
            "bin_start": 0.7000000000000001,
            "bin_end": 0.8,
            "count": 0
           },
           {
            "bin_start": 0.8,
            "bin_end": 0.9,
            "count": 0
           },
           {
            "bin_start": 0.9,
            "bin_end": 1,
            "count": 3
           }
          ]
         }
        },
        {
         "name": 39,
         "dtype": "float64",
         "stats": {
          "unique_count": 2,
          "nan_count": 0,
          "min": "0.0",
          "max": "1.0",
          "histogram": [
           {
            "bin_start": 0,
            "bin_end": 0.1,
            "count": 44
           },
           {
            "bin_start": 0.1,
            "bin_end": 0.2,
            "count": 0
           },
           {
            "bin_start": 0.2,
            "bin_end": 0.30000000000000004,
            "count": 0
           },
           {
            "bin_start": 0.30000000000000004,
            "bin_end": 0.4,
            "count": 0
           },
           {
            "bin_start": 0.4,
            "bin_end": 0.5,
            "count": 0
           },
           {
            "bin_start": 0.5,
            "bin_end": 0.6000000000000001,
            "count": 0
           },
           {
            "bin_start": 0.6000000000000001,
            "bin_end": 0.7000000000000001,
            "count": 0
           },
           {
            "bin_start": 0.7000000000000001,
            "bin_end": 0.8,
            "count": 0
           },
           {
            "bin_start": 0.8,
            "bin_end": 0.9,
            "count": 0
           },
           {
            "bin_start": 0.9,
            "bin_end": 1,
            "count": 5
           }
          ]
         }
        },
        {
         "name": 40,
         "dtype": "float64",
         "stats": {
          "unique_count": 2,
          "nan_count": 0,
          "min": "0.0",
          "max": "1.0",
          "histogram": [
           {
            "bin_start": 0,
            "bin_end": 0.1,
            "count": 46
           },
           {
            "bin_start": 0.1,
            "bin_end": 0.2,
            "count": 0
           },
           {
            "bin_start": 0.2,
            "bin_end": 0.30000000000000004,
            "count": 0
           },
           {
            "bin_start": 0.30000000000000004,
            "bin_end": 0.4,
            "count": 0
           },
           {
            "bin_start": 0.4,
            "bin_end": 0.5,
            "count": 0
           },
           {
            "bin_start": 0.5,
            "bin_end": 0.6000000000000001,
            "count": 0
           },
           {
            "bin_start": 0.6000000000000001,
            "bin_end": 0.7000000000000001,
            "count": 0
           },
           {
            "bin_start": 0.7000000000000001,
            "bin_end": 0.8,
            "count": 0
           },
           {
            "bin_start": 0.8,
            "bin_end": 0.9,
            "count": 0
           },
           {
            "bin_start": 0.9,
            "bin_end": 1,
            "count": 3
           }
          ]
         }
        },
        {
         "name": 41,
         "dtype": "float64",
         "stats": {
          "unique_count": 2,
          "nan_count": 0,
          "min": "0.0",
          "max": "1.0",
          "histogram": [
           {
            "bin_start": 0,
            "bin_end": 0.1,
            "count": 47
           },
           {
            "bin_start": 0.1,
            "bin_end": 0.2,
            "count": 0
           },
           {
            "bin_start": 0.2,
            "bin_end": 0.30000000000000004,
            "count": 0
           },
           {
            "bin_start": 0.30000000000000004,
            "bin_end": 0.4,
            "count": 0
           },
           {
            "bin_start": 0.4,
            "bin_end": 0.5,
            "count": 0
           },
           {
            "bin_start": 0.5,
            "bin_end": 0.6000000000000001,
            "count": 0
           },
           {
            "bin_start": 0.6000000000000001,
            "bin_end": 0.7000000000000001,
            "count": 0
           },
           {
            "bin_start": 0.7000000000000001,
            "bin_end": 0.8,
            "count": 0
           },
           {
            "bin_start": 0.8,
            "bin_end": 0.9,
            "count": 0
           },
           {
            "bin_start": 0.9,
            "bin_end": 1,
            "count": 2
           }
          ]
         }
        },
        {
         "name": 42,
         "dtype": "float64",
         "stats": {
          "unique_count": 2,
          "nan_count": 0,
          "min": "0.0",
          "max": "1.0",
          "histogram": [
           {
            "bin_start": 0,
            "bin_end": 0.1,
            "count": 43
           },
           {
            "bin_start": 0.1,
            "bin_end": 0.2,
            "count": 0
           },
           {
            "bin_start": 0.2,
            "bin_end": 0.30000000000000004,
            "count": 0
           },
           {
            "bin_start": 0.30000000000000004,
            "bin_end": 0.4,
            "count": 0
           },
           {
            "bin_start": 0.4,
            "bin_end": 0.5,
            "count": 0
           },
           {
            "bin_start": 0.5,
            "bin_end": 0.6000000000000001,
            "count": 0
           },
           {
            "bin_start": 0.6000000000000001,
            "bin_end": 0.7000000000000001,
            "count": 0
           },
           {
            "bin_start": 0.7000000000000001,
            "bin_end": 0.8,
            "count": 0
           },
           {
            "bin_start": 0.8,
            "bin_end": 0.9,
            "count": 0
           },
           {
            "bin_start": 0.9,
            "bin_end": 1,
            "count": 6
           }
          ]
         }
        },
        {
         "name": 43,
         "dtype": "float64",
         "stats": {
          "unique_count": 2,
          "nan_count": 0,
          "min": "0.0",
          "max": "1.0",
          "histogram": [
           {
            "bin_start": 0,
            "bin_end": 0.1,
            "count": 44
           },
           {
            "bin_start": 0.1,
            "bin_end": 0.2,
            "count": 0
           },
           {
            "bin_start": 0.2,
            "bin_end": 0.30000000000000004,
            "count": 0
           },
           {
            "bin_start": 0.30000000000000004,
            "bin_end": 0.4,
            "count": 0
           },
           {
            "bin_start": 0.4,
            "bin_end": 0.5,
            "count": 0
           },
           {
            "bin_start": 0.5,
            "bin_end": 0.6000000000000001,
            "count": 0
           },
           {
            "bin_start": 0.6000000000000001,
            "bin_end": 0.7000000000000001,
            "count": 0
           },
           {
            "bin_start": 0.7000000000000001,
            "bin_end": 0.8,
            "count": 0
           },
           {
            "bin_start": 0.8,
            "bin_end": 0.9,
            "count": 0
           },
           {
            "bin_start": 0.9,
            "bin_end": 1,
            "count": 5
           }
          ]
         }
        },
        {
         "name": 44,
         "dtype": "float64",
         "stats": {
          "unique_count": 2,
          "nan_count": 0,
          "min": "0.0",
          "max": "1.0",
          "histogram": [
           {
            "bin_start": 0,
            "bin_end": 0.1,
            "count": 45
           },
           {
            "bin_start": 0.1,
            "bin_end": 0.2,
            "count": 0
           },
           {
            "bin_start": 0.2,
            "bin_end": 0.30000000000000004,
            "count": 0
           },
           {
            "bin_start": 0.30000000000000004,
            "bin_end": 0.4,
            "count": 0
           },
           {
            "bin_start": 0.4,
            "bin_end": 0.5,
            "count": 0
           },
           {
            "bin_start": 0.5,
            "bin_end": 0.6000000000000001,
            "count": 0
           },
           {
            "bin_start": 0.6000000000000001,
            "bin_end": 0.7000000000000001,
            "count": 0
           },
           {
            "bin_start": 0.7000000000000001,
            "bin_end": 0.8,
            "count": 0
           },
           {
            "bin_start": 0.8,
            "bin_end": 0.9,
            "count": 0
           },
           {
            "bin_start": 0.9,
            "bin_end": 1,
            "count": 4
           }
          ]
         }
        },
        {
         "name": 45,
         "dtype": "float64",
         "stats": {
          "unique_count": 2,
          "nan_count": 0,
          "min": "0.0",
          "max": "1.0",
          "histogram": [
           {
            "bin_start": 0,
            "bin_end": 0.1,
            "count": 47
           },
           {
            "bin_start": 0.1,
            "bin_end": 0.2,
            "count": 0
           },
           {
            "bin_start": 0.2,
            "bin_end": 0.30000000000000004,
            "count": 0
           },
           {
            "bin_start": 0.30000000000000004,
            "bin_end": 0.4,
            "count": 0
           },
           {
            "bin_start": 0.4,
            "bin_end": 0.5,
            "count": 0
           },
           {
            "bin_start": 0.5,
            "bin_end": 0.6000000000000001,
            "count": 0
           },
           {
            "bin_start": 0.6000000000000001,
            "bin_end": 0.7000000000000001,
            "count": 0
           },
           {
            "bin_start": 0.7000000000000001,
            "bin_end": 0.8,
            "count": 0
           },
           {
            "bin_start": 0.8,
            "bin_end": 0.9,
            "count": 0
           },
           {
            "bin_start": 0.9,
            "bin_end": 1,
            "count": 2
           }
          ]
         }
        },
        {
         "name": 46,
         "dtype": "float64",
         "stats": {
          "unique_count": 2,
          "nan_count": 0,
          "min": "0.0",
          "max": "1.0",
          "histogram": [
           {
            "bin_start": 0,
            "bin_end": 0.1,
            "count": 47
           },
           {
            "bin_start": 0.1,
            "bin_end": 0.2,
            "count": 0
           },
           {
            "bin_start": 0.2,
            "bin_end": 0.30000000000000004,
            "count": 0
           },
           {
            "bin_start": 0.30000000000000004,
            "bin_end": 0.4,
            "count": 0
           },
           {
            "bin_start": 0.4,
            "bin_end": 0.5,
            "count": 0
           },
           {
            "bin_start": 0.5,
            "bin_end": 0.6000000000000001,
            "count": 0
           },
           {
            "bin_start": 0.6000000000000001,
            "bin_end": 0.7000000000000001,
            "count": 0
           },
           {
            "bin_start": 0.7000000000000001,
            "bin_end": 0.8,
            "count": 0
           },
           {
            "bin_start": 0.8,
            "bin_end": 0.9,
            "count": 0
           },
           {
            "bin_start": 0.9,
            "bin_end": 1,
            "count": 2
           }
          ]
         }
        },
        {
         "name": 47,
         "dtype": "float64",
         "stats": {
          "unique_count": 2,
          "nan_count": 0,
          "min": "0.0",
          "max": "1.0",
          "histogram": [
           {
            "bin_start": 0,
            "bin_end": 0.1,
            "count": 45
           },
           {
            "bin_start": 0.1,
            "bin_end": 0.2,
            "count": 0
           },
           {
            "bin_start": 0.2,
            "bin_end": 0.30000000000000004,
            "count": 0
           },
           {
            "bin_start": 0.30000000000000004,
            "bin_end": 0.4,
            "count": 0
           },
           {
            "bin_start": 0.4,
            "bin_end": 0.5,
            "count": 0
           },
           {
            "bin_start": 0.5,
            "bin_end": 0.6000000000000001,
            "count": 0
           },
           {
            "bin_start": 0.6000000000000001,
            "bin_end": 0.7000000000000001,
            "count": 0
           },
           {
            "bin_start": 0.7000000000000001,
            "bin_end": 0.8,
            "count": 0
           },
           {
            "bin_start": 0.8,
            "bin_end": 0.9,
            "count": 0
           },
           {
            "bin_start": 0.9,
            "bin_end": 1,
            "count": 4
           }
          ]
         }
        },
        {
         "name": 48,
         "dtype": "float64",
         "stats": {
          "unique_count": 2,
          "nan_count": 0,
          "min": "0.0",
          "max": "1.0",
          "histogram": [
           {
            "bin_start": 0,
            "bin_end": 0.1,
            "count": 46
           },
           {
            "bin_start": 0.1,
            "bin_end": 0.2,
            "count": 0
           },
           {
            "bin_start": 0.2,
            "bin_end": 0.30000000000000004,
            "count": 0
           },
           {
            "bin_start": 0.30000000000000004,
            "bin_end": 0.4,
            "count": 0
           },
           {
            "bin_start": 0.4,
            "bin_end": 0.5,
            "count": 0
           },
           {
            "bin_start": 0.5,
            "bin_end": 0.6000000000000001,
            "count": 0
           },
           {
            "bin_start": 0.6000000000000001,
            "bin_end": 0.7000000000000001,
            "count": 0
           },
           {
            "bin_start": 0.7000000000000001,
            "bin_end": 0.8,
            "count": 0
           },
           {
            "bin_start": 0.8,
            "bin_end": 0.9,
            "count": 0
           },
           {
            "bin_start": 0.9,
            "bin_end": 1,
            "count": 3
           }
          ]
         }
        },
        {
         "name": "_deepnote_index_column",
         "dtype": "int64"
        }
       ],
       "rows": [
        {
         "0": 0,
         "1": 1,
         "2": 1,
         "3": 0,
         "4": 0,
         "5": 0,
         "6": 0,
         "7": 0,
         "8": 0,
         "9": 0,
         "10": 0,
         "11": 0,
         "12": 0,
         "13": 0,
         "14": 0,
         "15": 0,
         "16": 0,
         "17": 0,
         "18": 0,
         "19": 0,
         "20": 0,
         "21": 0,
         "22": 0,
         "23": 0,
         "24": 0,
         "25": 0,
         "26": 0,
         "27": 0,
         "28": 0,
         "29": 0,
         "30": 0,
         "31": 0,
         "32": 0,
         "33": 0,
         "34": 0,
         "35": 0,
         "36": 0,
         "37": 0,
         "38": 0,
         "39": 0,
         "40": 0,
         "41": 0,
         "42": 0,
         "43": 0,
         "44": 0,
         "45": 0,
         "46": 0,
         "47": 0,
         "48": 0,
         "_deepnote_index_column": 0
        },
        {
         "0": 1,
         "1": 0,
         "2": 1,
         "3": 1,
         "4": 0,
         "5": 0,
         "6": 0,
         "7": 0,
         "8": 0,
         "9": 0,
         "10": 0,
         "11": 0,
         "12": 0,
         "13": 0,
         "14": 0,
         "15": 0,
         "16": 0,
         "17": 0,
         "18": 0,
         "19": 0,
         "20": 0,
         "21": 0,
         "22": 0,
         "23": 0,
         "24": 0,
         "25": 0,
         "26": 0,
         "27": 0,
         "28": 0,
         "29": 0,
         "30": 0,
         "31": 0,
         "32": 0,
         "33": 0,
         "34": 0,
         "35": 0,
         "36": 0,
         "37": 0,
         "38": 0,
         "39": 0,
         "40": 0,
         "41": 0,
         "42": 0,
         "43": 0,
         "44": 0,
         "45": 0,
         "46": 0,
         "47": 0,
         "48": 0,
         "_deepnote_index_column": 1
        },
        {
         "0": 1,
         "1": 1,
         "2": 0,
         "3": 1,
         "4": 1,
         "5": 0,
         "6": 0,
         "7": 0,
         "8": 0,
         "9": 0,
         "10": 0,
         "11": 0,
         "12": 0,
         "13": 0,
         "14": 0,
         "15": 0,
         "16": 0,
         "17": 0,
         "18": 0,
         "19": 0,
         "20": 0,
         "21": 0,
         "22": 0,
         "23": 0,
         "24": 0,
         "25": 0,
         "26": 0,
         "27": 0,
         "28": 0,
         "29": 0,
         "30": 0,
         "31": 0,
         "32": 0,
         "33": 0,
         "34": 0,
         "35": 0,
         "36": 0,
         "37": 0,
         "38": 0,
         "39": 0,
         "40": 0,
         "41": 0,
         "42": 0,
         "43": 0,
         "44": 0,
         "45": 0,
         "46": 0,
         "47": 0,
         "48": 0,
         "_deepnote_index_column": 2
        },
        {
         "0": 0,
         "1": 1,
         "2": 1,
         "3": 0,
         "4": 1,
         "5": 0,
         "6": 0,
         "7": 1,
         "8": 0,
         "9": 0,
         "10": 0,
         "11": 0,
         "12": 0,
         "13": 0,
         "14": 0,
         "15": 0,
         "16": 0,
         "17": 0,
         "18": 0,
         "19": 0,
         "20": 0,
         "21": 0,
         "22": 0,
         "23": 0,
         "24": 0,
         "25": 0,
         "26": 0,
         "27": 0,
         "28": 0,
         "29": 0,
         "30": 0,
         "31": 0,
         "32": 0,
         "33": 0,
         "34": 0,
         "35": 0,
         "36": 0,
         "37": 0,
         "38": 0,
         "39": 0,
         "40": 0,
         "41": 0,
         "42": 0,
         "43": 0,
         "44": 0,
         "45": 0,
         "46": 0,
         "47": 0,
         "48": 0,
         "_deepnote_index_column": 3
        },
        {
         "0": 0,
         "1": 0,
         "2": 1,
         "3": 1,
         "4": 0,
         "5": 1,
         "6": 0,
         "7": 1,
         "8": 1,
         "9": 0,
         "10": 1,
         "11": 0,
         "12": 0,
         "13": 0,
         "14": 1,
         "15": 1,
         "16": 0,
         "17": 0,
         "18": 0,
         "19": 0,
         "20": 0,
         "21": 0,
         "22": 0,
         "23": 0,
         "24": 0,
         "25": 0,
         "26": 0,
         "27": 0,
         "28": 0,
         "29": 0,
         "30": 0,
         "31": 0,
         "32": 0,
         "33": 0,
         "34": 0,
         "35": 0,
         "36": 0,
         "37": 0,
         "38": 0,
         "39": 0,
         "40": 0,
         "41": 0,
         "42": 0,
         "43": 0,
         "44": 0,
         "45": 0,
         "46": 0,
         "47": 0,
         "48": 0,
         "_deepnote_index_column": 4
        },
        {
         "0": 0,
         "1": 0,
         "2": 0,
         "3": 0,
         "4": 1,
         "5": 0,
         "6": 0,
         "7": 0,
         "8": 1,
         "9": 0,
         "10": 0,
         "11": 0,
         "12": 0,
         "13": 0,
         "14": 0,
         "15": 0,
         "16": 0,
         "17": 0,
         "18": 0,
         "19": 0,
         "20": 0,
         "21": 0,
         "22": 0,
         "23": 0,
         "24": 0,
         "25": 0,
         "26": 0,
         "27": 0,
         "28": 0,
         "29": 0,
         "30": 0,
         "31": 0,
         "32": 0,
         "33": 0,
         "34": 0,
         "35": 0,
         "36": 0,
         "37": 0,
         "38": 0,
         "39": 0,
         "40": 0,
         "41": 0,
         "42": 0,
         "43": 0,
         "44": 0,
         "45": 0,
         "46": 0,
         "47": 0,
         "48": 0,
         "_deepnote_index_column": 5
        },
        {
         "0": 0,
         "1": 0,
         "2": 0,
         "3": 0,
         "4": 0,
         "5": 0,
         "6": 0,
         "7": 1,
         "8": 0,
         "9": 0,
         "10": 0,
         "11": 1,
         "12": 1,
         "13": 1,
         "14": 0,
         "15": 0,
         "16": 0,
         "17": 0,
         "18": 0,
         "19": 0,
         "20": 0,
         "21": 0,
         "22": 0,
         "23": 0,
         "24": 0,
         "25": 0,
         "26": 0,
         "27": 0,
         "28": 0,
         "29": 0,
         "30": 0,
         "31": 0,
         "32": 0,
         "33": 0,
         "34": 0,
         "35": 0,
         "36": 0,
         "37": 0,
         "38": 0,
         "39": 0,
         "40": 0,
         "41": 0,
         "42": 0,
         "43": 0,
         "44": 0,
         "45": 0,
         "46": 0,
         "47": 0,
         "48": 0,
         "_deepnote_index_column": 6
        },
        {
         "0": 0,
         "1": 0,
         "2": 0,
         "3": 1,
         "4": 1,
         "5": 0,
         "6": 1,
         "7": 0,
         "8": 0,
         "9": 0,
         "10": 1,
         "11": 1,
         "12": 1,
         "13": 0,
         "14": 0,
         "15": 0,
         "16": 0,
         "17": 0,
         "18": 0,
         "19": 0,
         "20": 0,
         "21": 0,
         "22": 0,
         "23": 0,
         "24": 0,
         "25": 0,
         "26": 0,
         "27": 0,
         "28": 0,
         "29": 0,
         "30": 0,
         "31": 0,
         "32": 0,
         "33": 0,
         "34": 0,
         "35": 0,
         "36": 0,
         "37": 0,
         "38": 0,
         "39": 0,
         "40": 0,
         "41": 0,
         "42": 0,
         "43": 0,
         "44": 0,
         "45": 0,
         "46": 0,
         "47": 0,
         "48": 0,
         "_deepnote_index_column": 7
        },
        {
         "0": 0,
         "1": 0,
         "2": 0,
         "3": 0,
         "4": 1,
         "5": 1,
         "6": 0,
         "7": 0,
         "8": 0,
         "9": 1,
         "10": 0,
         "11": 0,
         "12": 0,
         "13": 0,
         "14": 1,
         "15": 0,
         "16": 0,
         "17": 0,
         "18": 0,
         "19": 1,
         "20": 0,
         "21": 1,
         "22": 0,
         "23": 0,
         "24": 1,
         "25": 1,
         "26": 0,
         "27": 0,
         "28": 0,
         "29": 0,
         "30": 0,
         "31": 0,
         "32": 0,
         "33": 0,
         "34": 0,
         "35": 0,
         "36": 0,
         "37": 0,
         "38": 0,
         "39": 0,
         "40": 0,
         "41": 0,
         "42": 0,
         "43": 0,
         "44": 0,
         "45": 0,
         "46": 0,
         "47": 0,
         "48": 0,
         "_deepnote_index_column": 8
        },
        {
         "0": 0,
         "1": 0,
         "2": 0,
         "3": 0,
         "4": 0,
         "5": 0,
         "6": 0,
         "7": 0,
         "8": 1,
         "9": 0,
         "10": 0,
         "11": 0,
         "12": 0,
         "13": 0,
         "14": 0,
         "15": 0,
         "16": 1,
         "17": 0,
         "18": 0,
         "19": 1,
         "20": 0,
         "21": 1,
         "22": 0,
         "23": 0,
         "24": 0,
         "25": 0,
         "26": 0,
         "27": 0,
         "28": 0,
         "29": 0,
         "30": 0,
         "31": 0,
         "32": 0,
         "33": 0,
         "34": 0,
         "35": 0,
         "36": 0,
         "37": 0,
         "38": 0,
         "39": 0,
         "40": 0,
         "41": 0,
         "42": 0,
         "43": 0,
         "44": 0,
         "45": 0,
         "46": 0,
         "47": 0,
         "48": 0,
         "_deepnote_index_column": 9
        }
       ]
      },
      "text/plain": "     0    1    2    3    4    5    6    7    8    9    10   11   12   13   14  \\\n0   0.0  1.0  1.0  0.0  0.0  0.0  0.0  0.0  0.0  0.0  0.0  0.0  0.0  0.0  0.0   \n1   1.0  0.0  1.0  1.0  0.0  0.0  0.0  0.0  0.0  0.0  0.0  0.0  0.0  0.0  0.0   \n2   1.0  1.0  0.0  1.0  1.0  0.0  0.0  0.0  0.0  0.0  0.0  0.0  0.0  0.0  0.0   \n3   0.0  1.0  1.0  0.0  1.0  0.0  0.0  1.0  0.0  0.0  0.0  0.0  0.0  0.0  0.0   \n4   0.0  0.0  1.0  1.0  0.0  1.0  0.0  1.0  1.0  0.0  1.0  0.0  0.0  0.0  1.0   \n5   0.0  0.0  0.0  0.0  1.0  0.0  0.0  0.0  1.0  0.0  0.0  0.0  0.0  0.0  0.0   \n6   0.0  0.0  0.0  0.0  0.0  0.0  0.0  1.0  0.0  0.0  0.0  1.0  1.0  1.0  0.0   \n7   0.0  0.0  0.0  1.0  1.0  0.0  1.0  0.0  0.0  0.0  1.0  1.0  1.0  0.0  0.0   \n8   0.0  0.0  0.0  0.0  1.0  1.0  0.0  0.0  0.0  1.0  0.0  0.0  0.0  0.0  1.0   \n9   0.0  0.0  0.0  0.0  0.0  0.0  0.0  0.0  1.0  0.0  0.0  0.0  0.0  0.0  0.0   \n10  0.0  0.0  0.0  0.0  1.0  0.0  0.0  1.0  0.0  0.0  0.0  1.0  0.0  0.0  1.0   \n11  0.0  0.0  0.0  0.0  0.0  0.0  1.0  1.0  0.0  0.0  1.0  0.0  1.0  1.0  0.0   \n12  0.0  0.0  0.0  0.0  0.0  0.0  1.0  1.0  0.0  0.0  0.0  1.0  0.0  1.0  0.0   \n13  0.0  0.0  0.0  0.0  0.0  0.0  1.0  0.0  0.0  0.0  0.0  1.0  1.0  0.0  0.0   \n14  0.0  0.0  0.0  0.0  1.0  0.0  0.0  0.0  1.0  0.0  1.0  0.0  0.0  0.0  0.0   \n15  0.0  0.0  0.0  0.0  1.0  0.0  0.0  0.0  0.0  0.0  1.0  1.0  0.0  1.0  1.0   \n16  0.0  0.0  0.0  0.0  0.0  0.0  0.0  0.0  0.0  1.0  0.0  0.0  0.0  0.0  0.0   \n17  0.0  0.0  0.0  0.0  0.0  0.0  0.0  0.0  0.0  0.0  0.0  0.0  0.0  1.0  0.0   \n18  0.0  0.0  0.0  0.0  0.0  0.0  0.0  0.0  0.0  0.0  0.0  0.0  0.0  1.0  0.0   \n19  0.0  0.0  0.0  0.0  0.0  0.0  0.0  0.0  1.0  1.0  0.0  0.0  0.0  0.0  0.0   \n20  0.0  0.0  0.0  0.0  0.0  0.0  0.0  0.0  0.0  0.0  0.0  0.0  0.0  0.0  0.0   \n21  0.0  0.0  0.0  0.0  0.0  0.0  0.0  0.0  1.0  1.0  0.0  0.0  0.0  0.0  0.0   \n22  0.0  0.0  0.0  0.0  0.0  0.0  0.0  0.0  0.0  0.0  0.0  0.0  0.0  0.0  0.0   \n23  0.0  0.0  0.0  0.0  0.0  0.0  0.0  0.0  0.0  0.0  0.0  0.0  0.0  0.0  0.0   \n24  0.0  0.0  0.0  0.0  0.0  0.0  0.0  0.0  1.0  0.0  0.0  0.0  0.0  0.0  1.0   \n25  0.0  0.0  0.0  0.0  0.0  0.0  0.0  0.0  1.0  0.0  0.0  0.0  0.0  0.0  1.0   \n26  0.0  0.0  0.0  0.0  0.0  0.0  0.0  0.0  0.0  0.0  0.0  0.0  0.0  0.0  0.0   \n27  0.0  0.0  0.0  0.0  0.0  0.0  0.0  0.0  0.0  0.0  0.0  0.0  0.0  0.0  0.0   \n28  0.0  0.0  0.0  0.0  0.0  0.0  0.0  0.0  0.0  0.0  0.0  0.0  0.0  0.0  0.0   \n29  0.0  0.0  0.0  0.0  0.0  0.0  0.0  0.0  0.0  0.0  0.0  0.0  0.0  0.0  0.0   \n30  0.0  0.0  0.0  0.0  0.0  0.0  0.0  0.0  0.0  0.0  0.0  0.0  0.0  0.0  0.0   \n31  0.0  0.0  0.0  0.0  0.0  0.0  0.0  0.0  0.0  0.0  0.0  0.0  0.0  0.0  0.0   \n32  0.0  0.0  0.0  0.0  0.0  0.0  0.0  0.0  0.0  0.0  0.0  0.0  0.0  0.0  0.0   \n33  0.0  0.0  0.0  0.0  0.0  0.0  0.0  0.0  0.0  0.0  0.0  0.0  0.0  0.0  0.0   \n34  0.0  0.0  0.0  0.0  0.0  0.0  0.0  0.0  0.0  0.0  0.0  0.0  0.0  0.0  0.0   \n35  0.0  0.0  0.0  0.0  0.0  0.0  0.0  0.0  0.0  0.0  0.0  0.0  0.0  0.0  0.0   \n36  0.0  0.0  0.0  0.0  0.0  0.0  0.0  0.0  0.0  0.0  0.0  0.0  0.0  0.0  0.0   \n37  0.0  0.0  0.0  0.0  0.0  0.0  0.0  0.0  0.0  0.0  0.0  0.0  0.0  0.0  0.0   \n38  0.0  0.0  0.0  0.0  0.0  0.0  0.0  0.0  0.0  0.0  0.0  0.0  0.0  0.0  0.0   \n39  0.0  0.0  0.0  0.0  0.0  0.0  0.0  0.0  0.0  0.0  0.0  0.0  0.0  0.0  0.0   \n40  0.0  0.0  0.0  0.0  0.0  0.0  0.0  0.0  0.0  0.0  0.0  0.0  0.0  0.0  0.0   \n41  0.0  0.0  0.0  0.0  0.0  0.0  0.0  0.0  0.0  0.0  0.0  0.0  0.0  0.0  0.0   \n42  0.0  0.0  0.0  0.0  0.0  0.0  0.0  0.0  0.0  0.0  0.0  0.0  0.0  0.0  0.0   \n43  0.0  0.0  0.0  0.0  0.0  0.0  0.0  0.0  0.0  0.0  0.0  0.0  0.0  0.0  0.0   \n44  0.0  0.0  0.0  0.0  0.0  0.0  0.0  0.0  0.0  0.0  0.0  0.0  0.0  0.0  0.0   \n45  0.0  0.0  0.0  0.0  0.0  0.0  0.0  0.0  0.0  0.0  0.0  0.0  0.0  0.0  0.0   \n46  0.0  0.0  0.0  0.0  0.0  0.0  0.0  0.0  0.0  0.0  0.0  0.0  0.0  0.0  0.0   \n47  0.0  0.0  0.0  0.0  0.0  0.0  0.0  0.0  0.0  0.0  0.0  0.0  0.0  0.0  0.0   \n48  0.0  0.0  0.0  0.0  0.0  0.0  0.0  0.0  0.0  0.0  0.0  0.0  0.0  0.0  0.0   \n\n     15   16   17   18   19   20   21   22   23   24   25   26   27   28   29  \\\n0   0.0  0.0  0.0  0.0  0.0  0.0  0.0  0.0  0.0  0.0  0.0  0.0  0.0  0.0  0.0   \n1   0.0  0.0  0.0  0.0  0.0  0.0  0.0  0.0  0.0  0.0  0.0  0.0  0.0  0.0  0.0   \n2   0.0  0.0  0.0  0.0  0.0  0.0  0.0  0.0  0.0  0.0  0.0  0.0  0.0  0.0  0.0   \n3   0.0  0.0  0.0  0.0  0.0  0.0  0.0  0.0  0.0  0.0  0.0  0.0  0.0  0.0  0.0   \n4   1.0  0.0  0.0  0.0  0.0  0.0  0.0  0.0  0.0  0.0  0.0  0.0  0.0  0.0  0.0   \n5   0.0  0.0  0.0  0.0  0.0  0.0  0.0  0.0  0.0  0.0  0.0  0.0  0.0  0.0  0.0   \n6   0.0  0.0  0.0  0.0  0.0  0.0  0.0  0.0  0.0  0.0  0.0  0.0  0.0  0.0  0.0   \n7   0.0  0.0  0.0  0.0  0.0  0.0  0.0  0.0  0.0  0.0  0.0  0.0  0.0  0.0  0.0   \n8   0.0  0.0  0.0  0.0  1.0  0.0  1.0  0.0  0.0  1.0  1.0  0.0  0.0  0.0  0.0   \n9   0.0  1.0  0.0  0.0  1.0  0.0  1.0  0.0  0.0  0.0  0.0  0.0  0.0  0.0  0.0   \n10  1.0  0.0  0.0  0.0  0.0  0.0  0.0  0.0  0.0  0.0  0.0  0.0  0.0  0.0  0.0   \n11  1.0  0.0  0.0  0.0  0.0  0.0  0.0  0.0  0.0  0.0  0.0  0.0  0.0  0.0  0.0   \n12  0.0  0.0  0.0  0.0  0.0  0.0  0.0  0.0  0.0  0.0  0.0  0.0  0.0  0.0  0.0   \n13  1.0  0.0  1.0  1.0  0.0  0.0  0.0  0.0  0.0  0.0  0.0  0.0  0.0  0.0  0.0   \n14  1.0  0.0  0.0  0.0  0.0  0.0  0.0  0.0  0.0  1.0  1.0  0.0  0.0  0.0  0.0   \n15  0.0  0.0  1.0  0.0  0.0  0.0  0.0  0.0  1.0  1.0  0.0  0.0  0.0  0.0  0.0   \n16  0.0  0.0  0.0  0.0  1.0  0.0  0.0  1.0  0.0  0.0  0.0  0.0  0.0  0.0  0.0   \n17  1.0  0.0  0.0  1.0  0.0  0.0  0.0  0.0  1.0  0.0  0.0  0.0  0.0  0.0  0.0   \n18  0.0  0.0  1.0  0.0  0.0  0.0  0.0  0.0  1.0  0.0  0.0  0.0  0.0  0.0  0.0   \n19  0.0  1.0  0.0  0.0  0.0  0.0  1.0  1.0  0.0  0.0  0.0  1.0  0.0  0.0  0.0   \n20  0.0  0.0  0.0  0.0  0.0  0.0  0.0  0.0  1.0  0.0  0.0  0.0  0.0  0.0  1.0   \n21  0.0  0.0  0.0  0.0  1.0  0.0  0.0  0.0  0.0  0.0  1.0  1.0  1.0  0.0  0.0   \n22  0.0  1.0  0.0  0.0  1.0  0.0  0.0  0.0  0.0  0.0  0.0  0.0  0.0  0.0  0.0   \n23  1.0  0.0  1.0  1.0  0.0  1.0  0.0  0.0  0.0  1.0  0.0  0.0  0.0  1.0  1.0   \n24  1.0  0.0  0.0  0.0  0.0  0.0  0.0  0.0  1.0  0.0  1.0  0.0  1.0  1.0  1.0   \n25  0.0  0.0  0.0  0.0  0.0  0.0  1.0  0.0  0.0  1.0  0.0  0.0  1.0  1.0  0.0   \n26  0.0  0.0  0.0  0.0  1.0  0.0  1.0  0.0  0.0  0.0  0.0  0.0  1.0  0.0  0.0   \n27  0.0  0.0  0.0  0.0  0.0  0.0  1.0  0.0  0.0  1.0  1.0  1.0  0.0  1.0  0.0   \n28  0.0  0.0  0.0  0.0  0.0  0.0  0.0  0.0  1.0  1.0  1.0  0.0  1.0  0.0  1.0   \n29  0.0  0.0  0.0  0.0  0.0  1.0  0.0  0.0  1.0  1.0  0.0  0.0  0.0  1.0  0.0   \n30  0.0  0.0  0.0  0.0  0.0  0.0  0.0  0.0  0.0  0.0  0.0  0.0  0.0  0.0  0.0   \n31  0.0  0.0  0.0  0.0  1.0  0.0  0.0  1.0  0.0  0.0  0.0  0.0  0.0  0.0  0.0   \n32  0.0  0.0  0.0  0.0  1.0  0.0  0.0  0.0  0.0  0.0  0.0  1.0  1.0  0.0  0.0   \n33  0.0  0.0  0.0  0.0  0.0  1.0  0.0  0.0  0.0  0.0  0.0  0.0  0.0  0.0  0.0   \n34  0.0  0.0  0.0  0.0  1.0  0.0  0.0  0.0  0.0  0.0  0.0  0.0  1.0  0.0  0.0   \n35  0.0  0.0  0.0  0.0  0.0  0.0  0.0  0.0  0.0  0.0  0.0  0.0  0.0  0.0  0.0   \n36  0.0  0.0  0.0  0.0  0.0  0.0  0.0  0.0  0.0  0.0  0.0  0.0  1.0  1.0  1.0   \n37  0.0  0.0  0.0  0.0  0.0  0.0  0.0  0.0  0.0  0.0  0.0  0.0  1.0  1.0  0.0   \n38  0.0  0.0  0.0  0.0  0.0  0.0  0.0  0.0  0.0  0.0  0.0  0.0  0.0  0.0  0.0   \n39  0.0  0.0  0.0  0.0  1.0  0.0  0.0  0.0  0.0  0.0  0.0  0.0  0.0  0.0  0.0   \n40  0.0  0.0  0.0  0.0  0.0  0.0  0.0  0.0  0.0  0.0  0.0  0.0  0.0  0.0  0.0   \n41  0.0  0.0  0.0  0.0  0.0  0.0  0.0  0.0  0.0  0.0  0.0  0.0  0.0  0.0  0.0   \n42  0.0  0.0  0.0  0.0  0.0  0.0  0.0  0.0  0.0  0.0  0.0  0.0  0.0  0.0  0.0   \n43  0.0  0.0  0.0  0.0  0.0  0.0  0.0  0.0  0.0  0.0  0.0  0.0  0.0  0.0  0.0   \n44  0.0  0.0  0.0  0.0  0.0  0.0  0.0  0.0  0.0  0.0  0.0  0.0  0.0  0.0  0.0   \n45  0.0  0.0  0.0  0.0  0.0  0.0  0.0  0.0  0.0  0.0  0.0  0.0  0.0  0.0  0.0   \n46  0.0  0.0  0.0  0.0  0.0  0.0  0.0  0.0  0.0  0.0  0.0  0.0  0.0  0.0  0.0   \n47  0.0  0.0  0.0  0.0  0.0  0.0  0.0  0.0  0.0  0.0  0.0  0.0  0.0  0.0  0.0   \n48  0.0  0.0  0.0  0.0  0.0  0.0  0.0  0.0  0.0  0.0  0.0  0.0  0.0  0.0  0.0   \n\n     30   31   32   33   34   35   36   37   38   39   40   41   42   43   44  \\\n0   0.0  0.0  0.0  0.0  0.0  0.0  0.0  0.0  0.0  0.0  0.0  0.0  0.0  0.0  0.0   \n1   0.0  0.0  0.0  0.0  0.0  0.0  0.0  0.0  0.0  0.0  0.0  0.0  0.0  0.0  0.0   \n2   0.0  0.0  0.0  0.0  0.0  0.0  0.0  0.0  0.0  0.0  0.0  0.0  0.0  0.0  0.0   \n3   0.0  0.0  0.0  0.0  0.0  0.0  0.0  0.0  0.0  0.0  0.0  0.0  0.0  0.0  0.0   \n4   0.0  0.0  0.0  0.0  0.0  0.0  0.0  0.0  0.0  0.0  0.0  0.0  0.0  0.0  0.0   \n5   0.0  0.0  0.0  0.0  0.0  0.0  0.0  0.0  0.0  0.0  0.0  0.0  0.0  0.0  0.0   \n6   0.0  0.0  0.0  0.0  0.0  0.0  0.0  0.0  0.0  0.0  0.0  0.0  0.0  0.0  0.0   \n7   0.0  0.0  0.0  0.0  0.0  0.0  0.0  0.0  0.0  0.0  0.0  0.0  0.0  0.0  0.0   \n8   0.0  0.0  0.0  0.0  0.0  0.0  0.0  0.0  0.0  0.0  0.0  0.0  0.0  0.0  0.0   \n9   0.0  0.0  0.0  0.0  0.0  0.0  0.0  0.0  0.0  0.0  0.0  0.0  0.0  0.0  0.0   \n10  0.0  0.0  0.0  0.0  0.0  0.0  0.0  0.0  0.0  0.0  0.0  0.0  0.0  0.0  0.0   \n11  0.0  0.0  0.0  0.0  0.0  0.0  0.0  0.0  0.0  0.0  0.0  0.0  0.0  0.0  0.0   \n12  0.0  0.0  0.0  0.0  0.0  0.0  0.0  0.0  0.0  0.0  0.0  0.0  0.0  0.0  0.0   \n13  0.0  0.0  0.0  0.0  0.0  0.0  0.0  0.0  0.0  0.0  0.0  0.0  0.0  0.0  0.0   \n14  0.0  0.0  0.0  0.0  0.0  0.0  0.0  0.0  0.0  0.0  0.0  0.0  0.0  0.0  0.0   \n15  0.0  0.0  0.0  0.0  0.0  0.0  0.0  0.0  0.0  0.0  0.0  0.0  0.0  0.0  0.0   \n16  0.0  0.0  0.0  0.0  0.0  0.0  0.0  0.0  0.0  0.0  0.0  0.0  0.0  0.0  0.0   \n17  0.0  0.0  0.0  0.0  0.0  0.0  0.0  0.0  0.0  0.0  0.0  0.0  0.0  0.0  0.0   \n18  0.0  0.0  0.0  0.0  0.0  0.0  0.0  0.0  0.0  0.0  0.0  0.0  0.0  0.0  0.0   \n19  0.0  1.0  1.0  0.0  1.0  0.0  0.0  0.0  0.0  1.0  0.0  0.0  0.0  0.0  0.0   \n20  0.0  0.0  0.0  1.0  0.0  0.0  0.0  0.0  0.0  0.0  0.0  0.0  0.0  0.0  0.0   \n21  0.0  0.0  0.0  0.0  0.0  0.0  0.0  0.0  0.0  0.0  0.0  0.0  0.0  0.0  0.0   \n22  0.0  1.0  0.0  0.0  0.0  0.0  0.0  0.0  0.0  0.0  0.0  0.0  0.0  0.0  0.0   \n23  0.0  0.0  0.0  0.0  0.0  0.0  0.0  0.0  0.0  0.0  0.0  0.0  0.0  0.0  0.0   \n24  0.0  0.0  0.0  0.0  0.0  0.0  0.0  0.0  0.0  0.0  0.0  0.0  0.0  0.0  0.0   \n25  0.0  0.0  0.0  0.0  0.0  0.0  0.0  0.0  0.0  0.0  0.0  0.0  0.0  0.0  0.0   \n26  0.0  0.0  1.0  0.0  0.0  0.0  0.0  0.0  0.0  0.0  0.0  0.0  0.0  0.0  0.0   \n27  0.0  0.0  1.0  0.0  1.0  0.0  1.0  1.0  0.0  0.0  0.0  0.0  0.0  0.0  0.0   \n28  0.0  0.0  0.0  0.0  0.0  0.0  1.0  1.0  0.0  0.0  0.0  0.0  0.0  0.0  0.0   \n29  0.0  0.0  0.0  0.0  0.0  0.0  1.0  0.0  0.0  0.0  0.0  0.0  0.0  0.0  0.0   \n30  0.0  0.0  0.0  1.0  0.0  1.0  0.0  0.0  1.0  0.0  0.0  0.0  0.0  0.0  0.0   \n31  0.0  0.0  0.0  0.0  0.0  0.0  0.0  0.0  0.0  1.0  1.0  0.0  0.0  0.0  0.0   \n32  0.0  0.0  0.0  0.0  1.0  0.0  0.0  0.0  0.0  0.0  0.0  0.0  0.0  0.0  0.0   \n33  1.0  0.0  0.0  0.0  0.0  1.0  0.0  0.0  0.0  0.0  0.0  1.0  0.0  0.0  0.0   \n34  0.0  0.0  1.0  0.0  0.0  0.0  0.0  1.0  0.0  1.0  0.0  0.0  1.0  1.0  0.0   \n35  1.0  0.0  0.0  1.0  0.0  0.0  0.0  0.0  1.0  0.0  0.0  1.0  0.0  0.0  0.0   \n36  0.0  0.0  0.0  0.0  0.0  0.0  0.0  1.0  0.0  0.0  0.0  0.0  1.0  0.0  1.0   \n37  0.0  0.0  0.0  0.0  1.0  0.0  1.0  0.0  0.0  0.0  0.0  0.0  1.0  1.0  0.0   \n38  1.0  0.0  0.0  0.0  0.0  1.0  0.0  0.0  0.0  0.0  0.0  0.0  0.0  0.0  0.0   \n39  0.0  1.0  0.0  0.0  1.0  0.0  0.0  0.0  0.0  0.0  1.0  0.0  0.0  0.0  0.0   \n40  0.0  1.0  0.0  0.0  0.0  0.0  0.0  0.0  0.0  1.0  0.0  0.0  0.0  0.0  0.0   \n41  0.0  0.0  0.0  1.0  0.0  1.0  0.0  0.0  0.0  0.0  0.0  0.0  0.0  0.0  0.0   \n42  0.0  0.0  0.0  0.0  1.0  0.0  1.0  1.0  0.0  0.0  0.0  0.0  0.0  1.0  1.0   \n43  0.0  0.0  0.0  0.0  1.0  0.0  0.0  1.0  0.0  0.0  0.0  0.0  1.0  0.0  0.0   \n44  0.0  0.0  0.0  0.0  0.0  0.0  1.0  0.0  0.0  0.0  0.0  0.0  1.0  0.0  0.0   \n45  0.0  0.0  0.0  0.0  0.0  1.0  0.0  0.0  1.0  0.0  0.0  0.0  0.0  0.0  0.0   \n46  0.0  0.0  0.0  0.0  0.0  0.0  0.0  0.0  0.0  1.0  1.0  0.0  0.0  0.0  0.0   \n47  0.0  0.0  0.0  0.0  0.0  0.0  0.0  0.0  0.0  0.0  0.0  0.0  1.0  1.0  1.0   \n48  0.0  0.0  0.0  0.0  0.0  0.0  0.0  0.0  0.0  0.0  0.0  0.0  0.0  1.0  1.0   \n\n     45   46   47   48  \n0   0.0  0.0  0.0  0.0  \n1   0.0  0.0  0.0  0.0  \n2   0.0  0.0  0.0  0.0  \n3   0.0  0.0  0.0  0.0  \n4   0.0  0.0  0.0  0.0  \n5   0.0  0.0  0.0  0.0  \n6   0.0  0.0  0.0  0.0  \n7   0.0  0.0  0.0  0.0  \n8   0.0  0.0  0.0  0.0  \n9   0.0  0.0  0.0  0.0  \n10  0.0  0.0  0.0  0.0  \n11  0.0  0.0  0.0  0.0  \n12  0.0  0.0  0.0  0.0  \n13  0.0  0.0  0.0  0.0  \n14  0.0  0.0  0.0  0.0  \n15  0.0  0.0  0.0  0.0  \n16  0.0  0.0  0.0  0.0  \n17  0.0  0.0  0.0  0.0  \n18  0.0  0.0  0.0  0.0  \n19  0.0  0.0  0.0  0.0  \n20  0.0  0.0  0.0  0.0  \n21  0.0  0.0  0.0  0.0  \n22  0.0  0.0  0.0  0.0  \n23  0.0  0.0  0.0  0.0  \n24  0.0  0.0  0.0  0.0  \n25  0.0  0.0  0.0  0.0  \n26  0.0  0.0  0.0  0.0  \n27  0.0  0.0  0.0  0.0  \n28  0.0  0.0  0.0  0.0  \n29  0.0  0.0  0.0  0.0  \n30  0.0  0.0  0.0  0.0  \n31  0.0  0.0  0.0  0.0  \n32  0.0  0.0  0.0  0.0  \n33  0.0  0.0  0.0  0.0  \n34  0.0  0.0  0.0  0.0  \n35  1.0  0.0  0.0  0.0  \n36  0.0  0.0  0.0  0.0  \n37  0.0  0.0  0.0  0.0  \n38  1.0  0.0  0.0  0.0  \n39  0.0  1.0  0.0  0.0  \n40  0.0  1.0  0.0  0.0  \n41  0.0  0.0  0.0  0.0  \n42  0.0  0.0  1.0  0.0  \n43  0.0  0.0  1.0  1.0  \n44  0.0  0.0  1.0  1.0  \n45  0.0  0.0  0.0  0.0  \n46  0.0  0.0  0.0  0.0  \n47  0.0  0.0  0.0  1.0  \n48  0.0  0.0  1.0  0.0  ",
      "text/html": "<div>\n<style scoped>\n    .dataframe tbody tr th:only-of-type {\n        vertical-align: middle;\n    }\n\n    .dataframe tbody tr th {\n        vertical-align: top;\n    }\n\n    .dataframe thead th {\n        text-align: right;\n    }\n</style>\n<table border=\"1\" class=\"dataframe\">\n  <thead>\n    <tr style=\"text-align: right;\">\n      <th></th>\n      <th>0</th>\n      <th>1</th>\n      <th>2</th>\n      <th>3</th>\n      <th>4</th>\n      <th>5</th>\n      <th>6</th>\n      <th>7</th>\n      <th>8</th>\n      <th>9</th>\n      <th>10</th>\n      <th>11</th>\n      <th>12</th>\n      <th>13</th>\n      <th>14</th>\n      <th>15</th>\n      <th>16</th>\n      <th>17</th>\n      <th>18</th>\n      <th>19</th>\n      <th>20</th>\n      <th>21</th>\n      <th>22</th>\n      <th>23</th>\n      <th>24</th>\n      <th>25</th>\n      <th>26</th>\n      <th>27</th>\n      <th>28</th>\n      <th>29</th>\n      <th>30</th>\n      <th>31</th>\n      <th>32</th>\n      <th>33</th>\n      <th>34</th>\n      <th>35</th>\n      <th>36</th>\n      <th>37</th>\n      <th>38</th>\n      <th>39</th>\n      <th>40</th>\n      <th>41</th>\n      <th>42</th>\n      <th>43</th>\n      <th>44</th>\n      <th>45</th>\n      <th>46</th>\n      <th>47</th>\n      <th>48</th>\n    </tr>\n  </thead>\n  <tbody>\n    <tr>\n      <th>0</th>\n      <td>0.0</td>\n      <td>1.0</td>\n      <td>1.0</td>\n      <td>0.0</td>\n      <td>0.0</td>\n      <td>0.0</td>\n      <td>0.0</td>\n      <td>0.0</td>\n      <td>0.0</td>\n      <td>0.0</td>\n      <td>0.0</td>\n      <td>0.0</td>\n      <td>0.0</td>\n      <td>0.0</td>\n      <td>0.0</td>\n      <td>0.0</td>\n      <td>0.0</td>\n      <td>0.0</td>\n      <td>0.0</td>\n      <td>0.0</td>\n      <td>0.0</td>\n      <td>0.0</td>\n      <td>0.0</td>\n      <td>0.0</td>\n      <td>0.0</td>\n      <td>0.0</td>\n      <td>0.0</td>\n      <td>0.0</td>\n      <td>0.0</td>\n      <td>0.0</td>\n      <td>0.0</td>\n      <td>0.0</td>\n      <td>0.0</td>\n      <td>0.0</td>\n      <td>0.0</td>\n      <td>0.0</td>\n      <td>0.0</td>\n      <td>0.0</td>\n      <td>0.0</td>\n      <td>0.0</td>\n      <td>0.0</td>\n      <td>0.0</td>\n      <td>0.0</td>\n      <td>0.0</td>\n      <td>0.0</td>\n      <td>0.0</td>\n      <td>0.0</td>\n      <td>0.0</td>\n      <td>0.0</td>\n    </tr>\n    <tr>\n      <th>1</th>\n      <td>1.0</td>\n      <td>0.0</td>\n      <td>1.0</td>\n      <td>1.0</td>\n      <td>0.0</td>\n      <td>0.0</td>\n      <td>0.0</td>\n      <td>0.0</td>\n      <td>0.0</td>\n      <td>0.0</td>\n      <td>0.0</td>\n      <td>0.0</td>\n      <td>0.0</td>\n      <td>0.0</td>\n      <td>0.0</td>\n      <td>0.0</td>\n      <td>0.0</td>\n      <td>0.0</td>\n      <td>0.0</td>\n      <td>0.0</td>\n      <td>0.0</td>\n      <td>0.0</td>\n      <td>0.0</td>\n      <td>0.0</td>\n      <td>0.0</td>\n      <td>0.0</td>\n      <td>0.0</td>\n      <td>0.0</td>\n      <td>0.0</td>\n      <td>0.0</td>\n      <td>0.0</td>\n      <td>0.0</td>\n      <td>0.0</td>\n      <td>0.0</td>\n      <td>0.0</td>\n      <td>0.0</td>\n      <td>0.0</td>\n      <td>0.0</td>\n      <td>0.0</td>\n      <td>0.0</td>\n      <td>0.0</td>\n      <td>0.0</td>\n      <td>0.0</td>\n      <td>0.0</td>\n      <td>0.0</td>\n      <td>0.0</td>\n      <td>0.0</td>\n      <td>0.0</td>\n      <td>0.0</td>\n    </tr>\n    <tr>\n      <th>2</th>\n      <td>1.0</td>\n      <td>1.0</td>\n      <td>0.0</td>\n      <td>1.0</td>\n      <td>1.0</td>\n      <td>0.0</td>\n      <td>0.0</td>\n      <td>0.0</td>\n      <td>0.0</td>\n      <td>0.0</td>\n      <td>0.0</td>\n      <td>0.0</td>\n      <td>0.0</td>\n      <td>0.0</td>\n      <td>0.0</td>\n      <td>0.0</td>\n      <td>0.0</td>\n      <td>0.0</td>\n      <td>0.0</td>\n      <td>0.0</td>\n      <td>0.0</td>\n      <td>0.0</td>\n      <td>0.0</td>\n      <td>0.0</td>\n      <td>0.0</td>\n      <td>0.0</td>\n      <td>0.0</td>\n      <td>0.0</td>\n      <td>0.0</td>\n      <td>0.0</td>\n      <td>0.0</td>\n      <td>0.0</td>\n      <td>0.0</td>\n      <td>0.0</td>\n      <td>0.0</td>\n      <td>0.0</td>\n      <td>0.0</td>\n      <td>0.0</td>\n      <td>0.0</td>\n      <td>0.0</td>\n      <td>0.0</td>\n      <td>0.0</td>\n      <td>0.0</td>\n      <td>0.0</td>\n      <td>0.0</td>\n      <td>0.0</td>\n      <td>0.0</td>\n      <td>0.0</td>\n      <td>0.0</td>\n    </tr>\n    <tr>\n      <th>3</th>\n      <td>0.0</td>\n      <td>1.0</td>\n      <td>1.0</td>\n      <td>0.0</td>\n      <td>1.0</td>\n      <td>0.0</td>\n      <td>0.0</td>\n      <td>1.0</td>\n      <td>0.0</td>\n      <td>0.0</td>\n      <td>0.0</td>\n      <td>0.0</td>\n      <td>0.0</td>\n      <td>0.0</td>\n      <td>0.0</td>\n      <td>0.0</td>\n      <td>0.0</td>\n      <td>0.0</td>\n      <td>0.0</td>\n      <td>0.0</td>\n      <td>0.0</td>\n      <td>0.0</td>\n      <td>0.0</td>\n      <td>0.0</td>\n      <td>0.0</td>\n      <td>0.0</td>\n      <td>0.0</td>\n      <td>0.0</td>\n      <td>0.0</td>\n      <td>0.0</td>\n      <td>0.0</td>\n      <td>0.0</td>\n      <td>0.0</td>\n      <td>0.0</td>\n      <td>0.0</td>\n      <td>0.0</td>\n      <td>0.0</td>\n      <td>0.0</td>\n      <td>0.0</td>\n      <td>0.0</td>\n      <td>0.0</td>\n      <td>0.0</td>\n      <td>0.0</td>\n      <td>0.0</td>\n      <td>0.0</td>\n      <td>0.0</td>\n      <td>0.0</td>\n      <td>0.0</td>\n      <td>0.0</td>\n    </tr>\n    <tr>\n      <th>4</th>\n      <td>0.0</td>\n      <td>0.0</td>\n      <td>1.0</td>\n      <td>1.0</td>\n      <td>0.0</td>\n      <td>1.0</td>\n      <td>0.0</td>\n      <td>1.0</td>\n      <td>1.0</td>\n      <td>0.0</td>\n      <td>1.0</td>\n      <td>0.0</td>\n      <td>0.0</td>\n      <td>0.0</td>\n      <td>1.0</td>\n      <td>1.0</td>\n      <td>0.0</td>\n      <td>0.0</td>\n      <td>0.0</td>\n      <td>0.0</td>\n      <td>0.0</td>\n      <td>0.0</td>\n      <td>0.0</td>\n      <td>0.0</td>\n      <td>0.0</td>\n      <td>0.0</td>\n      <td>0.0</td>\n      <td>0.0</td>\n      <td>0.0</td>\n      <td>0.0</td>\n      <td>0.0</td>\n      <td>0.0</td>\n      <td>0.0</td>\n      <td>0.0</td>\n      <td>0.0</td>\n      <td>0.0</td>\n      <td>0.0</td>\n      <td>0.0</td>\n      <td>0.0</td>\n      <td>0.0</td>\n      <td>0.0</td>\n      <td>0.0</td>\n      <td>0.0</td>\n      <td>0.0</td>\n      <td>0.0</td>\n      <td>0.0</td>\n      <td>0.0</td>\n      <td>0.0</td>\n      <td>0.0</td>\n    </tr>\n    <tr>\n      <th>5</th>\n      <td>0.0</td>\n      <td>0.0</td>\n      <td>0.0</td>\n      <td>0.0</td>\n      <td>1.0</td>\n      <td>0.0</td>\n      <td>0.0</td>\n      <td>0.0</td>\n      <td>1.0</td>\n      <td>0.0</td>\n      <td>0.0</td>\n      <td>0.0</td>\n      <td>0.0</td>\n      <td>0.0</td>\n      <td>0.0</td>\n      <td>0.0</td>\n      <td>0.0</td>\n      <td>0.0</td>\n      <td>0.0</td>\n      <td>0.0</td>\n      <td>0.0</td>\n      <td>0.0</td>\n      <td>0.0</td>\n      <td>0.0</td>\n      <td>0.0</td>\n      <td>0.0</td>\n      <td>0.0</td>\n      <td>0.0</td>\n      <td>0.0</td>\n      <td>0.0</td>\n      <td>0.0</td>\n      <td>0.0</td>\n      <td>0.0</td>\n      <td>0.0</td>\n      <td>0.0</td>\n      <td>0.0</td>\n      <td>0.0</td>\n      <td>0.0</td>\n      <td>0.0</td>\n      <td>0.0</td>\n      <td>0.0</td>\n      <td>0.0</td>\n      <td>0.0</td>\n      <td>0.0</td>\n      <td>0.0</td>\n      <td>0.0</td>\n      <td>0.0</td>\n      <td>0.0</td>\n      <td>0.0</td>\n    </tr>\n    <tr>\n      <th>6</th>\n      <td>0.0</td>\n      <td>0.0</td>\n      <td>0.0</td>\n      <td>0.0</td>\n      <td>0.0</td>\n      <td>0.0</td>\n      <td>0.0</td>\n      <td>1.0</td>\n      <td>0.0</td>\n      <td>0.0</td>\n      <td>0.0</td>\n      <td>1.0</td>\n      <td>1.0</td>\n      <td>1.0</td>\n      <td>0.0</td>\n      <td>0.0</td>\n      <td>0.0</td>\n      <td>0.0</td>\n      <td>0.0</td>\n      <td>0.0</td>\n      <td>0.0</td>\n      <td>0.0</td>\n      <td>0.0</td>\n      <td>0.0</td>\n      <td>0.0</td>\n      <td>0.0</td>\n      <td>0.0</td>\n      <td>0.0</td>\n      <td>0.0</td>\n      <td>0.0</td>\n      <td>0.0</td>\n      <td>0.0</td>\n      <td>0.0</td>\n      <td>0.0</td>\n      <td>0.0</td>\n      <td>0.0</td>\n      <td>0.0</td>\n      <td>0.0</td>\n      <td>0.0</td>\n      <td>0.0</td>\n      <td>0.0</td>\n      <td>0.0</td>\n      <td>0.0</td>\n      <td>0.0</td>\n      <td>0.0</td>\n      <td>0.0</td>\n      <td>0.0</td>\n      <td>0.0</td>\n      <td>0.0</td>\n    </tr>\n    <tr>\n      <th>7</th>\n      <td>0.0</td>\n      <td>0.0</td>\n      <td>0.0</td>\n      <td>1.0</td>\n      <td>1.0</td>\n      <td>0.0</td>\n      <td>1.0</td>\n      <td>0.0</td>\n      <td>0.0</td>\n      <td>0.0</td>\n      <td>1.0</td>\n      <td>1.0</td>\n      <td>1.0</td>\n      <td>0.0</td>\n      <td>0.0</td>\n      <td>0.0</td>\n      <td>0.0</td>\n      <td>0.0</td>\n      <td>0.0</td>\n      <td>0.0</td>\n      <td>0.0</td>\n      <td>0.0</td>\n      <td>0.0</td>\n      <td>0.0</td>\n      <td>0.0</td>\n      <td>0.0</td>\n      <td>0.0</td>\n      <td>0.0</td>\n      <td>0.0</td>\n      <td>0.0</td>\n      <td>0.0</td>\n      <td>0.0</td>\n      <td>0.0</td>\n      <td>0.0</td>\n      <td>0.0</td>\n      <td>0.0</td>\n      <td>0.0</td>\n      <td>0.0</td>\n      <td>0.0</td>\n      <td>0.0</td>\n      <td>0.0</td>\n      <td>0.0</td>\n      <td>0.0</td>\n      <td>0.0</td>\n      <td>0.0</td>\n      <td>0.0</td>\n      <td>0.0</td>\n      <td>0.0</td>\n      <td>0.0</td>\n    </tr>\n    <tr>\n      <th>8</th>\n      <td>0.0</td>\n      <td>0.0</td>\n      <td>0.0</td>\n      <td>0.0</td>\n      <td>1.0</td>\n      <td>1.0</td>\n      <td>0.0</td>\n      <td>0.0</td>\n      <td>0.0</td>\n      <td>1.0</td>\n      <td>0.0</td>\n      <td>0.0</td>\n      <td>0.0</td>\n      <td>0.0</td>\n      <td>1.0</td>\n      <td>0.0</td>\n      <td>0.0</td>\n      <td>0.0</td>\n      <td>0.0</td>\n      <td>1.0</td>\n      <td>0.0</td>\n      <td>1.0</td>\n      <td>0.0</td>\n      <td>0.0</td>\n      <td>1.0</td>\n      <td>1.0</td>\n      <td>0.0</td>\n      <td>0.0</td>\n      <td>0.0</td>\n      <td>0.0</td>\n      <td>0.0</td>\n      <td>0.0</td>\n      <td>0.0</td>\n      <td>0.0</td>\n      <td>0.0</td>\n      <td>0.0</td>\n      <td>0.0</td>\n      <td>0.0</td>\n      <td>0.0</td>\n      <td>0.0</td>\n      <td>0.0</td>\n      <td>0.0</td>\n      <td>0.0</td>\n      <td>0.0</td>\n      <td>0.0</td>\n      <td>0.0</td>\n      <td>0.0</td>\n      <td>0.0</td>\n      <td>0.0</td>\n    </tr>\n    <tr>\n      <th>9</th>\n      <td>0.0</td>\n      <td>0.0</td>\n      <td>0.0</td>\n      <td>0.0</td>\n      <td>0.0</td>\n      <td>0.0</td>\n      <td>0.0</td>\n      <td>0.0</td>\n      <td>1.0</td>\n      <td>0.0</td>\n      <td>0.0</td>\n      <td>0.0</td>\n      <td>0.0</td>\n      <td>0.0</td>\n      <td>0.0</td>\n      <td>0.0</td>\n      <td>1.0</td>\n      <td>0.0</td>\n      <td>0.0</td>\n      <td>1.0</td>\n      <td>0.0</td>\n      <td>1.0</td>\n      <td>0.0</td>\n      <td>0.0</td>\n      <td>0.0</td>\n      <td>0.0</td>\n      <td>0.0</td>\n      <td>0.0</td>\n      <td>0.0</td>\n      <td>0.0</td>\n      <td>0.0</td>\n      <td>0.0</td>\n      <td>0.0</td>\n      <td>0.0</td>\n      <td>0.0</td>\n      <td>0.0</td>\n      <td>0.0</td>\n      <td>0.0</td>\n      <td>0.0</td>\n      <td>0.0</td>\n      <td>0.0</td>\n      <td>0.0</td>\n      <td>0.0</td>\n      <td>0.0</td>\n      <td>0.0</td>\n      <td>0.0</td>\n      <td>0.0</td>\n      <td>0.0</td>\n      <td>0.0</td>\n    </tr>\n    <tr>\n      <th>10</th>\n      <td>0.0</td>\n      <td>0.0</td>\n      <td>0.0</td>\n      <td>0.0</td>\n      <td>1.0</td>\n      <td>0.0</td>\n      <td>0.0</td>\n      <td>1.0</td>\n      <td>0.0</td>\n      <td>0.0</td>\n      <td>0.0</td>\n      <td>1.0</td>\n      <td>0.0</td>\n      <td>0.0</td>\n      <td>1.0</td>\n      <td>1.0</td>\n      <td>0.0</td>\n      <td>0.0</td>\n      <td>0.0</td>\n      <td>0.0</td>\n      <td>0.0</td>\n      <td>0.0</td>\n      <td>0.0</td>\n      <td>0.0</td>\n      <td>0.0</td>\n      <td>0.0</td>\n      <td>0.0</td>\n      <td>0.0</td>\n      <td>0.0</td>\n      <td>0.0</td>\n      <td>0.0</td>\n      <td>0.0</td>\n      <td>0.0</td>\n      <td>0.0</td>\n      <td>0.0</td>\n      <td>0.0</td>\n      <td>0.0</td>\n      <td>0.0</td>\n      <td>0.0</td>\n      <td>0.0</td>\n      <td>0.0</td>\n      <td>0.0</td>\n      <td>0.0</td>\n      <td>0.0</td>\n      <td>0.0</td>\n      <td>0.0</td>\n      <td>0.0</td>\n      <td>0.0</td>\n      <td>0.0</td>\n    </tr>\n    <tr>\n      <th>11</th>\n      <td>0.0</td>\n      <td>0.0</td>\n      <td>0.0</td>\n      <td>0.0</td>\n      <td>0.0</td>\n      <td>0.0</td>\n      <td>1.0</td>\n      <td>1.0</td>\n      <td>0.0</td>\n      <td>0.0</td>\n      <td>1.0</td>\n      <td>0.0</td>\n      <td>1.0</td>\n      <td>1.0</td>\n      <td>0.0</td>\n      <td>1.0</td>\n      <td>0.0</td>\n      <td>0.0</td>\n      <td>0.0</td>\n      <td>0.0</td>\n      <td>0.0</td>\n      <td>0.0</td>\n      <td>0.0</td>\n      <td>0.0</td>\n      <td>0.0</td>\n      <td>0.0</td>\n      <td>0.0</td>\n      <td>0.0</td>\n      <td>0.0</td>\n      <td>0.0</td>\n      <td>0.0</td>\n      <td>0.0</td>\n      <td>0.0</td>\n      <td>0.0</td>\n      <td>0.0</td>\n      <td>0.0</td>\n      <td>0.0</td>\n      <td>0.0</td>\n      <td>0.0</td>\n      <td>0.0</td>\n      <td>0.0</td>\n      <td>0.0</td>\n      <td>0.0</td>\n      <td>0.0</td>\n      <td>0.0</td>\n      <td>0.0</td>\n      <td>0.0</td>\n      <td>0.0</td>\n      <td>0.0</td>\n    </tr>\n    <tr>\n      <th>12</th>\n      <td>0.0</td>\n      <td>0.0</td>\n      <td>0.0</td>\n      <td>0.0</td>\n      <td>0.0</td>\n      <td>0.0</td>\n      <td>1.0</td>\n      <td>1.0</td>\n      <td>0.0</td>\n      <td>0.0</td>\n      <td>0.0</td>\n      <td>1.0</td>\n      <td>0.0</td>\n      <td>1.0</td>\n      <td>0.0</td>\n      <td>0.0</td>\n      <td>0.0</td>\n      <td>0.0</td>\n      <td>0.0</td>\n      <td>0.0</td>\n      <td>0.0</td>\n      <td>0.0</td>\n      <td>0.0</td>\n      <td>0.0</td>\n      <td>0.0</td>\n      <td>0.0</td>\n      <td>0.0</td>\n      <td>0.0</td>\n      <td>0.0</td>\n      <td>0.0</td>\n      <td>0.0</td>\n      <td>0.0</td>\n      <td>0.0</td>\n      <td>0.0</td>\n      <td>0.0</td>\n      <td>0.0</td>\n      <td>0.0</td>\n      <td>0.0</td>\n      <td>0.0</td>\n      <td>0.0</td>\n      <td>0.0</td>\n      <td>0.0</td>\n      <td>0.0</td>\n      <td>0.0</td>\n      <td>0.0</td>\n      <td>0.0</td>\n      <td>0.0</td>\n      <td>0.0</td>\n      <td>0.0</td>\n    </tr>\n    <tr>\n      <th>13</th>\n      <td>0.0</td>\n      <td>0.0</td>\n      <td>0.0</td>\n      <td>0.0</td>\n      <td>0.0</td>\n      <td>0.0</td>\n      <td>1.0</td>\n      <td>0.0</td>\n      <td>0.0</td>\n      <td>0.0</td>\n      <td>0.0</td>\n      <td>1.0</td>\n      <td>1.0</td>\n      <td>0.0</td>\n      <td>0.0</td>\n      <td>1.0</td>\n      <td>0.0</td>\n      <td>1.0</td>\n      <td>1.0</td>\n      <td>0.0</td>\n      <td>0.0</td>\n      <td>0.0</td>\n      <td>0.0</td>\n      <td>0.0</td>\n      <td>0.0</td>\n      <td>0.0</td>\n      <td>0.0</td>\n      <td>0.0</td>\n      <td>0.0</td>\n      <td>0.0</td>\n      <td>0.0</td>\n      <td>0.0</td>\n      <td>0.0</td>\n      <td>0.0</td>\n      <td>0.0</td>\n      <td>0.0</td>\n      <td>0.0</td>\n      <td>0.0</td>\n      <td>0.0</td>\n      <td>0.0</td>\n      <td>0.0</td>\n      <td>0.0</td>\n      <td>0.0</td>\n      <td>0.0</td>\n      <td>0.0</td>\n      <td>0.0</td>\n      <td>0.0</td>\n      <td>0.0</td>\n      <td>0.0</td>\n    </tr>\n    <tr>\n      <th>14</th>\n      <td>0.0</td>\n      <td>0.0</td>\n      <td>0.0</td>\n      <td>0.0</td>\n      <td>1.0</td>\n      <td>0.0</td>\n      <td>0.0</td>\n      <td>0.0</td>\n      <td>1.0</td>\n      <td>0.0</td>\n      <td>1.0</td>\n      <td>0.0</td>\n      <td>0.0</td>\n      <td>0.0</td>\n      <td>0.0</td>\n      <td>1.0</td>\n      <td>0.0</td>\n      <td>0.0</td>\n      <td>0.0</td>\n      <td>0.0</td>\n      <td>0.0</td>\n      <td>0.0</td>\n      <td>0.0</td>\n      <td>0.0</td>\n      <td>1.0</td>\n      <td>1.0</td>\n      <td>0.0</td>\n      <td>0.0</td>\n      <td>0.0</td>\n      <td>0.0</td>\n      <td>0.0</td>\n      <td>0.0</td>\n      <td>0.0</td>\n      <td>0.0</td>\n      <td>0.0</td>\n      <td>0.0</td>\n      <td>0.0</td>\n      <td>0.0</td>\n      <td>0.0</td>\n      <td>0.0</td>\n      <td>0.0</td>\n      <td>0.0</td>\n      <td>0.0</td>\n      <td>0.0</td>\n      <td>0.0</td>\n      <td>0.0</td>\n      <td>0.0</td>\n      <td>0.0</td>\n      <td>0.0</td>\n    </tr>\n    <tr>\n      <th>15</th>\n      <td>0.0</td>\n      <td>0.0</td>\n      <td>0.0</td>\n      <td>0.0</td>\n      <td>1.0</td>\n      <td>0.0</td>\n      <td>0.0</td>\n      <td>0.0</td>\n      <td>0.0</td>\n      <td>0.0</td>\n      <td>1.0</td>\n      <td>1.0</td>\n      <td>0.0</td>\n      <td>1.0</td>\n      <td>1.0</td>\n      <td>0.0</td>\n      <td>0.0</td>\n      <td>1.0</td>\n      <td>0.0</td>\n      <td>0.0</td>\n      <td>0.0</td>\n      <td>0.0</td>\n      <td>0.0</td>\n      <td>1.0</td>\n      <td>1.0</td>\n      <td>0.0</td>\n      <td>0.0</td>\n      <td>0.0</td>\n      <td>0.0</td>\n      <td>0.0</td>\n      <td>0.0</td>\n      <td>0.0</td>\n      <td>0.0</td>\n      <td>0.0</td>\n      <td>0.0</td>\n      <td>0.0</td>\n      <td>0.0</td>\n      <td>0.0</td>\n      <td>0.0</td>\n      <td>0.0</td>\n      <td>0.0</td>\n      <td>0.0</td>\n      <td>0.0</td>\n      <td>0.0</td>\n      <td>0.0</td>\n      <td>0.0</td>\n      <td>0.0</td>\n      <td>0.0</td>\n      <td>0.0</td>\n    </tr>\n    <tr>\n      <th>16</th>\n      <td>0.0</td>\n      <td>0.0</td>\n      <td>0.0</td>\n      <td>0.0</td>\n      <td>0.0</td>\n      <td>0.0</td>\n      <td>0.0</td>\n      <td>0.0</td>\n      <td>0.0</td>\n      <td>1.0</td>\n      <td>0.0</td>\n      <td>0.0</td>\n      <td>0.0</td>\n      <td>0.0</td>\n      <td>0.0</td>\n      <td>0.0</td>\n      <td>0.0</td>\n      <td>0.0</td>\n      <td>0.0</td>\n      <td>1.0</td>\n      <td>0.0</td>\n      <td>0.0</td>\n      <td>1.0</td>\n      <td>0.0</td>\n      <td>0.0</td>\n      <td>0.0</td>\n      <td>0.0</td>\n      <td>0.0</td>\n      <td>0.0</td>\n      <td>0.0</td>\n      <td>0.0</td>\n      <td>0.0</td>\n      <td>0.0</td>\n      <td>0.0</td>\n      <td>0.0</td>\n      <td>0.0</td>\n      <td>0.0</td>\n      <td>0.0</td>\n      <td>0.0</td>\n      <td>0.0</td>\n      <td>0.0</td>\n      <td>0.0</td>\n      <td>0.0</td>\n      <td>0.0</td>\n      <td>0.0</td>\n      <td>0.0</td>\n      <td>0.0</td>\n      <td>0.0</td>\n      <td>0.0</td>\n    </tr>\n    <tr>\n      <th>17</th>\n      <td>0.0</td>\n      <td>0.0</td>\n      <td>0.0</td>\n      <td>0.0</td>\n      <td>0.0</td>\n      <td>0.0</td>\n      <td>0.0</td>\n      <td>0.0</td>\n      <td>0.0</td>\n      <td>0.0</td>\n      <td>0.0</td>\n      <td>0.0</td>\n      <td>0.0</td>\n      <td>1.0</td>\n      <td>0.0</td>\n      <td>1.0</td>\n      <td>0.0</td>\n      <td>0.0</td>\n      <td>1.0</td>\n      <td>0.0</td>\n      <td>0.0</td>\n      <td>0.0</td>\n      <td>0.0</td>\n      <td>1.0</td>\n      <td>0.0</td>\n      <td>0.0</td>\n      <td>0.0</td>\n      <td>0.0</td>\n      <td>0.0</td>\n      <td>0.0</td>\n      <td>0.0</td>\n      <td>0.0</td>\n      <td>0.0</td>\n      <td>0.0</td>\n      <td>0.0</td>\n      <td>0.0</td>\n      <td>0.0</td>\n      <td>0.0</td>\n      <td>0.0</td>\n      <td>0.0</td>\n      <td>0.0</td>\n      <td>0.0</td>\n      <td>0.0</td>\n      <td>0.0</td>\n      <td>0.0</td>\n      <td>0.0</td>\n      <td>0.0</td>\n      <td>0.0</td>\n      <td>0.0</td>\n    </tr>\n    <tr>\n      <th>18</th>\n      <td>0.0</td>\n      <td>0.0</td>\n      <td>0.0</td>\n      <td>0.0</td>\n      <td>0.0</td>\n      <td>0.0</td>\n      <td>0.0</td>\n      <td>0.0</td>\n      <td>0.0</td>\n      <td>0.0</td>\n      <td>0.0</td>\n      <td>0.0</td>\n      <td>0.0</td>\n      <td>1.0</td>\n      <td>0.0</td>\n      <td>0.0</td>\n      <td>0.0</td>\n      <td>1.0</td>\n      <td>0.0</td>\n      <td>0.0</td>\n      <td>0.0</td>\n      <td>0.0</td>\n      <td>0.0</td>\n      <td>1.0</td>\n      <td>0.0</td>\n      <td>0.0</td>\n      <td>0.0</td>\n      <td>0.0</td>\n      <td>0.0</td>\n      <td>0.0</td>\n      <td>0.0</td>\n      <td>0.0</td>\n      <td>0.0</td>\n      <td>0.0</td>\n      <td>0.0</td>\n      <td>0.0</td>\n      <td>0.0</td>\n      <td>0.0</td>\n      <td>0.0</td>\n      <td>0.0</td>\n      <td>0.0</td>\n      <td>0.0</td>\n      <td>0.0</td>\n      <td>0.0</td>\n      <td>0.0</td>\n      <td>0.0</td>\n      <td>0.0</td>\n      <td>0.0</td>\n      <td>0.0</td>\n    </tr>\n    <tr>\n      <th>19</th>\n      <td>0.0</td>\n      <td>0.0</td>\n      <td>0.0</td>\n      <td>0.0</td>\n      <td>0.0</td>\n      <td>0.0</td>\n      <td>0.0</td>\n      <td>0.0</td>\n      <td>1.0</td>\n      <td>1.0</td>\n      <td>0.0</td>\n      <td>0.0</td>\n      <td>0.0</td>\n      <td>0.0</td>\n      <td>0.0</td>\n      <td>0.0</td>\n      <td>1.0</td>\n      <td>0.0</td>\n      <td>0.0</td>\n      <td>0.0</td>\n      <td>0.0</td>\n      <td>1.0</td>\n      <td>1.0</td>\n      <td>0.0</td>\n      <td>0.0</td>\n      <td>0.0</td>\n      <td>1.0</td>\n      <td>0.0</td>\n      <td>0.0</td>\n      <td>0.0</td>\n      <td>0.0</td>\n      <td>1.0</td>\n      <td>1.0</td>\n      <td>0.0</td>\n      <td>1.0</td>\n      <td>0.0</td>\n      <td>0.0</td>\n      <td>0.0</td>\n      <td>0.0</td>\n      <td>1.0</td>\n      <td>0.0</td>\n      <td>0.0</td>\n      <td>0.0</td>\n      <td>0.0</td>\n      <td>0.0</td>\n      <td>0.0</td>\n      <td>0.0</td>\n      <td>0.0</td>\n      <td>0.0</td>\n    </tr>\n    <tr>\n      <th>20</th>\n      <td>0.0</td>\n      <td>0.0</td>\n      <td>0.0</td>\n      <td>0.0</td>\n      <td>0.0</td>\n      <td>0.0</td>\n      <td>0.0</td>\n      <td>0.0</td>\n      <td>0.0</td>\n      <td>0.0</td>\n      <td>0.0</td>\n      <td>0.0</td>\n      <td>0.0</td>\n      <td>0.0</td>\n      <td>0.0</td>\n      <td>0.0</td>\n      <td>0.0</td>\n      <td>0.0</td>\n      <td>0.0</td>\n      <td>0.0</td>\n      <td>0.0</td>\n      <td>0.0</td>\n      <td>0.0</td>\n      <td>1.0</td>\n      <td>0.0</td>\n      <td>0.0</td>\n      <td>0.0</td>\n      <td>0.0</td>\n      <td>0.0</td>\n      <td>1.0</td>\n      <td>0.0</td>\n      <td>0.0</td>\n      <td>0.0</td>\n      <td>1.0</td>\n      <td>0.0</td>\n      <td>0.0</td>\n      <td>0.0</td>\n      <td>0.0</td>\n      <td>0.0</td>\n      <td>0.0</td>\n      <td>0.0</td>\n      <td>0.0</td>\n      <td>0.0</td>\n      <td>0.0</td>\n      <td>0.0</td>\n      <td>0.0</td>\n      <td>0.0</td>\n      <td>0.0</td>\n      <td>0.0</td>\n    </tr>\n    <tr>\n      <th>21</th>\n      <td>0.0</td>\n      <td>0.0</td>\n      <td>0.0</td>\n      <td>0.0</td>\n      <td>0.0</td>\n      <td>0.0</td>\n      <td>0.0</td>\n      <td>0.0</td>\n      <td>1.0</td>\n      <td>1.0</td>\n      <td>0.0</td>\n      <td>0.0</td>\n      <td>0.0</td>\n      <td>0.0</td>\n      <td>0.0</td>\n      <td>0.0</td>\n      <td>0.0</td>\n      <td>0.0</td>\n      <td>0.0</td>\n      <td>1.0</td>\n      <td>0.0</td>\n      <td>0.0</td>\n      <td>0.0</td>\n      <td>0.0</td>\n      <td>0.0</td>\n      <td>1.0</td>\n      <td>1.0</td>\n      <td>1.0</td>\n      <td>0.0</td>\n      <td>0.0</td>\n      <td>0.0</td>\n      <td>0.0</td>\n      <td>0.0</td>\n      <td>0.0</td>\n      <td>0.0</td>\n      <td>0.0</td>\n      <td>0.0</td>\n      <td>0.0</td>\n      <td>0.0</td>\n      <td>0.0</td>\n      <td>0.0</td>\n      <td>0.0</td>\n      <td>0.0</td>\n      <td>0.0</td>\n      <td>0.0</td>\n      <td>0.0</td>\n      <td>0.0</td>\n      <td>0.0</td>\n      <td>0.0</td>\n    </tr>\n    <tr>\n      <th>22</th>\n      <td>0.0</td>\n      <td>0.0</td>\n      <td>0.0</td>\n      <td>0.0</td>\n      <td>0.0</td>\n      <td>0.0</td>\n      <td>0.0</td>\n      <td>0.0</td>\n      <td>0.0</td>\n      <td>0.0</td>\n      <td>0.0</td>\n      <td>0.0</td>\n      <td>0.0</td>\n      <td>0.0</td>\n      <td>0.0</td>\n      <td>0.0</td>\n      <td>1.0</td>\n      <td>0.0</td>\n      <td>0.0</td>\n      <td>1.0</td>\n      <td>0.0</td>\n      <td>0.0</td>\n      <td>0.0</td>\n      <td>0.0</td>\n      <td>0.0</td>\n      <td>0.0</td>\n      <td>0.0</td>\n      <td>0.0</td>\n      <td>0.0</td>\n      <td>0.0</td>\n      <td>0.0</td>\n      <td>1.0</td>\n      <td>0.0</td>\n      <td>0.0</td>\n      <td>0.0</td>\n      <td>0.0</td>\n      <td>0.0</td>\n      <td>0.0</td>\n      <td>0.0</td>\n      <td>0.0</td>\n      <td>0.0</td>\n      <td>0.0</td>\n      <td>0.0</td>\n      <td>0.0</td>\n      <td>0.0</td>\n      <td>0.0</td>\n      <td>0.0</td>\n      <td>0.0</td>\n      <td>0.0</td>\n    </tr>\n    <tr>\n      <th>23</th>\n      <td>0.0</td>\n      <td>0.0</td>\n      <td>0.0</td>\n      <td>0.0</td>\n      <td>0.0</td>\n      <td>0.0</td>\n      <td>0.0</td>\n      <td>0.0</td>\n      <td>0.0</td>\n      <td>0.0</td>\n      <td>0.0</td>\n      <td>0.0</td>\n      <td>0.0</td>\n      <td>0.0</td>\n      <td>0.0</td>\n      <td>1.0</td>\n      <td>0.0</td>\n      <td>1.0</td>\n      <td>1.0</td>\n      <td>0.0</td>\n      <td>1.0</td>\n      <td>0.0</td>\n      <td>0.0</td>\n      <td>0.0</td>\n      <td>1.0</td>\n      <td>0.0</td>\n      <td>0.0</td>\n      <td>0.0</td>\n      <td>1.0</td>\n      <td>1.0</td>\n      <td>0.0</td>\n      <td>0.0</td>\n      <td>0.0</td>\n      <td>0.0</td>\n      <td>0.0</td>\n      <td>0.0</td>\n      <td>0.0</td>\n      <td>0.0</td>\n      <td>0.0</td>\n      <td>0.0</td>\n      <td>0.0</td>\n      <td>0.0</td>\n      <td>0.0</td>\n      <td>0.0</td>\n      <td>0.0</td>\n      <td>0.0</td>\n      <td>0.0</td>\n      <td>0.0</td>\n      <td>0.0</td>\n    </tr>\n    <tr>\n      <th>24</th>\n      <td>0.0</td>\n      <td>0.0</td>\n      <td>0.0</td>\n      <td>0.0</td>\n      <td>0.0</td>\n      <td>0.0</td>\n      <td>0.0</td>\n      <td>0.0</td>\n      <td>1.0</td>\n      <td>0.0</td>\n      <td>0.0</td>\n      <td>0.0</td>\n      <td>0.0</td>\n      <td>0.0</td>\n      <td>1.0</td>\n      <td>1.0</td>\n      <td>0.0</td>\n      <td>0.0</td>\n      <td>0.0</td>\n      <td>0.0</td>\n      <td>0.0</td>\n      <td>0.0</td>\n      <td>0.0</td>\n      <td>1.0</td>\n      <td>0.0</td>\n      <td>1.0</td>\n      <td>0.0</td>\n      <td>1.0</td>\n      <td>1.0</td>\n      <td>1.0</td>\n      <td>0.0</td>\n      <td>0.0</td>\n      <td>0.0</td>\n      <td>0.0</td>\n      <td>0.0</td>\n      <td>0.0</td>\n      <td>0.0</td>\n      <td>0.0</td>\n      <td>0.0</td>\n      <td>0.0</td>\n      <td>0.0</td>\n      <td>0.0</td>\n      <td>0.0</td>\n      <td>0.0</td>\n      <td>0.0</td>\n      <td>0.0</td>\n      <td>0.0</td>\n      <td>0.0</td>\n      <td>0.0</td>\n    </tr>\n    <tr>\n      <th>25</th>\n      <td>0.0</td>\n      <td>0.0</td>\n      <td>0.0</td>\n      <td>0.0</td>\n      <td>0.0</td>\n      <td>0.0</td>\n      <td>0.0</td>\n      <td>0.0</td>\n      <td>1.0</td>\n      <td>0.0</td>\n      <td>0.0</td>\n      <td>0.0</td>\n      <td>0.0</td>\n      <td>0.0</td>\n      <td>1.0</td>\n      <td>0.0</td>\n      <td>0.0</td>\n      <td>0.0</td>\n      <td>0.0</td>\n      <td>0.0</td>\n      <td>0.0</td>\n      <td>1.0</td>\n      <td>0.0</td>\n      <td>0.0</td>\n      <td>1.0</td>\n      <td>0.0</td>\n      <td>0.0</td>\n      <td>1.0</td>\n      <td>1.0</td>\n      <td>0.0</td>\n      <td>0.0</td>\n      <td>0.0</td>\n      <td>0.0</td>\n      <td>0.0</td>\n      <td>0.0</td>\n      <td>0.0</td>\n      <td>0.0</td>\n      <td>0.0</td>\n      <td>0.0</td>\n      <td>0.0</td>\n      <td>0.0</td>\n      <td>0.0</td>\n      <td>0.0</td>\n      <td>0.0</td>\n      <td>0.0</td>\n      <td>0.0</td>\n      <td>0.0</td>\n      <td>0.0</td>\n      <td>0.0</td>\n    </tr>\n    <tr>\n      <th>26</th>\n      <td>0.0</td>\n      <td>0.0</td>\n      <td>0.0</td>\n      <td>0.0</td>\n      <td>0.0</td>\n      <td>0.0</td>\n      <td>0.0</td>\n      <td>0.0</td>\n      <td>0.0</td>\n      <td>0.0</td>\n      <td>0.0</td>\n      <td>0.0</td>\n      <td>0.0</td>\n      <td>0.0</td>\n      <td>0.0</td>\n      <td>0.0</td>\n      <td>0.0</td>\n      <td>0.0</td>\n      <td>0.0</td>\n      <td>1.0</td>\n      <td>0.0</td>\n      <td>1.0</td>\n      <td>0.0</td>\n      <td>0.0</td>\n      <td>0.0</td>\n      <td>0.0</td>\n      <td>0.0</td>\n      <td>1.0</td>\n      <td>0.0</td>\n      <td>0.0</td>\n      <td>0.0</td>\n      <td>0.0</td>\n      <td>1.0</td>\n      <td>0.0</td>\n      <td>0.0</td>\n      <td>0.0</td>\n      <td>0.0</td>\n      <td>0.0</td>\n      <td>0.0</td>\n      <td>0.0</td>\n      <td>0.0</td>\n      <td>0.0</td>\n      <td>0.0</td>\n      <td>0.0</td>\n      <td>0.0</td>\n      <td>0.0</td>\n      <td>0.0</td>\n      <td>0.0</td>\n      <td>0.0</td>\n    </tr>\n    <tr>\n      <th>27</th>\n      <td>0.0</td>\n      <td>0.0</td>\n      <td>0.0</td>\n      <td>0.0</td>\n      <td>0.0</td>\n      <td>0.0</td>\n      <td>0.0</td>\n      <td>0.0</td>\n      <td>0.0</td>\n      <td>0.0</td>\n      <td>0.0</td>\n      <td>0.0</td>\n      <td>0.0</td>\n      <td>0.0</td>\n      <td>0.0</td>\n      <td>0.0</td>\n      <td>0.0</td>\n      <td>0.0</td>\n      <td>0.0</td>\n      <td>0.0</td>\n      <td>0.0</td>\n      <td>1.0</td>\n      <td>0.0</td>\n      <td>0.0</td>\n      <td>1.0</td>\n      <td>1.0</td>\n      <td>1.0</td>\n      <td>0.0</td>\n      <td>1.0</td>\n      <td>0.0</td>\n      <td>0.0</td>\n      <td>0.0</td>\n      <td>1.0</td>\n      <td>0.0</td>\n      <td>1.0</td>\n      <td>0.0</td>\n      <td>1.0</td>\n      <td>1.0</td>\n      <td>0.0</td>\n      <td>0.0</td>\n      <td>0.0</td>\n      <td>0.0</td>\n      <td>0.0</td>\n      <td>0.0</td>\n      <td>0.0</td>\n      <td>0.0</td>\n      <td>0.0</td>\n      <td>0.0</td>\n      <td>0.0</td>\n    </tr>\n    <tr>\n      <th>28</th>\n      <td>0.0</td>\n      <td>0.0</td>\n      <td>0.0</td>\n      <td>0.0</td>\n      <td>0.0</td>\n      <td>0.0</td>\n      <td>0.0</td>\n      <td>0.0</td>\n      <td>0.0</td>\n      <td>0.0</td>\n      <td>0.0</td>\n      <td>0.0</td>\n      <td>0.0</td>\n      <td>0.0</td>\n      <td>0.0</td>\n      <td>0.0</td>\n      <td>0.0</td>\n      <td>0.0</td>\n      <td>0.0</td>\n      <td>0.0</td>\n      <td>0.0</td>\n      <td>0.0</td>\n      <td>0.0</td>\n      <td>1.0</td>\n      <td>1.0</td>\n      <td>1.0</td>\n      <td>0.0</td>\n      <td>1.0</td>\n      <td>0.0</td>\n      <td>1.0</td>\n      <td>0.0</td>\n      <td>0.0</td>\n      <td>0.0</td>\n      <td>0.0</td>\n      <td>0.0</td>\n      <td>0.0</td>\n      <td>1.0</td>\n      <td>1.0</td>\n      <td>0.0</td>\n      <td>0.0</td>\n      <td>0.0</td>\n      <td>0.0</td>\n      <td>0.0</td>\n      <td>0.0</td>\n      <td>0.0</td>\n      <td>0.0</td>\n      <td>0.0</td>\n      <td>0.0</td>\n      <td>0.0</td>\n    </tr>\n    <tr>\n      <th>29</th>\n      <td>0.0</td>\n      <td>0.0</td>\n      <td>0.0</td>\n      <td>0.0</td>\n      <td>0.0</td>\n      <td>0.0</td>\n      <td>0.0</td>\n      <td>0.0</td>\n      <td>0.0</td>\n      <td>0.0</td>\n      <td>0.0</td>\n      <td>0.0</td>\n      <td>0.0</td>\n      <td>0.0</td>\n      <td>0.0</td>\n      <td>0.0</td>\n      <td>0.0</td>\n      <td>0.0</td>\n      <td>0.0</td>\n      <td>0.0</td>\n      <td>1.0</td>\n      <td>0.0</td>\n      <td>0.0</td>\n      <td>1.0</td>\n      <td>1.0</td>\n      <td>0.0</td>\n      <td>0.0</td>\n      <td>0.0</td>\n      <td>1.0</td>\n      <td>0.0</td>\n      <td>0.0</td>\n      <td>0.0</td>\n      <td>0.0</td>\n      <td>0.0</td>\n      <td>0.0</td>\n      <td>0.0</td>\n      <td>1.0</td>\n      <td>0.0</td>\n      <td>0.0</td>\n      <td>0.0</td>\n      <td>0.0</td>\n      <td>0.0</td>\n      <td>0.0</td>\n      <td>0.0</td>\n      <td>0.0</td>\n      <td>0.0</td>\n      <td>0.0</td>\n      <td>0.0</td>\n      <td>0.0</td>\n    </tr>\n    <tr>\n      <th>30</th>\n      <td>0.0</td>\n      <td>0.0</td>\n      <td>0.0</td>\n      <td>0.0</td>\n      <td>0.0</td>\n      <td>0.0</td>\n      <td>0.0</td>\n      <td>0.0</td>\n      <td>0.0</td>\n      <td>0.0</td>\n      <td>0.0</td>\n      <td>0.0</td>\n      <td>0.0</td>\n      <td>0.0</td>\n      <td>0.0</td>\n      <td>0.0</td>\n      <td>0.0</td>\n      <td>0.0</td>\n      <td>0.0</td>\n      <td>0.0</td>\n      <td>0.0</td>\n      <td>0.0</td>\n      <td>0.0</td>\n      <td>0.0</td>\n      <td>0.0</td>\n      <td>0.0</td>\n      <td>0.0</td>\n      <td>0.0</td>\n      <td>0.0</td>\n      <td>0.0</td>\n      <td>0.0</td>\n      <td>0.0</td>\n      <td>0.0</td>\n      <td>1.0</td>\n      <td>0.0</td>\n      <td>1.0</td>\n      <td>0.0</td>\n      <td>0.0</td>\n      <td>1.0</td>\n      <td>0.0</td>\n      <td>0.0</td>\n      <td>0.0</td>\n      <td>0.0</td>\n      <td>0.0</td>\n      <td>0.0</td>\n      <td>0.0</td>\n      <td>0.0</td>\n      <td>0.0</td>\n      <td>0.0</td>\n    </tr>\n    <tr>\n      <th>31</th>\n      <td>0.0</td>\n      <td>0.0</td>\n      <td>0.0</td>\n      <td>0.0</td>\n      <td>0.0</td>\n      <td>0.0</td>\n      <td>0.0</td>\n      <td>0.0</td>\n      <td>0.0</td>\n      <td>0.0</td>\n      <td>0.0</td>\n      <td>0.0</td>\n      <td>0.0</td>\n      <td>0.0</td>\n      <td>0.0</td>\n      <td>0.0</td>\n      <td>0.0</td>\n      <td>0.0</td>\n      <td>0.0</td>\n      <td>1.0</td>\n      <td>0.0</td>\n      <td>0.0</td>\n      <td>1.0</td>\n      <td>0.0</td>\n      <td>0.0</td>\n      <td>0.0</td>\n      <td>0.0</td>\n      <td>0.0</td>\n      <td>0.0</td>\n      <td>0.0</td>\n      <td>0.0</td>\n      <td>0.0</td>\n      <td>0.0</td>\n      <td>0.0</td>\n      <td>0.0</td>\n      <td>0.0</td>\n      <td>0.0</td>\n      <td>0.0</td>\n      <td>0.0</td>\n      <td>1.0</td>\n      <td>1.0</td>\n      <td>0.0</td>\n      <td>0.0</td>\n      <td>0.0</td>\n      <td>0.0</td>\n      <td>0.0</td>\n      <td>0.0</td>\n      <td>0.0</td>\n      <td>0.0</td>\n    </tr>\n    <tr>\n      <th>32</th>\n      <td>0.0</td>\n      <td>0.0</td>\n      <td>0.0</td>\n      <td>0.0</td>\n      <td>0.0</td>\n      <td>0.0</td>\n      <td>0.0</td>\n      <td>0.0</td>\n      <td>0.0</td>\n      <td>0.0</td>\n      <td>0.0</td>\n      <td>0.0</td>\n      <td>0.0</td>\n      <td>0.0</td>\n      <td>0.0</td>\n      <td>0.0</td>\n      <td>0.0</td>\n      <td>0.0</td>\n      <td>0.0</td>\n      <td>1.0</td>\n      <td>0.0</td>\n      <td>0.0</td>\n      <td>0.0</td>\n      <td>0.0</td>\n      <td>0.0</td>\n      <td>0.0</td>\n      <td>1.0</td>\n      <td>1.0</td>\n      <td>0.0</td>\n      <td>0.0</td>\n      <td>0.0</td>\n      <td>0.0</td>\n      <td>0.0</td>\n      <td>0.0</td>\n      <td>1.0</td>\n      <td>0.0</td>\n      <td>0.0</td>\n      <td>0.0</td>\n      <td>0.0</td>\n      <td>0.0</td>\n      <td>0.0</td>\n      <td>0.0</td>\n      <td>0.0</td>\n      <td>0.0</td>\n      <td>0.0</td>\n      <td>0.0</td>\n      <td>0.0</td>\n      <td>0.0</td>\n      <td>0.0</td>\n    </tr>\n    <tr>\n      <th>33</th>\n      <td>0.0</td>\n      <td>0.0</td>\n      <td>0.0</td>\n      <td>0.0</td>\n      <td>0.0</td>\n      <td>0.0</td>\n      <td>0.0</td>\n      <td>0.0</td>\n      <td>0.0</td>\n      <td>0.0</td>\n      <td>0.0</td>\n      <td>0.0</td>\n      <td>0.0</td>\n      <td>0.0</td>\n      <td>0.0</td>\n      <td>0.0</td>\n      <td>0.0</td>\n      <td>0.0</td>\n      <td>0.0</td>\n      <td>0.0</td>\n      <td>1.0</td>\n      <td>0.0</td>\n      <td>0.0</td>\n      <td>0.0</td>\n      <td>0.0</td>\n      <td>0.0</td>\n      <td>0.0</td>\n      <td>0.0</td>\n      <td>0.0</td>\n      <td>0.0</td>\n      <td>1.0</td>\n      <td>0.0</td>\n      <td>0.0</td>\n      <td>0.0</td>\n      <td>0.0</td>\n      <td>1.0</td>\n      <td>0.0</td>\n      <td>0.0</td>\n      <td>0.0</td>\n      <td>0.0</td>\n      <td>0.0</td>\n      <td>1.0</td>\n      <td>0.0</td>\n      <td>0.0</td>\n      <td>0.0</td>\n      <td>0.0</td>\n      <td>0.0</td>\n      <td>0.0</td>\n      <td>0.0</td>\n    </tr>\n    <tr>\n      <th>34</th>\n      <td>0.0</td>\n      <td>0.0</td>\n      <td>0.0</td>\n      <td>0.0</td>\n      <td>0.0</td>\n      <td>0.0</td>\n      <td>0.0</td>\n      <td>0.0</td>\n      <td>0.0</td>\n      <td>0.0</td>\n      <td>0.0</td>\n      <td>0.0</td>\n      <td>0.0</td>\n      <td>0.0</td>\n      <td>0.0</td>\n      <td>0.0</td>\n      <td>0.0</td>\n      <td>0.0</td>\n      <td>0.0</td>\n      <td>1.0</td>\n      <td>0.0</td>\n      <td>0.0</td>\n      <td>0.0</td>\n      <td>0.0</td>\n      <td>0.0</td>\n      <td>0.0</td>\n      <td>0.0</td>\n      <td>1.0</td>\n      <td>0.0</td>\n      <td>0.0</td>\n      <td>0.0</td>\n      <td>0.0</td>\n      <td>1.0</td>\n      <td>0.0</td>\n      <td>0.0</td>\n      <td>0.0</td>\n      <td>0.0</td>\n      <td>1.0</td>\n      <td>0.0</td>\n      <td>1.0</td>\n      <td>0.0</td>\n      <td>0.0</td>\n      <td>1.0</td>\n      <td>1.0</td>\n      <td>0.0</td>\n      <td>0.0</td>\n      <td>0.0</td>\n      <td>0.0</td>\n      <td>0.0</td>\n    </tr>\n    <tr>\n      <th>35</th>\n      <td>0.0</td>\n      <td>0.0</td>\n      <td>0.0</td>\n      <td>0.0</td>\n      <td>0.0</td>\n      <td>0.0</td>\n      <td>0.0</td>\n      <td>0.0</td>\n      <td>0.0</td>\n      <td>0.0</td>\n      <td>0.0</td>\n      <td>0.0</td>\n      <td>0.0</td>\n      <td>0.0</td>\n      <td>0.0</td>\n      <td>0.0</td>\n      <td>0.0</td>\n      <td>0.0</td>\n      <td>0.0</td>\n      <td>0.0</td>\n      <td>0.0</td>\n      <td>0.0</td>\n      <td>0.0</td>\n      <td>0.0</td>\n      <td>0.0</td>\n      <td>0.0</td>\n      <td>0.0</td>\n      <td>0.0</td>\n      <td>0.0</td>\n      <td>0.0</td>\n      <td>1.0</td>\n      <td>0.0</td>\n      <td>0.0</td>\n      <td>1.0</td>\n      <td>0.0</td>\n      <td>0.0</td>\n      <td>0.0</td>\n      <td>0.0</td>\n      <td>1.0</td>\n      <td>0.0</td>\n      <td>0.0</td>\n      <td>1.0</td>\n      <td>0.0</td>\n      <td>0.0</td>\n      <td>0.0</td>\n      <td>1.0</td>\n      <td>0.0</td>\n      <td>0.0</td>\n      <td>0.0</td>\n    </tr>\n    <tr>\n      <th>36</th>\n      <td>0.0</td>\n      <td>0.0</td>\n      <td>0.0</td>\n      <td>0.0</td>\n      <td>0.0</td>\n      <td>0.0</td>\n      <td>0.0</td>\n      <td>0.0</td>\n      <td>0.0</td>\n      <td>0.0</td>\n      <td>0.0</td>\n      <td>0.0</td>\n      <td>0.0</td>\n      <td>0.0</td>\n      <td>0.0</td>\n      <td>0.0</td>\n      <td>0.0</td>\n      <td>0.0</td>\n      <td>0.0</td>\n      <td>0.0</td>\n      <td>0.0</td>\n      <td>0.0</td>\n      <td>0.0</td>\n      <td>0.0</td>\n      <td>0.0</td>\n      <td>0.0</td>\n      <td>0.0</td>\n      <td>1.0</td>\n      <td>1.0</td>\n      <td>1.0</td>\n      <td>0.0</td>\n      <td>0.0</td>\n      <td>0.0</td>\n      <td>0.0</td>\n      <td>0.0</td>\n      <td>0.0</td>\n      <td>0.0</td>\n      <td>1.0</td>\n      <td>0.0</td>\n      <td>0.0</td>\n      <td>0.0</td>\n      <td>0.0</td>\n      <td>1.0</td>\n      <td>0.0</td>\n      <td>1.0</td>\n      <td>0.0</td>\n      <td>0.0</td>\n      <td>0.0</td>\n      <td>0.0</td>\n    </tr>\n    <tr>\n      <th>37</th>\n      <td>0.0</td>\n      <td>0.0</td>\n      <td>0.0</td>\n      <td>0.0</td>\n      <td>0.0</td>\n      <td>0.0</td>\n      <td>0.0</td>\n      <td>0.0</td>\n      <td>0.0</td>\n      <td>0.0</td>\n      <td>0.0</td>\n      <td>0.0</td>\n      <td>0.0</td>\n      <td>0.0</td>\n      <td>0.0</td>\n      <td>0.0</td>\n      <td>0.0</td>\n      <td>0.0</td>\n      <td>0.0</td>\n      <td>0.0</td>\n      <td>0.0</td>\n      <td>0.0</td>\n      <td>0.0</td>\n      <td>0.0</td>\n      <td>0.0</td>\n      <td>0.0</td>\n      <td>0.0</td>\n      <td>1.0</td>\n      <td>1.0</td>\n      <td>0.0</td>\n      <td>0.0</td>\n      <td>0.0</td>\n      <td>0.0</td>\n      <td>0.0</td>\n      <td>1.0</td>\n      <td>0.0</td>\n      <td>1.0</td>\n      <td>0.0</td>\n      <td>0.0</td>\n      <td>0.0</td>\n      <td>0.0</td>\n      <td>0.0</td>\n      <td>1.0</td>\n      <td>1.0</td>\n      <td>0.0</td>\n      <td>0.0</td>\n      <td>0.0</td>\n      <td>0.0</td>\n      <td>0.0</td>\n    </tr>\n    <tr>\n      <th>38</th>\n      <td>0.0</td>\n      <td>0.0</td>\n      <td>0.0</td>\n      <td>0.0</td>\n      <td>0.0</td>\n      <td>0.0</td>\n      <td>0.0</td>\n      <td>0.0</td>\n      <td>0.0</td>\n      <td>0.0</td>\n      <td>0.0</td>\n      <td>0.0</td>\n      <td>0.0</td>\n      <td>0.0</td>\n      <td>0.0</td>\n      <td>0.0</td>\n      <td>0.0</td>\n      <td>0.0</td>\n      <td>0.0</td>\n      <td>0.0</td>\n      <td>0.0</td>\n      <td>0.0</td>\n      <td>0.0</td>\n      <td>0.0</td>\n      <td>0.0</td>\n      <td>0.0</td>\n      <td>0.0</td>\n      <td>0.0</td>\n      <td>0.0</td>\n      <td>0.0</td>\n      <td>1.0</td>\n      <td>0.0</td>\n      <td>0.0</td>\n      <td>0.0</td>\n      <td>0.0</td>\n      <td>1.0</td>\n      <td>0.0</td>\n      <td>0.0</td>\n      <td>0.0</td>\n      <td>0.0</td>\n      <td>0.0</td>\n      <td>0.0</td>\n      <td>0.0</td>\n      <td>0.0</td>\n      <td>0.0</td>\n      <td>1.0</td>\n      <td>0.0</td>\n      <td>0.0</td>\n      <td>0.0</td>\n    </tr>\n    <tr>\n      <th>39</th>\n      <td>0.0</td>\n      <td>0.0</td>\n      <td>0.0</td>\n      <td>0.0</td>\n      <td>0.0</td>\n      <td>0.0</td>\n      <td>0.0</td>\n      <td>0.0</td>\n      <td>0.0</td>\n      <td>0.0</td>\n      <td>0.0</td>\n      <td>0.0</td>\n      <td>0.0</td>\n      <td>0.0</td>\n      <td>0.0</td>\n      <td>0.0</td>\n      <td>0.0</td>\n      <td>0.0</td>\n      <td>0.0</td>\n      <td>1.0</td>\n      <td>0.0</td>\n      <td>0.0</td>\n      <td>0.0</td>\n      <td>0.0</td>\n      <td>0.0</td>\n      <td>0.0</td>\n      <td>0.0</td>\n      <td>0.0</td>\n      <td>0.0</td>\n      <td>0.0</td>\n      <td>0.0</td>\n      <td>1.0</td>\n      <td>0.0</td>\n      <td>0.0</td>\n      <td>1.0</td>\n      <td>0.0</td>\n      <td>0.0</td>\n      <td>0.0</td>\n      <td>0.0</td>\n      <td>0.0</td>\n      <td>1.0</td>\n      <td>0.0</td>\n      <td>0.0</td>\n      <td>0.0</td>\n      <td>0.0</td>\n      <td>0.0</td>\n      <td>1.0</td>\n      <td>0.0</td>\n      <td>0.0</td>\n    </tr>\n    <tr>\n      <th>40</th>\n      <td>0.0</td>\n      <td>0.0</td>\n      <td>0.0</td>\n      <td>0.0</td>\n      <td>0.0</td>\n      <td>0.0</td>\n      <td>0.0</td>\n      <td>0.0</td>\n      <td>0.0</td>\n      <td>0.0</td>\n      <td>0.0</td>\n      <td>0.0</td>\n      <td>0.0</td>\n      <td>0.0</td>\n      <td>0.0</td>\n      <td>0.0</td>\n      <td>0.0</td>\n      <td>0.0</td>\n      <td>0.0</td>\n      <td>0.0</td>\n      <td>0.0</td>\n      <td>0.0</td>\n      <td>0.0</td>\n      <td>0.0</td>\n      <td>0.0</td>\n      <td>0.0</td>\n      <td>0.0</td>\n      <td>0.0</td>\n      <td>0.0</td>\n      <td>0.0</td>\n      <td>0.0</td>\n      <td>1.0</td>\n      <td>0.0</td>\n      <td>0.0</td>\n      <td>0.0</td>\n      <td>0.0</td>\n      <td>0.0</td>\n      <td>0.0</td>\n      <td>0.0</td>\n      <td>1.0</td>\n      <td>0.0</td>\n      <td>0.0</td>\n      <td>0.0</td>\n      <td>0.0</td>\n      <td>0.0</td>\n      <td>0.0</td>\n      <td>1.0</td>\n      <td>0.0</td>\n      <td>0.0</td>\n    </tr>\n    <tr>\n      <th>41</th>\n      <td>0.0</td>\n      <td>0.0</td>\n      <td>0.0</td>\n      <td>0.0</td>\n      <td>0.0</td>\n      <td>0.0</td>\n      <td>0.0</td>\n      <td>0.0</td>\n      <td>0.0</td>\n      <td>0.0</td>\n      <td>0.0</td>\n      <td>0.0</td>\n      <td>0.0</td>\n      <td>0.0</td>\n      <td>0.0</td>\n      <td>0.0</td>\n      <td>0.0</td>\n      <td>0.0</td>\n      <td>0.0</td>\n      <td>0.0</td>\n      <td>0.0</td>\n      <td>0.0</td>\n      <td>0.0</td>\n      <td>0.0</td>\n      <td>0.0</td>\n      <td>0.0</td>\n      <td>0.0</td>\n      <td>0.0</td>\n      <td>0.0</td>\n      <td>0.0</td>\n      <td>0.0</td>\n      <td>0.0</td>\n      <td>0.0</td>\n      <td>1.0</td>\n      <td>0.0</td>\n      <td>1.0</td>\n      <td>0.0</td>\n      <td>0.0</td>\n      <td>0.0</td>\n      <td>0.0</td>\n      <td>0.0</td>\n      <td>0.0</td>\n      <td>0.0</td>\n      <td>0.0</td>\n      <td>0.0</td>\n      <td>0.0</td>\n      <td>0.0</td>\n      <td>0.0</td>\n      <td>0.0</td>\n    </tr>\n    <tr>\n      <th>42</th>\n      <td>0.0</td>\n      <td>0.0</td>\n      <td>0.0</td>\n      <td>0.0</td>\n      <td>0.0</td>\n      <td>0.0</td>\n      <td>0.0</td>\n      <td>0.0</td>\n      <td>0.0</td>\n      <td>0.0</td>\n      <td>0.0</td>\n      <td>0.0</td>\n      <td>0.0</td>\n      <td>0.0</td>\n      <td>0.0</td>\n      <td>0.0</td>\n      <td>0.0</td>\n      <td>0.0</td>\n      <td>0.0</td>\n      <td>0.0</td>\n      <td>0.0</td>\n      <td>0.0</td>\n      <td>0.0</td>\n      <td>0.0</td>\n      <td>0.0</td>\n      <td>0.0</td>\n      <td>0.0</td>\n      <td>0.0</td>\n      <td>0.0</td>\n      <td>0.0</td>\n      <td>0.0</td>\n      <td>0.0</td>\n      <td>0.0</td>\n      <td>0.0</td>\n      <td>1.0</td>\n      <td>0.0</td>\n      <td>1.0</td>\n      <td>1.0</td>\n      <td>0.0</td>\n      <td>0.0</td>\n      <td>0.0</td>\n      <td>0.0</td>\n      <td>0.0</td>\n      <td>1.0</td>\n      <td>1.0</td>\n      <td>0.0</td>\n      <td>0.0</td>\n      <td>1.0</td>\n      <td>0.0</td>\n    </tr>\n    <tr>\n      <th>43</th>\n      <td>0.0</td>\n      <td>0.0</td>\n      <td>0.0</td>\n      <td>0.0</td>\n      <td>0.0</td>\n      <td>0.0</td>\n      <td>0.0</td>\n      <td>0.0</td>\n      <td>0.0</td>\n      <td>0.0</td>\n      <td>0.0</td>\n      <td>0.0</td>\n      <td>0.0</td>\n      <td>0.0</td>\n      <td>0.0</td>\n      <td>0.0</td>\n      <td>0.0</td>\n      <td>0.0</td>\n      <td>0.0</td>\n      <td>0.0</td>\n      <td>0.0</td>\n      <td>0.0</td>\n      <td>0.0</td>\n      <td>0.0</td>\n      <td>0.0</td>\n      <td>0.0</td>\n      <td>0.0</td>\n      <td>0.0</td>\n      <td>0.0</td>\n      <td>0.0</td>\n      <td>0.0</td>\n      <td>0.0</td>\n      <td>0.0</td>\n      <td>0.0</td>\n      <td>1.0</td>\n      <td>0.0</td>\n      <td>0.0</td>\n      <td>1.0</td>\n      <td>0.0</td>\n      <td>0.0</td>\n      <td>0.0</td>\n      <td>0.0</td>\n      <td>1.0</td>\n      <td>0.0</td>\n      <td>0.0</td>\n      <td>0.0</td>\n      <td>0.0</td>\n      <td>1.0</td>\n      <td>1.0</td>\n    </tr>\n    <tr>\n      <th>44</th>\n      <td>0.0</td>\n      <td>0.0</td>\n      <td>0.0</td>\n      <td>0.0</td>\n      <td>0.0</td>\n      <td>0.0</td>\n      <td>0.0</td>\n      <td>0.0</td>\n      <td>0.0</td>\n      <td>0.0</td>\n      <td>0.0</td>\n      <td>0.0</td>\n      <td>0.0</td>\n      <td>0.0</td>\n      <td>0.0</td>\n      <td>0.0</td>\n      <td>0.0</td>\n      <td>0.0</td>\n      <td>0.0</td>\n      <td>0.0</td>\n      <td>0.0</td>\n      <td>0.0</td>\n      <td>0.0</td>\n      <td>0.0</td>\n      <td>0.0</td>\n      <td>0.0</td>\n      <td>0.0</td>\n      <td>0.0</td>\n      <td>0.0</td>\n      <td>0.0</td>\n      <td>0.0</td>\n      <td>0.0</td>\n      <td>0.0</td>\n      <td>0.0</td>\n      <td>0.0</td>\n      <td>0.0</td>\n      <td>1.0</td>\n      <td>0.0</td>\n      <td>0.0</td>\n      <td>0.0</td>\n      <td>0.0</td>\n      <td>0.0</td>\n      <td>1.0</td>\n      <td>0.0</td>\n      <td>0.0</td>\n      <td>0.0</td>\n      <td>0.0</td>\n      <td>1.0</td>\n      <td>1.0</td>\n    </tr>\n    <tr>\n      <th>45</th>\n      <td>0.0</td>\n      <td>0.0</td>\n      <td>0.0</td>\n      <td>0.0</td>\n      <td>0.0</td>\n      <td>0.0</td>\n      <td>0.0</td>\n      <td>0.0</td>\n      <td>0.0</td>\n      <td>0.0</td>\n      <td>0.0</td>\n      <td>0.0</td>\n      <td>0.0</td>\n      <td>0.0</td>\n      <td>0.0</td>\n      <td>0.0</td>\n      <td>0.0</td>\n      <td>0.0</td>\n      <td>0.0</td>\n      <td>0.0</td>\n      <td>0.0</td>\n      <td>0.0</td>\n      <td>0.0</td>\n      <td>0.0</td>\n      <td>0.0</td>\n      <td>0.0</td>\n      <td>0.0</td>\n      <td>0.0</td>\n      <td>0.0</td>\n      <td>0.0</td>\n      <td>0.0</td>\n      <td>0.0</td>\n      <td>0.0</td>\n      <td>0.0</td>\n      <td>0.0</td>\n      <td>1.0</td>\n      <td>0.0</td>\n      <td>0.0</td>\n      <td>1.0</td>\n      <td>0.0</td>\n      <td>0.0</td>\n      <td>0.0</td>\n      <td>0.0</td>\n      <td>0.0</td>\n      <td>0.0</td>\n      <td>0.0</td>\n      <td>0.0</td>\n      <td>0.0</td>\n      <td>0.0</td>\n    </tr>\n    <tr>\n      <th>46</th>\n      <td>0.0</td>\n      <td>0.0</td>\n      <td>0.0</td>\n      <td>0.0</td>\n      <td>0.0</td>\n      <td>0.0</td>\n      <td>0.0</td>\n      <td>0.0</td>\n      <td>0.0</td>\n      <td>0.0</td>\n      <td>0.0</td>\n      <td>0.0</td>\n      <td>0.0</td>\n      <td>0.0</td>\n      <td>0.0</td>\n      <td>0.0</td>\n      <td>0.0</td>\n      <td>0.0</td>\n      <td>0.0</td>\n      <td>0.0</td>\n      <td>0.0</td>\n      <td>0.0</td>\n      <td>0.0</td>\n      <td>0.0</td>\n      <td>0.0</td>\n      <td>0.0</td>\n      <td>0.0</td>\n      <td>0.0</td>\n      <td>0.0</td>\n      <td>0.0</td>\n      <td>0.0</td>\n      <td>0.0</td>\n      <td>0.0</td>\n      <td>0.0</td>\n      <td>0.0</td>\n      <td>0.0</td>\n      <td>0.0</td>\n      <td>0.0</td>\n      <td>0.0</td>\n      <td>1.0</td>\n      <td>1.0</td>\n      <td>0.0</td>\n      <td>0.0</td>\n      <td>0.0</td>\n      <td>0.0</td>\n      <td>0.0</td>\n      <td>0.0</td>\n      <td>0.0</td>\n      <td>0.0</td>\n    </tr>\n    <tr>\n      <th>47</th>\n      <td>0.0</td>\n      <td>0.0</td>\n      <td>0.0</td>\n      <td>0.0</td>\n      <td>0.0</td>\n      <td>0.0</td>\n      <td>0.0</td>\n      <td>0.0</td>\n      <td>0.0</td>\n      <td>0.0</td>\n      <td>0.0</td>\n      <td>0.0</td>\n      <td>0.0</td>\n      <td>0.0</td>\n      <td>0.0</td>\n      <td>0.0</td>\n      <td>0.0</td>\n      <td>0.0</td>\n      <td>0.0</td>\n      <td>0.0</td>\n      <td>0.0</td>\n      <td>0.0</td>\n      <td>0.0</td>\n      <td>0.0</td>\n      <td>0.0</td>\n      <td>0.0</td>\n      <td>0.0</td>\n      <td>0.0</td>\n      <td>0.0</td>\n      <td>0.0</td>\n      <td>0.0</td>\n      <td>0.0</td>\n      <td>0.0</td>\n      <td>0.0</td>\n      <td>0.0</td>\n      <td>0.0</td>\n      <td>0.0</td>\n      <td>0.0</td>\n      <td>0.0</td>\n      <td>0.0</td>\n      <td>0.0</td>\n      <td>0.0</td>\n      <td>1.0</td>\n      <td>1.0</td>\n      <td>1.0</td>\n      <td>0.0</td>\n      <td>0.0</td>\n      <td>0.0</td>\n      <td>1.0</td>\n    </tr>\n    <tr>\n      <th>48</th>\n      <td>0.0</td>\n      <td>0.0</td>\n      <td>0.0</td>\n      <td>0.0</td>\n      <td>0.0</td>\n      <td>0.0</td>\n      <td>0.0</td>\n      <td>0.0</td>\n      <td>0.0</td>\n      <td>0.0</td>\n      <td>0.0</td>\n      <td>0.0</td>\n      <td>0.0</td>\n      <td>0.0</td>\n      <td>0.0</td>\n      <td>0.0</td>\n      <td>0.0</td>\n      <td>0.0</td>\n      <td>0.0</td>\n      <td>0.0</td>\n      <td>0.0</td>\n      <td>0.0</td>\n      <td>0.0</td>\n      <td>0.0</td>\n      <td>0.0</td>\n      <td>0.0</td>\n      <td>0.0</td>\n      <td>0.0</td>\n      <td>0.0</td>\n      <td>0.0</td>\n      <td>0.0</td>\n      <td>0.0</td>\n      <td>0.0</td>\n      <td>0.0</td>\n      <td>0.0</td>\n      <td>0.0</td>\n      <td>0.0</td>\n      <td>0.0</td>\n      <td>0.0</td>\n      <td>0.0</td>\n      <td>0.0</td>\n      <td>0.0</td>\n      <td>0.0</td>\n      <td>1.0</td>\n      <td>1.0</td>\n      <td>0.0</td>\n      <td>0.0</td>\n      <td>1.0</td>\n      <td>0.0</td>\n    </tr>\n  </tbody>\n</table>\n</div>"
     },
     "metadata": {}
    }
   ],
   "execution_count": 4
  },
  {
   "cell_type": "code",
   "source": "df_ids = pd.DataFrame({'polyID': ids})\ndf_ids",
   "metadata": {
    "cell_id": "0d02dfb96f144cc185d7edc83b72235c",
    "tags": [],
    "deepnote_to_be_reexecuted": false,
    "source_hash": "f0da3f41",
    "execution_start": 1653788949488,
    "execution_millis": 466,
    "deepnote_cell_type": "code",
    "deepnote_cell_height": 617.953125
   },
   "outputs": [
    {
     "output_type": "execute_result",
     "execution_count": 5,
     "data": {
      "application/vnd.deepnote.dataframe.v3+json": {
       "column_count": 1,
       "row_count": 49,
       "columns": [
        {
         "name": "polyID",
         "dtype": "int64",
         "stats": {
          "unique_count": 49,
          "nan_count": 0,
          "min": "1",
          "max": "49",
          "histogram": [
           {
            "bin_start": 1,
            "bin_end": 5.8,
            "count": 5
           },
           {
            "bin_start": 5.8,
            "bin_end": 10.6,
            "count": 5
           },
           {
            "bin_start": 10.6,
            "bin_end": 15.399999999999999,
            "count": 5
           },
           {
            "bin_start": 15.399999999999999,
            "bin_end": 20.2,
            "count": 5
           },
           {
            "bin_start": 20.2,
            "bin_end": 25,
            "count": 4
           },
           {
            "bin_start": 25,
            "bin_end": 29.799999999999997,
            "count": 5
           },
           {
            "bin_start": 29.799999999999997,
            "bin_end": 34.6,
            "count": 5
           },
           {
            "bin_start": 34.6,
            "bin_end": 39.4,
            "count": 5
           },
           {
            "bin_start": 39.4,
            "bin_end": 44.199999999999996,
            "count": 5
           },
           {
            "bin_start": 44.199999999999996,
            "bin_end": 49,
            "count": 5
           }
          ]
         }
        },
        {
         "name": "_deepnote_index_column",
         "dtype": "int64"
        }
       ],
       "rows": [
        {
         "polyID": 1,
         "_deepnote_index_column": 0
        },
        {
         "polyID": 2,
         "_deepnote_index_column": 1
        },
        {
         "polyID": 3,
         "_deepnote_index_column": 2
        },
        {
         "polyID": 4,
         "_deepnote_index_column": 3
        },
        {
         "polyID": 5,
         "_deepnote_index_column": 4
        },
        {
         "polyID": 6,
         "_deepnote_index_column": 5
        },
        {
         "polyID": 7,
         "_deepnote_index_column": 6
        },
        {
         "polyID": 8,
         "_deepnote_index_column": 7
        },
        {
         "polyID": 9,
         "_deepnote_index_column": 8
        },
        {
         "polyID": 10,
         "_deepnote_index_column": 9
        }
       ]
      },
      "text/plain": "    polyID\n0        1\n1        2\n2        3\n3        4\n4        5\n5        6\n6        7\n7        8\n8        9\n9       10\n10      11\n11      12\n12      13\n13      14\n14      15\n15      16\n16      17\n17      18\n18      19\n19      20\n20      21\n21      22\n22      23\n23      24\n24      25\n25      26\n26      27\n27      28\n28      29\n29      30\n30      31\n31      32\n32      33\n33      34\n34      35\n35      36\n36      37\n37      38\n38      39\n39      40\n40      41\n41      42\n42      43\n43      44\n44      45\n45      46\n46      47\n47      48\n48      49",
      "text/html": "<div>\n<style scoped>\n    .dataframe tbody tr th:only-of-type {\n        vertical-align: middle;\n    }\n\n    .dataframe tbody tr th {\n        vertical-align: top;\n    }\n\n    .dataframe thead th {\n        text-align: right;\n    }\n</style>\n<table border=\"1\" class=\"dataframe\">\n  <thead>\n    <tr style=\"text-align: right;\">\n      <th></th>\n      <th>polyID</th>\n    </tr>\n  </thead>\n  <tbody>\n    <tr>\n      <th>0</th>\n      <td>1</td>\n    </tr>\n    <tr>\n      <th>1</th>\n      <td>2</td>\n    </tr>\n    <tr>\n      <th>2</th>\n      <td>3</td>\n    </tr>\n    <tr>\n      <th>3</th>\n      <td>4</td>\n    </tr>\n    <tr>\n      <th>4</th>\n      <td>5</td>\n    </tr>\n    <tr>\n      <th>5</th>\n      <td>6</td>\n    </tr>\n    <tr>\n      <th>6</th>\n      <td>7</td>\n    </tr>\n    <tr>\n      <th>7</th>\n      <td>8</td>\n    </tr>\n    <tr>\n      <th>8</th>\n      <td>9</td>\n    </tr>\n    <tr>\n      <th>9</th>\n      <td>10</td>\n    </tr>\n    <tr>\n      <th>10</th>\n      <td>11</td>\n    </tr>\n    <tr>\n      <th>11</th>\n      <td>12</td>\n    </tr>\n    <tr>\n      <th>12</th>\n      <td>13</td>\n    </tr>\n    <tr>\n      <th>13</th>\n      <td>14</td>\n    </tr>\n    <tr>\n      <th>14</th>\n      <td>15</td>\n    </tr>\n    <tr>\n      <th>15</th>\n      <td>16</td>\n    </tr>\n    <tr>\n      <th>16</th>\n      <td>17</td>\n    </tr>\n    <tr>\n      <th>17</th>\n      <td>18</td>\n    </tr>\n    <tr>\n      <th>18</th>\n      <td>19</td>\n    </tr>\n    <tr>\n      <th>19</th>\n      <td>20</td>\n    </tr>\n    <tr>\n      <th>20</th>\n      <td>21</td>\n    </tr>\n    <tr>\n      <th>21</th>\n      <td>22</td>\n    </tr>\n    <tr>\n      <th>22</th>\n      <td>23</td>\n    </tr>\n    <tr>\n      <th>23</th>\n      <td>24</td>\n    </tr>\n    <tr>\n      <th>24</th>\n      <td>25</td>\n    </tr>\n    <tr>\n      <th>25</th>\n      <td>26</td>\n    </tr>\n    <tr>\n      <th>26</th>\n      <td>27</td>\n    </tr>\n    <tr>\n      <th>27</th>\n      <td>28</td>\n    </tr>\n    <tr>\n      <th>28</th>\n      <td>29</td>\n    </tr>\n    <tr>\n      <th>29</th>\n      <td>30</td>\n    </tr>\n    <tr>\n      <th>30</th>\n      <td>31</td>\n    </tr>\n    <tr>\n      <th>31</th>\n      <td>32</td>\n    </tr>\n    <tr>\n      <th>32</th>\n      <td>33</td>\n    </tr>\n    <tr>\n      <th>33</th>\n      <td>34</td>\n    </tr>\n    <tr>\n      <th>34</th>\n      <td>35</td>\n    </tr>\n    <tr>\n      <th>35</th>\n      <td>36</td>\n    </tr>\n    <tr>\n      <th>36</th>\n      <td>37</td>\n    </tr>\n    <tr>\n      <th>37</th>\n      <td>38</td>\n    </tr>\n    <tr>\n      <th>38</th>\n      <td>39</td>\n    </tr>\n    <tr>\n      <th>39</th>\n      <td>40</td>\n    </tr>\n    <tr>\n      <th>40</th>\n      <td>41</td>\n    </tr>\n    <tr>\n      <th>41</th>\n      <td>42</td>\n    </tr>\n    <tr>\n      <th>42</th>\n      <td>43</td>\n    </tr>\n    <tr>\n      <th>43</th>\n      <td>44</td>\n    </tr>\n    <tr>\n      <th>44</th>\n      <td>45</td>\n    </tr>\n    <tr>\n      <th>45</th>\n      <td>46</td>\n    </tr>\n    <tr>\n      <th>46</th>\n      <td>47</td>\n    </tr>\n    <tr>\n      <th>47</th>\n      <td>48</td>\n    </tr>\n    <tr>\n      <th>48</th>\n      <td>49</td>\n    </tr>\n  </tbody>\n</table>\n</div>"
     },
     "metadata": {}
    }
   ],
   "execution_count": 5
  },
  {
   "cell_type": "markdown",
   "source": "# W statistics",
   "metadata": {
    "cell_id": "1c1170ff6d4b46348ecf17185b08c449",
    "tags": [],
    "deepnote_cell_type": "markdown",
    "deepnote_cell_height": 81.953125
   }
  },
  {
   "cell_type": "code",
   "source": "# how many neighbors does each region have?\nWqueenMatrix.sum(axis=1)",
   "metadata": {
    "cell_id": "8e087ad847534ad283375ba48c6af2d0",
    "tags": [],
    "deepnote_to_be_reexecuted": false,
    "source_hash": "f0f8c801",
    "execution_start": 1653788949495,
    "execution_millis": 459,
    "deepnote_cell_type": "code",
    "deepnote_cell_height": 193.953125,
    "deepnote_output_heights": [
     78.8125
    ]
   },
   "outputs": [
    {
     "output_type": "execute_result",
     "execution_count": 6,
     "data": {
      "text/plain": "array([ 2.,  3.,  4.,  4.,  8.,  2.,  4.,  6.,  8.,  4.,  5.,  6.,  4.,\n        6.,  6.,  8.,  3.,  4.,  3., 10.,  3.,  6.,  3.,  7.,  8.,  6.,\n        4.,  9.,  7.,  5.,  3.,  4.,  4.,  4.,  7.,  5.,  6.,  6.,  3.,\n        5.,  3.,  2.,  6.,  5.,  4.,  2.,  2.,  4.,  3.])"
     },
     "metadata": {}
    }
   ],
   "execution_count": 6
  },
  {
   "cell_type": "code",
   "source": "WqueenCount = pd.DataFrame(WqueenMatrix.sum(axis=1))\nWqueenCount.describe().round(2)",
   "metadata": {
    "cell_id": "d8d9a88eb71b4571881967b437f658c5",
    "tags": [],
    "deepnote_to_be_reexecuted": false,
    "source_hash": "18b64bf3",
    "execution_start": 1653788949501,
    "execution_millis": 454,
    "deepnote_cell_type": "code",
    "deepnote_cell_height": 535.9375
   },
   "outputs": [
    {
     "output_type": "execute_result",
     "execution_count": 7,
     "data": {
      "application/vnd.deepnote.dataframe.v3+json": {
       "column_count": 1,
       "row_count": 8,
       "columns": [
        {
         "name": 0,
         "dtype": "float64",
         "stats": {
          "unique_count": 8,
          "nan_count": 0,
          "min": "1.99",
          "max": "49.0",
          "histogram": [
           {
            "bin_start": 1.99,
            "bin_end": 6.691,
            "count": 6
           },
           {
            "bin_start": 6.691,
            "bin_end": 11.392,
            "count": 1
           },
           {
            "bin_start": 11.392,
            "bin_end": 16.092999999999996,
            "count": 0
           },
           {
            "bin_start": 16.092999999999996,
            "bin_end": 20.793999999999997,
            "count": 0
           },
           {
            "bin_start": 20.793999999999997,
            "bin_end": 25.494999999999997,
            "count": 0
           },
           {
            "bin_start": 25.494999999999997,
            "bin_end": 30.195999999999994,
            "count": 0
           },
           {
            "bin_start": 30.195999999999994,
            "bin_end": 34.897,
            "count": 0
           },
           {
            "bin_start": 34.897,
            "bin_end": 39.598,
            "count": 0
           },
           {
            "bin_start": 39.598,
            "bin_end": 44.299,
            "count": 0
           },
           {
            "bin_start": 44.299,
            "bin_end": 49,
            "count": 1
           }
          ]
         }
        },
        {
         "name": "_deepnote_index_column",
         "dtype": "object"
        }
       ],
       "rows": [
        {
         "0": 49,
         "_deepnote_index_column": "count"
        },
        {
         "0": 4.82,
         "_deepnote_index_column": "mean"
        },
        {
         "0": 1.99,
         "_deepnote_index_column": "std"
        },
        {
         "0": 2,
         "_deepnote_index_column": "min"
        },
        {
         "0": 3,
         "_deepnote_index_column": "25%"
        },
        {
         "0": 4,
         "_deepnote_index_column": "50%"
        },
        {
         "0": 6,
         "_deepnote_index_column": "75%"
        },
        {
         "0": 10,
         "_deepnote_index_column": "max"
        }
       ]
      },
      "text/plain": "           0\ncount  49.00\nmean    4.82\nstd     1.99\nmin     2.00\n25%     3.00\n50%     4.00\n75%     6.00\nmax    10.00",
      "text/html": "<div>\n<style scoped>\n    .dataframe tbody tr th:only-of-type {\n        vertical-align: middle;\n    }\n\n    .dataframe tbody tr th {\n        vertical-align: top;\n    }\n\n    .dataframe thead th {\n        text-align: right;\n    }\n</style>\n<table border=\"1\" class=\"dataframe\">\n  <thead>\n    <tr style=\"text-align: right;\">\n      <th></th>\n      <th>0</th>\n    </tr>\n  </thead>\n  <tbody>\n    <tr>\n      <th>count</th>\n      <td>49.00</td>\n    </tr>\n    <tr>\n      <th>mean</th>\n      <td>4.82</td>\n    </tr>\n    <tr>\n      <th>std</th>\n      <td>1.99</td>\n    </tr>\n    <tr>\n      <th>min</th>\n      <td>2.00</td>\n    </tr>\n    <tr>\n      <th>25%</th>\n      <td>3.00</td>\n    </tr>\n    <tr>\n      <th>50%</th>\n      <td>4.00</td>\n    </tr>\n    <tr>\n      <th>75%</th>\n      <td>6.00</td>\n    </tr>\n    <tr>\n      <th>max</th>\n      <td>10.00</td>\n    </tr>\n  </tbody>\n</table>\n</div>"
     },
     "metadata": {}
    }
   ],
   "execution_count": 7
  },
  {
   "cell_type": "code",
   "source": "Wqueen.pct_nonzero",
   "metadata": {
    "cell_id": "acbb5595471943309f9f560246f4f67d",
    "tags": [],
    "deepnote_to_be_reexecuted": false,
    "source_hash": "c32a6df0",
    "execution_start": 1653788949517,
    "execution_millis": 438,
    "deepnote_cell_type": "code",
    "deepnote_cell_height": 118.125,
    "deepnote_output_heights": [
     21.1875
    ]
   },
   "outputs": [
    {
     "output_type": "execute_result",
     "execution_count": 8,
     "data": {
      "text/plain": "9.82923781757601"
     },
     "metadata": {}
    }
   ],
   "execution_count": 8
  },
  {
   "cell_type": "code",
   "source": "Wqueen.neighbors",
   "metadata": {
    "cell_id": "731d0c4944f34c748b205b750d343f35",
    "tags": [],
    "deepnote_to_be_reexecuted": false,
    "source_hash": "1c8e81a7",
    "execution_start": 1653788949529,
    "execution_millis": 427,
    "deepnote_cell_type": "code",
    "deepnote_cell_height": 707.953125,
    "deepnote_output_heights": [
     611
    ]
   },
   "outputs": [
    {
     "output_type": "execute_result",
     "execution_count": 9,
     "data": {
      "text/plain": "{1: [2, 3],\n 2: [1, 3, 4],\n 3: [1, 2, 4, 5],\n 4: [8, 2, 3, 5],\n 5: [3, 4, 6, 8, 9, 11, 15, 16],\n 6: [9, 5],\n 7: [8, 12, 13, 14],\n 8: [4, 5, 7, 11, 12, 13],\n 9: [5, 6, 10, 15, 20, 22, 25, 26],\n 10: [17, 20, 22, 9],\n 11: [16, 5, 8, 12, 15],\n 12: [16, 7, 8, 11, 13, 14],\n 13: [8, 12, 14, 7],\n 14: [16, 18, 19, 7, 12, 13],\n 15: [16, 5, 9, 26, 11, 25],\n 16: [5, 11, 12, 14, 15, 18, 24, 25],\n 17: [10, 20, 23],\n 18: [24, 16, 19, 14],\n 19: [24, 18, 14],\n 20: [32, 33, 35, 40, 9, 10, 17, 22, 23, 27],\n 21: [24, 34, 30],\n 22: [26, 20, 9, 10, 27, 28],\n 23: [32, 17, 20],\n 24: [16, 18, 19, 21, 25, 29, 30],\n 25: [9, 15, 16, 24, 26, 28, 29, 30],\n 26: [22, 9, 28, 29, 25, 15],\n 27: [33, 20, 28, 22],\n 28: [33, 35, 37, 38, 22, 25, 26, 27, 29],\n 29: [37, 38, 24, 25, 26, 28, 30],\n 30: [37, 21, 24, 25, 29],\n 31: [34, 36, 39],\n 32: [40, 41, 20, 23],\n 33: [27, 35, 20, 28],\n 34: [42, 36, 21, 31],\n 35: [33, 20, 38, 40, 43, 44, 28],\n 36: [34, 39, 42, 46, 31],\n 37: [29, 38, 43, 28, 45, 30],\n 38: [29, 35, 37, 43, 44, 28],\n 39: [36, 46, 31],\n 40: [32, 35, 20, 41, 47],\n 41: [40, 32, 47],\n 42: [34, 36],\n 43: [48, 35, 37, 38, 44, 45],\n 44: [48, 49, 35, 38, 43],\n 45: [48, 49, 43, 37],\n 46: [36, 39],\n 47: [40, 41],\n 48: [49, 43, 44, 45],\n 49: [48, 44, 45]}"
     },
     "metadata": {}
    }
   ],
   "execution_count": 9
  },
  {
   "cell_type": "markdown",
   "source": "# Standardized W",
   "metadata": {
    "cell_id": "efb3b052f27547c299ae58f2b20e3332",
    "tags": [],
    "is_collapsed": false,
    "deepnote_cell_type": "text-cell-h1"
   }
  },
  {
   "cell_type": "code",
   "source": "WqueenStand = weights.Queen.from_dataframe(gdf, idVariable = 'POLYID')\n# >>> Row-standardize W\nWqueenStand.transform = 'r'",
   "metadata": {
    "cell_id": "f72561b634a0478a809a7cbeacc6b975",
    "tags": [],
    "deepnote_to_be_reexecuted": false,
    "source_hash": "28041e7a",
    "execution_start": 1653788949534,
    "execution_millis": 8,
    "deepnote_cell_type": "code",
    "deepnote_cell_height": 116.953125
   },
   "outputs": [],
   "execution_count": 10
  },
  {
   "cell_type": "markdown",
   "source": "# Plot W",
   "metadata": {
    "cell_id": "c984fd1f657f44ffbe2a5860bf2a2efa",
    "tags": [],
    "is_collapsed": false,
    "deepnote_cell_type": "text-cell-h1"
   }
  },
  {
   "cell_type": "code",
   "source": "WqueenPlot = weights.Queen.from_dataframe(gdf)\nplot_spatial_weights(WqueenPlot, gdf);",
   "metadata": {
    "cell_id": "a2f6568c4e0641bd9a58569197a7e526",
    "tags": [],
    "deepnote_to_be_reexecuted": false,
    "source_hash": "1c54bb56",
    "execution_start": 1653788949547,
    "execution_millis": 461,
    "deepnote_cell_type": "code",
    "deepnote_cell_height": 538.953125,
    "deepnote_output_heights": [
     423.96875
    ]
   },
   "outputs": [
    {
     "data": {
      "text/plain": "<Figure size 720x720 with 1 Axes>",
      "image/png": "[encoded data removed]"
     },
     "metadata": {
      "image/png": {
       "width": 572,
       "height": 422
      }
     },
     "output_type": "display_data"
    }
   ],
   "execution_count": 11
  },
  {
   "cell_type": "markdown",
   "source": "# Indentify neighbors",
   "metadata": {
    "cell_id": "acddd048b2f24e3283137d51948dae97",
    "tags": [],
    "is_collapsed": false,
    "deepnote_cell_type": "text-cell-h1"
   }
  },
  {
   "cell_type": "code",
   "source": "Wqueen.neighbors[20]",
   "metadata": {
    "cell_id": "3e5e6e075adf40b18470deb112e5c6dd",
    "tags": [],
    "deepnote_to_be_reexecuted": false,
    "source_hash": "23215ba4",
    "execution_start": 1653788950015,
    "execution_millis": 13,
    "deepnote_cell_type": "code",
    "deepnote_cell_height": 118.125,
    "deepnote_output_heights": [
     21.1875
    ]
   },
   "outputs": [
    {
     "output_type": "execute_result",
     "execution_count": 12,
     "data": {
      "text/plain": "[32, 33, 35, 40, 9, 10, 17, 22, 23, 27]"
     },
     "metadata": {}
    }
   ],
   "execution_count": 12
  },
  {
   "cell_type": "code",
   "source": "# What are the neighbors of POLYID = 20)?\nself_and_neighbors = [20]\nself_and_neighbors.extend(Wqueen.neighbors[20])\nneighborsOnly = Wqueen.neighbors[20]",
   "metadata": {
    "cell_id": "be2ca41671254f6fbf6cde731b8df00d",
    "tags": [],
    "deepnote_to_be_reexecuted": false,
    "source_hash": "485a3d65",
    "execution_start": 1653788950027,
    "execution_millis": 2,
    "deepnote_cell_type": "code",
    "deepnote_cell_height": 134.953125,
    "deepnote_output_heights": [
     155.625
    ]
   },
   "outputs": [],
   "execution_count": 13
  },
  {
   "cell_type": "code",
   "source": "gdf.query('POLYID in @neighborsOnly')",
   "metadata": {
    "cell_id": "bd97af1b9e1c419e91eefc648e445118",
    "tags": [],
    "deepnote_to_be_reexecuted": false,
    "source_hash": "49edf316",
    "execution_start": 1653788950030,
    "execution_millis": 114,
    "deepnote_cell_type": "code",
    "deepnote_cell_height": 613.953125
   },
   "outputs": [
    {
     "output_type": "execute_result",
     "execution_count": 14,
     "data": {
      "application/vnd.deepnote.dataframe.v3+json": {
       "column_count": 21,
       "row_count": 10,
       "columns": [
        {
         "name": "AREA",
         "dtype": "float64",
         "stats": {
          "unique_count": 10,
          "nan_count": 0,
          "min": "0.087472",
          "max": "0.500755",
          "histogram": [
           {
            "bin_start": 0.087472,
            "bin_end": 0.12880029999999998,
            "count": 2
           },
           {
            "bin_start": 0.12880029999999998,
            "bin_end": 0.1701286,
            "count": 1
           },
           {
            "bin_start": 0.1701286,
            "bin_end": 0.2114569,
            "count": 3
           },
           {
            "bin_start": 0.2114569,
            "bin_end": 0.2527852,
            "count": 2
           },
           {
            "bin_start": 0.2527852,
            "bin_end": 0.29411349999999997,
            "count": 0
           },
           {
            "bin_start": 0.29411349999999997,
            "bin_end": 0.3354418,
            "count": 1
           },
           {
            "bin_start": 0.3354418,
            "bin_end": 0.3767701,
            "count": 0
           },
           {
            "bin_start": 0.3767701,
            "bin_end": 0.4180984,
            "count": 0
           },
           {
            "bin_start": 0.4180984,
            "bin_end": 0.45942669999999997,
            "count": 0
           },
           {
            "bin_start": 0.45942669999999997,
            "bin_end": 0.500755,
            "count": 1
           }
          ]
         }
        },
        {
         "name": "PERIMETER",
         "dtype": "float64",
         "stats": {
          "unique_count": 10,
          "nan_count": 0,
          "min": "1.382359",
          "max": "3.169707",
          "histogram": [
           {
            "bin_start": 1.382359,
            "bin_end": 1.5610937999999999,
            "count": 2
           },
           {
            "bin_start": 1.5610937999999999,
            "bin_end": 1.7398285999999998,
            "count": 0
           },
           {
            "bin_start": 1.7398285999999998,
            "bin_end": 1.9185634,
            "count": 1
           },
           {
            "bin_start": 1.9185634,
            "bin_end": 2.0972982,
            "count": 3
           },
           {
            "bin_start": 2.0972982,
            "bin_end": 2.276033,
            "count": 2
           },
           {
            "bin_start": 2.276033,
            "bin_end": 2.4547678,
            "count": 1
           },
           {
            "bin_start": 2.4547678,
            "bin_end": 2.6335026,
            "count": 0
           },
           {
            "bin_start": 2.6335026,
            "bin_end": 2.8122374,
            "count": 0
           },
           {
            "bin_start": 2.8122374,
            "bin_end": 2.9909722,
            "count": 0
           },
           {
            "bin_start": 2.9909722,
            "bin_end": 3.169707,
            "count": 1
           }
          ]
         }
        },
        {
         "name": "COLUMBUS_",
         "dtype": "int64",
         "stats": {
          "unique_count": 10,
          "nan_count": 0,
          "min": "10",
          "max": "41",
          "histogram": [
           {
            "bin_start": 10,
            "bin_end": 13.1,
            "count": 2
           },
           {
            "bin_start": 13.1,
            "bin_end": 16.2,
            "count": 0
           },
           {
            "bin_start": 16.2,
            "bin_end": 19.3,
            "count": 1
           },
           {
            "bin_start": 19.3,
            "bin_end": 22.4,
            "count": 0
           },
           {
            "bin_start": 22.4,
            "bin_end": 25.5,
            "count": 2
           },
           {
            "bin_start": 25.5,
            "bin_end": 28.6,
            "count": 1
           },
           {
            "bin_start": 28.6,
            "bin_end": 31.7,
            "count": 0
           },
           {
            "bin_start": 31.7,
            "bin_end": 34.8,
            "count": 2
           },
           {
            "bin_start": 34.8,
            "bin_end": 37.900000000000006,
            "count": 1
           },
           {
            "bin_start": 37.900000000000006,
            "bin_end": 41,
            "count": 1
           }
          ]
         }
        },
        {
         "name": "COLUMBUS_I",
         "dtype": "int64",
         "stats": {
          "unique_count": 10,
          "nan_count": 0,
          "min": "10",
          "max": "23",
          "histogram": [
           {
            "bin_start": 10,
            "bin_end": 11.3,
            "count": 2
           },
           {
            "bin_start": 11.3,
            "bin_end": 12.6,
            "count": 1
           },
           {
            "bin_start": 12.6,
            "bin_end": 13.9,
            "count": 1
           },
           {
            "bin_start": 13.9,
            "bin_end": 15.2,
            "count": 0
           },
           {
            "bin_start": 15.2,
            "bin_end": 16.5,
            "count": 1
           },
           {
            "bin_start": 16.5,
            "bin_end": 17.8,
            "count": 0
           },
           {
            "bin_start": 17.8,
            "bin_end": 19.1,
            "count": 2
           },
           {
            "bin_start": 19.1,
            "bin_end": 20.4,
            "count": 0
           },
           {
            "bin_start": 20.4,
            "bin_end": 21.700000000000003,
            "count": 1
           },
           {
            "bin_start": 21.700000000000003,
            "bin_end": 23,
            "count": 2
           }
          ]
         }
        },
        {
         "name": "POLYID",
         "dtype": "int64",
         "stats": {
          "unique_count": 10,
          "nan_count": 0,
          "min": "9",
          "max": "40",
          "histogram": [
           {
            "bin_start": 9,
            "bin_end": 12.1,
            "count": 2
           },
           {
            "bin_start": 12.1,
            "bin_end": 15.2,
            "count": 0
           },
           {
            "bin_start": 15.2,
            "bin_end": 18.3,
            "count": 1
           },
           {
            "bin_start": 18.3,
            "bin_end": 21.4,
            "count": 0
           },
           {
            "bin_start": 21.4,
            "bin_end": 24.5,
            "count": 2
           },
           {
            "bin_start": 24.5,
            "bin_end": 27.6,
            "count": 1
           },
           {
            "bin_start": 27.6,
            "bin_end": 30.7,
            "count": 0
           },
           {
            "bin_start": 30.7,
            "bin_end": 33.8,
            "count": 2
           },
           {
            "bin_start": 33.8,
            "bin_end": 36.900000000000006,
            "count": 1
           },
           {
            "bin_start": 36.900000000000006,
            "bin_end": 40,
            "count": 1
           }
          ]
         }
        },
        {
         "name": "NEIG",
         "dtype": "int64",
         "stats": {
          "unique_count": 10,
          "nan_count": 0,
          "min": "10",
          "max": "23",
          "histogram": [
           {
            "bin_start": 10,
            "bin_end": 11.3,
            "count": 2
           },
           {
            "bin_start": 11.3,
            "bin_end": 12.6,
            "count": 1
           },
           {
            "bin_start": 12.6,
            "bin_end": 13.9,
            "count": 1
           },
           {
            "bin_start": 13.9,
            "bin_end": 15.2,
            "count": 0
           },
           {
            "bin_start": 15.2,
            "bin_end": 16.5,
            "count": 1
           },
           {
            "bin_start": 16.5,
            "bin_end": 17.8,
            "count": 0
           },
           {
            "bin_start": 17.8,
            "bin_end": 19.1,
            "count": 2
           },
           {
            "bin_start": 19.1,
            "bin_end": 20.4,
            "count": 0
           },
           {
            "bin_start": 20.4,
            "bin_end": 21.700000000000003,
            "count": 1
           },
           {
            "bin_start": 21.700000000000003,
            "bin_end": 23,
            "count": 2
           }
          ]
         }
        },
        {
         "name": "HOVAL",
         "dtype": "float64",
         "stats": {
          "unique_count": 10,
          "nan_count": 0,
          "min": "23.6",
          "max": "96.400002",
          "histogram": [
           {
            "bin_start": 23.6,
            "bin_end": 30.8800002,
            "count": 3
           },
           {
            "bin_start": 30.8800002,
            "bin_end": 38.1600004,
            "count": 1
           },
           {
            "bin_start": 38.1600004,
            "bin_end": 45.440000600000005,
            "count": 2
           },
           {
            "bin_start": 45.440000600000005,
            "bin_end": 52.72000080000001,
            "count": 2
           },
           {
            "bin_start": 52.72000080000001,
            "bin_end": 60.000001000000005,
            "count": 0
           },
           {
            "bin_start": 60.000001000000005,
            "bin_end": 67.28000120000002,
            "count": 1
           },
           {
            "bin_start": 67.28000120000002,
            "bin_end": 74.5600014,
            "count": 0
           },
           {
            "bin_start": 74.5600014,
            "bin_end": 81.84000160000001,
            "count": 0
           },
           {
            "bin_start": 81.84000160000001,
            "bin_end": 89.12000180000001,
            "count": 0
           },
           {
            "bin_start": 89.12000180000001,
            "bin_end": 96.400002,
            "count": 1
           }
          ]
         }
        },
        {
         "name": "INC",
         "dtype": "float64",
         "stats": {
          "unique_count": 10,
          "nan_count": 0,
          "min": "9.798",
          "max": "29.833",
          "histogram": [
           {
            "bin_start": 9.798,
            "bin_end": 11.8015,
            "count": 4
           },
           {
            "bin_start": 11.8015,
            "bin_end": 13.805,
            "count": 2
           },
           {
            "bin_start": 13.805,
            "bin_end": 15.808499999999999,
            "count": 0
           },
           {
            "bin_start": 15.808499999999999,
            "bin_end": 17.811999999999998,
            "count": 1
           },
           {
            "bin_start": 17.811999999999998,
            "bin_end": 19.8155,
            "count": 1
           },
           {
            "bin_start": 19.8155,
            "bin_end": 21.819,
            "count": 1
           },
           {
            "bin_start": 21.819,
            "bin_end": 23.822499999999998,
            "count": 0
           },
           {
            "bin_start": 23.822499999999998,
            "bin_end": 25.826,
            "count": 0
           },
           {
            "bin_start": 25.826,
            "bin_end": 27.829499999999996,
            "count": 0
           },
           {
            "bin_start": 27.829499999999996,
            "bin_end": 29.833,
            "count": 1
           }
          ]
         }
        },
        {
         "name": "CRIME",
         "dtype": "float64",
         "stats": {
          "unique_count": 10,
          "nan_count": 0,
          "min": "16.241299",
          "max": "52.79443",
          "histogram": [
           {
            "bin_start": 16.241299,
            "bin_end": 19.896612100000002,
            "count": 2
           },
           {
            "bin_start": 19.896612100000002,
            "bin_end": 23.5519252,
            "count": 1
           },
           {
            "bin_start": 23.5519252,
            "bin_end": 27.2072383,
            "count": 0
           },
           {
            "bin_start": 27.2072383,
            "bin_end": 30.8625514,
            "count": 1
           },
           {
            "bin_start": 30.8625514,
            "bin_end": 34.5178645,
            "count": 2
           },
           {
            "bin_start": 34.5178645,
            "bin_end": 38.1731776,
            "count": 1
           },
           {
            "bin_start": 38.1731776,
            "bin_end": 41.828490699999996,
            "count": 1
           },
           {
            "bin_start": 41.828490699999996,
            "bin_end": 45.4838038,
            "count": 1
           },
           {
            "bin_start": 45.4838038,
            "bin_end": 49.13911689999999,
            "count": 0
           },
           {
            "bin_start": 49.13911689999999,
            "bin_end": 52.79443,
            "count": 1
           }
          ]
         }
        },
        {
         "name": "OPEN",
         "dtype": "float64",
         "stats": {
          "unique_count": 10,
          "nan_count": 0,
          "min": "0.0",
          "max": "19.368099",
          "histogram": [
           {
            "bin_start": 0,
            "bin_end": 1.9368099,
            "count": 5
           },
           {
            "bin_start": 1.9368099,
            "bin_end": 3.8736198,
            "count": 1
           },
           {
            "bin_start": 3.8736198,
            "bin_end": 5.8104297,
            "count": 2
           },
           {
            "bin_start": 5.8104297,
            "bin_end": 7.7472396,
            "count": 1
           },
           {
            "bin_start": 7.7472396,
            "bin_end": 9.6840495,
            "count": 0
           },
           {
            "bin_start": 9.6840495,
            "bin_end": 11.6208594,
            "count": 0
           },
           {
            "bin_start": 11.6208594,
            "bin_end": 13.5576693,
            "count": 0
           },
           {
            "bin_start": 13.5576693,
            "bin_end": 15.4944792,
            "count": 0
           },
           {
            "bin_start": 15.4944792,
            "bin_end": 17.4312891,
            "count": 0
           },
           {
            "bin_start": 17.4312891,
            "bin_end": 19.368099,
            "count": 1
           }
          ]
         }
        },
        {
         "name": "PLUMB",
         "dtype": "float64",
         "stats": {
          "unique_count": 10,
          "nan_count": 0,
          "min": "0.132743",
          "max": "1.785714",
          "histogram": [
           {
            "bin_start": 0.132743,
            "bin_end": 0.29804010000000003,
            "count": 3
           },
           {
            "bin_start": 0.29804010000000003,
            "bin_end": 0.4633372,
            "count": 0
           },
           {
            "bin_start": 0.4633372,
            "bin_end": 0.6286343000000001,
            "count": 1
           },
           {
            "bin_start": 0.6286343000000001,
            "bin_end": 0.7939314,
            "count": 1
           },
           {
            "bin_start": 0.7939314,
            "bin_end": 0.9592285,
            "count": 1
           },
           {
            "bin_start": 0.9592285,
            "bin_end": 1.1245256000000001,
            "count": 1
           },
           {
            "bin_start": 1.1245256000000001,
            "bin_end": 1.2898227,
            "count": 0
           },
           {
            "bin_start": 1.2898227,
            "bin_end": 1.4551198,
            "count": 0
           },
           {
            "bin_start": 1.4551198,
            "bin_end": 1.6204169000000002,
            "count": 2
           },
           {
            "bin_start": 1.6204169000000002,
            "bin_end": 1.785714,
            "count": 1
           }
          ]
         }
        },
        {
         "name": "DISCBD",
         "dtype": "float64",
         "stats": {
          "unique_count": 10,
          "nan_count": 0,
          "min": "2.24",
          "max": "4.78",
          "histogram": [
           {
            "bin_start": 2.24,
            "bin_end": 2.494,
            "count": 4
           },
           {
            "bin_start": 2.494,
            "bin_end": 2.748,
            "count": 0
           },
           {
            "bin_start": 2.748,
            "bin_end": 3.0020000000000002,
            "count": 0
           },
           {
            "bin_start": 3.0020000000000002,
            "bin_end": 3.2560000000000002,
            "count": 1
           },
           {
            "bin_start": 3.2560000000000002,
            "bin_end": 3.5100000000000002,
            "count": 0
           },
           {
            "bin_start": 3.5100000000000002,
            "bin_end": 3.7640000000000002,
            "count": 0
           },
           {
            "bin_start": 3.7640000000000002,
            "bin_end": 4.018000000000001,
            "count": 0
           },
           {
            "bin_start": 4.018000000000001,
            "bin_end": 4.272,
            "count": 0
           },
           {
            "bin_start": 4.272,
            "bin_end": 4.526,
            "count": 3
           },
           {
            "bin_start": 4.526,
            "bin_end": 4.78,
            "count": 2
           }
          ]
         }
        },
        {
         "name": "X",
         "dtype": "float64",
         "stats": {
          "unique_count": 10,
          "nan_count": 0,
          "min": "43.369999",
          "max": "50.110001",
          "histogram": [
           {
            "bin_start": 43.369999,
            "bin_end": 44.0439992,
            "count": 4
           },
           {
            "bin_start": 44.0439992,
            "bin_end": 44.7179994,
            "count": 1
           },
           {
            "bin_start": 44.7179994,
            "bin_end": 45.3919996,
            "count": 0
           },
           {
            "bin_start": 45.3919996,
            "bin_end": 46.0659998,
            "count": 0
           },
           {
            "bin_start": 46.0659998,
            "bin_end": 46.739999999999995,
            "count": 0
           },
           {
            "bin_start": 46.739999999999995,
            "bin_end": 47.4140002,
            "count": 0
           },
           {
            "bin_start": 47.4140002,
            "bin_end": 48.0880004,
            "count": 1
           },
           {
            "bin_start": 48.0880004,
            "bin_end": 48.7620006,
            "count": 2
           },
           {
            "bin_start": 48.7620006,
            "bin_end": 49.436000799999995,
            "count": 0
           },
           {
            "bin_start": 49.436000799999995,
            "bin_end": 50.110001,
            "count": 2
           }
          ]
         }
        },
        {
         "name": "Y",
         "dtype": "float64",
         "stats": {
          "unique_count": 10,
          "nan_count": 0,
          "min": "27.93",
          "max": "36.419998",
          "histogram": [
           {
            "bin_start": 27.93,
            "bin_end": 28.7789998,
            "count": 1
           },
           {
            "bin_start": 28.7789998,
            "bin_end": 29.6279996,
            "count": 1
           },
           {
            "bin_start": 29.6279996,
            "bin_end": 30.4769994,
            "count": 2
           },
           {
            "bin_start": 30.4769994,
            "bin_end": 31.3259992,
            "count": 0
           },
           {
            "bin_start": 31.3259992,
            "bin_end": 32.174999,
            "count": 1
           },
           {
            "bin_start": 32.174999,
            "bin_end": 33.0239988,
            "count": 1
           },
           {
            "bin_start": 33.0239988,
            "bin_end": 33.8729986,
            "count": 1
           },
           {
            "bin_start": 33.8729986,
            "bin_end": 34.7219984,
            "count": 1
           },
           {
            "bin_start": 34.7219984,
            "bin_end": 35.5709982,
            "count": 0
           },
           {
            "bin_start": 35.5709982,
            "bin_end": 36.419998,
            "count": 2
           }
          ]
         }
        },
        {
         "name": "NSA",
         "dtype": "int64",
         "stats": {
          "unique_count": 2,
          "nan_count": 0,
          "min": "0",
          "max": "1",
          "histogram": [
           {
            "bin_start": 0,
            "bin_end": 0.1,
            "count": 6
           },
           {
            "bin_start": 0.1,
            "bin_end": 0.2,
            "count": 0
           },
           {
            "bin_start": 0.2,
            "bin_end": 0.30000000000000004,
            "count": 0
           },
           {
            "bin_start": 0.30000000000000004,
            "bin_end": 0.4,
            "count": 0
           },
           {
            "bin_start": 0.4,
            "bin_end": 0.5,
            "count": 0
           },
           {
            "bin_start": 0.5,
            "bin_end": 0.6000000000000001,
            "count": 0
           },
           {
            "bin_start": 0.6000000000000001,
            "bin_end": 0.7000000000000001,
            "count": 0
           },
           {
            "bin_start": 0.7000000000000001,
            "bin_end": 0.8,
            "count": 0
           },
           {
            "bin_start": 0.8,
            "bin_end": 0.9,
            "count": 0
           },
           {
            "bin_start": 0.9,
            "bin_end": 1,
            "count": 4
           }
          ]
         }
        },
        {
         "name": "NSB",
         "dtype": "int64",
         "stats": {
          "unique_count": 2,
          "nan_count": 0,
          "min": "0",
          "max": "1",
          "histogram": [
           {
            "bin_start": 0,
            "bin_end": 0.1,
            "count": 6
           },
           {
            "bin_start": 0.1,
            "bin_end": 0.2,
            "count": 0
           },
           {
            "bin_start": 0.2,
            "bin_end": 0.30000000000000004,
            "count": 0
           },
           {
            "bin_start": 0.30000000000000004,
            "bin_end": 0.4,
            "count": 0
           },
           {
            "bin_start": 0.4,
            "bin_end": 0.5,
            "count": 0
           },
           {
            "bin_start": 0.5,
            "bin_end": 0.6000000000000001,
            "count": 0
           },
           {
            "bin_start": 0.6000000000000001,
            "bin_end": 0.7000000000000001,
            "count": 0
           },
           {
            "bin_start": 0.7000000000000001,
            "bin_end": 0.8,
            "count": 0
           },
           {
            "bin_start": 0.8,
            "bin_end": 0.9,
            "count": 0
           },
           {
            "bin_start": 0.9,
            "bin_end": 1,
            "count": 4
           }
          ]
         }
        },
        {
         "name": "EW",
         "dtype": "int64",
         "stats": {
          "unique_count": 1,
          "nan_count": 0,
          "min": "1",
          "max": "1",
          "histogram": [
           {
            "bin_start": 0.5,
            "bin_end": 0.6,
            "count": 0
           },
           {
            "bin_start": 0.6,
            "bin_end": 0.7,
            "count": 0
           },
           {
            "bin_start": 0.7,
            "bin_end": 0.8,
            "count": 0
           },
           {
            "bin_start": 0.8,
            "bin_end": 0.9,
            "count": 0
           },
           {
            "bin_start": 0.9,
            "bin_end": 1,
            "count": 0
           },
           {
            "bin_start": 1,
            "bin_end": 1.1,
            "count": 10
           },
           {
            "bin_start": 1.1,
            "bin_end": 1.2000000000000002,
            "count": 0
           },
           {
            "bin_start": 1.2000000000000002,
            "bin_end": 1.3,
            "count": 0
           },
           {
            "bin_start": 1.3,
            "bin_end": 1.4,
            "count": 0
           },
           {
            "bin_start": 1.4,
            "bin_end": 1.5,
            "count": 0
           }
          ]
         }
        },
        {
         "name": "CP",
         "dtype": "int64",
         "stats": {
          "unique_count": 2,
          "nan_count": 0,
          "min": "0",
          "max": "1",
          "histogram": [
           {
            "bin_start": 0,
            "bin_end": 0.1,
            "count": 6
           },
           {
            "bin_start": 0.1,
            "bin_end": 0.2,
            "count": 0
           },
           {
            "bin_start": 0.2,
            "bin_end": 0.30000000000000004,
            "count": 0
           },
           {
            "bin_start": 0.30000000000000004,
            "bin_end": 0.4,
            "count": 0
           },
           {
            "bin_start": 0.4,
            "bin_end": 0.5,
            "count": 0
           },
           {
            "bin_start": 0.5,
            "bin_end": 0.6000000000000001,
            "count": 0
           },
           {
            "bin_start": 0.6000000000000001,
            "bin_end": 0.7000000000000001,
            "count": 0
           },
           {
            "bin_start": 0.7000000000000001,
            "bin_end": 0.8,
            "count": 0
           },
           {
            "bin_start": 0.8,
            "bin_end": 0.9,
            "count": 0
           },
           {
            "bin_start": 0.9,
            "bin_end": 1,
            "count": 4
           }
          ]
         }
        },
        {
         "name": "THOUS",
         "dtype": "int64",
         "stats": {
          "unique_count": 1,
          "nan_count": 0,
          "min": "1000",
          "max": "1000",
          "histogram": [
           {
            "bin_start": 999.5,
            "bin_end": 999.6,
            "count": 0
           },
           {
            "bin_start": 999.6,
            "bin_end": 999.7,
            "count": 0
           },
           {
            "bin_start": 999.7,
            "bin_end": 999.8,
            "count": 0
           },
           {
            "bin_start": 999.8,
            "bin_end": 999.9,
            "count": 0
           },
           {
            "bin_start": 999.9,
            "bin_end": 1000,
            "count": 0
           },
           {
            "bin_start": 1000,
            "bin_end": 1000.1,
            "count": 10
           },
           {
            "bin_start": 1000.1,
            "bin_end": 1000.2,
            "count": 0
           },
           {
            "bin_start": 1000.2,
            "bin_end": 1000.3,
            "count": 0
           },
           {
            "bin_start": 1000.3,
            "bin_end": 1000.4,
            "count": 0
           },
           {
            "bin_start": 1000.4,
            "bin_end": 1000.5,
            "count": 0
           }
          ]
         }
        },
        {
         "name": "NEIGNO",
         "dtype": "int64",
         "stats": {
          "unique_count": 10,
          "nan_count": 0,
          "min": "1010",
          "max": "1023",
          "histogram": [
           {
            "bin_start": 1010,
            "bin_end": 1011.3,
            "count": 2
           },
           {
            "bin_start": 1011.3,
            "bin_end": 1012.6,
            "count": 1
           },
           {
            "bin_start": 1012.6,
            "bin_end": 1013.9,
            "count": 1
           },
           {
            "bin_start": 1013.9,
            "bin_end": 1015.2,
            "count": 0
           },
           {
            "bin_start": 1015.2,
            "bin_end": 1016.5,
            "count": 1
           },
           {
            "bin_start": 1016.5,
            "bin_end": 1017.8,
            "count": 0
           },
           {
            "bin_start": 1017.8,
            "bin_end": 1019.1,
            "count": 2
           },
           {
            "bin_start": 1019.1,
            "bin_end": 1020.4,
            "count": 0
           },
           {
            "bin_start": 1020.4,
            "bin_end": 1021.7,
            "count": 1
           },
           {
            "bin_start": 1021.7,
            "bin_end": 1023,
            "count": 2
           }
          ]
         }
        },
        {
         "name": "geometry",
         "dtype": "geometry",
         "stats": {
          "unique_count": 10,
          "nan_count": 0,
          "categories": [
           {
            "name": "POLYGON ((9.333296775817869 13.2724199295044, 9.67100715637207 13.2736101150513, 9.677009582519529 13.2965898513794, 9.7721061706543 13.2921104431152, 10.0276699066162 13.2985401153564, 9.950613975524901 12.9838304519653, 10.0045604705811 12.9768295288086, 10.0825099945068 13.0337696075439, 10.0836496353149 13.0198698043823, 10.0868196487427 12.9814300537109, 10.0891704559326 12.9528102874756, 10.0916299819946 12.9230403900146, 10.0935096740723 12.9002199172974, 10.0954303741455 12.8768997192383, 10.0154399871826 12.7240495681763, 9.763668060302731 12.6731300354004, 9.72367477416992 12.5951995849609, 9.55582809448242 12.5951900482178, 9.47149753570557 12.5957098007202, 9.38600540161133 12.5962400436401, 9.383021354675289 12.6272096633911, 9.258048057556151 12.6306104660034, 9.124277114868161 12.6342401504517, 9.146787643432621 12.6587400436401, 9.166311264038089 12.6799802780151, 9.187246322631839 12.7091703414917, 9.20620822906494 12.7588396072388, 9.21353244781494 12.7780303955078, 9.22088527679443 12.8057203292847, 9.2333869934082 12.8640003204346, 9.23626708984375 12.8762798309326, 9.333296775817869 13.2724199295044))",
            "count": 1
           },
           {
            "name": "POLYGON ((10.0825099945068 13.0337696075439, 10.0924997329712 13.0527496337891, 10.1264896392822 13.0907096862793, 10.1824598312378 13.1576499938965, 10.2674198150635 13.2545499801636, 10.2893896102905 13.2475500106812, 10.3163604736328 13.2445497512817, 10.3323497772217 13.2395496368408, 10.368260383606 13.2464303970337, 10.3942899703979 13.2465400695801, 10.4172697067261 13.247540473938, 10.4502401351929 13.2515296936035, 10.4752197265625 13.2615203857422, 10.4752197265625 13.2725095748901, 10.5341596603394 13.2714996337891, 10.5661296844482 13.2714996337891, 10.6030902862549 13.2655000686646, 10.6320600509644 13.2634897232056, 10.6390495300293 13.2445096969604, 10.640040397644 13.2195301055908, 10.6490201950073 13.1995496749878, 10.6460103988647 13.1765699386597, 10.6470098495483 13.1575899124146, 10.6459999084473 13.1445999145508, 10.6379995346069 13.1296100616455, 10.6389904022217 13.1046304702759, 10.6319799423218 13.0706596374512, 10.6269798278809 13.0516796112061, 10.6279697418213 13.0267000198364, 10.6319599151611 13.0087203979492, 10.6339502334595 12.9837398529053, 10.6289300918579 12.945779800415, 10.6399097442627 12.9188003540039, 10.637900352478 12.8908195495605, 10.6458902359009 12.8658399581909, 10.6478700637817 12.8428602218628, 10.6496801376343 12.8301801681519, 10.5010995864868 12.8053197860718, 10.3565998077393 12.7811403274536, 10.178409576416 12.7513198852539, 10.0154399871826 12.7240495681763, 10.0954303741455 12.8768997192383, 10.0935096740723 12.9002199172974, 10.0916299819946 12.9230403900146, 10.0891704559326 12.9528102874756, 10.0868196487427 12.9814300537109, 10.0836496353149 13.0198698043823, 10.0825099945068 13.0337696075439))",
            "count": 1
           },
           {
            "name": "8 others",
            "count": 8
           }
          ]
         }
        },
        {
         "name": "_deepnote_index_column",
         "dtype": "int64"
        }
       ],
       "rows": [
        {
         "AREA": 0.500755,
         "PERIMETER": 3.169707,
         "COLUMBUS_": 10,
         "COLUMBUS_I": 18,
         "POLYID": 9,
         "NEIG": 18,
         "HOVAL": 52.599998,
         "INC": 17.586,
         "CRIME": 30.515917,
         "OPEN": 0.527488,
         "PLUMB": 0.890736,
         "DISCBD": 3.17,
         "X": 43.439999,
         "Y": 35.919998,
         "NSA": 1,
         "NSB": 1,
         "EW": 1,
         "CP": 0,
         "THOUS": 1000,
         "NEIGNO": 1018,
         "geometry": "POLYGON ((9.333296775817869 13.2724199295044, 9.67100715637207 13.2736101150513, 9.677009582519529 13.2965898513794, 9.7721061706543 13.2921104431152, 10.0276699066162 13.2985401153564, 9.950613975524901 12.9838304519653, 10.0045604705811 12.9768295288086, 10.0825099945068 13.0337696075439, 10.0836496353149 13.0198698043823, 10.0868196487427 12.9814300537109, 10.0891704559326 12.9528102874756, 10.0916299819946 12.9230403900146, 10.0935096740723 12.9002199172974, 10.0954303741455 12.8768997192383, 10.0154399871826 12.7240495681763, 9.763668060302731 12.6731300354004, 9.72367477416992 12.5951995849609, 9.55582809448242 12.5951900482178, 9.47149753570557 12.5957098007202, 9.38600540161133 12.5962400436401, 9.383021354675289 12.6272096633911, 9.258048057556151 12.6306104660034, 9.124277114868161 12.6342401504517, 9.146787643432621 12.6587400436401, 9.166311264038089 12.6799802780151, 9.187246322631839 12.7091703414917, 9.20620822906494 12.7588396072388, 9.21353244781494 12.7780303955078, …",
         "_deepnote_index_column": 8
        },
        {
         "AREA": 0.246689,
         "PERIMETER": 2.087235,
         "COLUMBUS_": 11,
         "COLUMBUS_I": 10,
         "POLYID": 10,
         "NEIG": 10,
         "HOVAL": 96.400002,
         "INC": 13.598,
         "CRIME": 34.000835,
         "OPEN": 1.548348,
         "PLUMB": 0.557724,
         "DISCBD": 4.33,
         "X": 47.610001,
         "Y": 36.419998,
         "NSA": 1,
         "NSB": 1,
         "EW": 1,
         "CP": 0,
         "THOUS": 1000,
         "NEIGNO": 1010,
         "geometry": "POLYGON ((10.0825099945068 13.0337696075439, 10.0924997329712 13.0527496337891, 10.1264896392822 13.0907096862793, 10.1824598312378 13.1576499938965, 10.2674198150635 13.2545499801636, 10.2893896102905 13.2475500106812, 10.3163604736328 13.2445497512817, 10.3323497772217 13.2395496368408, 10.368260383606 13.2464303970337, 10.3942899703979 13.2465400695801, 10.4172697067261 13.247540473938, 10.4502401351929 13.2515296936035, 10.4752197265625 13.2615203857422, 10.4752197265625 13.2725095748901, 10.5341596603394 13.2714996337891, 10.5661296844482 13.2714996337891, 10.6030902862549 13.2655000686646, 10.6320600509644 13.2634897232056, 10.6390495300293 13.2445096969604, 10.640040397644 13.2195301055908, 10.6490201950073 13.1995496749878, 10.6460103988647 13.1765699386597, 10.6470098495483 13.1575899124146, 10.6459999084473 13.1445999145508, 10.6379995346069 13.1296100616455, 10.6389904022217 13.1046304702759, 10.6319799423218 13.0706596374512, 10.6269798278809 13.0516796112061, 10.627969741…",
         "_deepnote_index_column": 9
        },
        {
         "AREA": 0.102087,
         "PERIMETER": 1.382359,
         "COLUMBUS_": 18,
         "COLUMBUS_I": 11,
         "POLYID": 17,
         "NEIG": 11,
         "HOVAL": 41.75,
         "INC": 9.798,
         "CRIME": 36.868774,
         "OPEN": 0.448232,
         "PLUMB": 1.619745,
         "DISCBD": 4.47,
         "X": 48.580002,
         "Y": 34.459999,
         "NSA": 1,
         "NSB": 1,
         "EW": 1,
         "CP": 0,
         "THOUS": 1000,
         "NEIGNO": 1011,
         "geometry": "POLYGON ((10.3565998077393 12.7811403274536, 10.5010995864868 12.8053197860718, 10.6496801376343 12.8301801681519, 10.7028198242188 12.8388595581055, 10.7097902297974 12.7749099731445, 10.6648197174072 12.7629299163818, 10.6697998046875 12.7039804458618, 10.6677703857422 12.6480302810669, 10.6669702529907 12.5950298309326, 10.6673402786255 12.5801095962524, 10.6696996688843 12.4831800460815, 10.4217500686646 12.4402599334717, 10.4209899902344 12.5781297683716, 10.3560600280762 12.5981197357178, 10.3563899993896 12.712010383606, 10.3565998077393 12.7811403274536))",
         "_deepnote_index_column": 16
        },
        {
         "AREA": 0.192891,
         "PERIMETER": 1.992717,
         "COLUMBUS_": 23,
         "COLUMBUS_I": 19,
         "POLYID": 22,
         "NEIG": 19,
         "HOVAL": 30.450001,
         "INC": 11.709,
         "CRIME": 33.705048,
         "OPEN": 4.539754,
         "PLUMB": 1.785714,
         "DISCBD": 2.45,
         "X": 43.369999,
         "Y": 33.459999,
         "NSA": 1,
         "NSB": 1,
         "EW": 1,
         "CP": 1,
         "THOUS": 1000,
         "NEIGNO": 1019,
         "geometry": "POLYGON ((9.38600540161133 12.5962400436401, 9.47149753570557 12.5957098007202, 9.55582809448242 12.5951900482178, 9.72367477416992 12.5951995849609, 9.763668060302731 12.6731300354004, 10.0154399871826 12.7240495681763, 9.933468818664551 12.5994100570679, 9.94119358062744 12.5121297836304, 9.93568801879883 12.5018701553345, 9.84108352661133 12.3147401809692, 9.656930923461911 12.2740297317505, 9.468775749206539 12.2345504760742, 9.394844055175779 12.2265596389771, 9.386472702026371 12.347279548645, 9.385739326477051 12.3616399765015, 9.38095188140869 12.4553699493408, 9.35797786712646 12.4623603820801, 9.35901927947998 12.5652704238892, 9.38600540161133 12.5962400436401))",
         "_deepnote_index_column": 21
        },
        {
         "AREA": 0.24712,
         "PERIMETER": 2.147528,
         "COLUMBUS_": 24,
         "COLUMBUS_I": 12,
         "POLYID": 23,
         "NEIG": 12,
         "HOVAL": 47.733002,
         "INC": 21.155001,
         "CRIME": 20.048504,
         "OPEN": 0.532632,
         "PLUMB": 0.216763,
         "DISCBD": 4.78,
         "X": 49.610001,
         "Y": 32.650002,
         "NSA": 0,
         "NSB": 0,
         "EW": 1,
         "CP": 0,
         "THOUS": 1000,
         "NEIGNO": 1012,
         "geometry": "POLYGON ((10.6677703857422 12.6480302810669, 10.7766704559326 12.6520099639893, 10.8875598907471 12.6440095901489, 10.8884897232056 12.4921398162842, 10.8844404220581 12.3492698669434, 10.8843803405762 12.1934099197388, 10.8763198852539 12.037540435791, 10.6408996582031 12.0131196975708, 10.4242496490479 11.9906396865845, 10.4217500686646 12.4402599334717, 10.6696996688843 12.4831800460815, 10.6673402786255 12.5801095962524, 10.6669702529907 12.5950298309326, 10.6677703857422 12.6480302810669))",
         "_deepnote_index_column": 22
        },
        {
         "AREA": 0.137802,
         "PERIMETER": 1.780751,
         "COLUMBUS_": 28,
         "COLUMBUS_I": 21,
         "POLYID": 27,
         "NEIG": 21,
         "HOVAL": 34.099998,
         "INC": 10.822,
         "CRIME": 52.79443,
         "OPEN": 19.368099,
         "PLUMB": 1.483516,
         "DISCBD": 2.24,
         "X": 43.950001,
         "Y": 31.610001,
         "NSA": 0,
         "NSB": 0,
         "EW": 1,
         "CP": 1,
         "THOUS": 1000,
         "NEIGNO": 1021,
         "geometry": "POLYGON ((9.468775749206539 12.2345504760742, 9.656930923461911 12.2740297317505, 9.84108352661133 12.3147401809692, 9.96633243560791 12.3413896560669, 10.0012302398682 12.170539855957, 9.88435077667236 12.1915302276611, 9.89287853240967 12.1738500595093, 9.89995193481445 12.1636896133423, 9.914779663085939 12.1423902511597, 9.9562931060791 12.0827503204346, 9.991960525512701 12.0315103530884, 10.0071601867676 12.0096797943115, 9.755396842956539 12.0049295425415, 9.480667114257811 12.0027503967285, 9.48196220397949 12.0657796859741, 9.47841644287109 12.1618204116821, 9.468775749206539 12.2345504760742))",
         "_deepnote_index_column": 26
        },
        {
         "AREA": 0.18558,
         "PERIMETER": 2.108951,
         "COLUMBUS_": 33,
         "COLUMBUS_I": 13,
         "POLYID": 32,
         "NEIG": 13,
         "HOVAL": 40.299999,
         "INC": 18.941999,
         "CRIME": 19.145592,
         "OPEN": 2.221022,
         "PLUMB": 0.255102,
         "DISCBD": 4.76,
         "X": 50.110001,
         "Y": 29.91,
         "NSA": 0,
         "NSB": 0,
         "EW": 1,
         "CP": 0,
         "THOUS": 1000,
         "NEIGNO": 1013,
         "geometry": "POLYGON ((10.4242496490479 11.9906396865845, 10.6408996582031 12.0131196975708, 10.8763198852539 12.037540435791, 10.886269569397 11.9466199874878, 10.9152402877808 11.9416198730469, 10.9322204589844 11.9386196136475, 10.9631900787354 11.9406204223633, 10.9831695556641 11.936619758606, 10.9951601028442 11.9376201629639, 11.0450801849365 11.8536796569824, 11.1129703521729 11.7617597579956, 11.2048301696777 11.6388502120972, 11.1269102096558 11.6338701248169, 11.0739698410034 11.6578502655029, 10.9740695953369 11.6618604660034, 10.9521198272705 11.7278099060059, 10.8782196044922 11.7232599258423, 10.8062601089478 11.7188301086426, 10.7833595275879 11.7195501327515, 10.766209602356 11.7200803756714, 10.6773796081543 11.7228498458862, 10.6563997268677 11.7228498458862, 10.6134595870972 11.7232999801636, 10.5605001449585 11.7238597869873, 10.531530380249 11.7438497543335, 10.4256401062012 11.7418603897095, 10.4242496490479 11.9906396865845))",
         "_deepnote_index_column": 31
        },
        {
         "AREA": 0.087472,
         "PERIMETER": 1.507971,
         "COLUMBUS_": 34,
         "COLUMBUS_I": 22,
         "POLYID": 33,
         "NEIG": 22,
         "HOVAL": 23.6,
         "INC": 9.918,
         "CRIME": 41.968163,
         "OPEN": 0,
         "PLUMB": 1.023891,
         "DISCBD": 2.28,
         "X": 44.099998,
         "Y": 30.4,
         "NSA": 0,
         "NSB": 0,
         "EW": 1,
         "CP": 1,
         "THOUS": 1000,
         "NEIGNO": 1022,
         "geometry": "POLYGON ((9.480667114257811 12.0027503967285, 9.755396842956539 12.0049295425415, 10.0071601867676 12.0096797943115, 10.0242204666138 11.9623098373413, 10.0420799255371 11.9127597808838, 10.0489101409912 11.8587999343872, 10.0492897033691 11.8228302001953, 10.049750328064 11.7789602279663, 10.0499095916748 11.7629499435425, 10.0264797210693 11.7876996994019, 9.98611545562744 11.8028602600098, 9.97339344024658 11.8090600967407, 9.9251594543457 11.8238496780396, 9.877091407775881 11.8441801071167, 9.859211921691889 11.8517398834229, 9.831770896911619 11.8588199615479, 9.80029964447021 11.8668298721313, 9.639468193054199 11.8632497787476, 9.489535331726071 11.8599195480347, 9.488198280334471 11.8814496994019, 9.482346534729 11.9756898880005, 9.480667114257811 12.0027503967285))",
         "_deepnote_index_column": 32
        },
        {
         "AREA": 0.175453,
         "PERIMETER": 1.974937,
         "COLUMBUS_": 36,
         "COLUMBUS_I": 23,
         "POLYID": 35,
         "NEIG": 23,
         "HOVAL": 27,
         "INC": 12.814,
         "CRIME": 39.175053,
         "OPEN": 4.220401,
         "PLUMB": 0.633675,
         "DISCBD": 2.37,
         "X": 43.700001,
         "Y": 29.18,
         "NSA": 0,
         "NSB": 0,
         "EW": 1,
         "CP": 1,
         "THOUS": 1000,
         "NEIGNO": 1023,
         "geometry": "POLYGON ((9.489535331726071 11.8599195480347, 9.639468193054199 11.8632497787476, 9.80029964447021 11.8668298721313, 9.831770896911619 11.8588199615479, 9.859211921691889 11.8517398834229, 9.877091407775881 11.8441801071167, 9.9251594543457 11.8238496780396, 9.97339344024658 11.8090600967407, 9.98611545562744 11.8028602600098, 10.0264797210693 11.7876996994019, 10.0499095916748 11.7629499435425, 10.0565900802612 11.7439098358154, 9.917131423950201 11.7379302978516, 9.918045997619631 11.5311098098755, 9.50050640106201 11.5420198440552, 9.34161472320557 11.5461702346802, 9.343691825866699 11.7349996566772, 9.492551803588871 11.7519702911377, 9.489535331726071 11.8599195480347))",
         "_deepnote_index_column": 34
        },
        {
         "AREA": 0.302908,
         "PERIMETER": 2.285487,
         "COLUMBUS_": 41,
         "COLUMBUS_I": 16,
         "POLYID": 40,
         "NEIG": 16,
         "HOVAL": 61.950001,
         "INC": 29.833,
         "CRIME": 16.241299,
         "OPEN": 6.45131,
         "PLUMB": 0.132743,
         "DISCBD": 4.4,
         "X": 48.439999,
         "Y": 27.93,
         "NSA": 0,
         "NSB": 0,
         "EW": 1,
         "CP": 0,
         "THOUS": 1000,
         "NEIGNO": 1016,
         "geometry": "POLYGON ((10.0565900802612 11.7439098358154, 10.252799987793 11.7428197860718, 10.4256401062012 11.7418603897095, 10.531530380249 11.7438497543335, 10.5605001449585 11.7238597869873, 10.6134595870972 11.7232999801636, 10.6563997268677 11.7228498458862, 10.6773796081543 11.7228498458862, 10.766209602356 11.7200803756714, 10.7833595275879 11.7195501327515, 10.8062601089478 11.7188301086426, 10.8022403717041 11.6748695373535, 10.8032197952271 11.6615896224976, 10.8060903549194 11.6209096908569, 10.8081998825073 11.590950012207, 10.808690071106 11.5746698379517, 10.8049297332764 11.5589895248413, 10.7991895675659 11.5349998474121, 10.8021402359009 11.4340801239014, 10.8020601272583 11.2322597503662, 10.7341203689575 11.2282695770264, 10.6871700286865 11.2222900390625, 10.6132402420044 11.2163000106812, 10.5952501296997 11.2133102416992, 10.555290222168 11.2202997207642, 10.4803695678711 11.2213096618652, 10.4214296340942 11.232310295105, 10.3644895553589 11.2543001174927, 10.3435201644897…",
         "_deepnote_index_column": 39
        }
       ]
      },
      "text/plain": "        AREA  PERIMETER  COLUMBUS_  COLUMBUS_I  POLYID  NEIG      HOVAL  \\\n8   0.500755   3.169707         10          18       9    18  52.599998   \n9   0.246689   2.087235         11          10      10    10  96.400002   \n16  0.102087   1.382359         18          11      17    11  41.750000   \n21  0.192891   1.992717         23          19      22    19  30.450001   \n22  0.247120   2.147528         24          12      23    12  47.733002   \n26  0.137802   1.780751         28          21      27    21  34.099998   \n31  0.185580   2.108951         33          13      32    13  40.299999   \n32  0.087472   1.507971         34          22      33    22  23.600000   \n34  0.175453   1.974937         36          23      35    23  27.000000   \n39  0.302908   2.285487         41          16      40    16  61.950001   \n\n          INC      CRIME       OPEN     PLUMB  DISCBD          X          Y  \\\n8   17.586000  30.515917   0.527488  0.890736    3.17  43.439999  35.919998   \n9   13.598000  34.000835   1.548348  0.557724    4.33  47.610001  36.419998   \n16   9.798000  36.868774   0.448232  1.619745    4.47  48.580002  34.459999   \n21  11.709000  33.705048   4.539754  1.785714    2.45  43.369999  33.459999   \n22  21.155001  20.048504   0.532632  0.216763    4.78  49.610001  32.650002   \n26  10.822000  52.794430  19.368099  1.483516    2.24  43.950001  31.610001   \n31  18.941999  19.145592   2.221022  0.255102    4.76  50.110001  29.910000   \n32   9.918000  41.968163   0.000000  1.023891    2.28  44.099998  30.400000   \n34  12.814000  39.175053   4.220401  0.633675    2.37  43.700001  29.180000   \n39  29.833000  16.241299   6.451310  0.132743    4.40  48.439999  27.930000   \n\n    NSA  NSB  EW  CP  THOUS  NEIGNO  \\\n8     1    1   1   0   1000    1018   \n9     1    1   1   0   1000    1010   \n16    1    1   1   0   1000    1011   \n21    1    1   1   1   1000    1019   \n22    0    0   1   0   1000    1012   \n26    0    0   1   1   1000    1021   \n31    0    0   1   0   1000    1013   \n32    0    0   1   1   1000    1022   \n34    0    0   1   1   1000    1023   \n39    0    0   1   0   1000    1016   \n\n                                             geometry  \n8   POLYGON ((9.33330 13.27242, 9.67101 13.27361, ...  \n9   POLYGON ((10.08251 13.03377, 10.09250 13.05275...  \n16  POLYGON ((10.35660 12.78114, 10.50110 12.80532...  \n21  POLYGON ((9.38601 12.59624, 9.47150 12.59571, ...  \n22  POLYGON ((10.66777 12.64803, 10.77667 12.65201...  \n26  POLYGON ((9.46878 12.23455, 9.65693 12.27403, ...  \n31  POLYGON ((10.42425 11.99064, 10.64090 12.01312...  \n32  POLYGON ((9.48067 12.00275, 9.75540 12.00493, ...  \n34  POLYGON ((9.48954 11.85992, 9.63947 11.86325, ...  \n39  POLYGON ((10.05659 11.74391, 10.25280 11.74282...  ",
      "text/html": "<div>\n<style scoped>\n    .dataframe tbody tr th:only-of-type {\n        vertical-align: middle;\n    }\n\n    .dataframe tbody tr th {\n        vertical-align: top;\n    }\n\n    .dataframe thead th {\n        text-align: right;\n    }\n</style>\n<table border=\"1\" class=\"dataframe\">\n  <thead>\n    <tr style=\"text-align: right;\">\n      <th></th>\n      <th>AREA</th>\n      <th>PERIMETER</th>\n      <th>COLUMBUS_</th>\n      <th>COLUMBUS_I</th>\n      <th>POLYID</th>\n      <th>NEIG</th>\n      <th>HOVAL</th>\n      <th>INC</th>\n      <th>CRIME</th>\n      <th>OPEN</th>\n      <th>PLUMB</th>\n      <th>DISCBD</th>\n      <th>X</th>\n      <th>Y</th>\n      <th>NSA</th>\n      <th>NSB</th>\n      <th>EW</th>\n      <th>CP</th>\n      <th>THOUS</th>\n      <th>NEIGNO</th>\n      <th>geometry</th>\n    </tr>\n  </thead>\n  <tbody>\n    <tr>\n      <th>8</th>\n      <td>0.500755</td>\n      <td>3.169707</td>\n      <td>10</td>\n      <td>18</td>\n      <td>9</td>\n      <td>18</td>\n      <td>52.599998</td>\n      <td>17.586000</td>\n      <td>30.515917</td>\n      <td>0.527488</td>\n      <td>0.890736</td>\n      <td>3.17</td>\n      <td>43.439999</td>\n      <td>35.919998</td>\n      <td>1</td>\n      <td>1</td>\n      <td>1</td>\n      <td>0</td>\n      <td>1000</td>\n      <td>1018</td>\n      <td>POLYGON ((9.33330 13.27242, 9.67101 13.27361, ...</td>\n    </tr>\n    <tr>\n      <th>9</th>\n      <td>0.246689</td>\n      <td>2.087235</td>\n      <td>11</td>\n      <td>10</td>\n      <td>10</td>\n      <td>10</td>\n      <td>96.400002</td>\n      <td>13.598000</td>\n      <td>34.000835</td>\n      <td>1.548348</td>\n      <td>0.557724</td>\n      <td>4.33</td>\n      <td>47.610001</td>\n      <td>36.419998</td>\n      <td>1</td>\n      <td>1</td>\n      <td>1</td>\n      <td>0</td>\n      <td>1000</td>\n      <td>1010</td>\n      <td>POLYGON ((10.08251 13.03377, 10.09250 13.05275...</td>\n    </tr>\n    <tr>\n      <th>16</th>\n      <td>0.102087</td>\n      <td>1.382359</td>\n      <td>18</td>\n      <td>11</td>\n      <td>17</td>\n      <td>11</td>\n      <td>41.750000</td>\n      <td>9.798000</td>\n      <td>36.868774</td>\n      <td>0.448232</td>\n      <td>1.619745</td>\n      <td>4.47</td>\n      <td>48.580002</td>\n      <td>34.459999</td>\n      <td>1</td>\n      <td>1</td>\n      <td>1</td>\n      <td>0</td>\n      <td>1000</td>\n      <td>1011</td>\n      <td>POLYGON ((10.35660 12.78114, 10.50110 12.80532...</td>\n    </tr>\n    <tr>\n      <th>21</th>\n      <td>0.192891</td>\n      <td>1.992717</td>\n      <td>23</td>\n      <td>19</td>\n      <td>22</td>\n      <td>19</td>\n      <td>30.450001</td>\n      <td>11.709000</td>\n      <td>33.705048</td>\n      <td>4.539754</td>\n      <td>1.785714</td>\n      <td>2.45</td>\n      <td>43.369999</td>\n      <td>33.459999</td>\n      <td>1</td>\n      <td>1</td>\n      <td>1</td>\n      <td>1</td>\n      <td>1000</td>\n      <td>1019</td>\n      <td>POLYGON ((9.38601 12.59624, 9.47150 12.59571, ...</td>\n    </tr>\n    <tr>\n      <th>22</th>\n      <td>0.247120</td>\n      <td>2.147528</td>\n      <td>24</td>\n      <td>12</td>\n      <td>23</td>\n      <td>12</td>\n      <td>47.733002</td>\n      <td>21.155001</td>\n      <td>20.048504</td>\n      <td>0.532632</td>\n      <td>0.216763</td>\n      <td>4.78</td>\n      <td>49.610001</td>\n      <td>32.650002</td>\n      <td>0</td>\n      <td>0</td>\n      <td>1</td>\n      <td>0</td>\n      <td>1000</td>\n      <td>1012</td>\n      <td>POLYGON ((10.66777 12.64803, 10.77667 12.65201...</td>\n    </tr>\n    <tr>\n      <th>26</th>\n      <td>0.137802</td>\n      <td>1.780751</td>\n      <td>28</td>\n      <td>21</td>\n      <td>27</td>\n      <td>21</td>\n      <td>34.099998</td>\n      <td>10.822000</td>\n      <td>52.794430</td>\n      <td>19.368099</td>\n      <td>1.483516</td>\n      <td>2.24</td>\n      <td>43.950001</td>\n      <td>31.610001</td>\n      <td>0</td>\n      <td>0</td>\n      <td>1</td>\n      <td>1</td>\n      <td>1000</td>\n      <td>1021</td>\n      <td>POLYGON ((9.46878 12.23455, 9.65693 12.27403, ...</td>\n    </tr>\n    <tr>\n      <th>31</th>\n      <td>0.185580</td>\n      <td>2.108951</td>\n      <td>33</td>\n      <td>13</td>\n      <td>32</td>\n      <td>13</td>\n      <td>40.299999</td>\n      <td>18.941999</td>\n      <td>19.145592</td>\n      <td>2.221022</td>\n      <td>0.255102</td>\n      <td>4.76</td>\n      <td>50.110001</td>\n      <td>29.910000</td>\n      <td>0</td>\n      <td>0</td>\n      <td>1</td>\n      <td>0</td>\n      <td>1000</td>\n      <td>1013</td>\n      <td>POLYGON ((10.42425 11.99064, 10.64090 12.01312...</td>\n    </tr>\n    <tr>\n      <th>32</th>\n      <td>0.087472</td>\n      <td>1.507971</td>\n      <td>34</td>\n      <td>22</td>\n      <td>33</td>\n      <td>22</td>\n      <td>23.600000</td>\n      <td>9.918000</td>\n      <td>41.968163</td>\n      <td>0.000000</td>\n      <td>1.023891</td>\n      <td>2.28</td>\n      <td>44.099998</td>\n      <td>30.400000</td>\n      <td>0</td>\n      <td>0</td>\n      <td>1</td>\n      <td>1</td>\n      <td>1000</td>\n      <td>1022</td>\n      <td>POLYGON ((9.48067 12.00275, 9.75540 12.00493, ...</td>\n    </tr>\n    <tr>\n      <th>34</th>\n      <td>0.175453</td>\n      <td>1.974937</td>\n      <td>36</td>\n      <td>23</td>\n      <td>35</td>\n      <td>23</td>\n      <td>27.000000</td>\n      <td>12.814000</td>\n      <td>39.175053</td>\n      <td>4.220401</td>\n      <td>0.633675</td>\n      <td>2.37</td>\n      <td>43.700001</td>\n      <td>29.180000</td>\n      <td>0</td>\n      <td>0</td>\n      <td>1</td>\n      <td>1</td>\n      <td>1000</td>\n      <td>1023</td>\n      <td>POLYGON ((9.48954 11.85992, 9.63947 11.86325, ...</td>\n    </tr>\n    <tr>\n      <th>39</th>\n      <td>0.302908</td>\n      <td>2.285487</td>\n      <td>41</td>\n      <td>16</td>\n      <td>40</td>\n      <td>16</td>\n      <td>61.950001</td>\n      <td>29.833000</td>\n      <td>16.241299</td>\n      <td>6.451310</td>\n      <td>0.132743</td>\n      <td>4.40</td>\n      <td>48.439999</td>\n      <td>27.930000</td>\n      <td>0</td>\n      <td>0</td>\n      <td>1</td>\n      <td>0</td>\n      <td>1000</td>\n      <td>1016</td>\n      <td>POLYGON ((10.05659 11.74391, 10.25280 11.74282...</td>\n    </tr>\n  </tbody>\n</table>\n</div>"
     },
     "metadata": {}
    }
   ],
   "execution_count": 14
  },
  {
   "cell_type": "code",
   "source": "gdf.query('POLYID in @self_and_neighbors')",
   "metadata": {
    "cell_id": "19d34c7676a9485492fa3ae794bb8cd4",
    "tags": [],
    "deepnote_to_be_reexecuted": false,
    "source_hash": "ce37cc97",
    "execution_start": 1653788950184,
    "execution_millis": 52,
    "deepnote_table_state": {
     "pageSize": 25,
     "pageIndex": 0,
     "filters": [],
     "sortBy": []
    },
    "deepnote_table_loading": false,
    "deepnote_cell_type": "code",
    "deepnote_cell_height": 654.953125
   },
   "outputs": [
    {
     "output_type": "execute_result",
     "execution_count": 15,
     "data": {
      "application/vnd.deepnote.dataframe.v3+json": {
       "column_count": 21,
       "row_count": 11,
       "columns": [
        {
         "name": "AREA",
         "dtype": "float64",
         "stats": {
          "unique_count": 11,
          "nan_count": 0,
          "min": "0.087472",
          "max": "0.500755",
          "histogram": [
           {
            "bin_start": 0.087472,
            "bin_end": 0.12880029999999998,
            "count": 2
           },
           {
            "bin_start": 0.12880029999999998,
            "bin_end": 0.1701286,
            "count": 1
           },
           {
            "bin_start": 0.1701286,
            "bin_end": 0.2114569,
            "count": 3
           },
           {
            "bin_start": 0.2114569,
            "bin_end": 0.2527852,
            "count": 2
           },
           {
            "bin_start": 0.2527852,
            "bin_end": 0.29411349999999997,
            "count": 0
           },
           {
            "bin_start": 0.29411349999999997,
            "bin_end": 0.3354418,
            "count": 1
           },
           {
            "bin_start": 0.3354418,
            "bin_end": 0.3767701,
            "count": 0
           },
           {
            "bin_start": 0.3767701,
            "bin_end": 0.4180984,
            "count": 0
           },
           {
            "bin_start": 0.4180984,
            "bin_end": 0.45942669999999997,
            "count": 1
           },
           {
            "bin_start": 0.45942669999999997,
            "bin_end": 0.500755,
            "count": 1
           }
          ]
         }
        },
        {
         "name": "PERIMETER",
         "dtype": "float64",
         "stats": {
          "unique_count": 11,
          "nan_count": 0,
          "min": "1.382359",
          "max": "3.174601",
          "histogram": [
           {
            "bin_start": 1.382359,
            "bin_end": 1.5615831999999998,
            "count": 2
           },
           {
            "bin_start": 1.5615831999999998,
            "bin_end": 1.7408074,
            "count": 0
           },
           {
            "bin_start": 1.7408074,
            "bin_end": 1.9200316,
            "count": 1
           },
           {
            "bin_start": 1.9200316,
            "bin_end": 2.0992558,
            "count": 3
           },
           {
            "bin_start": 2.0992558,
            "bin_end": 2.27848,
            "count": 2
           },
           {
            "bin_start": 2.27848,
            "bin_end": 2.4577042000000002,
            "count": 1
           },
           {
            "bin_start": 2.4577042000000002,
            "bin_end": 2.6369284,
            "count": 0
           },
           {
            "bin_start": 2.6369284,
            "bin_end": 2.8161525999999997,
            "count": 0
           },
           {
            "bin_start": 2.8161525999999997,
            "bin_end": 2.9953768,
            "count": 0
           },
           {
            "bin_start": 2.9953768,
            "bin_end": 3.174601,
            "count": 2
           }
          ]
         }
        },
        {
         "name": "COLUMBUS_",
         "dtype": "int64",
         "stats": {
          "unique_count": 11,
          "nan_count": 0,
          "min": "10",
          "max": "41",
          "histogram": [
           {
            "bin_start": 10,
            "bin_end": 13.1,
            "count": 2
           },
           {
            "bin_start": 13.1,
            "bin_end": 16.2,
            "count": 0
           },
           {
            "bin_start": 16.2,
            "bin_end": 19.3,
            "count": 1
           },
           {
            "bin_start": 19.3,
            "bin_end": 22.4,
            "count": 1
           },
           {
            "bin_start": 22.4,
            "bin_end": 25.5,
            "count": 2
           },
           {
            "bin_start": 25.5,
            "bin_end": 28.6,
            "count": 1
           },
           {
            "bin_start": 28.6,
            "bin_end": 31.7,
            "count": 0
           },
           {
            "bin_start": 31.7,
            "bin_end": 34.8,
            "count": 2
           },
           {
            "bin_start": 34.8,
            "bin_end": 37.900000000000006,
            "count": 1
           },
           {
            "bin_start": 37.900000000000006,
            "bin_end": 41,
            "count": 1
           }
          ]
         }
        },
        {
         "name": "COLUMBUS_I",
         "dtype": "int64",
         "stats": {
          "unique_count": 11,
          "nan_count": 0,
          "min": "10",
          "max": "23",
          "histogram": [
           {
            "bin_start": 10,
            "bin_end": 11.3,
            "count": 2
           },
           {
            "bin_start": 11.3,
            "bin_end": 12.6,
            "count": 1
           },
           {
            "bin_start": 12.6,
            "bin_end": 13.9,
            "count": 1
           },
           {
            "bin_start": 13.9,
            "bin_end": 15.2,
            "count": 0
           },
           {
            "bin_start": 15.2,
            "bin_end": 16.5,
            "count": 1
           },
           {
            "bin_start": 16.5,
            "bin_end": 17.8,
            "count": 1
           },
           {
            "bin_start": 17.8,
            "bin_end": 19.1,
            "count": 2
           },
           {
            "bin_start": 19.1,
            "bin_end": 20.4,
            "count": 0
           },
           {
            "bin_start": 20.4,
            "bin_end": 21.700000000000003,
            "count": 1
           },
           {
            "bin_start": 21.700000000000003,
            "bin_end": 23,
            "count": 2
           }
          ]
         }
        },
        {
         "name": "POLYID",
         "dtype": "int64",
         "stats": {
          "unique_count": 11,
          "nan_count": 0,
          "min": "9",
          "max": "40",
          "histogram": [
           {
            "bin_start": 9,
            "bin_end": 12.1,
            "count": 2
           },
           {
            "bin_start": 12.1,
            "bin_end": 15.2,
            "count": 0
           },
           {
            "bin_start": 15.2,
            "bin_end": 18.3,
            "count": 1
           },
           {
            "bin_start": 18.3,
            "bin_end": 21.4,
            "count": 1
           },
           {
            "bin_start": 21.4,
            "bin_end": 24.5,
            "count": 2
           },
           {
            "bin_start": 24.5,
            "bin_end": 27.6,
            "count": 1
           },
           {
            "bin_start": 27.6,
            "bin_end": 30.7,
            "count": 0
           },
           {
            "bin_start": 30.7,
            "bin_end": 33.8,
            "count": 2
           },
           {
            "bin_start": 33.8,
            "bin_end": 36.900000000000006,
            "count": 1
           },
           {
            "bin_start": 36.900000000000006,
            "bin_end": 40,
            "count": 1
           }
          ]
         }
        },
        {
         "name": "NEIG",
         "dtype": "int64",
         "stats": {
          "unique_count": 11,
          "nan_count": 0,
          "min": "10",
          "max": "23",
          "histogram": [
           {
            "bin_start": 10,
            "bin_end": 11.3,
            "count": 2
           },
           {
            "bin_start": 11.3,
            "bin_end": 12.6,
            "count": 1
           },
           {
            "bin_start": 12.6,
            "bin_end": 13.9,
            "count": 1
           },
           {
            "bin_start": 13.9,
            "bin_end": 15.2,
            "count": 0
           },
           {
            "bin_start": 15.2,
            "bin_end": 16.5,
            "count": 1
           },
           {
            "bin_start": 16.5,
            "bin_end": 17.8,
            "count": 1
           },
           {
            "bin_start": 17.8,
            "bin_end": 19.1,
            "count": 2
           },
           {
            "bin_start": 19.1,
            "bin_end": 20.4,
            "count": 0
           },
           {
            "bin_start": 20.4,
            "bin_end": 21.700000000000003,
            "count": 1
           },
           {
            "bin_start": 21.700000000000003,
            "bin_end": 23,
            "count": 2
           }
          ]
         }
        },
        {
         "name": "HOVAL",
         "dtype": "float64",
         "stats": {
          "unique_count": 11,
          "nan_count": 0,
          "min": "23.6",
          "max": "96.400002",
          "histogram": [
           {
            "bin_start": 23.6,
            "bin_end": 30.8800002,
            "count": 3
           },
           {
            "bin_start": 30.8800002,
            "bin_end": 38.1600004,
            "count": 1
           },
           {
            "bin_start": 38.1600004,
            "bin_end": 45.440000600000005,
            "count": 2
           },
           {
            "bin_start": 45.440000600000005,
            "bin_end": 52.72000080000001,
            "count": 2
           },
           {
            "bin_start": 52.72000080000001,
            "bin_end": 60.000001000000005,
            "count": 0
           },
           {
            "bin_start": 60.000001000000005,
            "bin_end": 67.28000120000002,
            "count": 1
           },
           {
            "bin_start": 67.28000120000002,
            "bin_end": 74.5600014,
            "count": 0
           },
           {
            "bin_start": 74.5600014,
            "bin_end": 81.84000160000001,
            "count": 1
           },
           {
            "bin_start": 81.84000160000001,
            "bin_end": 89.12000180000001,
            "count": 0
           },
           {
            "bin_start": 89.12000180000001,
            "bin_end": 96.400002,
            "count": 1
           }
          ]
         }
        },
        {
         "name": "INC",
         "dtype": "float64",
         "stats": {
          "unique_count": 11,
          "nan_count": 0,
          "min": "9.798",
          "max": "31.07",
          "histogram": [
           {
            "bin_start": 9.798,
            "bin_end": 11.9252,
            "count": 4
           },
           {
            "bin_start": 11.9252,
            "bin_end": 14.052399999999999,
            "count": 2
           },
           {
            "bin_start": 14.052399999999999,
            "bin_end": 16.1796,
            "count": 0
           },
           {
            "bin_start": 16.1796,
            "bin_end": 18.3068,
            "count": 1
           },
           {
            "bin_start": 18.3068,
            "bin_end": 20.433999999999997,
            "count": 1
           },
           {
            "bin_start": 20.433999999999997,
            "bin_end": 22.5612,
            "count": 1
           },
           {
            "bin_start": 22.5612,
            "bin_end": 24.688399999999998,
            "count": 0
           },
           {
            "bin_start": 24.688399999999998,
            "bin_end": 26.815599999999996,
            "count": 0
           },
           {
            "bin_start": 26.815599999999996,
            "bin_end": 28.9428,
            "count": 0
           },
           {
            "bin_start": 28.9428,
            "bin_end": 31.07,
            "count": 2
           }
          ]
         }
        },
        {
         "name": "CRIME",
         "dtype": "float64",
         "stats": {
          "unique_count": 11,
          "nan_count": 0,
          "min": "0.223797",
          "max": "52.79443",
          "histogram": [
           {
            "bin_start": 0.223797,
            "bin_end": 5.480860300000001,
            "count": 1
           },
           {
            "bin_start": 5.480860300000001,
            "bin_end": 10.7379236,
            "count": 0
           },
           {
            "bin_start": 10.7379236,
            "bin_end": 15.9949869,
            "count": 0
           },
           {
            "bin_start": 15.9949869,
            "bin_end": 21.252050200000003,
            "count": 3
           },
           {
            "bin_start": 21.252050200000003,
            "bin_end": 26.5091135,
            "count": 0
           },
           {
            "bin_start": 26.5091135,
            "bin_end": 31.766176800000004,
            "count": 1
           },
           {
            "bin_start": 31.766176800000004,
            "bin_end": 37.0232401,
            "count": 3
           },
           {
            "bin_start": 37.0232401,
            "bin_end": 42.2803034,
            "count": 2
           },
           {
            "bin_start": 42.2803034,
            "bin_end": 47.5373667,
            "count": 0
           },
           {
            "bin_start": 47.5373667,
            "bin_end": 52.79443,
            "count": 1
           }
          ]
         }
        },
        {
         "name": "OPEN",
         "dtype": "float64",
         "stats": {
          "unique_count": 11,
          "nan_count": 0,
          "min": "0.0",
          "max": "19.368099",
          "histogram": [
           {
            "bin_start": 0,
            "bin_end": 1.9368099,
            "count": 5
           },
           {
            "bin_start": 1.9368099,
            "bin_end": 3.8736198,
            "count": 1
           },
           {
            "bin_start": 3.8736198,
            "bin_end": 5.8104297,
            "count": 3
           },
           {
            "bin_start": 5.8104297,
            "bin_end": 7.7472396,
            "count": 1
           },
           {
            "bin_start": 7.7472396,
            "bin_end": 9.6840495,
            "count": 0
           },
           {
            "bin_start": 9.6840495,
            "bin_end": 11.6208594,
            "count": 0
           },
           {
            "bin_start": 11.6208594,
            "bin_end": 13.5576693,
            "count": 0
           },
           {
            "bin_start": 13.5576693,
            "bin_end": 15.4944792,
            "count": 0
           },
           {
            "bin_start": 15.4944792,
            "bin_end": 17.4312891,
            "count": 0
           },
           {
            "bin_start": 17.4312891,
            "bin_end": 19.368099,
            "count": 1
           }
          ]
         }
        },
        {
         "name": "PLUMB",
         "dtype": "float64",
         "stats": {
          "unique_count": 11,
          "nan_count": 0,
          "min": "0.132743",
          "max": "1.785714",
          "histogram": [
           {
            "bin_start": 0.132743,
            "bin_end": 0.29804010000000003,
            "count": 4
           },
           {
            "bin_start": 0.29804010000000003,
            "bin_end": 0.4633372,
            "count": 0
           },
           {
            "bin_start": 0.4633372,
            "bin_end": 0.6286343000000001,
            "count": 1
           },
           {
            "bin_start": 0.6286343000000001,
            "bin_end": 0.7939314,
            "count": 1
           },
           {
            "bin_start": 0.7939314,
            "bin_end": 0.9592285,
            "count": 1
           },
           {
            "bin_start": 0.9592285,
            "bin_end": 1.1245256000000001,
            "count": 1
           },
           {
            "bin_start": 1.1245256000000001,
            "bin_end": 1.2898227,
            "count": 0
           },
           {
            "bin_start": 1.2898227,
            "bin_end": 1.4551198,
            "count": 0
           },
           {
            "bin_start": 1.4551198,
            "bin_end": 1.6204169000000002,
            "count": 2
           },
           {
            "bin_start": 1.6204169000000002,
            "bin_end": 1.785714,
            "count": 1
           }
          ]
         }
        },
        {
         "name": "DISCBD",
         "dtype": "float64",
         "stats": {
          "unique_count": 11,
          "nan_count": 0,
          "min": "2.24",
          "max": "4.78",
          "histogram": [
           {
            "bin_start": 2.24,
            "bin_end": 2.494,
            "count": 4
           },
           {
            "bin_start": 2.494,
            "bin_end": 2.748,
            "count": 0
           },
           {
            "bin_start": 2.748,
            "bin_end": 3.0020000000000002,
            "count": 0
           },
           {
            "bin_start": 3.0020000000000002,
            "bin_end": 3.2560000000000002,
            "count": 1
           },
           {
            "bin_start": 3.2560000000000002,
            "bin_end": 3.5100000000000002,
            "count": 0
           },
           {
            "bin_start": 3.5100000000000002,
            "bin_end": 3.7640000000000002,
            "count": 1
           },
           {
            "bin_start": 3.7640000000000002,
            "bin_end": 4.018000000000001,
            "count": 0
           },
           {
            "bin_start": 4.018000000000001,
            "bin_end": 4.272,
            "count": 0
           },
           {
            "bin_start": 4.272,
            "bin_end": 4.526,
            "count": 3
           },
           {
            "bin_start": 4.526,
            "bin_end": 4.78,
            "count": 2
           }
          ]
         }
        },
        {
         "name": "X",
         "dtype": "float64",
         "stats": {
          "unique_count": 11,
          "nan_count": 0,
          "min": "43.369999",
          "max": "50.110001",
          "histogram": [
           {
            "bin_start": 43.369999,
            "bin_end": 44.0439992,
            "count": 4
           },
           {
            "bin_start": 44.0439992,
            "bin_end": 44.7179994,
            "count": 1
           },
           {
            "bin_start": 44.7179994,
            "bin_end": 45.3919996,
            "count": 0
           },
           {
            "bin_start": 45.3919996,
            "bin_end": 46.0659998,
            "count": 0
           },
           {
            "bin_start": 46.0659998,
            "bin_end": 46.739999999999995,
            "count": 1
           },
           {
            "bin_start": 46.739999999999995,
            "bin_end": 47.4140002,
            "count": 0
           },
           {
            "bin_start": 47.4140002,
            "bin_end": 48.0880004,
            "count": 1
           },
           {
            "bin_start": 48.0880004,
            "bin_end": 48.7620006,
            "count": 2
           },
           {
            "bin_start": 48.7620006,
            "bin_end": 49.436000799999995,
            "count": 0
           },
           {
            "bin_start": 49.436000799999995,
            "bin_end": 50.110001,
            "count": 2
           }
          ]
         }
        },
        {
         "name": "Y",
         "dtype": "float64",
         "stats": {
          "unique_count": 11,
          "nan_count": 0,
          "min": "27.93",
          "max": "36.419998",
          "histogram": [
           {
            "bin_start": 27.93,
            "bin_end": 28.7789998,
            "count": 1
           },
           {
            "bin_start": 28.7789998,
            "bin_end": 29.6279996,
            "count": 1
           },
           {
            "bin_start": 29.6279996,
            "bin_end": 30.4769994,
            "count": 2
           },
           {
            "bin_start": 30.4769994,
            "bin_end": 31.3259992,
            "count": 0
           },
           {
            "bin_start": 31.3259992,
            "bin_end": 32.174999,
            "count": 2
           },
           {
            "bin_start": 32.174999,
            "bin_end": 33.0239988,
            "count": 1
           },
           {
            "bin_start": 33.0239988,
            "bin_end": 33.8729986,
            "count": 1
           },
           {
            "bin_start": 33.8729986,
            "bin_end": 34.7219984,
            "count": 1
           },
           {
            "bin_start": 34.7219984,
            "bin_end": 35.5709982,
            "count": 0
           },
           {
            "bin_start": 35.5709982,
            "bin_end": 36.419998,
            "count": 2
           }
          ]
         }
        },
        {
         "name": "NSA",
         "dtype": "int64",
         "stats": {
          "unique_count": 2,
          "nan_count": 0,
          "min": "0",
          "max": "1",
          "histogram": [
           {
            "bin_start": 0,
            "bin_end": 0.1,
            "count": 7
           },
           {
            "bin_start": 0.1,
            "bin_end": 0.2,
            "count": 0
           },
           {
            "bin_start": 0.2,
            "bin_end": 0.30000000000000004,
            "count": 0
           },
           {
            "bin_start": 0.30000000000000004,
            "bin_end": 0.4,
            "count": 0
           },
           {
            "bin_start": 0.4,
            "bin_end": 0.5,
            "count": 0
           },
           {
            "bin_start": 0.5,
            "bin_end": 0.6000000000000001,
            "count": 0
           },
           {
            "bin_start": 0.6000000000000001,
            "bin_end": 0.7000000000000001,
            "count": 0
           },
           {
            "bin_start": 0.7000000000000001,
            "bin_end": 0.8,
            "count": 0
           },
           {
            "bin_start": 0.8,
            "bin_end": 0.9,
            "count": 0
           },
           {
            "bin_start": 0.9,
            "bin_end": 1,
            "count": 4
           }
          ]
         }
        },
        {
         "name": "NSB",
         "dtype": "int64",
         "stats": {
          "unique_count": 2,
          "nan_count": 0,
          "min": "0",
          "max": "1",
          "histogram": [
           {
            "bin_start": 0,
            "bin_end": 0.1,
            "count": 6
           },
           {
            "bin_start": 0.1,
            "bin_end": 0.2,
            "count": 0
           },
           {
            "bin_start": 0.2,
            "bin_end": 0.30000000000000004,
            "count": 0
           },
           {
            "bin_start": 0.30000000000000004,
            "bin_end": 0.4,
            "count": 0
           },
           {
            "bin_start": 0.4,
            "bin_end": 0.5,
            "count": 0
           },
           {
            "bin_start": 0.5,
            "bin_end": 0.6000000000000001,
            "count": 0
           },
           {
            "bin_start": 0.6000000000000001,
            "bin_end": 0.7000000000000001,
            "count": 0
           },
           {
            "bin_start": 0.7000000000000001,
            "bin_end": 0.8,
            "count": 0
           },
           {
            "bin_start": 0.8,
            "bin_end": 0.9,
            "count": 0
           },
           {
            "bin_start": 0.9,
            "bin_end": 1,
            "count": 5
           }
          ]
         }
        },
        {
         "name": "EW",
         "dtype": "int64",
         "stats": {
          "unique_count": 1,
          "nan_count": 0,
          "min": "1",
          "max": "1",
          "histogram": [
           {
            "bin_start": 0.5,
            "bin_end": 0.6,
            "count": 0
           },
           {
            "bin_start": 0.6,
            "bin_end": 0.7,
            "count": 0
           },
           {
            "bin_start": 0.7,
            "bin_end": 0.8,
            "count": 0
           },
           {
            "bin_start": 0.8,
            "bin_end": 0.9,
            "count": 0
           },
           {
            "bin_start": 0.9,
            "bin_end": 1,
            "count": 0
           },
           {
            "bin_start": 1,
            "bin_end": 1.1,
            "count": 11
           },
           {
            "bin_start": 1.1,
            "bin_end": 1.2000000000000002,
            "count": 0
           },
           {
            "bin_start": 1.2000000000000002,
            "bin_end": 1.3,
            "count": 0
           },
           {
            "bin_start": 1.3,
            "bin_end": 1.4,
            "count": 0
           },
           {
            "bin_start": 1.4,
            "bin_end": 1.5,
            "count": 0
           }
          ]
         }
        },
        {
         "name": "CP",
         "dtype": "int64",
         "stats": {
          "unique_count": 2,
          "nan_count": 0,
          "min": "0",
          "max": "1",
          "histogram": [
           {
            "bin_start": 0,
            "bin_end": 0.1,
            "count": 7
           },
           {
            "bin_start": 0.1,
            "bin_end": 0.2,
            "count": 0
           },
           {
            "bin_start": 0.2,
            "bin_end": 0.30000000000000004,
            "count": 0
           },
           {
            "bin_start": 0.30000000000000004,
            "bin_end": 0.4,
            "count": 0
           },
           {
            "bin_start": 0.4,
            "bin_end": 0.5,
            "count": 0
           },
           {
            "bin_start": 0.5,
            "bin_end": 0.6000000000000001,
            "count": 0
           },
           {
            "bin_start": 0.6000000000000001,
            "bin_end": 0.7000000000000001,
            "count": 0
           },
           {
            "bin_start": 0.7000000000000001,
            "bin_end": 0.8,
            "count": 0
           },
           {
            "bin_start": 0.8,
            "bin_end": 0.9,
            "count": 0
           },
           {
            "bin_start": 0.9,
            "bin_end": 1,
            "count": 4
           }
          ]
         }
        },
        {
         "name": "THOUS",
         "dtype": "int64",
         "stats": {
          "unique_count": 1,
          "nan_count": 0,
          "min": "1000",
          "max": "1000",
          "histogram": [
           {
            "bin_start": 999.5,
            "bin_end": 999.6,
            "count": 0
           },
           {
            "bin_start": 999.6,
            "bin_end": 999.7,
            "count": 0
           },
           {
            "bin_start": 999.7,
            "bin_end": 999.8,
            "count": 0
           },
           {
            "bin_start": 999.8,
            "bin_end": 999.9,
            "count": 0
           },
           {
            "bin_start": 999.9,
            "bin_end": 1000,
            "count": 0
           },
           {
            "bin_start": 1000,
            "bin_end": 1000.1,
            "count": 11
           },
           {
            "bin_start": 1000.1,
            "bin_end": 1000.2,
            "count": 0
           },
           {
            "bin_start": 1000.2,
            "bin_end": 1000.3,
            "count": 0
           },
           {
            "bin_start": 1000.3,
            "bin_end": 1000.4,
            "count": 0
           },
           {
            "bin_start": 1000.4,
            "bin_end": 1000.5,
            "count": 0
           }
          ]
         }
        },
        {
         "name": "NEIGNO",
         "dtype": "int64",
         "stats": {
          "unique_count": 11,
          "nan_count": 0,
          "min": "1010",
          "max": "1023",
          "histogram": [
           {
            "bin_start": 1010,
            "bin_end": 1011.3,
            "count": 2
           },
           {
            "bin_start": 1011.3,
            "bin_end": 1012.6,
            "count": 1
           },
           {
            "bin_start": 1012.6,
            "bin_end": 1013.9,
            "count": 1
           },
           {
            "bin_start": 1013.9,
            "bin_end": 1015.2,
            "count": 0
           },
           {
            "bin_start": 1015.2,
            "bin_end": 1016.5,
            "count": 1
           },
           {
            "bin_start": 1016.5,
            "bin_end": 1017.8,
            "count": 1
           },
           {
            "bin_start": 1017.8,
            "bin_end": 1019.1,
            "count": 2
           },
           {
            "bin_start": 1019.1,
            "bin_end": 1020.4,
            "count": 0
           },
           {
            "bin_start": 1020.4,
            "bin_end": 1021.7,
            "count": 1
           },
           {
            "bin_start": 1021.7,
            "bin_end": 1023,
            "count": 2
           }
          ]
         }
        },
        {
         "name": "geometry",
         "dtype": "geometry",
         "stats": {
          "unique_count": 11,
          "nan_count": 0,
          "categories": [
           {
            "name": "POLYGON ((9.333296775817869 13.2724199295044, 9.67100715637207 13.2736101150513, 9.677009582519529 13.2965898513794, 9.7721061706543 13.2921104431152, 10.0276699066162 13.2985401153564, 9.950613975524901 12.9838304519653, 10.0045604705811 12.9768295288086, 10.0825099945068 13.0337696075439, 10.0836496353149 13.0198698043823, 10.0868196487427 12.9814300537109, 10.0891704559326 12.9528102874756, 10.0916299819946 12.9230403900146, 10.0935096740723 12.9002199172974, 10.0954303741455 12.8768997192383, 10.0154399871826 12.7240495681763, 9.763668060302731 12.6731300354004, 9.72367477416992 12.5951995849609, 9.55582809448242 12.5951900482178, 9.47149753570557 12.5957098007202, 9.38600540161133 12.5962400436401, 9.383021354675289 12.6272096633911, 9.258048057556151 12.6306104660034, 9.124277114868161 12.6342401504517, 9.146787643432621 12.6587400436401, 9.166311264038089 12.6799802780151, 9.187246322631839 12.7091703414917, 9.20620822906494 12.7588396072388, 9.21353244781494 12.7780303955078, 9.22088527679443 12.8057203292847, 9.2333869934082 12.8640003204346, 9.23626708984375 12.8762798309326, 9.333296775817869 13.2724199295044))",
            "count": 1
           },
           {
            "name": "POLYGON ((10.0825099945068 13.0337696075439, 10.0924997329712 13.0527496337891, 10.1264896392822 13.0907096862793, 10.1824598312378 13.1576499938965, 10.2674198150635 13.2545499801636, 10.2893896102905 13.2475500106812, 10.3163604736328 13.2445497512817, 10.3323497772217 13.2395496368408, 10.368260383606 13.2464303970337, 10.3942899703979 13.2465400695801, 10.4172697067261 13.247540473938, 10.4502401351929 13.2515296936035, 10.4752197265625 13.2615203857422, 10.4752197265625 13.2725095748901, 10.5341596603394 13.2714996337891, 10.5661296844482 13.2714996337891, 10.6030902862549 13.2655000686646, 10.6320600509644 13.2634897232056, 10.6390495300293 13.2445096969604, 10.640040397644 13.2195301055908, 10.6490201950073 13.1995496749878, 10.6460103988647 13.1765699386597, 10.6470098495483 13.1575899124146, 10.6459999084473 13.1445999145508, 10.6379995346069 13.1296100616455, 10.6389904022217 13.1046304702759, 10.6319799423218 13.0706596374512, 10.6269798278809 13.0516796112061, 10.6279697418213 13.0267000198364, 10.6319599151611 13.0087203979492, 10.6339502334595 12.9837398529053, 10.6289300918579 12.945779800415, 10.6399097442627 12.9188003540039, 10.637900352478 12.8908195495605, 10.6458902359009 12.8658399581909, 10.6478700637817 12.8428602218628, 10.6496801376343 12.8301801681519, 10.5010995864868 12.8053197860718, 10.3565998077393 12.7811403274536, 10.178409576416 12.7513198852539, 10.0154399871826 12.7240495681763, 10.0954303741455 12.8768997192383, 10.0935096740723 12.9002199172974, 10.0916299819946 12.9230403900146, 10.0891704559326 12.9528102874756, 10.0868196487427 12.9814300537109, 10.0836496353149 13.0198698043823, 10.0825099945068 13.0337696075439))",
            "count": 1
           },
           {
            "name": "9 others",
            "count": 9
           }
          ]
         }
        },
        {
         "name": "_deepnote_index_column",
         "dtype": "int64"
        }
       ],
       "rows": [
        {
         "AREA": 0.500755,
         "PERIMETER": 3.169707,
         "COLUMBUS_": 10,
         "COLUMBUS_I": 18,
         "POLYID": 9,
         "NEIG": 18,
         "HOVAL": 52.599998,
         "INC": 17.586,
         "CRIME": 30.515917,
         "OPEN": 0.527488,
         "PLUMB": 0.890736,
         "DISCBD": 3.17,
         "X": 43.439999,
         "Y": 35.919998,
         "NSA": 1,
         "NSB": 1,
         "EW": 1,
         "CP": 0,
         "THOUS": 1000,
         "NEIGNO": 1018,
         "geometry": "POLYGON ((9.333296775817869 13.2724199295044, 9.67100715637207 13.2736101150513, 9.677009582519529 13.2965898513794, 9.7721061706543 13.2921104431152, 10.0276699066162 13.2985401153564, 9.950613975524901 12.9838304519653, 10.0045604705811 12.9768295288086, 10.0825099945068 13.0337696075439, 10.0836496353149 13.0198698043823, 10.0868196487427 12.9814300537109, 10.0891704559326 12.9528102874756, 10.0916299819946 12.9230403900146, 10.0935096740723 12.9002199172974, 10.0954303741455 12.8768997192383, 10.0154399871826 12.7240495681763, 9.763668060302731 12.6731300354004, 9.72367477416992 12.5951995849609, 9.55582809448242 12.5951900482178, 9.47149753570557 12.5957098007202, 9.38600540161133 12.5962400436401, 9.383021354675289 12.6272096633911, 9.258048057556151 12.6306104660034, 9.124277114868161 12.6342401504517, 9.146787643432621 12.6587400436401, 9.166311264038089 12.6799802780151, 9.187246322631839 12.7091703414917, 9.20620822906494 12.7588396072388, 9.21353244781494 12.7780303955078, …",
         "_deepnote_index_column": 8
        },
        {
         "AREA": 0.246689,
         "PERIMETER": 2.087235,
         "COLUMBUS_": 11,
         "COLUMBUS_I": 10,
         "POLYID": 10,
         "NEIG": 10,
         "HOVAL": 96.400002,
         "INC": 13.598,
         "CRIME": 34.000835,
         "OPEN": 1.548348,
         "PLUMB": 0.557724,
         "DISCBD": 4.33,
         "X": 47.610001,
         "Y": 36.419998,
         "NSA": 1,
         "NSB": 1,
         "EW": 1,
         "CP": 0,
         "THOUS": 1000,
         "NEIGNO": 1010,
         "geometry": "POLYGON ((10.0825099945068 13.0337696075439, 10.0924997329712 13.0527496337891, 10.1264896392822 13.0907096862793, 10.1824598312378 13.1576499938965, 10.2674198150635 13.2545499801636, 10.2893896102905 13.2475500106812, 10.3163604736328 13.2445497512817, 10.3323497772217 13.2395496368408, 10.368260383606 13.2464303970337, 10.3942899703979 13.2465400695801, 10.4172697067261 13.247540473938, 10.4502401351929 13.2515296936035, 10.4752197265625 13.2615203857422, 10.4752197265625 13.2725095748901, 10.5341596603394 13.2714996337891, 10.5661296844482 13.2714996337891, 10.6030902862549 13.2655000686646, 10.6320600509644 13.2634897232056, 10.6390495300293 13.2445096969604, 10.640040397644 13.2195301055908, 10.6490201950073 13.1995496749878, 10.6460103988647 13.1765699386597, 10.6470098495483 13.1575899124146, 10.6459999084473 13.1445999145508, 10.6379995346069 13.1296100616455, 10.6389904022217 13.1046304702759, 10.6319799423218 13.0706596374512, 10.6269798278809 13.0516796112061, 10.627969741…",
         "_deepnote_index_column": 9
        },
        {
         "AREA": 0.102087,
         "PERIMETER": 1.382359,
         "COLUMBUS_": 18,
         "COLUMBUS_I": 11,
         "POLYID": 17,
         "NEIG": 11,
         "HOVAL": 41.75,
         "INC": 9.798,
         "CRIME": 36.868774,
         "OPEN": 0.448232,
         "PLUMB": 1.619745,
         "DISCBD": 4.47,
         "X": 48.580002,
         "Y": 34.459999,
         "NSA": 1,
         "NSB": 1,
         "EW": 1,
         "CP": 0,
         "THOUS": 1000,
         "NEIGNO": 1011,
         "geometry": "POLYGON ((10.3565998077393 12.7811403274536, 10.5010995864868 12.8053197860718, 10.6496801376343 12.8301801681519, 10.7028198242188 12.8388595581055, 10.7097902297974 12.7749099731445, 10.6648197174072 12.7629299163818, 10.6697998046875 12.7039804458618, 10.6677703857422 12.6480302810669, 10.6669702529907 12.5950298309326, 10.6673402786255 12.5801095962524, 10.6696996688843 12.4831800460815, 10.4217500686646 12.4402599334717, 10.4209899902344 12.5781297683716, 10.3560600280762 12.5981197357178, 10.3563899993896 12.712010383606, 10.3565998077393 12.7811403274536))",
         "_deepnote_index_column": 16
        },
        {
         "AREA": 0.444629,
         "PERIMETER": 3.174601,
         "COLUMBUS_": 21,
         "COLUMBUS_I": 17,
         "POLYID": 20,
         "NEIG": 17,
         "HOVAL": 81.266998,
         "INC": 31.07,
         "CRIME": 0.223797,
         "OPEN": 5.318607,
         "PLUMB": 0.167224,
         "DISCBD": 3.57,
         "X": 46.73,
         "Y": 31.91,
         "NSA": 0,
         "NSB": 1,
         "EW": 1,
         "CP": 0,
         "THOUS": 1000,
         "NEIGNO": 1017,
         "geometry": "POLYGON ((10.0154399871826 12.7240495681763, 10.178409576416 12.7513198852539, 10.3565998077393 12.7811403274536, 10.3563899993896 12.712010383606, 10.3560600280762 12.5981197357178, 10.4209899902344 12.5781297683716, 10.4217500686646 12.4402599334717, 10.4242496490479 11.9906396865845, 10.4256401062012 11.7418603897095, 10.252799987793 11.7428197860718, 10.0565900802612 11.7439098358154, 10.0499095916748 11.7629499435425, 10.049750328064 11.7789602279663, 10.0492897033691 11.8228302001953, 10.0489101409912 11.8587999343872, 10.0420799255371 11.9127597808838, 10.0242204666138 11.9623098373413, 10.0071601867676 12.0096797943115, 9.991960525512701 12.0315103530884, 9.9562931060791 12.0827503204346, 9.914779663085939 12.1423902511597, 9.89995193481445 12.1636896133423, 9.89287853240967 12.1738500595093, 9.88435077667236 12.1915302276611, 10.0012302398682 12.170539855957, 9.96633243560791 12.3413896560669, 9.84108352661133 12.3147401809692, 9.93568801879883 12.5018701553345, 9.94119358062…",
         "_deepnote_index_column": 19
        },
        {
         "AREA": 0.192891,
         "PERIMETER": 1.992717,
         "COLUMBUS_": 23,
         "COLUMBUS_I": 19,
         "POLYID": 22,
         "NEIG": 19,
         "HOVAL": 30.450001,
         "INC": 11.709,
         "CRIME": 33.705048,
         "OPEN": 4.539754,
         "PLUMB": 1.785714,
         "DISCBD": 2.45,
         "X": 43.369999,
         "Y": 33.459999,
         "NSA": 1,
         "NSB": 1,
         "EW": 1,
         "CP": 1,
         "THOUS": 1000,
         "NEIGNO": 1019,
         "geometry": "POLYGON ((9.38600540161133 12.5962400436401, 9.47149753570557 12.5957098007202, 9.55582809448242 12.5951900482178, 9.72367477416992 12.5951995849609, 9.763668060302731 12.6731300354004, 10.0154399871826 12.7240495681763, 9.933468818664551 12.5994100570679, 9.94119358062744 12.5121297836304, 9.93568801879883 12.5018701553345, 9.84108352661133 12.3147401809692, 9.656930923461911 12.2740297317505, 9.468775749206539 12.2345504760742, 9.394844055175779 12.2265596389771, 9.386472702026371 12.347279548645, 9.385739326477051 12.3616399765015, 9.38095188140869 12.4553699493408, 9.35797786712646 12.4623603820801, 9.35901927947998 12.5652704238892, 9.38600540161133 12.5962400436401))",
         "_deepnote_index_column": 21
        },
        {
         "AREA": 0.24712,
         "PERIMETER": 2.147528,
         "COLUMBUS_": 24,
         "COLUMBUS_I": 12,
         "POLYID": 23,
         "NEIG": 12,
         "HOVAL": 47.733002,
         "INC": 21.155001,
         "CRIME": 20.048504,
         "OPEN": 0.532632,
         "PLUMB": 0.216763,
         "DISCBD": 4.78,
         "X": 49.610001,
         "Y": 32.650002,
         "NSA": 0,
         "NSB": 0,
         "EW": 1,
         "CP": 0,
         "THOUS": 1000,
         "NEIGNO": 1012,
         "geometry": "POLYGON ((10.6677703857422 12.6480302810669, 10.7766704559326 12.6520099639893, 10.8875598907471 12.6440095901489, 10.8884897232056 12.4921398162842, 10.8844404220581 12.3492698669434, 10.8843803405762 12.1934099197388, 10.8763198852539 12.037540435791, 10.6408996582031 12.0131196975708, 10.4242496490479 11.9906396865845, 10.4217500686646 12.4402599334717, 10.6696996688843 12.4831800460815, 10.6673402786255 12.5801095962524, 10.6669702529907 12.5950298309326, 10.6677703857422 12.6480302810669))",
         "_deepnote_index_column": 22
        },
        {
         "AREA": 0.137802,
         "PERIMETER": 1.780751,
         "COLUMBUS_": 28,
         "COLUMBUS_I": 21,
         "POLYID": 27,
         "NEIG": 21,
         "HOVAL": 34.099998,
         "INC": 10.822,
         "CRIME": 52.79443,
         "OPEN": 19.368099,
         "PLUMB": 1.483516,
         "DISCBD": 2.24,
         "X": 43.950001,
         "Y": 31.610001,
         "NSA": 0,
         "NSB": 0,
         "EW": 1,
         "CP": 1,
         "THOUS": 1000,
         "NEIGNO": 1021,
         "geometry": "POLYGON ((9.468775749206539 12.2345504760742, 9.656930923461911 12.2740297317505, 9.84108352661133 12.3147401809692, 9.96633243560791 12.3413896560669, 10.0012302398682 12.170539855957, 9.88435077667236 12.1915302276611, 9.89287853240967 12.1738500595093, 9.89995193481445 12.1636896133423, 9.914779663085939 12.1423902511597, 9.9562931060791 12.0827503204346, 9.991960525512701 12.0315103530884, 10.0071601867676 12.0096797943115, 9.755396842956539 12.0049295425415, 9.480667114257811 12.0027503967285, 9.48196220397949 12.0657796859741, 9.47841644287109 12.1618204116821, 9.468775749206539 12.2345504760742))",
         "_deepnote_index_column": 26
        },
        {
         "AREA": 0.18558,
         "PERIMETER": 2.108951,
         "COLUMBUS_": 33,
         "COLUMBUS_I": 13,
         "POLYID": 32,
         "NEIG": 13,
         "HOVAL": 40.299999,
         "INC": 18.941999,
         "CRIME": 19.145592,
         "OPEN": 2.221022,
         "PLUMB": 0.255102,
         "DISCBD": 4.76,
         "X": 50.110001,
         "Y": 29.91,
         "NSA": 0,
         "NSB": 0,
         "EW": 1,
         "CP": 0,
         "THOUS": 1000,
         "NEIGNO": 1013,
         "geometry": "POLYGON ((10.4242496490479 11.9906396865845, 10.6408996582031 12.0131196975708, 10.8763198852539 12.037540435791, 10.886269569397 11.9466199874878, 10.9152402877808 11.9416198730469, 10.9322204589844 11.9386196136475, 10.9631900787354 11.9406204223633, 10.9831695556641 11.936619758606, 10.9951601028442 11.9376201629639, 11.0450801849365 11.8536796569824, 11.1129703521729 11.7617597579956, 11.2048301696777 11.6388502120972, 11.1269102096558 11.6338701248169, 11.0739698410034 11.6578502655029, 10.9740695953369 11.6618604660034, 10.9521198272705 11.7278099060059, 10.8782196044922 11.7232599258423, 10.8062601089478 11.7188301086426, 10.7833595275879 11.7195501327515, 10.766209602356 11.7200803756714, 10.6773796081543 11.7228498458862, 10.6563997268677 11.7228498458862, 10.6134595870972 11.7232999801636, 10.5605001449585 11.7238597869873, 10.531530380249 11.7438497543335, 10.4256401062012 11.7418603897095, 10.4242496490479 11.9906396865845))",
         "_deepnote_index_column": 31
        },
        {
         "AREA": 0.087472,
         "PERIMETER": 1.507971,
         "COLUMBUS_": 34,
         "COLUMBUS_I": 22,
         "POLYID": 33,
         "NEIG": 22,
         "HOVAL": 23.6,
         "INC": 9.918,
         "CRIME": 41.968163,
         "OPEN": 0,
         "PLUMB": 1.023891,
         "DISCBD": 2.28,
         "X": 44.099998,
         "Y": 30.4,
         "NSA": 0,
         "NSB": 0,
         "EW": 1,
         "CP": 1,
         "THOUS": 1000,
         "NEIGNO": 1022,
         "geometry": "POLYGON ((9.480667114257811 12.0027503967285, 9.755396842956539 12.0049295425415, 10.0071601867676 12.0096797943115, 10.0242204666138 11.9623098373413, 10.0420799255371 11.9127597808838, 10.0489101409912 11.8587999343872, 10.0492897033691 11.8228302001953, 10.049750328064 11.7789602279663, 10.0499095916748 11.7629499435425, 10.0264797210693 11.7876996994019, 9.98611545562744 11.8028602600098, 9.97339344024658 11.8090600967407, 9.9251594543457 11.8238496780396, 9.877091407775881 11.8441801071167, 9.859211921691889 11.8517398834229, 9.831770896911619 11.8588199615479, 9.80029964447021 11.8668298721313, 9.639468193054199 11.8632497787476, 9.489535331726071 11.8599195480347, 9.488198280334471 11.8814496994019, 9.482346534729 11.9756898880005, 9.480667114257811 12.0027503967285))",
         "_deepnote_index_column": 32
        },
        {
         "AREA": 0.175453,
         "PERIMETER": 1.974937,
         "COLUMBUS_": 36,
         "COLUMBUS_I": 23,
         "POLYID": 35,
         "NEIG": 23,
         "HOVAL": 27,
         "INC": 12.814,
         "CRIME": 39.175053,
         "OPEN": 4.220401,
         "PLUMB": 0.633675,
         "DISCBD": 2.37,
         "X": 43.700001,
         "Y": 29.18,
         "NSA": 0,
         "NSB": 0,
         "EW": 1,
         "CP": 1,
         "THOUS": 1000,
         "NEIGNO": 1023,
         "geometry": "POLYGON ((9.489535331726071 11.8599195480347, 9.639468193054199 11.8632497787476, 9.80029964447021 11.8668298721313, 9.831770896911619 11.8588199615479, 9.859211921691889 11.8517398834229, 9.877091407775881 11.8441801071167, 9.9251594543457 11.8238496780396, 9.97339344024658 11.8090600967407, 9.98611545562744 11.8028602600098, 10.0264797210693 11.7876996994019, 10.0499095916748 11.7629499435425, 10.0565900802612 11.7439098358154, 9.917131423950201 11.7379302978516, 9.918045997619631 11.5311098098755, 9.50050640106201 11.5420198440552, 9.34161472320557 11.5461702346802, 9.343691825866699 11.7349996566772, 9.492551803588871 11.7519702911377, 9.489535331726071 11.8599195480347))",
         "_deepnote_index_column": 34
        },
        {
         "AREA": 0.302908,
         "PERIMETER": 2.285487,
         "COLUMBUS_": 41,
         "COLUMBUS_I": 16,
         "POLYID": 40,
         "NEIG": 16,
         "HOVAL": 61.950001,
         "INC": 29.833,
         "CRIME": 16.241299,
         "OPEN": 6.45131,
         "PLUMB": 0.132743,
         "DISCBD": 4.4,
         "X": 48.439999,
         "Y": 27.93,
         "NSA": 0,
         "NSB": 0,
         "EW": 1,
         "CP": 0,
         "THOUS": 1000,
         "NEIGNO": 1016,
         "geometry": "POLYGON ((10.0565900802612 11.7439098358154, 10.252799987793 11.7428197860718, 10.4256401062012 11.7418603897095, 10.531530380249 11.7438497543335, 10.5605001449585 11.7238597869873, 10.6134595870972 11.7232999801636, 10.6563997268677 11.7228498458862, 10.6773796081543 11.7228498458862, 10.766209602356 11.7200803756714, 10.7833595275879 11.7195501327515, 10.8062601089478 11.7188301086426, 10.8022403717041 11.6748695373535, 10.8032197952271 11.6615896224976, 10.8060903549194 11.6209096908569, 10.8081998825073 11.590950012207, 10.808690071106 11.5746698379517, 10.8049297332764 11.5589895248413, 10.7991895675659 11.5349998474121, 10.8021402359009 11.4340801239014, 10.8020601272583 11.2322597503662, 10.7341203689575 11.2282695770264, 10.6871700286865 11.2222900390625, 10.6132402420044 11.2163000106812, 10.5952501296997 11.2133102416992, 10.555290222168 11.2202997207642, 10.4803695678711 11.2213096618652, 10.4214296340942 11.232310295105, 10.3644895553589 11.2543001174927, 10.3435201644897…",
         "_deepnote_index_column": 39
        }
       ]
      },
      "text/plain": "        AREA  PERIMETER  COLUMBUS_  COLUMBUS_I  POLYID  NEIG      HOVAL  \\\n8   0.500755   3.169707         10          18       9    18  52.599998   \n9   0.246689   2.087235         11          10      10    10  96.400002   \n16  0.102087   1.382359         18          11      17    11  41.750000   \n19  0.444629   3.174601         21          17      20    17  81.266998   \n21  0.192891   1.992717         23          19      22    19  30.450001   \n22  0.247120   2.147528         24          12      23    12  47.733002   \n26  0.137802   1.780751         28          21      27    21  34.099998   \n31  0.185580   2.108951         33          13      32    13  40.299999   \n32  0.087472   1.507971         34          22      33    22  23.600000   \n34  0.175453   1.974937         36          23      35    23  27.000000   \n39  0.302908   2.285487         41          16      40    16  61.950001   \n\n          INC      CRIME       OPEN     PLUMB  DISCBD          X          Y  \\\n8   17.586000  30.515917   0.527488  0.890736    3.17  43.439999  35.919998   \n9   13.598000  34.000835   1.548348  0.557724    4.33  47.610001  36.419998   \n16   9.798000  36.868774   0.448232  1.619745    4.47  48.580002  34.459999   \n19  31.070000   0.223797   5.318607  0.167224    3.57  46.730000  31.910000   \n21  11.709000  33.705048   4.539754  1.785714    2.45  43.369999  33.459999   \n22  21.155001  20.048504   0.532632  0.216763    4.78  49.610001  32.650002   \n26  10.822000  52.794430  19.368099  1.483516    2.24  43.950001  31.610001   \n31  18.941999  19.145592   2.221022  0.255102    4.76  50.110001  29.910000   \n32   9.918000  41.968163   0.000000  1.023891    2.28  44.099998  30.400000   \n34  12.814000  39.175053   4.220401  0.633675    2.37  43.700001  29.180000   \n39  29.833000  16.241299   6.451310  0.132743    4.40  48.439999  27.930000   \n\n    NSA  NSB  EW  CP  THOUS  NEIGNO  \\\n8     1    1   1   0   1000    1018   \n9     1    1   1   0   1000    1010   \n16    1    1   1   0   1000    1011   \n19    0    1   1   0   1000    1017   \n21    1    1   1   1   1000    1019   \n22    0    0   1   0   1000    1012   \n26    0    0   1   1   1000    1021   \n31    0    0   1   0   1000    1013   \n32    0    0   1   1   1000    1022   \n34    0    0   1   1   1000    1023   \n39    0    0   1   0   1000    1016   \n\n                                             geometry  \n8   POLYGON ((9.33330 13.27242, 9.67101 13.27361, ...  \n9   POLYGON ((10.08251 13.03377, 10.09250 13.05275...  \n16  POLYGON ((10.35660 12.78114, 10.50110 12.80532...  \n19  POLYGON ((10.01544 12.72405, 10.17841 12.75132...  \n21  POLYGON ((9.38601 12.59624, 9.47150 12.59571, ...  \n22  POLYGON ((10.66777 12.64803, 10.77667 12.65201...  \n26  POLYGON ((9.46878 12.23455, 9.65693 12.27403, ...  \n31  POLYGON ((10.42425 11.99064, 10.64090 12.01312...  \n32  POLYGON ((9.48067 12.00275, 9.75540 12.00493, ...  \n34  POLYGON ((9.48954 11.85992, 9.63947 11.86325, ...  \n39  POLYGON ((10.05659 11.74391, 10.25280 11.74282...  ",
      "text/html": "<div>\n<style scoped>\n    .dataframe tbody tr th:only-of-type {\n        vertical-align: middle;\n    }\n\n    .dataframe tbody tr th {\n        vertical-align: top;\n    }\n\n    .dataframe thead th {\n        text-align: right;\n    }\n</style>\n<table border=\"1\" class=\"dataframe\">\n  <thead>\n    <tr style=\"text-align: right;\">\n      <th></th>\n      <th>AREA</th>\n      <th>PERIMETER</th>\n      <th>COLUMBUS_</th>\n      <th>COLUMBUS_I</th>\n      <th>POLYID</th>\n      <th>NEIG</th>\n      <th>HOVAL</th>\n      <th>INC</th>\n      <th>CRIME</th>\n      <th>OPEN</th>\n      <th>PLUMB</th>\n      <th>DISCBD</th>\n      <th>X</th>\n      <th>Y</th>\n      <th>NSA</th>\n      <th>NSB</th>\n      <th>EW</th>\n      <th>CP</th>\n      <th>THOUS</th>\n      <th>NEIGNO</th>\n      <th>geometry</th>\n    </tr>\n  </thead>\n  <tbody>\n    <tr>\n      <th>8</th>\n      <td>0.500755</td>\n      <td>3.169707</td>\n      <td>10</td>\n      <td>18</td>\n      <td>9</td>\n      <td>18</td>\n      <td>52.599998</td>\n      <td>17.586000</td>\n      <td>30.515917</td>\n      <td>0.527488</td>\n      <td>0.890736</td>\n      <td>3.17</td>\n      <td>43.439999</td>\n      <td>35.919998</td>\n      <td>1</td>\n      <td>1</td>\n      <td>1</td>\n      <td>0</td>\n      <td>1000</td>\n      <td>1018</td>\n      <td>POLYGON ((9.33330 13.27242, 9.67101 13.27361, ...</td>\n    </tr>\n    <tr>\n      <th>9</th>\n      <td>0.246689</td>\n      <td>2.087235</td>\n      <td>11</td>\n      <td>10</td>\n      <td>10</td>\n      <td>10</td>\n      <td>96.400002</td>\n      <td>13.598000</td>\n      <td>34.000835</td>\n      <td>1.548348</td>\n      <td>0.557724</td>\n      <td>4.33</td>\n      <td>47.610001</td>\n      <td>36.419998</td>\n      <td>1</td>\n      <td>1</td>\n      <td>1</td>\n      <td>0</td>\n      <td>1000</td>\n      <td>1010</td>\n      <td>POLYGON ((10.08251 13.03377, 10.09250 13.05275...</td>\n    </tr>\n    <tr>\n      <th>16</th>\n      <td>0.102087</td>\n      <td>1.382359</td>\n      <td>18</td>\n      <td>11</td>\n      <td>17</td>\n      <td>11</td>\n      <td>41.750000</td>\n      <td>9.798000</td>\n      <td>36.868774</td>\n      <td>0.448232</td>\n      <td>1.619745</td>\n      <td>4.47</td>\n      <td>48.580002</td>\n      <td>34.459999</td>\n      <td>1</td>\n      <td>1</td>\n      <td>1</td>\n      <td>0</td>\n      <td>1000</td>\n      <td>1011</td>\n      <td>POLYGON ((10.35660 12.78114, 10.50110 12.80532...</td>\n    </tr>\n    <tr>\n      <th>19</th>\n      <td>0.444629</td>\n      <td>3.174601</td>\n      <td>21</td>\n      <td>17</td>\n      <td>20</td>\n      <td>17</td>\n      <td>81.266998</td>\n      <td>31.070000</td>\n      <td>0.223797</td>\n      <td>5.318607</td>\n      <td>0.167224</td>\n      <td>3.57</td>\n      <td>46.730000</td>\n      <td>31.910000</td>\n      <td>0</td>\n      <td>1</td>\n      <td>1</td>\n      <td>0</td>\n      <td>1000</td>\n      <td>1017</td>\n      <td>POLYGON ((10.01544 12.72405, 10.17841 12.75132...</td>\n    </tr>\n    <tr>\n      <th>21</th>\n      <td>0.192891</td>\n      <td>1.992717</td>\n      <td>23</td>\n      <td>19</td>\n      <td>22</td>\n      <td>19</td>\n      <td>30.450001</td>\n      <td>11.709000</td>\n      <td>33.705048</td>\n      <td>4.539754</td>\n      <td>1.785714</td>\n      <td>2.45</td>\n      <td>43.369999</td>\n      <td>33.459999</td>\n      <td>1</td>\n      <td>1</td>\n      <td>1</td>\n      <td>1</td>\n      <td>1000</td>\n      <td>1019</td>\n      <td>POLYGON ((9.38601 12.59624, 9.47150 12.59571, ...</td>\n    </tr>\n    <tr>\n      <th>22</th>\n      <td>0.247120</td>\n      <td>2.147528</td>\n      <td>24</td>\n      <td>12</td>\n      <td>23</td>\n      <td>12</td>\n      <td>47.733002</td>\n      <td>21.155001</td>\n      <td>20.048504</td>\n      <td>0.532632</td>\n      <td>0.216763</td>\n      <td>4.78</td>\n      <td>49.610001</td>\n      <td>32.650002</td>\n      <td>0</td>\n      <td>0</td>\n      <td>1</td>\n      <td>0</td>\n      <td>1000</td>\n      <td>1012</td>\n      <td>POLYGON ((10.66777 12.64803, 10.77667 12.65201...</td>\n    </tr>\n    <tr>\n      <th>26</th>\n      <td>0.137802</td>\n      <td>1.780751</td>\n      <td>28</td>\n      <td>21</td>\n      <td>27</td>\n      <td>21</td>\n      <td>34.099998</td>\n      <td>10.822000</td>\n      <td>52.794430</td>\n      <td>19.368099</td>\n      <td>1.483516</td>\n      <td>2.24</td>\n      <td>43.950001</td>\n      <td>31.610001</td>\n      <td>0</td>\n      <td>0</td>\n      <td>1</td>\n      <td>1</td>\n      <td>1000</td>\n      <td>1021</td>\n      <td>POLYGON ((9.46878 12.23455, 9.65693 12.27403, ...</td>\n    </tr>\n    <tr>\n      <th>31</th>\n      <td>0.185580</td>\n      <td>2.108951</td>\n      <td>33</td>\n      <td>13</td>\n      <td>32</td>\n      <td>13</td>\n      <td>40.299999</td>\n      <td>18.941999</td>\n      <td>19.145592</td>\n      <td>2.221022</td>\n      <td>0.255102</td>\n      <td>4.76</td>\n      <td>50.110001</td>\n      <td>29.910000</td>\n      <td>0</td>\n      <td>0</td>\n      <td>1</td>\n      <td>0</td>\n      <td>1000</td>\n      <td>1013</td>\n      <td>POLYGON ((10.42425 11.99064, 10.64090 12.01312...</td>\n    </tr>\n    <tr>\n      <th>32</th>\n      <td>0.087472</td>\n      <td>1.507971</td>\n      <td>34</td>\n      <td>22</td>\n      <td>33</td>\n      <td>22</td>\n      <td>23.600000</td>\n      <td>9.918000</td>\n      <td>41.968163</td>\n      <td>0.000000</td>\n      <td>1.023891</td>\n      <td>2.28</td>\n      <td>44.099998</td>\n      <td>30.400000</td>\n      <td>0</td>\n      <td>0</td>\n      <td>1</td>\n      <td>1</td>\n      <td>1000</td>\n      <td>1022</td>\n      <td>POLYGON ((9.48067 12.00275, 9.75540 12.00493, ...</td>\n    </tr>\n    <tr>\n      <th>34</th>\n      <td>0.175453</td>\n      <td>1.974937</td>\n      <td>36</td>\n      <td>23</td>\n      <td>35</td>\n      <td>23</td>\n      <td>27.000000</td>\n      <td>12.814000</td>\n      <td>39.175053</td>\n      <td>4.220401</td>\n      <td>0.633675</td>\n      <td>2.37</td>\n      <td>43.700001</td>\n      <td>29.180000</td>\n      <td>0</td>\n      <td>0</td>\n      <td>1</td>\n      <td>1</td>\n      <td>1000</td>\n      <td>1023</td>\n      <td>POLYGON ((9.48954 11.85992, 9.63947 11.86325, ...</td>\n    </tr>\n    <tr>\n      <th>39</th>\n      <td>0.302908</td>\n      <td>2.285487</td>\n      <td>41</td>\n      <td>16</td>\n      <td>40</td>\n      <td>16</td>\n      <td>61.950001</td>\n      <td>29.833000</td>\n      <td>16.241299</td>\n      <td>6.451310</td>\n      <td>0.132743</td>\n      <td>4.40</td>\n      <td>48.439999</td>\n      <td>27.930000</td>\n      <td>0</td>\n      <td>0</td>\n      <td>1</td>\n      <td>0</td>\n      <td>1000</td>\n      <td>1016</td>\n      <td>POLYGON ((10.05659 11.74391, 10.25280 11.74282...</td>\n    </tr>\n  </tbody>\n</table>\n</div>"
     },
     "metadata": {}
    }
   ],
   "execution_count": 15
  },
  {
   "cell_type": "code",
   "source": "# to be read by the spmatrix (from Stata 15)\ndf_ids_AND_WqueenMatrix = pd.merge(df_ids, df_WqueenMatrix, left_index=True, right_index=True)\ndf_ids_AND_WqueenMatrix",
   "metadata": {
    "cell_id": "7087db9ab57e44638c9fe9693c9b6500",
    "tags": [],
    "deepnote_to_be_reexecuted": false,
    "source_hash": "ad327a26",
    "execution_start": 1653788950245,
    "execution_millis": 217,
    "deepnote_cell_type": "code",
    "deepnote_cell_height": 649.953125
   },
   "outputs": [
    {
     "output_type": "execute_result",
     "execution_count": 16,
     "data": {
      "application/vnd.deepnote.dataframe.v3+json": {
       "column_count": 50,
       "row_count": 49,
       "columns": [
        {
         "name": "polyID",
         "dtype": "int64",
         "stats": {
          "unique_count": 49,
          "nan_count": 0,
          "min": "1",
          "max": "49",
          "histogram": [
           {
            "bin_start": 1,
            "bin_end": 5.8,
            "count": 5
           },
           {
            "bin_start": 5.8,
            "bin_end": 10.6,
            "count": 5
           },
           {
            "bin_start": 10.6,
            "bin_end": 15.399999999999999,
            "count": 5
           },
           {
            "bin_start": 15.399999999999999,
            "bin_end": 20.2,
            "count": 5
           },
           {
            "bin_start": 20.2,
            "bin_end": 25,
            "count": 4
           },
           {
            "bin_start": 25,
            "bin_end": 29.799999999999997,
            "count": 5
           },
           {
            "bin_start": 29.799999999999997,
            "bin_end": 34.6,
            "count": 5
           },
           {
            "bin_start": 34.6,
            "bin_end": 39.4,
            "count": 5
           },
           {
            "bin_start": 39.4,
            "bin_end": 44.199999999999996,
            "count": 5
           },
           {
            "bin_start": 44.199999999999996,
            "bin_end": 49,
            "count": 5
           }
          ]
         }
        },
        {
         "name": 0,
         "dtype": "float64",
         "stats": {
          "unique_count": 2,
          "nan_count": 0,
          "min": "0.0",
          "max": "1.0",
          "histogram": [
           {
            "bin_start": 0,
            "bin_end": 0.1,
            "count": 47
           },
           {
            "bin_start": 0.1,
            "bin_end": 0.2,
            "count": 0
           },
           {
            "bin_start": 0.2,
            "bin_end": 0.30000000000000004,
            "count": 0
           },
           {
            "bin_start": 0.30000000000000004,
            "bin_end": 0.4,
            "count": 0
           },
           {
            "bin_start": 0.4,
            "bin_end": 0.5,
            "count": 0
           },
           {
            "bin_start": 0.5,
            "bin_end": 0.6000000000000001,
            "count": 0
           },
           {
            "bin_start": 0.6000000000000001,
            "bin_end": 0.7000000000000001,
            "count": 0
           },
           {
            "bin_start": 0.7000000000000001,
            "bin_end": 0.8,
            "count": 0
           },
           {
            "bin_start": 0.8,
            "bin_end": 0.9,
            "count": 0
           },
           {
            "bin_start": 0.9,
            "bin_end": 1,
            "count": 2
           }
          ]
         }
        },
        {
         "name": 1,
         "dtype": "float64",
         "stats": {
          "unique_count": 2,
          "nan_count": 0,
          "min": "0.0",
          "max": "1.0",
          "histogram": [
           {
            "bin_start": 0,
            "bin_end": 0.1,
            "count": 46
           },
           {
            "bin_start": 0.1,
            "bin_end": 0.2,
            "count": 0
           },
           {
            "bin_start": 0.2,
            "bin_end": 0.30000000000000004,
            "count": 0
           },
           {
            "bin_start": 0.30000000000000004,
            "bin_end": 0.4,
            "count": 0
           },
           {
            "bin_start": 0.4,
            "bin_end": 0.5,
            "count": 0
           },
           {
            "bin_start": 0.5,
            "bin_end": 0.6000000000000001,
            "count": 0
           },
           {
            "bin_start": 0.6000000000000001,
            "bin_end": 0.7000000000000001,
            "count": 0
           },
           {
            "bin_start": 0.7000000000000001,
            "bin_end": 0.8,
            "count": 0
           },
           {
            "bin_start": 0.8,
            "bin_end": 0.9,
            "count": 0
           },
           {
            "bin_start": 0.9,
            "bin_end": 1,
            "count": 3
           }
          ]
         }
        },
        {
         "name": 2,
         "dtype": "float64",
         "stats": {
          "unique_count": 2,
          "nan_count": 0,
          "min": "0.0",
          "max": "1.0",
          "histogram": [
           {
            "bin_start": 0,
            "bin_end": 0.1,
            "count": 45
           },
           {
            "bin_start": 0.1,
            "bin_end": 0.2,
            "count": 0
           },
           {
            "bin_start": 0.2,
            "bin_end": 0.30000000000000004,
            "count": 0
           },
           {
            "bin_start": 0.30000000000000004,
            "bin_end": 0.4,
            "count": 0
           },
           {
            "bin_start": 0.4,
            "bin_end": 0.5,
            "count": 0
           },
           {
            "bin_start": 0.5,
            "bin_end": 0.6000000000000001,
            "count": 0
           },
           {
            "bin_start": 0.6000000000000001,
            "bin_end": 0.7000000000000001,
            "count": 0
           },
           {
            "bin_start": 0.7000000000000001,
            "bin_end": 0.8,
            "count": 0
           },
           {
            "bin_start": 0.8,
            "bin_end": 0.9,
            "count": 0
           },
           {
            "bin_start": 0.9,
            "bin_end": 1,
            "count": 4
           }
          ]
         }
        },
        {
         "name": 3,
         "dtype": "float64",
         "stats": {
          "unique_count": 2,
          "nan_count": 0,
          "min": "0.0",
          "max": "1.0",
          "histogram": [
           {
            "bin_start": 0,
            "bin_end": 0.1,
            "count": 45
           },
           {
            "bin_start": 0.1,
            "bin_end": 0.2,
            "count": 0
           },
           {
            "bin_start": 0.2,
            "bin_end": 0.30000000000000004,
            "count": 0
           },
           {
            "bin_start": 0.30000000000000004,
            "bin_end": 0.4,
            "count": 0
           },
           {
            "bin_start": 0.4,
            "bin_end": 0.5,
            "count": 0
           },
           {
            "bin_start": 0.5,
            "bin_end": 0.6000000000000001,
            "count": 0
           },
           {
            "bin_start": 0.6000000000000001,
            "bin_end": 0.7000000000000001,
            "count": 0
           },
           {
            "bin_start": 0.7000000000000001,
            "bin_end": 0.8,
            "count": 0
           },
           {
            "bin_start": 0.8,
            "bin_end": 0.9,
            "count": 0
           },
           {
            "bin_start": 0.9,
            "bin_end": 1,
            "count": 4
           }
          ]
         }
        },
        {
         "name": 4,
         "dtype": "float64",
         "stats": {
          "unique_count": 2,
          "nan_count": 0,
          "min": "0.0",
          "max": "1.0",
          "histogram": [
           {
            "bin_start": 0,
            "bin_end": 0.1,
            "count": 41
           },
           {
            "bin_start": 0.1,
            "bin_end": 0.2,
            "count": 0
           },
           {
            "bin_start": 0.2,
            "bin_end": 0.30000000000000004,
            "count": 0
           },
           {
            "bin_start": 0.30000000000000004,
            "bin_end": 0.4,
            "count": 0
           },
           {
            "bin_start": 0.4,
            "bin_end": 0.5,
            "count": 0
           },
           {
            "bin_start": 0.5,
            "bin_end": 0.6000000000000001,
            "count": 0
           },
           {
            "bin_start": 0.6000000000000001,
            "bin_end": 0.7000000000000001,
            "count": 0
           },
           {
            "bin_start": 0.7000000000000001,
            "bin_end": 0.8,
            "count": 0
           },
           {
            "bin_start": 0.8,
            "bin_end": 0.9,
            "count": 0
           },
           {
            "bin_start": 0.9,
            "bin_end": 1,
            "count": 8
           }
          ]
         }
        },
        {
         "name": 5,
         "dtype": "float64",
         "stats": {
          "unique_count": 2,
          "nan_count": 0,
          "min": "0.0",
          "max": "1.0",
          "histogram": [
           {
            "bin_start": 0,
            "bin_end": 0.1,
            "count": 47
           },
           {
            "bin_start": 0.1,
            "bin_end": 0.2,
            "count": 0
           },
           {
            "bin_start": 0.2,
            "bin_end": 0.30000000000000004,
            "count": 0
           },
           {
            "bin_start": 0.30000000000000004,
            "bin_end": 0.4,
            "count": 0
           },
           {
            "bin_start": 0.4,
            "bin_end": 0.5,
            "count": 0
           },
           {
            "bin_start": 0.5,
            "bin_end": 0.6000000000000001,
            "count": 0
           },
           {
            "bin_start": 0.6000000000000001,
            "bin_end": 0.7000000000000001,
            "count": 0
           },
           {
            "bin_start": 0.7000000000000001,
            "bin_end": 0.8,
            "count": 0
           },
           {
            "bin_start": 0.8,
            "bin_end": 0.9,
            "count": 0
           },
           {
            "bin_start": 0.9,
            "bin_end": 1,
            "count": 2
           }
          ]
         }
        },
        {
         "name": 6,
         "dtype": "float64",
         "stats": {
          "unique_count": 2,
          "nan_count": 0,
          "min": "0.0",
          "max": "1.0",
          "histogram": [
           {
            "bin_start": 0,
            "bin_end": 0.1,
            "count": 45
           },
           {
            "bin_start": 0.1,
            "bin_end": 0.2,
            "count": 0
           },
           {
            "bin_start": 0.2,
            "bin_end": 0.30000000000000004,
            "count": 0
           },
           {
            "bin_start": 0.30000000000000004,
            "bin_end": 0.4,
            "count": 0
           },
           {
            "bin_start": 0.4,
            "bin_end": 0.5,
            "count": 0
           },
           {
            "bin_start": 0.5,
            "bin_end": 0.6000000000000001,
            "count": 0
           },
           {
            "bin_start": 0.6000000000000001,
            "bin_end": 0.7000000000000001,
            "count": 0
           },
           {
            "bin_start": 0.7000000000000001,
            "bin_end": 0.8,
            "count": 0
           },
           {
            "bin_start": 0.8,
            "bin_end": 0.9,
            "count": 0
           },
           {
            "bin_start": 0.9,
            "bin_end": 1,
            "count": 4
           }
          ]
         }
        },
        {
         "name": 7,
         "dtype": "float64",
         "stats": {
          "unique_count": 2,
          "nan_count": 0,
          "min": "0.0",
          "max": "1.0",
          "histogram": [
           {
            "bin_start": 0,
            "bin_end": 0.1,
            "count": 43
           },
           {
            "bin_start": 0.1,
            "bin_end": 0.2,
            "count": 0
           },
           {
            "bin_start": 0.2,
            "bin_end": 0.30000000000000004,
            "count": 0
           },
           {
            "bin_start": 0.30000000000000004,
            "bin_end": 0.4,
            "count": 0
           },
           {
            "bin_start": 0.4,
            "bin_end": 0.5,
            "count": 0
           },
           {
            "bin_start": 0.5,
            "bin_end": 0.6000000000000001,
            "count": 0
           },
           {
            "bin_start": 0.6000000000000001,
            "bin_end": 0.7000000000000001,
            "count": 0
           },
           {
            "bin_start": 0.7000000000000001,
            "bin_end": 0.8,
            "count": 0
           },
           {
            "bin_start": 0.8,
            "bin_end": 0.9,
            "count": 0
           },
           {
            "bin_start": 0.9,
            "bin_end": 1,
            "count": 6
           }
          ]
         }
        },
        {
         "name": 8,
         "dtype": "float64",
         "stats": {
          "unique_count": 2,
          "nan_count": 0,
          "min": "0.0",
          "max": "1.0",
          "histogram": [
           {
            "bin_start": 0,
            "bin_end": 0.1,
            "count": 41
           },
           {
            "bin_start": 0.1,
            "bin_end": 0.2,
            "count": 0
           },
           {
            "bin_start": 0.2,
            "bin_end": 0.30000000000000004,
            "count": 0
           },
           {
            "bin_start": 0.30000000000000004,
            "bin_end": 0.4,
            "count": 0
           },
           {
            "bin_start": 0.4,
            "bin_end": 0.5,
            "count": 0
           },
           {
            "bin_start": 0.5,
            "bin_end": 0.6000000000000001,
            "count": 0
           },
           {
            "bin_start": 0.6000000000000001,
            "bin_end": 0.7000000000000001,
            "count": 0
           },
           {
            "bin_start": 0.7000000000000001,
            "bin_end": 0.8,
            "count": 0
           },
           {
            "bin_start": 0.8,
            "bin_end": 0.9,
            "count": 0
           },
           {
            "bin_start": 0.9,
            "bin_end": 1,
            "count": 8
           }
          ]
         }
        },
        {
         "name": 9,
         "dtype": "float64",
         "stats": {
          "unique_count": 2,
          "nan_count": 0,
          "min": "0.0",
          "max": "1.0",
          "histogram": [
           {
            "bin_start": 0,
            "bin_end": 0.1,
            "count": 45
           },
           {
            "bin_start": 0.1,
            "bin_end": 0.2,
            "count": 0
           },
           {
            "bin_start": 0.2,
            "bin_end": 0.30000000000000004,
            "count": 0
           },
           {
            "bin_start": 0.30000000000000004,
            "bin_end": 0.4,
            "count": 0
           },
           {
            "bin_start": 0.4,
            "bin_end": 0.5,
            "count": 0
           },
           {
            "bin_start": 0.5,
            "bin_end": 0.6000000000000001,
            "count": 0
           },
           {
            "bin_start": 0.6000000000000001,
            "bin_end": 0.7000000000000001,
            "count": 0
           },
           {
            "bin_start": 0.7000000000000001,
            "bin_end": 0.8,
            "count": 0
           },
           {
            "bin_start": 0.8,
            "bin_end": 0.9,
            "count": 0
           },
           {
            "bin_start": 0.9,
            "bin_end": 1,
            "count": 4
           }
          ]
         }
        },
        {
         "name": 10,
         "dtype": "float64",
         "stats": {
          "unique_count": 2,
          "nan_count": 0,
          "min": "0.0",
          "max": "1.0",
          "histogram": [
           {
            "bin_start": 0,
            "bin_end": 0.1,
            "count": 44
           },
           {
            "bin_start": 0.1,
            "bin_end": 0.2,
            "count": 0
           },
           {
            "bin_start": 0.2,
            "bin_end": 0.30000000000000004,
            "count": 0
           },
           {
            "bin_start": 0.30000000000000004,
            "bin_end": 0.4,
            "count": 0
           },
           {
            "bin_start": 0.4,
            "bin_end": 0.5,
            "count": 0
           },
           {
            "bin_start": 0.5,
            "bin_end": 0.6000000000000001,
            "count": 0
           },
           {
            "bin_start": 0.6000000000000001,
            "bin_end": 0.7000000000000001,
            "count": 0
           },
           {
            "bin_start": 0.7000000000000001,
            "bin_end": 0.8,
            "count": 0
           },
           {
            "bin_start": 0.8,
            "bin_end": 0.9,
            "count": 0
           },
           {
            "bin_start": 0.9,
            "bin_end": 1,
            "count": 5
           }
          ]
         }
        },
        {
         "name": 11,
         "dtype": "float64",
         "stats": {
          "unique_count": 2,
          "nan_count": 0,
          "min": "0.0",
          "max": "1.0",
          "histogram": [
           {
            "bin_start": 0,
            "bin_end": 0.1,
            "count": 43
           },
           {
            "bin_start": 0.1,
            "bin_end": 0.2,
            "count": 0
           },
           {
            "bin_start": 0.2,
            "bin_end": 0.30000000000000004,
            "count": 0
           },
           {
            "bin_start": 0.30000000000000004,
            "bin_end": 0.4,
            "count": 0
           },
           {
            "bin_start": 0.4,
            "bin_end": 0.5,
            "count": 0
           },
           {
            "bin_start": 0.5,
            "bin_end": 0.6000000000000001,
            "count": 0
           },
           {
            "bin_start": 0.6000000000000001,
            "bin_end": 0.7000000000000001,
            "count": 0
           },
           {
            "bin_start": 0.7000000000000001,
            "bin_end": 0.8,
            "count": 0
           },
           {
            "bin_start": 0.8,
            "bin_end": 0.9,
            "count": 0
           },
           {
            "bin_start": 0.9,
            "bin_end": 1,
            "count": 6
           }
          ]
         }
        },
        {
         "name": 12,
         "dtype": "float64",
         "stats": {
          "unique_count": 2,
          "nan_count": 0,
          "min": "0.0",
          "max": "1.0",
          "histogram": [
           {
            "bin_start": 0,
            "bin_end": 0.1,
            "count": 45
           },
           {
            "bin_start": 0.1,
            "bin_end": 0.2,
            "count": 0
           },
           {
            "bin_start": 0.2,
            "bin_end": 0.30000000000000004,
            "count": 0
           },
           {
            "bin_start": 0.30000000000000004,
            "bin_end": 0.4,
            "count": 0
           },
           {
            "bin_start": 0.4,
            "bin_end": 0.5,
            "count": 0
           },
           {
            "bin_start": 0.5,
            "bin_end": 0.6000000000000001,
            "count": 0
           },
           {
            "bin_start": 0.6000000000000001,
            "bin_end": 0.7000000000000001,
            "count": 0
           },
           {
            "bin_start": 0.7000000000000001,
            "bin_end": 0.8,
            "count": 0
           },
           {
            "bin_start": 0.8,
            "bin_end": 0.9,
            "count": 0
           },
           {
            "bin_start": 0.9,
            "bin_end": 1,
            "count": 4
           }
          ]
         }
        },
        {
         "name": 13,
         "dtype": "float64",
         "stats": {
          "unique_count": 2,
          "nan_count": 0,
          "min": "0.0",
          "max": "1.0",
          "histogram": [
           {
            "bin_start": 0,
            "bin_end": 0.1,
            "count": 43
           },
           {
            "bin_start": 0.1,
            "bin_end": 0.2,
            "count": 0
           },
           {
            "bin_start": 0.2,
            "bin_end": 0.30000000000000004,
            "count": 0
           },
           {
            "bin_start": 0.30000000000000004,
            "bin_end": 0.4,
            "count": 0
           },
           {
            "bin_start": 0.4,
            "bin_end": 0.5,
            "count": 0
           },
           {
            "bin_start": 0.5,
            "bin_end": 0.6000000000000001,
            "count": 0
           },
           {
            "bin_start": 0.6000000000000001,
            "bin_end": 0.7000000000000001,
            "count": 0
           },
           {
            "bin_start": 0.7000000000000001,
            "bin_end": 0.8,
            "count": 0
           },
           {
            "bin_start": 0.8,
            "bin_end": 0.9,
            "count": 0
           },
           {
            "bin_start": 0.9,
            "bin_end": 1,
            "count": 6
           }
          ]
         }
        },
        {
         "name": 14,
         "dtype": "float64",
         "stats": {
          "unique_count": 2,
          "nan_count": 0,
          "min": "0.0",
          "max": "1.0",
          "histogram": [
           {
            "bin_start": 0,
            "bin_end": 0.1,
            "count": 43
           },
           {
            "bin_start": 0.1,
            "bin_end": 0.2,
            "count": 0
           },
           {
            "bin_start": 0.2,
            "bin_end": 0.30000000000000004,
            "count": 0
           },
           {
            "bin_start": 0.30000000000000004,
            "bin_end": 0.4,
            "count": 0
           },
           {
            "bin_start": 0.4,
            "bin_end": 0.5,
            "count": 0
           },
           {
            "bin_start": 0.5,
            "bin_end": 0.6000000000000001,
            "count": 0
           },
           {
            "bin_start": 0.6000000000000001,
            "bin_end": 0.7000000000000001,
            "count": 0
           },
           {
            "bin_start": 0.7000000000000001,
            "bin_end": 0.8,
            "count": 0
           },
           {
            "bin_start": 0.8,
            "bin_end": 0.9,
            "count": 0
           },
           {
            "bin_start": 0.9,
            "bin_end": 1,
            "count": 6
           }
          ]
         }
        },
        {
         "name": 15,
         "dtype": "float64",
         "stats": {
          "unique_count": 2,
          "nan_count": 0,
          "min": "0.0",
          "max": "1.0",
          "histogram": [
           {
            "bin_start": 0,
            "bin_end": 0.1,
            "count": 41
           },
           {
            "bin_start": 0.1,
            "bin_end": 0.2,
            "count": 0
           },
           {
            "bin_start": 0.2,
            "bin_end": 0.30000000000000004,
            "count": 0
           },
           {
            "bin_start": 0.30000000000000004,
            "bin_end": 0.4,
            "count": 0
           },
           {
            "bin_start": 0.4,
            "bin_end": 0.5,
            "count": 0
           },
           {
            "bin_start": 0.5,
            "bin_end": 0.6000000000000001,
            "count": 0
           },
           {
            "bin_start": 0.6000000000000001,
            "bin_end": 0.7000000000000001,
            "count": 0
           },
           {
            "bin_start": 0.7000000000000001,
            "bin_end": 0.8,
            "count": 0
           },
           {
            "bin_start": 0.8,
            "bin_end": 0.9,
            "count": 0
           },
           {
            "bin_start": 0.9,
            "bin_end": 1,
            "count": 8
           }
          ]
         }
        },
        {
         "name": 16,
         "dtype": "float64",
         "stats": {
          "unique_count": 2,
          "nan_count": 0,
          "min": "0.0",
          "max": "1.0",
          "histogram": [
           {
            "bin_start": 0,
            "bin_end": 0.1,
            "count": 46
           },
           {
            "bin_start": 0.1,
            "bin_end": 0.2,
            "count": 0
           },
           {
            "bin_start": 0.2,
            "bin_end": 0.30000000000000004,
            "count": 0
           },
           {
            "bin_start": 0.30000000000000004,
            "bin_end": 0.4,
            "count": 0
           },
           {
            "bin_start": 0.4,
            "bin_end": 0.5,
            "count": 0
           },
           {
            "bin_start": 0.5,
            "bin_end": 0.6000000000000001,
            "count": 0
           },
           {
            "bin_start": 0.6000000000000001,
            "bin_end": 0.7000000000000001,
            "count": 0
           },
           {
            "bin_start": 0.7000000000000001,
            "bin_end": 0.8,
            "count": 0
           },
           {
            "bin_start": 0.8,
            "bin_end": 0.9,
            "count": 0
           },
           {
            "bin_start": 0.9,
            "bin_end": 1,
            "count": 3
           }
          ]
         }
        },
        {
         "name": 17,
         "dtype": "float64",
         "stats": {
          "unique_count": 2,
          "nan_count": 0,
          "min": "0.0",
          "max": "1.0",
          "histogram": [
           {
            "bin_start": 0,
            "bin_end": 0.1,
            "count": 45
           },
           {
            "bin_start": 0.1,
            "bin_end": 0.2,
            "count": 0
           },
           {
            "bin_start": 0.2,
            "bin_end": 0.30000000000000004,
            "count": 0
           },
           {
            "bin_start": 0.30000000000000004,
            "bin_end": 0.4,
            "count": 0
           },
           {
            "bin_start": 0.4,
            "bin_end": 0.5,
            "count": 0
           },
           {
            "bin_start": 0.5,
            "bin_end": 0.6000000000000001,
            "count": 0
           },
           {
            "bin_start": 0.6000000000000001,
            "bin_end": 0.7000000000000001,
            "count": 0
           },
           {
            "bin_start": 0.7000000000000001,
            "bin_end": 0.8,
            "count": 0
           },
           {
            "bin_start": 0.8,
            "bin_end": 0.9,
            "count": 0
           },
           {
            "bin_start": 0.9,
            "bin_end": 1,
            "count": 4
           }
          ]
         }
        },
        {
         "name": 18,
         "dtype": "float64",
         "stats": {
          "unique_count": 2,
          "nan_count": 0,
          "min": "0.0",
          "max": "1.0",
          "histogram": [
           {
            "bin_start": 0,
            "bin_end": 0.1,
            "count": 46
           },
           {
            "bin_start": 0.1,
            "bin_end": 0.2,
            "count": 0
           },
           {
            "bin_start": 0.2,
            "bin_end": 0.30000000000000004,
            "count": 0
           },
           {
            "bin_start": 0.30000000000000004,
            "bin_end": 0.4,
            "count": 0
           },
           {
            "bin_start": 0.4,
            "bin_end": 0.5,
            "count": 0
           },
           {
            "bin_start": 0.5,
            "bin_end": 0.6000000000000001,
            "count": 0
           },
           {
            "bin_start": 0.6000000000000001,
            "bin_end": 0.7000000000000001,
            "count": 0
           },
           {
            "bin_start": 0.7000000000000001,
            "bin_end": 0.8,
            "count": 0
           },
           {
            "bin_start": 0.8,
            "bin_end": 0.9,
            "count": 0
           },
           {
            "bin_start": 0.9,
            "bin_end": 1,
            "count": 3
           }
          ]
         }
        },
        {
         "name": 19,
         "dtype": "float64",
         "stats": {
          "unique_count": 2,
          "nan_count": 0,
          "min": "0.0",
          "max": "1.0",
          "histogram": [
           {
            "bin_start": 0,
            "bin_end": 0.1,
            "count": 39
           },
           {
            "bin_start": 0.1,
            "bin_end": 0.2,
            "count": 0
           },
           {
            "bin_start": 0.2,
            "bin_end": 0.30000000000000004,
            "count": 0
           },
           {
            "bin_start": 0.30000000000000004,
            "bin_end": 0.4,
            "count": 0
           },
           {
            "bin_start": 0.4,
            "bin_end": 0.5,
            "count": 0
           },
           {
            "bin_start": 0.5,
            "bin_end": 0.6000000000000001,
            "count": 0
           },
           {
            "bin_start": 0.6000000000000001,
            "bin_end": 0.7000000000000001,
            "count": 0
           },
           {
            "bin_start": 0.7000000000000001,
            "bin_end": 0.8,
            "count": 0
           },
           {
            "bin_start": 0.8,
            "bin_end": 0.9,
            "count": 0
           },
           {
            "bin_start": 0.9,
            "bin_end": 1,
            "count": 10
           }
          ]
         }
        },
        {
         "name": 20,
         "dtype": "float64",
         "stats": {
          "unique_count": 2,
          "nan_count": 0,
          "min": "0.0",
          "max": "1.0",
          "histogram": [
           {
            "bin_start": 0,
            "bin_end": 0.1,
            "count": 46
           },
           {
            "bin_start": 0.1,
            "bin_end": 0.2,
            "count": 0
           },
           {
            "bin_start": 0.2,
            "bin_end": 0.30000000000000004,
            "count": 0
           },
           {
            "bin_start": 0.30000000000000004,
            "bin_end": 0.4,
            "count": 0
           },
           {
            "bin_start": 0.4,
            "bin_end": 0.5,
            "count": 0
           },
           {
            "bin_start": 0.5,
            "bin_end": 0.6000000000000001,
            "count": 0
           },
           {
            "bin_start": 0.6000000000000001,
            "bin_end": 0.7000000000000001,
            "count": 0
           },
           {
            "bin_start": 0.7000000000000001,
            "bin_end": 0.8,
            "count": 0
           },
           {
            "bin_start": 0.8,
            "bin_end": 0.9,
            "count": 0
           },
           {
            "bin_start": 0.9,
            "bin_end": 1,
            "count": 3
           }
          ]
         }
        },
        {
         "name": 21,
         "dtype": "float64",
         "stats": {
          "unique_count": 2,
          "nan_count": 0,
          "min": "0.0",
          "max": "1.0",
          "histogram": [
           {
            "bin_start": 0,
            "bin_end": 0.1,
            "count": 43
           },
           {
            "bin_start": 0.1,
            "bin_end": 0.2,
            "count": 0
           },
           {
            "bin_start": 0.2,
            "bin_end": 0.30000000000000004,
            "count": 0
           },
           {
            "bin_start": 0.30000000000000004,
            "bin_end": 0.4,
            "count": 0
           },
           {
            "bin_start": 0.4,
            "bin_end": 0.5,
            "count": 0
           },
           {
            "bin_start": 0.5,
            "bin_end": 0.6000000000000001,
            "count": 0
           },
           {
            "bin_start": 0.6000000000000001,
            "bin_end": 0.7000000000000001,
            "count": 0
           },
           {
            "bin_start": 0.7000000000000001,
            "bin_end": 0.8,
            "count": 0
           },
           {
            "bin_start": 0.8,
            "bin_end": 0.9,
            "count": 0
           },
           {
            "bin_start": 0.9,
            "bin_end": 1,
            "count": 6
           }
          ]
         }
        },
        {
         "name": 22,
         "dtype": "float64",
         "stats": {
          "unique_count": 2,
          "nan_count": 0,
          "min": "0.0",
          "max": "1.0",
          "histogram": [
           {
            "bin_start": 0,
            "bin_end": 0.1,
            "count": 46
           },
           {
            "bin_start": 0.1,
            "bin_end": 0.2,
            "count": 0
           },
           {
            "bin_start": 0.2,
            "bin_end": 0.30000000000000004,
            "count": 0
           },
           {
            "bin_start": 0.30000000000000004,
            "bin_end": 0.4,
            "count": 0
           },
           {
            "bin_start": 0.4,
            "bin_end": 0.5,
            "count": 0
           },
           {
            "bin_start": 0.5,
            "bin_end": 0.6000000000000001,
            "count": 0
           },
           {
            "bin_start": 0.6000000000000001,
            "bin_end": 0.7000000000000001,
            "count": 0
           },
           {
            "bin_start": 0.7000000000000001,
            "bin_end": 0.8,
            "count": 0
           },
           {
            "bin_start": 0.8,
            "bin_end": 0.9,
            "count": 0
           },
           {
            "bin_start": 0.9,
            "bin_end": 1,
            "count": 3
           }
          ]
         }
        },
        {
         "name": 23,
         "dtype": "float64",
         "stats": {
          "unique_count": 2,
          "nan_count": 0,
          "min": "0.0",
          "max": "1.0",
          "histogram": [
           {
            "bin_start": 0,
            "bin_end": 0.1,
            "count": 42
           },
           {
            "bin_start": 0.1,
            "bin_end": 0.2,
            "count": 0
           },
           {
            "bin_start": 0.2,
            "bin_end": 0.30000000000000004,
            "count": 0
           },
           {
            "bin_start": 0.30000000000000004,
            "bin_end": 0.4,
            "count": 0
           },
           {
            "bin_start": 0.4,
            "bin_end": 0.5,
            "count": 0
           },
           {
            "bin_start": 0.5,
            "bin_end": 0.6000000000000001,
            "count": 0
           },
           {
            "bin_start": 0.6000000000000001,
            "bin_end": 0.7000000000000001,
            "count": 0
           },
           {
            "bin_start": 0.7000000000000001,
            "bin_end": 0.8,
            "count": 0
           },
           {
            "bin_start": 0.8,
            "bin_end": 0.9,
            "count": 0
           },
           {
            "bin_start": 0.9,
            "bin_end": 1,
            "count": 7
           }
          ]
         }
        },
        {
         "name": 24,
         "dtype": "float64",
         "stats": {
          "unique_count": 2,
          "nan_count": 0,
          "min": "0.0",
          "max": "1.0",
          "histogram": [
           {
            "bin_start": 0,
            "bin_end": 0.1,
            "count": 41
           },
           {
            "bin_start": 0.1,
            "bin_end": 0.2,
            "count": 0
           },
           {
            "bin_start": 0.2,
            "bin_end": 0.30000000000000004,
            "count": 0
           },
           {
            "bin_start": 0.30000000000000004,
            "bin_end": 0.4,
            "count": 0
           },
           {
            "bin_start": 0.4,
            "bin_end": 0.5,
            "count": 0
           },
           {
            "bin_start": 0.5,
            "bin_end": 0.6000000000000001,
            "count": 0
           },
           {
            "bin_start": 0.6000000000000001,
            "bin_end": 0.7000000000000001,
            "count": 0
           },
           {
            "bin_start": 0.7000000000000001,
            "bin_end": 0.8,
            "count": 0
           },
           {
            "bin_start": 0.8,
            "bin_end": 0.9,
            "count": 0
           },
           {
            "bin_start": 0.9,
            "bin_end": 1,
            "count": 8
           }
          ]
         }
        },
        {
         "name": 25,
         "dtype": "float64",
         "stats": {
          "unique_count": 2,
          "nan_count": 0,
          "min": "0.0",
          "max": "1.0",
          "histogram": [
           {
            "bin_start": 0,
            "bin_end": 0.1,
            "count": 43
           },
           {
            "bin_start": 0.1,
            "bin_end": 0.2,
            "count": 0
           },
           {
            "bin_start": 0.2,
            "bin_end": 0.30000000000000004,
            "count": 0
           },
           {
            "bin_start": 0.30000000000000004,
            "bin_end": 0.4,
            "count": 0
           },
           {
            "bin_start": 0.4,
            "bin_end": 0.5,
            "count": 0
           },
           {
            "bin_start": 0.5,
            "bin_end": 0.6000000000000001,
            "count": 0
           },
           {
            "bin_start": 0.6000000000000001,
            "bin_end": 0.7000000000000001,
            "count": 0
           },
           {
            "bin_start": 0.7000000000000001,
            "bin_end": 0.8,
            "count": 0
           },
           {
            "bin_start": 0.8,
            "bin_end": 0.9,
            "count": 0
           },
           {
            "bin_start": 0.9,
            "bin_end": 1,
            "count": 6
           }
          ]
         }
        },
        {
         "name": 26,
         "dtype": "float64",
         "stats": {
          "unique_count": 2,
          "nan_count": 0,
          "min": "0.0",
          "max": "1.0",
          "histogram": [
           {
            "bin_start": 0,
            "bin_end": 0.1,
            "count": 45
           },
           {
            "bin_start": 0.1,
            "bin_end": 0.2,
            "count": 0
           },
           {
            "bin_start": 0.2,
            "bin_end": 0.30000000000000004,
            "count": 0
           },
           {
            "bin_start": 0.30000000000000004,
            "bin_end": 0.4,
            "count": 0
           },
           {
            "bin_start": 0.4,
            "bin_end": 0.5,
            "count": 0
           },
           {
            "bin_start": 0.5,
            "bin_end": 0.6000000000000001,
            "count": 0
           },
           {
            "bin_start": 0.6000000000000001,
            "bin_end": 0.7000000000000001,
            "count": 0
           },
           {
            "bin_start": 0.7000000000000001,
            "bin_end": 0.8,
            "count": 0
           },
           {
            "bin_start": 0.8,
            "bin_end": 0.9,
            "count": 0
           },
           {
            "bin_start": 0.9,
            "bin_end": 1,
            "count": 4
           }
          ]
         }
        },
        {
         "name": 27,
         "dtype": "float64",
         "stats": {
          "unique_count": 2,
          "nan_count": 0,
          "min": "0.0",
          "max": "1.0",
          "histogram": [
           {
            "bin_start": 0,
            "bin_end": 0.1,
            "count": 40
           },
           {
            "bin_start": 0.1,
            "bin_end": 0.2,
            "count": 0
           },
           {
            "bin_start": 0.2,
            "bin_end": 0.30000000000000004,
            "count": 0
           },
           {
            "bin_start": 0.30000000000000004,
            "bin_end": 0.4,
            "count": 0
           },
           {
            "bin_start": 0.4,
            "bin_end": 0.5,
            "count": 0
           },
           {
            "bin_start": 0.5,
            "bin_end": 0.6000000000000001,
            "count": 0
           },
           {
            "bin_start": 0.6000000000000001,
            "bin_end": 0.7000000000000001,
            "count": 0
           },
           {
            "bin_start": 0.7000000000000001,
            "bin_end": 0.8,
            "count": 0
           },
           {
            "bin_start": 0.8,
            "bin_end": 0.9,
            "count": 0
           },
           {
            "bin_start": 0.9,
            "bin_end": 1,
            "count": 9
           }
          ]
         }
        },
        {
         "name": 28,
         "dtype": "float64",
         "stats": {
          "unique_count": 2,
          "nan_count": 0,
          "min": "0.0",
          "max": "1.0",
          "histogram": [
           {
            "bin_start": 0,
            "bin_end": 0.1,
            "count": 42
           },
           {
            "bin_start": 0.1,
            "bin_end": 0.2,
            "count": 0
           },
           {
            "bin_start": 0.2,
            "bin_end": 0.30000000000000004,
            "count": 0
           },
           {
            "bin_start": 0.30000000000000004,
            "bin_end": 0.4,
            "count": 0
           },
           {
            "bin_start": 0.4,
            "bin_end": 0.5,
            "count": 0
           },
           {
            "bin_start": 0.5,
            "bin_end": 0.6000000000000001,
            "count": 0
           },
           {
            "bin_start": 0.6000000000000001,
            "bin_end": 0.7000000000000001,
            "count": 0
           },
           {
            "bin_start": 0.7000000000000001,
            "bin_end": 0.8,
            "count": 0
           },
           {
            "bin_start": 0.8,
            "bin_end": 0.9,
            "count": 0
           },
           {
            "bin_start": 0.9,
            "bin_end": 1,
            "count": 7
           }
          ]
         }
        },
        {
         "name": 29,
         "dtype": "float64",
         "stats": {
          "unique_count": 2,
          "nan_count": 0,
          "min": "0.0",
          "max": "1.0",
          "histogram": [
           {
            "bin_start": 0,
            "bin_end": 0.1,
            "count": 44
           },
           {
            "bin_start": 0.1,
            "bin_end": 0.2,
            "count": 0
           },
           {
            "bin_start": 0.2,
            "bin_end": 0.30000000000000004,
            "count": 0
           },
           {
            "bin_start": 0.30000000000000004,
            "bin_end": 0.4,
            "count": 0
           },
           {
            "bin_start": 0.4,
            "bin_end": 0.5,
            "count": 0
           },
           {
            "bin_start": 0.5,
            "bin_end": 0.6000000000000001,
            "count": 0
           },
           {
            "bin_start": 0.6000000000000001,
            "bin_end": 0.7000000000000001,
            "count": 0
           },
           {
            "bin_start": 0.7000000000000001,
            "bin_end": 0.8,
            "count": 0
           },
           {
            "bin_start": 0.8,
            "bin_end": 0.9,
            "count": 0
           },
           {
            "bin_start": 0.9,
            "bin_end": 1,
            "count": 5
           }
          ]
         }
        },
        {
         "name": 30,
         "dtype": "float64",
         "stats": {
          "unique_count": 2,
          "nan_count": 0,
          "min": "0.0",
          "max": "1.0",
          "histogram": [
           {
            "bin_start": 0,
            "bin_end": 0.1,
            "count": 46
           },
           {
            "bin_start": 0.1,
            "bin_end": 0.2,
            "count": 0
           },
           {
            "bin_start": 0.2,
            "bin_end": 0.30000000000000004,
            "count": 0
           },
           {
            "bin_start": 0.30000000000000004,
            "bin_end": 0.4,
            "count": 0
           },
           {
            "bin_start": 0.4,
            "bin_end": 0.5,
            "count": 0
           },
           {
            "bin_start": 0.5,
            "bin_end": 0.6000000000000001,
            "count": 0
           },
           {
            "bin_start": 0.6000000000000001,
            "bin_end": 0.7000000000000001,
            "count": 0
           },
           {
            "bin_start": 0.7000000000000001,
            "bin_end": 0.8,
            "count": 0
           },
           {
            "bin_start": 0.8,
            "bin_end": 0.9,
            "count": 0
           },
           {
            "bin_start": 0.9,
            "bin_end": 1,
            "count": 3
           }
          ]
         }
        },
        {
         "name": 31,
         "dtype": "float64",
         "stats": {
          "unique_count": 2,
          "nan_count": 0,
          "min": "0.0",
          "max": "1.0",
          "histogram": [
           {
            "bin_start": 0,
            "bin_end": 0.1,
            "count": 45
           },
           {
            "bin_start": 0.1,
            "bin_end": 0.2,
            "count": 0
           },
           {
            "bin_start": 0.2,
            "bin_end": 0.30000000000000004,
            "count": 0
           },
           {
            "bin_start": 0.30000000000000004,
            "bin_end": 0.4,
            "count": 0
           },
           {
            "bin_start": 0.4,
            "bin_end": 0.5,
            "count": 0
           },
           {
            "bin_start": 0.5,
            "bin_end": 0.6000000000000001,
            "count": 0
           },
           {
            "bin_start": 0.6000000000000001,
            "bin_end": 0.7000000000000001,
            "count": 0
           },
           {
            "bin_start": 0.7000000000000001,
            "bin_end": 0.8,
            "count": 0
           },
           {
            "bin_start": 0.8,
            "bin_end": 0.9,
            "count": 0
           },
           {
            "bin_start": 0.9,
            "bin_end": 1,
            "count": 4
           }
          ]
         }
        },
        {
         "name": 32,
         "dtype": "float64",
         "stats": {
          "unique_count": 2,
          "nan_count": 0,
          "min": "0.0",
          "max": "1.0",
          "histogram": [
           {
            "bin_start": 0,
            "bin_end": 0.1,
            "count": 45
           },
           {
            "bin_start": 0.1,
            "bin_end": 0.2,
            "count": 0
           },
           {
            "bin_start": 0.2,
            "bin_end": 0.30000000000000004,
            "count": 0
           },
           {
            "bin_start": 0.30000000000000004,
            "bin_end": 0.4,
            "count": 0
           },
           {
            "bin_start": 0.4,
            "bin_end": 0.5,
            "count": 0
           },
           {
            "bin_start": 0.5,
            "bin_end": 0.6000000000000001,
            "count": 0
           },
           {
            "bin_start": 0.6000000000000001,
            "bin_end": 0.7000000000000001,
            "count": 0
           },
           {
            "bin_start": 0.7000000000000001,
            "bin_end": 0.8,
            "count": 0
           },
           {
            "bin_start": 0.8,
            "bin_end": 0.9,
            "count": 0
           },
           {
            "bin_start": 0.9,
            "bin_end": 1,
            "count": 4
           }
          ]
         }
        },
        {
         "name": 33,
         "dtype": "float64",
         "stats": {
          "unique_count": 2,
          "nan_count": 0,
          "min": "0.0",
          "max": "1.0",
          "histogram": [
           {
            "bin_start": 0,
            "bin_end": 0.1,
            "count": 45
           },
           {
            "bin_start": 0.1,
            "bin_end": 0.2,
            "count": 0
           },
           {
            "bin_start": 0.2,
            "bin_end": 0.30000000000000004,
            "count": 0
           },
           {
            "bin_start": 0.30000000000000004,
            "bin_end": 0.4,
            "count": 0
           },
           {
            "bin_start": 0.4,
            "bin_end": 0.5,
            "count": 0
           },
           {
            "bin_start": 0.5,
            "bin_end": 0.6000000000000001,
            "count": 0
           },
           {
            "bin_start": 0.6000000000000001,
            "bin_end": 0.7000000000000001,
            "count": 0
           },
           {
            "bin_start": 0.7000000000000001,
            "bin_end": 0.8,
            "count": 0
           },
           {
            "bin_start": 0.8,
            "bin_end": 0.9,
            "count": 0
           },
           {
            "bin_start": 0.9,
            "bin_end": 1,
            "count": 4
           }
          ]
         }
        },
        {
         "name": 34,
         "dtype": "float64",
         "stats": {
          "unique_count": 2,
          "nan_count": 0,
          "min": "0.0",
          "max": "1.0",
          "histogram": [
           {
            "bin_start": 0,
            "bin_end": 0.1,
            "count": 42
           },
           {
            "bin_start": 0.1,
            "bin_end": 0.2,
            "count": 0
           },
           {
            "bin_start": 0.2,
            "bin_end": 0.30000000000000004,
            "count": 0
           },
           {
            "bin_start": 0.30000000000000004,
            "bin_end": 0.4,
            "count": 0
           },
           {
            "bin_start": 0.4,
            "bin_end": 0.5,
            "count": 0
           },
           {
            "bin_start": 0.5,
            "bin_end": 0.6000000000000001,
            "count": 0
           },
           {
            "bin_start": 0.6000000000000001,
            "bin_end": 0.7000000000000001,
            "count": 0
           },
           {
            "bin_start": 0.7000000000000001,
            "bin_end": 0.8,
            "count": 0
           },
           {
            "bin_start": 0.8,
            "bin_end": 0.9,
            "count": 0
           },
           {
            "bin_start": 0.9,
            "bin_end": 1,
            "count": 7
           }
          ]
         }
        },
        {
         "name": 35,
         "dtype": "float64",
         "stats": {
          "unique_count": 2,
          "nan_count": 0,
          "min": "0.0",
          "max": "1.0",
          "histogram": [
           {
            "bin_start": 0,
            "bin_end": 0.1,
            "count": 44
           },
           {
            "bin_start": 0.1,
            "bin_end": 0.2,
            "count": 0
           },
           {
            "bin_start": 0.2,
            "bin_end": 0.30000000000000004,
            "count": 0
           },
           {
            "bin_start": 0.30000000000000004,
            "bin_end": 0.4,
            "count": 0
           },
           {
            "bin_start": 0.4,
            "bin_end": 0.5,
            "count": 0
           },
           {
            "bin_start": 0.5,
            "bin_end": 0.6000000000000001,
            "count": 0
           },
           {
            "bin_start": 0.6000000000000001,
            "bin_end": 0.7000000000000001,
            "count": 0
           },
           {
            "bin_start": 0.7000000000000001,
            "bin_end": 0.8,
            "count": 0
           },
           {
            "bin_start": 0.8,
            "bin_end": 0.9,
            "count": 0
           },
           {
            "bin_start": 0.9,
            "bin_end": 1,
            "count": 5
           }
          ]
         }
        },
        {
         "name": 36,
         "dtype": "float64",
         "stats": {
          "unique_count": 2,
          "nan_count": 0,
          "min": "0.0",
          "max": "1.0",
          "histogram": [
           {
            "bin_start": 0,
            "bin_end": 0.1,
            "count": 43
           },
           {
            "bin_start": 0.1,
            "bin_end": 0.2,
            "count": 0
           },
           {
            "bin_start": 0.2,
            "bin_end": 0.30000000000000004,
            "count": 0
           },
           {
            "bin_start": 0.30000000000000004,
            "bin_end": 0.4,
            "count": 0
           },
           {
            "bin_start": 0.4,
            "bin_end": 0.5,
            "count": 0
           },
           {
            "bin_start": 0.5,
            "bin_end": 0.6000000000000001,
            "count": 0
           },
           {
            "bin_start": 0.6000000000000001,
            "bin_end": 0.7000000000000001,
            "count": 0
           },
           {
            "bin_start": 0.7000000000000001,
            "bin_end": 0.8,
            "count": 0
           },
           {
            "bin_start": 0.8,
            "bin_end": 0.9,
            "count": 0
           },
           {
            "bin_start": 0.9,
            "bin_end": 1,
            "count": 6
           }
          ]
         }
        },
        {
         "name": 37,
         "dtype": "float64",
         "stats": {
          "unique_count": 2,
          "nan_count": 0,
          "min": "0.0",
          "max": "1.0",
          "histogram": [
           {
            "bin_start": 0,
            "bin_end": 0.1,
            "count": 43
           },
           {
            "bin_start": 0.1,
            "bin_end": 0.2,
            "count": 0
           },
           {
            "bin_start": 0.2,
            "bin_end": 0.30000000000000004,
            "count": 0
           },
           {
            "bin_start": 0.30000000000000004,
            "bin_end": 0.4,
            "count": 0
           },
           {
            "bin_start": 0.4,
            "bin_end": 0.5,
            "count": 0
           },
           {
            "bin_start": 0.5,
            "bin_end": 0.6000000000000001,
            "count": 0
           },
           {
            "bin_start": 0.6000000000000001,
            "bin_end": 0.7000000000000001,
            "count": 0
           },
           {
            "bin_start": 0.7000000000000001,
            "bin_end": 0.8,
            "count": 0
           },
           {
            "bin_start": 0.8,
            "bin_end": 0.9,
            "count": 0
           },
           {
            "bin_start": 0.9,
            "bin_end": 1,
            "count": 6
           }
          ]
         }
        },
        {
         "name": 38,
         "dtype": "float64",
         "stats": {
          "unique_count": 2,
          "nan_count": 0,
          "min": "0.0",
          "max": "1.0",
          "histogram": [
           {
            "bin_start": 0,
            "bin_end": 0.1,
            "count": 46
           },
           {
            "bin_start": 0.1,
            "bin_end": 0.2,
            "count": 0
           },
           {
            "bin_start": 0.2,
            "bin_end": 0.30000000000000004,
            "count": 0
           },
           {
            "bin_start": 0.30000000000000004,
            "bin_end": 0.4,
            "count": 0
           },
           {
            "bin_start": 0.4,
            "bin_end": 0.5,
            "count": 0
           },
           {
            "bin_start": 0.5,
            "bin_end": 0.6000000000000001,
            "count": 0
           },
           {
            "bin_start": 0.6000000000000001,
            "bin_end": 0.7000000000000001,
            "count": 0
           },
           {
            "bin_start": 0.7000000000000001,
            "bin_end": 0.8,
            "count": 0
           },
           {
            "bin_start": 0.8,
            "bin_end": 0.9,
            "count": 0
           },
           {
            "bin_start": 0.9,
            "bin_end": 1,
            "count": 3
           }
          ]
         }
        },
        {
         "name": 39,
         "dtype": "float64",
         "stats": {
          "unique_count": 2,
          "nan_count": 0,
          "min": "0.0",
          "max": "1.0",
          "histogram": [
           {
            "bin_start": 0,
            "bin_end": 0.1,
            "count": 44
           },
           {
            "bin_start": 0.1,
            "bin_end": 0.2,
            "count": 0
           },
           {
            "bin_start": 0.2,
            "bin_end": 0.30000000000000004,
            "count": 0
           },
           {
            "bin_start": 0.30000000000000004,
            "bin_end": 0.4,
            "count": 0
           },
           {
            "bin_start": 0.4,
            "bin_end": 0.5,
            "count": 0
           },
           {
            "bin_start": 0.5,
            "bin_end": 0.6000000000000001,
            "count": 0
           },
           {
            "bin_start": 0.6000000000000001,
            "bin_end": 0.7000000000000001,
            "count": 0
           },
           {
            "bin_start": 0.7000000000000001,
            "bin_end": 0.8,
            "count": 0
           },
           {
            "bin_start": 0.8,
            "bin_end": 0.9,
            "count": 0
           },
           {
            "bin_start": 0.9,
            "bin_end": 1,
            "count": 5
           }
          ]
         }
        },
        {
         "name": 40,
         "dtype": "float64",
         "stats": {
          "unique_count": 2,
          "nan_count": 0,
          "min": "0.0",
          "max": "1.0",
          "histogram": [
           {
            "bin_start": 0,
            "bin_end": 0.1,
            "count": 46
           },
           {
            "bin_start": 0.1,
            "bin_end": 0.2,
            "count": 0
           },
           {
            "bin_start": 0.2,
            "bin_end": 0.30000000000000004,
            "count": 0
           },
           {
            "bin_start": 0.30000000000000004,
            "bin_end": 0.4,
            "count": 0
           },
           {
            "bin_start": 0.4,
            "bin_end": 0.5,
            "count": 0
           },
           {
            "bin_start": 0.5,
            "bin_end": 0.6000000000000001,
            "count": 0
           },
           {
            "bin_start": 0.6000000000000001,
            "bin_end": 0.7000000000000001,
            "count": 0
           },
           {
            "bin_start": 0.7000000000000001,
            "bin_end": 0.8,
            "count": 0
           },
           {
            "bin_start": 0.8,
            "bin_end": 0.9,
            "count": 0
           },
           {
            "bin_start": 0.9,
            "bin_end": 1,
            "count": 3
           }
          ]
         }
        },
        {
         "name": 41,
         "dtype": "float64",
         "stats": {
          "unique_count": 2,
          "nan_count": 0,
          "min": "0.0",
          "max": "1.0",
          "histogram": [
           {
            "bin_start": 0,
            "bin_end": 0.1,
            "count": 47
           },
           {
            "bin_start": 0.1,
            "bin_end": 0.2,
            "count": 0
           },
           {
            "bin_start": 0.2,
            "bin_end": 0.30000000000000004,
            "count": 0
           },
           {
            "bin_start": 0.30000000000000004,
            "bin_end": 0.4,
            "count": 0
           },
           {
            "bin_start": 0.4,
            "bin_end": 0.5,
            "count": 0
           },
           {
            "bin_start": 0.5,
            "bin_end": 0.6000000000000001,
            "count": 0
           },
           {
            "bin_start": 0.6000000000000001,
            "bin_end": 0.7000000000000001,
            "count": 0
           },
           {
            "bin_start": 0.7000000000000001,
            "bin_end": 0.8,
            "count": 0
           },
           {
            "bin_start": 0.8,
            "bin_end": 0.9,
            "count": 0
           },
           {
            "bin_start": 0.9,
            "bin_end": 1,
            "count": 2
           }
          ]
         }
        },
        {
         "name": 42,
         "dtype": "float64",
         "stats": {
          "unique_count": 2,
          "nan_count": 0,
          "min": "0.0",
          "max": "1.0",
          "histogram": [
           {
            "bin_start": 0,
            "bin_end": 0.1,
            "count": 43
           },
           {
            "bin_start": 0.1,
            "bin_end": 0.2,
            "count": 0
           },
           {
            "bin_start": 0.2,
            "bin_end": 0.30000000000000004,
            "count": 0
           },
           {
            "bin_start": 0.30000000000000004,
            "bin_end": 0.4,
            "count": 0
           },
           {
            "bin_start": 0.4,
            "bin_end": 0.5,
            "count": 0
           },
           {
            "bin_start": 0.5,
            "bin_end": 0.6000000000000001,
            "count": 0
           },
           {
            "bin_start": 0.6000000000000001,
            "bin_end": 0.7000000000000001,
            "count": 0
           },
           {
            "bin_start": 0.7000000000000001,
            "bin_end": 0.8,
            "count": 0
           },
           {
            "bin_start": 0.8,
            "bin_end": 0.9,
            "count": 0
           },
           {
            "bin_start": 0.9,
            "bin_end": 1,
            "count": 6
           }
          ]
         }
        },
        {
         "name": 43,
         "dtype": "float64",
         "stats": {
          "unique_count": 2,
          "nan_count": 0,
          "min": "0.0",
          "max": "1.0",
          "histogram": [
           {
            "bin_start": 0,
            "bin_end": 0.1,
            "count": 44
           },
           {
            "bin_start": 0.1,
            "bin_end": 0.2,
            "count": 0
           },
           {
            "bin_start": 0.2,
            "bin_end": 0.30000000000000004,
            "count": 0
           },
           {
            "bin_start": 0.30000000000000004,
            "bin_end": 0.4,
            "count": 0
           },
           {
            "bin_start": 0.4,
            "bin_end": 0.5,
            "count": 0
           },
           {
            "bin_start": 0.5,
            "bin_end": 0.6000000000000001,
            "count": 0
           },
           {
            "bin_start": 0.6000000000000001,
            "bin_end": 0.7000000000000001,
            "count": 0
           },
           {
            "bin_start": 0.7000000000000001,
            "bin_end": 0.8,
            "count": 0
           },
           {
            "bin_start": 0.8,
            "bin_end": 0.9,
            "count": 0
           },
           {
            "bin_start": 0.9,
            "bin_end": 1,
            "count": 5
           }
          ]
         }
        },
        {
         "name": 44,
         "dtype": "float64",
         "stats": {
          "unique_count": 2,
          "nan_count": 0,
          "min": "0.0",
          "max": "1.0",
          "histogram": [
           {
            "bin_start": 0,
            "bin_end": 0.1,
            "count": 45
           },
           {
            "bin_start": 0.1,
            "bin_end": 0.2,
            "count": 0
           },
           {
            "bin_start": 0.2,
            "bin_end": 0.30000000000000004,
            "count": 0
           },
           {
            "bin_start": 0.30000000000000004,
            "bin_end": 0.4,
            "count": 0
           },
           {
            "bin_start": 0.4,
            "bin_end": 0.5,
            "count": 0
           },
           {
            "bin_start": 0.5,
            "bin_end": 0.6000000000000001,
            "count": 0
           },
           {
            "bin_start": 0.6000000000000001,
            "bin_end": 0.7000000000000001,
            "count": 0
           },
           {
            "bin_start": 0.7000000000000001,
            "bin_end": 0.8,
            "count": 0
           },
           {
            "bin_start": 0.8,
            "bin_end": 0.9,
            "count": 0
           },
           {
            "bin_start": 0.9,
            "bin_end": 1,
            "count": 4
           }
          ]
         }
        },
        {
         "name": 45,
         "dtype": "float64",
         "stats": {
          "unique_count": 2,
          "nan_count": 0,
          "min": "0.0",
          "max": "1.0",
          "histogram": [
           {
            "bin_start": 0,
            "bin_end": 0.1,
            "count": 47
           },
           {
            "bin_start": 0.1,
            "bin_end": 0.2,
            "count": 0
           },
           {
            "bin_start": 0.2,
            "bin_end": 0.30000000000000004,
            "count": 0
           },
           {
            "bin_start": 0.30000000000000004,
            "bin_end": 0.4,
            "count": 0
           },
           {
            "bin_start": 0.4,
            "bin_end": 0.5,
            "count": 0
           },
           {
            "bin_start": 0.5,
            "bin_end": 0.6000000000000001,
            "count": 0
           },
           {
            "bin_start": 0.6000000000000001,
            "bin_end": 0.7000000000000001,
            "count": 0
           },
           {
            "bin_start": 0.7000000000000001,
            "bin_end": 0.8,
            "count": 0
           },
           {
            "bin_start": 0.8,
            "bin_end": 0.9,
            "count": 0
           },
           {
            "bin_start": 0.9,
            "bin_end": 1,
            "count": 2
           }
          ]
         }
        },
        {
         "name": 46,
         "dtype": "float64",
         "stats": {
          "unique_count": 2,
          "nan_count": 0,
          "min": "0.0",
          "max": "1.0",
          "histogram": [
           {
            "bin_start": 0,
            "bin_end": 0.1,
            "count": 47
           },
           {
            "bin_start": 0.1,
            "bin_end": 0.2,
            "count": 0
           },
           {
            "bin_start": 0.2,
            "bin_end": 0.30000000000000004,
            "count": 0
           },
           {
            "bin_start": 0.30000000000000004,
            "bin_end": 0.4,
            "count": 0
           },
           {
            "bin_start": 0.4,
            "bin_end": 0.5,
            "count": 0
           },
           {
            "bin_start": 0.5,
            "bin_end": 0.6000000000000001,
            "count": 0
           },
           {
            "bin_start": 0.6000000000000001,
            "bin_end": 0.7000000000000001,
            "count": 0
           },
           {
            "bin_start": 0.7000000000000001,
            "bin_end": 0.8,
            "count": 0
           },
           {
            "bin_start": 0.8,
            "bin_end": 0.9,
            "count": 0
           },
           {
            "bin_start": 0.9,
            "bin_end": 1,
            "count": 2
           }
          ]
         }
        },
        {
         "name": 47,
         "dtype": "float64",
         "stats": {
          "unique_count": 2,
          "nan_count": 0,
          "min": "0.0",
          "max": "1.0",
          "histogram": [
           {
            "bin_start": 0,
            "bin_end": 0.1,
            "count": 45
           },
           {
            "bin_start": 0.1,
            "bin_end": 0.2,
            "count": 0
           },
           {
            "bin_start": 0.2,
            "bin_end": 0.30000000000000004,
            "count": 0
           },
           {
            "bin_start": 0.30000000000000004,
            "bin_end": 0.4,
            "count": 0
           },
           {
            "bin_start": 0.4,
            "bin_end": 0.5,
            "count": 0
           },
           {
            "bin_start": 0.5,
            "bin_end": 0.6000000000000001,
            "count": 0
           },
           {
            "bin_start": 0.6000000000000001,
            "bin_end": 0.7000000000000001,
            "count": 0
           },
           {
            "bin_start": 0.7000000000000001,
            "bin_end": 0.8,
            "count": 0
           },
           {
            "bin_start": 0.8,
            "bin_end": 0.9,
            "count": 0
           },
           {
            "bin_start": 0.9,
            "bin_end": 1,
            "count": 4
           }
          ]
         }
        },
        {
         "name": 48,
         "dtype": "float64",
         "stats": {
          "unique_count": 2,
          "nan_count": 0,
          "min": "0.0",
          "max": "1.0",
          "histogram": [
           {
            "bin_start": 0,
            "bin_end": 0.1,
            "count": 46
           },
           {
            "bin_start": 0.1,
            "bin_end": 0.2,
            "count": 0
           },
           {
            "bin_start": 0.2,
            "bin_end": 0.30000000000000004,
            "count": 0
           },
           {
            "bin_start": 0.30000000000000004,
            "bin_end": 0.4,
            "count": 0
           },
           {
            "bin_start": 0.4,
            "bin_end": 0.5,
            "count": 0
           },
           {
            "bin_start": 0.5,
            "bin_end": 0.6000000000000001,
            "count": 0
           },
           {
            "bin_start": 0.6000000000000001,
            "bin_end": 0.7000000000000001,
            "count": 0
           },
           {
            "bin_start": 0.7000000000000001,
            "bin_end": 0.8,
            "count": 0
           },
           {
            "bin_start": 0.8,
            "bin_end": 0.9,
            "count": 0
           },
           {
            "bin_start": 0.9,
            "bin_end": 1,
            "count": 3
           }
          ]
         }
        },
        {
         "name": "_deepnote_index_column",
         "dtype": "int64"
        }
       ],
       "rows": [
        {
         "0": 0,
         "1": 1,
         "2": 1,
         "3": 0,
         "4": 0,
         "5": 0,
         "6": 0,
         "7": 0,
         "8": 0,
         "9": 0,
         "10": 0,
         "11": 0,
         "12": 0,
         "13": 0,
         "14": 0,
         "15": 0,
         "16": 0,
         "17": 0,
         "18": 0,
         "19": 0,
         "20": 0,
         "21": 0,
         "22": 0,
         "23": 0,
         "24": 0,
         "25": 0,
         "26": 0,
         "27": 0,
         "28": 0,
         "29": 0,
         "30": 0,
         "31": 0,
         "32": 0,
         "33": 0,
         "34": 0,
         "35": 0,
         "36": 0,
         "37": 0,
         "38": 0,
         "39": 0,
         "40": 0,
         "41": 0,
         "42": 0,
         "43": 0,
         "44": 0,
         "45": 0,
         "46": 0,
         "47": 0,
         "48": 0,
         "polyID": 1,
         "_deepnote_index_column": 0
        },
        {
         "0": 1,
         "1": 0,
         "2": 1,
         "3": 1,
         "4": 0,
         "5": 0,
         "6": 0,
         "7": 0,
         "8": 0,
         "9": 0,
         "10": 0,
         "11": 0,
         "12": 0,
         "13": 0,
         "14": 0,
         "15": 0,
         "16": 0,
         "17": 0,
         "18": 0,
         "19": 0,
         "20": 0,
         "21": 0,
         "22": 0,
         "23": 0,
         "24": 0,
         "25": 0,
         "26": 0,
         "27": 0,
         "28": 0,
         "29": 0,
         "30": 0,
         "31": 0,
         "32": 0,
         "33": 0,
         "34": 0,
         "35": 0,
         "36": 0,
         "37": 0,
         "38": 0,
         "39": 0,
         "40": 0,
         "41": 0,
         "42": 0,
         "43": 0,
         "44": 0,
         "45": 0,
         "46": 0,
         "47": 0,
         "48": 0,
         "polyID": 2,
         "_deepnote_index_column": 1
        },
        {
         "0": 1,
         "1": 1,
         "2": 0,
         "3": 1,
         "4": 1,
         "5": 0,
         "6": 0,
         "7": 0,
         "8": 0,
         "9": 0,
         "10": 0,
         "11": 0,
         "12": 0,
         "13": 0,
         "14": 0,
         "15": 0,
         "16": 0,
         "17": 0,
         "18": 0,
         "19": 0,
         "20": 0,
         "21": 0,
         "22": 0,
         "23": 0,
         "24": 0,
         "25": 0,
         "26": 0,
         "27": 0,
         "28": 0,
         "29": 0,
         "30": 0,
         "31": 0,
         "32": 0,
         "33": 0,
         "34": 0,
         "35": 0,
         "36": 0,
         "37": 0,
         "38": 0,
         "39": 0,
         "40": 0,
         "41": 0,
         "42": 0,
         "43": 0,
         "44": 0,
         "45": 0,
         "46": 0,
         "47": 0,
         "48": 0,
         "polyID": 3,
         "_deepnote_index_column": 2
        },
        {
         "0": 0,
         "1": 1,
         "2": 1,
         "3": 0,
         "4": 1,
         "5": 0,
         "6": 0,
         "7": 1,
         "8": 0,
         "9": 0,
         "10": 0,
         "11": 0,
         "12": 0,
         "13": 0,
         "14": 0,
         "15": 0,
         "16": 0,
         "17": 0,
         "18": 0,
         "19": 0,
         "20": 0,
         "21": 0,
         "22": 0,
         "23": 0,
         "24": 0,
         "25": 0,
         "26": 0,
         "27": 0,
         "28": 0,
         "29": 0,
         "30": 0,
         "31": 0,
         "32": 0,
         "33": 0,
         "34": 0,
         "35": 0,
         "36": 0,
         "37": 0,
         "38": 0,
         "39": 0,
         "40": 0,
         "41": 0,
         "42": 0,
         "43": 0,
         "44": 0,
         "45": 0,
         "46": 0,
         "47": 0,
         "48": 0,
         "polyID": 4,
         "_deepnote_index_column": 3
        },
        {
         "0": 0,
         "1": 0,
         "2": 1,
         "3": 1,
         "4": 0,
         "5": 1,
         "6": 0,
         "7": 1,
         "8": 1,
         "9": 0,
         "10": 1,
         "11": 0,
         "12": 0,
         "13": 0,
         "14": 1,
         "15": 1,
         "16": 0,
         "17": 0,
         "18": 0,
         "19": 0,
         "20": 0,
         "21": 0,
         "22": 0,
         "23": 0,
         "24": 0,
         "25": 0,
         "26": 0,
         "27": 0,
         "28": 0,
         "29": 0,
         "30": 0,
         "31": 0,
         "32": 0,
         "33": 0,
         "34": 0,
         "35": 0,
         "36": 0,
         "37": 0,
         "38": 0,
         "39": 0,
         "40": 0,
         "41": 0,
         "42": 0,
         "43": 0,
         "44": 0,
         "45": 0,
         "46": 0,
         "47": 0,
         "48": 0,
         "polyID": 5,
         "_deepnote_index_column": 4
        },
        {
         "0": 0,
         "1": 0,
         "2": 0,
         "3": 0,
         "4": 1,
         "5": 0,
         "6": 0,
         "7": 0,
         "8": 1,
         "9": 0,
         "10": 0,
         "11": 0,
         "12": 0,
         "13": 0,
         "14": 0,
         "15": 0,
         "16": 0,
         "17": 0,
         "18": 0,
         "19": 0,
         "20": 0,
         "21": 0,
         "22": 0,
         "23": 0,
         "24": 0,
         "25": 0,
         "26": 0,
         "27": 0,
         "28": 0,
         "29": 0,
         "30": 0,
         "31": 0,
         "32": 0,
         "33": 0,
         "34": 0,
         "35": 0,
         "36": 0,
         "37": 0,
         "38": 0,
         "39": 0,
         "40": 0,
         "41": 0,
         "42": 0,
         "43": 0,
         "44": 0,
         "45": 0,
         "46": 0,
         "47": 0,
         "48": 0,
         "polyID": 6,
         "_deepnote_index_column": 5
        },
        {
         "0": 0,
         "1": 0,
         "2": 0,
         "3": 0,
         "4": 0,
         "5": 0,
         "6": 0,
         "7": 1,
         "8": 0,
         "9": 0,
         "10": 0,
         "11": 1,
         "12": 1,
         "13": 1,
         "14": 0,
         "15": 0,
         "16": 0,
         "17": 0,
         "18": 0,
         "19": 0,
         "20": 0,
         "21": 0,
         "22": 0,
         "23": 0,
         "24": 0,
         "25": 0,
         "26": 0,
         "27": 0,
         "28": 0,
         "29": 0,
         "30": 0,
         "31": 0,
         "32": 0,
         "33": 0,
         "34": 0,
         "35": 0,
         "36": 0,
         "37": 0,
         "38": 0,
         "39": 0,
         "40": 0,
         "41": 0,
         "42": 0,
         "43": 0,
         "44": 0,
         "45": 0,
         "46": 0,
         "47": 0,
         "48": 0,
         "polyID": 7,
         "_deepnote_index_column": 6
        },
        {
         "0": 0,
         "1": 0,
         "2": 0,
         "3": 1,
         "4": 1,
         "5": 0,
         "6": 1,
         "7": 0,
         "8": 0,
         "9": 0,
         "10": 1,
         "11": 1,
         "12": 1,
         "13": 0,
         "14": 0,
         "15": 0,
         "16": 0,
         "17": 0,
         "18": 0,
         "19": 0,
         "20": 0,
         "21": 0,
         "22": 0,
         "23": 0,
         "24": 0,
         "25": 0,
         "26": 0,
         "27": 0,
         "28": 0,
         "29": 0,
         "30": 0,
         "31": 0,
         "32": 0,
         "33": 0,
         "34": 0,
         "35": 0,
         "36": 0,
         "37": 0,
         "38": 0,
         "39": 0,
         "40": 0,
         "41": 0,
         "42": 0,
         "43": 0,
         "44": 0,
         "45": 0,
         "46": 0,
         "47": 0,
         "48": 0,
         "polyID": 8,
         "_deepnote_index_column": 7
        },
        {
         "0": 0,
         "1": 0,
         "2": 0,
         "3": 0,
         "4": 1,
         "5": 1,
         "6": 0,
         "7": 0,
         "8": 0,
         "9": 1,
         "10": 0,
         "11": 0,
         "12": 0,
         "13": 0,
         "14": 1,
         "15": 0,
         "16": 0,
         "17": 0,
         "18": 0,
         "19": 1,
         "20": 0,
         "21": 1,
         "22": 0,
         "23": 0,
         "24": 1,
         "25": 1,
         "26": 0,
         "27": 0,
         "28": 0,
         "29": 0,
         "30": 0,
         "31": 0,
         "32": 0,
         "33": 0,
         "34": 0,
         "35": 0,
         "36": 0,
         "37": 0,
         "38": 0,
         "39": 0,
         "40": 0,
         "41": 0,
         "42": 0,
         "43": 0,
         "44": 0,
         "45": 0,
         "46": 0,
         "47": 0,
         "48": 0,
         "polyID": 9,
         "_deepnote_index_column": 8
        },
        {
         "0": 0,
         "1": 0,
         "2": 0,
         "3": 0,
         "4": 0,
         "5": 0,
         "6": 0,
         "7": 0,
         "8": 1,
         "9": 0,
         "10": 0,
         "11": 0,
         "12": 0,
         "13": 0,
         "14": 0,
         "15": 0,
         "16": 1,
         "17": 0,
         "18": 0,
         "19": 1,
         "20": 0,
         "21": 1,
         "22": 0,
         "23": 0,
         "24": 0,
         "25": 0,
         "26": 0,
         "27": 0,
         "28": 0,
         "29": 0,
         "30": 0,
         "31": 0,
         "32": 0,
         "33": 0,
         "34": 0,
         "35": 0,
         "36": 0,
         "37": 0,
         "38": 0,
         "39": 0,
         "40": 0,
         "41": 0,
         "42": 0,
         "43": 0,
         "44": 0,
         "45": 0,
         "46": 0,
         "47": 0,
         "48": 0,
         "polyID": 10,
         "_deepnote_index_column": 9
        }
       ]
      },
      "text/plain": "    polyID    0    1    2    3    4    5    6    7    8    9   10   11   12  \\\n0        1  0.0  1.0  1.0  0.0  0.0  0.0  0.0  0.0  0.0  0.0  0.0  0.0  0.0   \n1        2  1.0  0.0  1.0  1.0  0.0  0.0  0.0  0.0  0.0  0.0  0.0  0.0  0.0   \n2        3  1.0  1.0  0.0  1.0  1.0  0.0  0.0  0.0  0.0  0.0  0.0  0.0  0.0   \n3        4  0.0  1.0  1.0  0.0  1.0  0.0  0.0  1.0  0.0  0.0  0.0  0.0  0.0   \n4        5  0.0  0.0  1.0  1.0  0.0  1.0  0.0  1.0  1.0  0.0  1.0  0.0  0.0   \n5        6  0.0  0.0  0.0  0.0  1.0  0.0  0.0  0.0  1.0  0.0  0.0  0.0  0.0   \n6        7  0.0  0.0  0.0  0.0  0.0  0.0  0.0  1.0  0.0  0.0  0.0  1.0  1.0   \n7        8  0.0  0.0  0.0  1.0  1.0  0.0  1.0  0.0  0.0  0.0  1.0  1.0  1.0   \n8        9  0.0  0.0  0.0  0.0  1.0  1.0  0.0  0.0  0.0  1.0  0.0  0.0  0.0   \n9       10  0.0  0.0  0.0  0.0  0.0  0.0  0.0  0.0  1.0  0.0  0.0  0.0  0.0   \n10      11  0.0  0.0  0.0  0.0  1.0  0.0  0.0  1.0  0.0  0.0  0.0  1.0  0.0   \n11      12  0.0  0.0  0.0  0.0  0.0  0.0  1.0  1.0  0.0  0.0  1.0  0.0  1.0   \n12      13  0.0  0.0  0.0  0.0  0.0  0.0  1.0  1.0  0.0  0.0  0.0  1.0  0.0   \n13      14  0.0  0.0  0.0  0.0  0.0  0.0  1.0  0.0  0.0  0.0  0.0  1.0  1.0   \n14      15  0.0  0.0  0.0  0.0  1.0  0.0  0.0  0.0  1.0  0.0  1.0  0.0  0.0   \n15      16  0.0  0.0  0.0  0.0  1.0  0.0  0.0  0.0  0.0  0.0  1.0  1.0  0.0   \n16      17  0.0  0.0  0.0  0.0  0.0  0.0  0.0  0.0  0.0  1.0  0.0  0.0  0.0   \n17      18  0.0  0.0  0.0  0.0  0.0  0.0  0.0  0.0  0.0  0.0  0.0  0.0  0.0   \n18      19  0.0  0.0  0.0  0.0  0.0  0.0  0.0  0.0  0.0  0.0  0.0  0.0  0.0   \n19      20  0.0  0.0  0.0  0.0  0.0  0.0  0.0  0.0  1.0  1.0  0.0  0.0  0.0   \n20      21  0.0  0.0  0.0  0.0  0.0  0.0  0.0  0.0  0.0  0.0  0.0  0.0  0.0   \n21      22  0.0  0.0  0.0  0.0  0.0  0.0  0.0  0.0  1.0  1.0  0.0  0.0  0.0   \n22      23  0.0  0.0  0.0  0.0  0.0  0.0  0.0  0.0  0.0  0.0  0.0  0.0  0.0   \n23      24  0.0  0.0  0.0  0.0  0.0  0.0  0.0  0.0  0.0  0.0  0.0  0.0  0.0   \n24      25  0.0  0.0  0.0  0.0  0.0  0.0  0.0  0.0  1.0  0.0  0.0  0.0  0.0   \n25      26  0.0  0.0  0.0  0.0  0.0  0.0  0.0  0.0  1.0  0.0  0.0  0.0  0.0   \n26      27  0.0  0.0  0.0  0.0  0.0  0.0  0.0  0.0  0.0  0.0  0.0  0.0  0.0   \n27      28  0.0  0.0  0.0  0.0  0.0  0.0  0.0  0.0  0.0  0.0  0.0  0.0  0.0   \n28      29  0.0  0.0  0.0  0.0  0.0  0.0  0.0  0.0  0.0  0.0  0.0  0.0  0.0   \n29      30  0.0  0.0  0.0  0.0  0.0  0.0  0.0  0.0  0.0  0.0  0.0  0.0  0.0   \n30      31  0.0  0.0  0.0  0.0  0.0  0.0  0.0  0.0  0.0  0.0  0.0  0.0  0.0   \n31      32  0.0  0.0  0.0  0.0  0.0  0.0  0.0  0.0  0.0  0.0  0.0  0.0  0.0   \n32      33  0.0  0.0  0.0  0.0  0.0  0.0  0.0  0.0  0.0  0.0  0.0  0.0  0.0   \n33      34  0.0  0.0  0.0  0.0  0.0  0.0  0.0  0.0  0.0  0.0  0.0  0.0  0.0   \n34      35  0.0  0.0  0.0  0.0  0.0  0.0  0.0  0.0  0.0  0.0  0.0  0.0  0.0   \n35      36  0.0  0.0  0.0  0.0  0.0  0.0  0.0  0.0  0.0  0.0  0.0  0.0  0.0   \n36      37  0.0  0.0  0.0  0.0  0.0  0.0  0.0  0.0  0.0  0.0  0.0  0.0  0.0   \n37      38  0.0  0.0  0.0  0.0  0.0  0.0  0.0  0.0  0.0  0.0  0.0  0.0  0.0   \n38      39  0.0  0.0  0.0  0.0  0.0  0.0  0.0  0.0  0.0  0.0  0.0  0.0  0.0   \n39      40  0.0  0.0  0.0  0.0  0.0  0.0  0.0  0.0  0.0  0.0  0.0  0.0  0.0   \n40      41  0.0  0.0  0.0  0.0  0.0  0.0  0.0  0.0  0.0  0.0  0.0  0.0  0.0   \n41      42  0.0  0.0  0.0  0.0  0.0  0.0  0.0  0.0  0.0  0.0  0.0  0.0  0.0   \n42      43  0.0  0.0  0.0  0.0  0.0  0.0  0.0  0.0  0.0  0.0  0.0  0.0  0.0   \n43      44  0.0  0.0  0.0  0.0  0.0  0.0  0.0  0.0  0.0  0.0  0.0  0.0  0.0   \n44      45  0.0  0.0  0.0  0.0  0.0  0.0  0.0  0.0  0.0  0.0  0.0  0.0  0.0   \n45      46  0.0  0.0  0.0  0.0  0.0  0.0  0.0  0.0  0.0  0.0  0.0  0.0  0.0   \n46      47  0.0  0.0  0.0  0.0  0.0  0.0  0.0  0.0  0.0  0.0  0.0  0.0  0.0   \n47      48  0.0  0.0  0.0  0.0  0.0  0.0  0.0  0.0  0.0  0.0  0.0  0.0  0.0   \n48      49  0.0  0.0  0.0  0.0  0.0  0.0  0.0  0.0  0.0  0.0  0.0  0.0  0.0   \n\n     13   14   15   16   17   18   19   20   21   22   23   24   25   26   27  \\\n0   0.0  0.0  0.0  0.0  0.0  0.0  0.0  0.0  0.0  0.0  0.0  0.0  0.0  0.0  0.0   \n1   0.0  0.0  0.0  0.0  0.0  0.0  0.0  0.0  0.0  0.0  0.0  0.0  0.0  0.0  0.0   \n2   0.0  0.0  0.0  0.0  0.0  0.0  0.0  0.0  0.0  0.0  0.0  0.0  0.0  0.0  0.0   \n3   0.0  0.0  0.0  0.0  0.0  0.0  0.0  0.0  0.0  0.0  0.0  0.0  0.0  0.0  0.0   \n4   0.0  1.0  1.0  0.0  0.0  0.0  0.0  0.0  0.0  0.0  0.0  0.0  0.0  0.0  0.0   \n5   0.0  0.0  0.0  0.0  0.0  0.0  0.0  0.0  0.0  0.0  0.0  0.0  0.0  0.0  0.0   \n6   1.0  0.0  0.0  0.0  0.0  0.0  0.0  0.0  0.0  0.0  0.0  0.0  0.0  0.0  0.0   \n7   0.0  0.0  0.0  0.0  0.0  0.0  0.0  0.0  0.0  0.0  0.0  0.0  0.0  0.0  0.0   \n8   0.0  1.0  0.0  0.0  0.0  0.0  1.0  0.0  1.0  0.0  0.0  1.0  1.0  0.0  0.0   \n9   0.0  0.0  0.0  1.0  0.0  0.0  1.0  0.0  1.0  0.0  0.0  0.0  0.0  0.0  0.0   \n10  0.0  1.0  1.0  0.0  0.0  0.0  0.0  0.0  0.0  0.0  0.0  0.0  0.0  0.0  0.0   \n11  1.0  0.0  1.0  0.0  0.0  0.0  0.0  0.0  0.0  0.0  0.0  0.0  0.0  0.0  0.0   \n12  1.0  0.0  0.0  0.0  0.0  0.0  0.0  0.0  0.0  0.0  0.0  0.0  0.0  0.0  0.0   \n13  0.0  0.0  1.0  0.0  1.0  1.0  0.0  0.0  0.0  0.0  0.0  0.0  0.0  0.0  0.0   \n14  0.0  0.0  1.0  0.0  0.0  0.0  0.0  0.0  0.0  0.0  0.0  1.0  1.0  0.0  0.0   \n15  1.0  1.0  0.0  0.0  1.0  0.0  0.0  0.0  0.0  0.0  1.0  1.0  0.0  0.0  0.0   \n16  0.0  0.0  0.0  0.0  0.0  0.0  1.0  0.0  0.0  1.0  0.0  0.0  0.0  0.0  0.0   \n17  1.0  0.0  1.0  0.0  0.0  1.0  0.0  0.0  0.0  0.0  1.0  0.0  0.0  0.0  0.0   \n18  1.0  0.0  0.0  0.0  1.0  0.0  0.0  0.0  0.0  0.0  1.0  0.0  0.0  0.0  0.0   \n19  0.0  0.0  0.0  1.0  0.0  0.0  0.0  0.0  1.0  1.0  0.0  0.0  0.0  1.0  0.0   \n20  0.0  0.0  0.0  0.0  0.0  0.0  0.0  0.0  0.0  0.0  1.0  0.0  0.0  0.0  0.0   \n21  0.0  0.0  0.0  0.0  0.0  0.0  1.0  0.0  0.0  0.0  0.0  0.0  1.0  1.0  1.0   \n22  0.0  0.0  0.0  1.0  0.0  0.0  1.0  0.0  0.0  0.0  0.0  0.0  0.0  0.0  0.0   \n23  0.0  0.0  1.0  0.0  1.0  1.0  0.0  1.0  0.0  0.0  0.0  1.0  0.0  0.0  0.0   \n24  0.0  1.0  1.0  0.0  0.0  0.0  0.0  0.0  0.0  0.0  1.0  0.0  1.0  0.0  1.0   \n25  0.0  1.0  0.0  0.0  0.0  0.0  0.0  0.0  1.0  0.0  0.0  1.0  0.0  0.0  1.0   \n26  0.0  0.0  0.0  0.0  0.0  0.0  1.0  0.0  1.0  0.0  0.0  0.0  0.0  0.0  1.0   \n27  0.0  0.0  0.0  0.0  0.0  0.0  0.0  0.0  1.0  0.0  0.0  1.0  1.0  1.0  0.0   \n28  0.0  0.0  0.0  0.0  0.0  0.0  0.0  0.0  0.0  0.0  1.0  1.0  1.0  0.0  1.0   \n29  0.0  0.0  0.0  0.0  0.0  0.0  0.0  1.0  0.0  0.0  1.0  1.0  0.0  0.0  0.0   \n30  0.0  0.0  0.0  0.0  0.0  0.0  0.0  0.0  0.0  0.0  0.0  0.0  0.0  0.0  0.0   \n31  0.0  0.0  0.0  0.0  0.0  0.0  1.0  0.0  0.0  1.0  0.0  0.0  0.0  0.0  0.0   \n32  0.0  0.0  0.0  0.0  0.0  0.0  1.0  0.0  0.0  0.0  0.0  0.0  0.0  1.0  1.0   \n33  0.0  0.0  0.0  0.0  0.0  0.0  0.0  1.0  0.0  0.0  0.0  0.0  0.0  0.0  0.0   \n34  0.0  0.0  0.0  0.0  0.0  0.0  1.0  0.0  0.0  0.0  0.0  0.0  0.0  0.0  1.0   \n35  0.0  0.0  0.0  0.0  0.0  0.0  0.0  0.0  0.0  0.0  0.0  0.0  0.0  0.0  0.0   \n36  0.0  0.0  0.0  0.0  0.0  0.0  0.0  0.0  0.0  0.0  0.0  0.0  0.0  0.0  1.0   \n37  0.0  0.0  0.0  0.0  0.0  0.0  0.0  0.0  0.0  0.0  0.0  0.0  0.0  0.0  1.0   \n38  0.0  0.0  0.0  0.0  0.0  0.0  0.0  0.0  0.0  0.0  0.0  0.0  0.0  0.0  0.0   \n39  0.0  0.0  0.0  0.0  0.0  0.0  1.0  0.0  0.0  0.0  0.0  0.0  0.0  0.0  0.0   \n40  0.0  0.0  0.0  0.0  0.0  0.0  0.0  0.0  0.0  0.0  0.0  0.0  0.0  0.0  0.0   \n41  0.0  0.0  0.0  0.0  0.0  0.0  0.0  0.0  0.0  0.0  0.0  0.0  0.0  0.0  0.0   \n42  0.0  0.0  0.0  0.0  0.0  0.0  0.0  0.0  0.0  0.0  0.0  0.0  0.0  0.0  0.0   \n43  0.0  0.0  0.0  0.0  0.0  0.0  0.0  0.0  0.0  0.0  0.0  0.0  0.0  0.0  0.0   \n44  0.0  0.0  0.0  0.0  0.0  0.0  0.0  0.0  0.0  0.0  0.0  0.0  0.0  0.0  0.0   \n45  0.0  0.0  0.0  0.0  0.0  0.0  0.0  0.0  0.0  0.0  0.0  0.0  0.0  0.0  0.0   \n46  0.0  0.0  0.0  0.0  0.0  0.0  0.0  0.0  0.0  0.0  0.0  0.0  0.0  0.0  0.0   \n47  0.0  0.0  0.0  0.0  0.0  0.0  0.0  0.0  0.0  0.0  0.0  0.0  0.0  0.0  0.0   \n48  0.0  0.0  0.0  0.0  0.0  0.0  0.0  0.0  0.0  0.0  0.0  0.0  0.0  0.0  0.0   \n\n     28   29   30   31   32   33   34   35   36   37   38   39   40   41   42  \\\n0   0.0  0.0  0.0  0.0  0.0  0.0  0.0  0.0  0.0  0.0  0.0  0.0  0.0  0.0  0.0   \n1   0.0  0.0  0.0  0.0  0.0  0.0  0.0  0.0  0.0  0.0  0.0  0.0  0.0  0.0  0.0   \n2   0.0  0.0  0.0  0.0  0.0  0.0  0.0  0.0  0.0  0.0  0.0  0.0  0.0  0.0  0.0   \n3   0.0  0.0  0.0  0.0  0.0  0.0  0.0  0.0  0.0  0.0  0.0  0.0  0.0  0.0  0.0   \n4   0.0  0.0  0.0  0.0  0.0  0.0  0.0  0.0  0.0  0.0  0.0  0.0  0.0  0.0  0.0   \n5   0.0  0.0  0.0  0.0  0.0  0.0  0.0  0.0  0.0  0.0  0.0  0.0  0.0  0.0  0.0   \n6   0.0  0.0  0.0  0.0  0.0  0.0  0.0  0.0  0.0  0.0  0.0  0.0  0.0  0.0  0.0   \n7   0.0  0.0  0.0  0.0  0.0  0.0  0.0  0.0  0.0  0.0  0.0  0.0  0.0  0.0  0.0   \n8   0.0  0.0  0.0  0.0  0.0  0.0  0.0  0.0  0.0  0.0  0.0  0.0  0.0  0.0  0.0   \n9   0.0  0.0  0.0  0.0  0.0  0.0  0.0  0.0  0.0  0.0  0.0  0.0  0.0  0.0  0.0   \n10  0.0  0.0  0.0  0.0  0.0  0.0  0.0  0.0  0.0  0.0  0.0  0.0  0.0  0.0  0.0   \n11  0.0  0.0  0.0  0.0  0.0  0.0  0.0  0.0  0.0  0.0  0.0  0.0  0.0  0.0  0.0   \n12  0.0  0.0  0.0  0.0  0.0  0.0  0.0  0.0  0.0  0.0  0.0  0.0  0.0  0.0  0.0   \n13  0.0  0.0  0.0  0.0  0.0  0.0  0.0  0.0  0.0  0.0  0.0  0.0  0.0  0.0  0.0   \n14  0.0  0.0  0.0  0.0  0.0  0.0  0.0  0.0  0.0  0.0  0.0  0.0  0.0  0.0  0.0   \n15  0.0  0.0  0.0  0.0  0.0  0.0  0.0  0.0  0.0  0.0  0.0  0.0  0.0  0.0  0.0   \n16  0.0  0.0  0.0  0.0  0.0  0.0  0.0  0.0  0.0  0.0  0.0  0.0  0.0  0.0  0.0   \n17  0.0  0.0  0.0  0.0  0.0  0.0  0.0  0.0  0.0  0.0  0.0  0.0  0.0  0.0  0.0   \n18  0.0  0.0  0.0  0.0  0.0  0.0  0.0  0.0  0.0  0.0  0.0  0.0  0.0  0.0  0.0   \n19  0.0  0.0  0.0  1.0  1.0  0.0  1.0  0.0  0.0  0.0  0.0  1.0  0.0  0.0  0.0   \n20  0.0  1.0  0.0  0.0  0.0  1.0  0.0  0.0  0.0  0.0  0.0  0.0  0.0  0.0  0.0   \n21  0.0  0.0  0.0  0.0  0.0  0.0  0.0  0.0  0.0  0.0  0.0  0.0  0.0  0.0  0.0   \n22  0.0  0.0  0.0  1.0  0.0  0.0  0.0  0.0  0.0  0.0  0.0  0.0  0.0  0.0  0.0   \n23  1.0  1.0  0.0  0.0  0.0  0.0  0.0  0.0  0.0  0.0  0.0  0.0  0.0  0.0  0.0   \n24  1.0  1.0  0.0  0.0  0.0  0.0  0.0  0.0  0.0  0.0  0.0  0.0  0.0  0.0  0.0   \n25  1.0  0.0  0.0  0.0  0.0  0.0  0.0  0.0  0.0  0.0  0.0  0.0  0.0  0.0  0.0   \n26  0.0  0.0  0.0  0.0  1.0  0.0  0.0  0.0  0.0  0.0  0.0  0.0  0.0  0.0  0.0   \n27  1.0  0.0  0.0  0.0  1.0  0.0  1.0  0.0  1.0  1.0  0.0  0.0  0.0  0.0  0.0   \n28  0.0  1.0  0.0  0.0  0.0  0.0  0.0  0.0  1.0  1.0  0.0  0.0  0.0  0.0  0.0   \n29  1.0  0.0  0.0  0.0  0.0  0.0  0.0  0.0  1.0  0.0  0.0  0.0  0.0  0.0  0.0   \n30  0.0  0.0  0.0  0.0  0.0  1.0  0.0  1.0  0.0  0.0  1.0  0.0  0.0  0.0  0.0   \n31  0.0  0.0  0.0  0.0  0.0  0.0  0.0  0.0  0.0  0.0  0.0  1.0  1.0  0.0  0.0   \n32  0.0  0.0  0.0  0.0  0.0  0.0  1.0  0.0  0.0  0.0  0.0  0.0  0.0  0.0  0.0   \n33  0.0  0.0  1.0  0.0  0.0  0.0  0.0  1.0  0.0  0.0  0.0  0.0  0.0  1.0  0.0   \n34  0.0  0.0  0.0  0.0  1.0  0.0  0.0  0.0  0.0  1.0  0.0  1.0  0.0  0.0  1.0   \n35  0.0  0.0  1.0  0.0  0.0  1.0  0.0  0.0  0.0  0.0  1.0  0.0  0.0  1.0  0.0   \n36  1.0  1.0  0.0  0.0  0.0  0.0  0.0  0.0  0.0  1.0  0.0  0.0  0.0  0.0  1.0   \n37  1.0  0.0  0.0  0.0  0.0  0.0  1.0  0.0  1.0  0.0  0.0  0.0  0.0  0.0  1.0   \n38  0.0  0.0  1.0  0.0  0.0  0.0  0.0  1.0  0.0  0.0  0.0  0.0  0.0  0.0  0.0   \n39  0.0  0.0  0.0  1.0  0.0  0.0  1.0  0.0  0.0  0.0  0.0  0.0  1.0  0.0  0.0   \n40  0.0  0.0  0.0  1.0  0.0  0.0  0.0  0.0  0.0  0.0  0.0  1.0  0.0  0.0  0.0   \n41  0.0  0.0  0.0  0.0  0.0  1.0  0.0  1.0  0.0  0.0  0.0  0.0  0.0  0.0  0.0   \n42  0.0  0.0  0.0  0.0  0.0  0.0  1.0  0.0  1.0  1.0  0.0  0.0  0.0  0.0  0.0   \n43  0.0  0.0  0.0  0.0  0.0  0.0  1.0  0.0  0.0  1.0  0.0  0.0  0.0  0.0  1.0   \n44  0.0  0.0  0.0  0.0  0.0  0.0  0.0  0.0  1.0  0.0  0.0  0.0  0.0  0.0  1.0   \n45  0.0  0.0  0.0  0.0  0.0  0.0  0.0  1.0  0.0  0.0  1.0  0.0  0.0  0.0  0.0   \n46  0.0  0.0  0.0  0.0  0.0  0.0  0.0  0.0  0.0  0.0  0.0  1.0  1.0  0.0  0.0   \n47  0.0  0.0  0.0  0.0  0.0  0.0  0.0  0.0  0.0  0.0  0.0  0.0  0.0  0.0  1.0   \n48  0.0  0.0  0.0  0.0  0.0  0.0  0.0  0.0  0.0  0.0  0.0  0.0  0.0  0.0  0.0   \n\n     43   44   45   46   47   48  \n0   0.0  0.0  0.0  0.0  0.0  0.0  \n1   0.0  0.0  0.0  0.0  0.0  0.0  \n2   0.0  0.0  0.0  0.0  0.0  0.0  \n3   0.0  0.0  0.0  0.0  0.0  0.0  \n4   0.0  0.0  0.0  0.0  0.0  0.0  \n5   0.0  0.0  0.0  0.0  0.0  0.0  \n6   0.0  0.0  0.0  0.0  0.0  0.0  \n7   0.0  0.0  0.0  0.0  0.0  0.0  \n8   0.0  0.0  0.0  0.0  0.0  0.0  \n9   0.0  0.0  0.0  0.0  0.0  0.0  \n10  0.0  0.0  0.0  0.0  0.0  0.0  \n11  0.0  0.0  0.0  0.0  0.0  0.0  \n12  0.0  0.0  0.0  0.0  0.0  0.0  \n13  0.0  0.0  0.0  0.0  0.0  0.0  \n14  0.0  0.0  0.0  0.0  0.0  0.0  \n15  0.0  0.0  0.0  0.0  0.0  0.0  \n16  0.0  0.0  0.0  0.0  0.0  0.0  \n17  0.0  0.0  0.0  0.0  0.0  0.0  \n18  0.0  0.0  0.0  0.0  0.0  0.0  \n19  0.0  0.0  0.0  0.0  0.0  0.0  \n20  0.0  0.0  0.0  0.0  0.0  0.0  \n21  0.0  0.0  0.0  0.0  0.0  0.0  \n22  0.0  0.0  0.0  0.0  0.0  0.0  \n23  0.0  0.0  0.0  0.0  0.0  0.0  \n24  0.0  0.0  0.0  0.0  0.0  0.0  \n25  0.0  0.0  0.0  0.0  0.0  0.0  \n26  0.0  0.0  0.0  0.0  0.0  0.0  \n27  0.0  0.0  0.0  0.0  0.0  0.0  \n28  0.0  0.0  0.0  0.0  0.0  0.0  \n29  0.0  0.0  0.0  0.0  0.0  0.0  \n30  0.0  0.0  0.0  0.0  0.0  0.0  \n31  0.0  0.0  0.0  0.0  0.0  0.0  \n32  0.0  0.0  0.0  0.0  0.0  0.0  \n33  0.0  0.0  0.0  0.0  0.0  0.0  \n34  1.0  0.0  0.0  0.0  0.0  0.0  \n35  0.0  0.0  1.0  0.0  0.0  0.0  \n36  0.0  1.0  0.0  0.0  0.0  0.0  \n37  1.0  0.0  0.0  0.0  0.0  0.0  \n38  0.0  0.0  1.0  0.0  0.0  0.0  \n39  0.0  0.0  0.0  1.0  0.0  0.0  \n40  0.0  0.0  0.0  1.0  0.0  0.0  \n41  0.0  0.0  0.0  0.0  0.0  0.0  \n42  1.0  1.0  0.0  0.0  1.0  0.0  \n43  0.0  0.0  0.0  0.0  1.0  1.0  \n44  0.0  0.0  0.0  0.0  1.0  1.0  \n45  0.0  0.0  0.0  0.0  0.0  0.0  \n46  0.0  0.0  0.0  0.0  0.0  0.0  \n47  1.0  1.0  0.0  0.0  0.0  1.0  \n48  1.0  1.0  0.0  0.0  1.0  0.0  ",
      "text/html": "<div>\n<style scoped>\n    .dataframe tbody tr th:only-of-type {\n        vertical-align: middle;\n    }\n\n    .dataframe tbody tr th {\n        vertical-align: top;\n    }\n\n    .dataframe thead th {\n        text-align: right;\n    }\n</style>\n<table border=\"1\" class=\"dataframe\">\n  <thead>\n    <tr style=\"text-align: right;\">\n      <th></th>\n      <th>polyID</th>\n      <th>0</th>\n      <th>1</th>\n      <th>2</th>\n      <th>3</th>\n      <th>4</th>\n      <th>5</th>\n      <th>6</th>\n      <th>7</th>\n      <th>8</th>\n      <th>9</th>\n      <th>10</th>\n      <th>11</th>\n      <th>12</th>\n      <th>13</th>\n      <th>14</th>\n      <th>15</th>\n      <th>16</th>\n      <th>17</th>\n      <th>18</th>\n      <th>19</th>\n      <th>20</th>\n      <th>21</th>\n      <th>22</th>\n      <th>23</th>\n      <th>24</th>\n      <th>25</th>\n      <th>26</th>\n      <th>27</th>\n      <th>28</th>\n      <th>29</th>\n      <th>30</th>\n      <th>31</th>\n      <th>32</th>\n      <th>33</th>\n      <th>34</th>\n      <th>35</th>\n      <th>36</th>\n      <th>37</th>\n      <th>38</th>\n      <th>39</th>\n      <th>40</th>\n      <th>41</th>\n      <th>42</th>\n      <th>43</th>\n      <th>44</th>\n      <th>45</th>\n      <th>46</th>\n      <th>47</th>\n      <th>48</th>\n    </tr>\n  </thead>\n  <tbody>\n    <tr>\n      <th>0</th>\n      <td>1</td>\n      <td>0.0</td>\n      <td>1.0</td>\n      <td>1.0</td>\n      <td>0.0</td>\n      <td>0.0</td>\n      <td>0.0</td>\n      <td>0.0</td>\n      <td>0.0</td>\n      <td>0.0</td>\n      <td>0.0</td>\n      <td>0.0</td>\n      <td>0.0</td>\n      <td>0.0</td>\n      <td>0.0</td>\n      <td>0.0</td>\n      <td>0.0</td>\n      <td>0.0</td>\n      <td>0.0</td>\n      <td>0.0</td>\n      <td>0.0</td>\n      <td>0.0</td>\n      <td>0.0</td>\n      <td>0.0</td>\n      <td>0.0</td>\n      <td>0.0</td>\n      <td>0.0</td>\n      <td>0.0</td>\n      <td>0.0</td>\n      <td>0.0</td>\n      <td>0.0</td>\n      <td>0.0</td>\n      <td>0.0</td>\n      <td>0.0</td>\n      <td>0.0</td>\n      <td>0.0</td>\n      <td>0.0</td>\n      <td>0.0</td>\n      <td>0.0</td>\n      <td>0.0</td>\n      <td>0.0</td>\n      <td>0.0</td>\n      <td>0.0</td>\n      <td>0.0</td>\n      <td>0.0</td>\n      <td>0.0</td>\n      <td>0.0</td>\n      <td>0.0</td>\n      <td>0.0</td>\n      <td>0.0</td>\n    </tr>\n    <tr>\n      <th>1</th>\n      <td>2</td>\n      <td>1.0</td>\n      <td>0.0</td>\n      <td>1.0</td>\n      <td>1.0</td>\n      <td>0.0</td>\n      <td>0.0</td>\n      <td>0.0</td>\n      <td>0.0</td>\n      <td>0.0</td>\n      <td>0.0</td>\n      <td>0.0</td>\n      <td>0.0</td>\n      <td>0.0</td>\n      <td>0.0</td>\n      <td>0.0</td>\n      <td>0.0</td>\n      <td>0.0</td>\n      <td>0.0</td>\n      <td>0.0</td>\n      <td>0.0</td>\n      <td>0.0</td>\n      <td>0.0</td>\n      <td>0.0</td>\n      <td>0.0</td>\n      <td>0.0</td>\n      <td>0.0</td>\n      <td>0.0</td>\n      <td>0.0</td>\n      <td>0.0</td>\n      <td>0.0</td>\n      <td>0.0</td>\n      <td>0.0</td>\n      <td>0.0</td>\n      <td>0.0</td>\n      <td>0.0</td>\n      <td>0.0</td>\n      <td>0.0</td>\n      <td>0.0</td>\n      <td>0.0</td>\n      <td>0.0</td>\n      <td>0.0</td>\n      <td>0.0</td>\n      <td>0.0</td>\n      <td>0.0</td>\n      <td>0.0</td>\n      <td>0.0</td>\n      <td>0.0</td>\n      <td>0.0</td>\n      <td>0.0</td>\n    </tr>\n    <tr>\n      <th>2</th>\n      <td>3</td>\n      <td>1.0</td>\n      <td>1.0</td>\n      <td>0.0</td>\n      <td>1.0</td>\n      <td>1.0</td>\n      <td>0.0</td>\n      <td>0.0</td>\n      <td>0.0</td>\n      <td>0.0</td>\n      <td>0.0</td>\n      <td>0.0</td>\n      <td>0.0</td>\n      <td>0.0</td>\n      <td>0.0</td>\n      <td>0.0</td>\n      <td>0.0</td>\n      <td>0.0</td>\n      <td>0.0</td>\n      <td>0.0</td>\n      <td>0.0</td>\n      <td>0.0</td>\n      <td>0.0</td>\n      <td>0.0</td>\n      <td>0.0</td>\n      <td>0.0</td>\n      <td>0.0</td>\n      <td>0.0</td>\n      <td>0.0</td>\n      <td>0.0</td>\n      <td>0.0</td>\n      <td>0.0</td>\n      <td>0.0</td>\n      <td>0.0</td>\n      <td>0.0</td>\n      <td>0.0</td>\n      <td>0.0</td>\n      <td>0.0</td>\n      <td>0.0</td>\n      <td>0.0</td>\n      <td>0.0</td>\n      <td>0.0</td>\n      <td>0.0</td>\n      <td>0.0</td>\n      <td>0.0</td>\n      <td>0.0</td>\n      <td>0.0</td>\n      <td>0.0</td>\n      <td>0.0</td>\n      <td>0.0</td>\n    </tr>\n    <tr>\n      <th>3</th>\n      <td>4</td>\n      <td>0.0</td>\n      <td>1.0</td>\n      <td>1.0</td>\n      <td>0.0</td>\n      <td>1.0</td>\n      <td>0.0</td>\n      <td>0.0</td>\n      <td>1.0</td>\n      <td>0.0</td>\n      <td>0.0</td>\n      <td>0.0</td>\n      <td>0.0</td>\n      <td>0.0</td>\n      <td>0.0</td>\n      <td>0.0</td>\n      <td>0.0</td>\n      <td>0.0</td>\n      <td>0.0</td>\n      <td>0.0</td>\n      <td>0.0</td>\n      <td>0.0</td>\n      <td>0.0</td>\n      <td>0.0</td>\n      <td>0.0</td>\n      <td>0.0</td>\n      <td>0.0</td>\n      <td>0.0</td>\n      <td>0.0</td>\n      <td>0.0</td>\n      <td>0.0</td>\n      <td>0.0</td>\n      <td>0.0</td>\n      <td>0.0</td>\n      <td>0.0</td>\n      <td>0.0</td>\n      <td>0.0</td>\n      <td>0.0</td>\n      <td>0.0</td>\n      <td>0.0</td>\n      <td>0.0</td>\n      <td>0.0</td>\n      <td>0.0</td>\n      <td>0.0</td>\n      <td>0.0</td>\n      <td>0.0</td>\n      <td>0.0</td>\n      <td>0.0</td>\n      <td>0.0</td>\n      <td>0.0</td>\n    </tr>\n    <tr>\n      <th>4</th>\n      <td>5</td>\n      <td>0.0</td>\n      <td>0.0</td>\n      <td>1.0</td>\n      <td>1.0</td>\n      <td>0.0</td>\n      <td>1.0</td>\n      <td>0.0</td>\n      <td>1.0</td>\n      <td>1.0</td>\n      <td>0.0</td>\n      <td>1.0</td>\n      <td>0.0</td>\n      <td>0.0</td>\n      <td>0.0</td>\n      <td>1.0</td>\n      <td>1.0</td>\n      <td>0.0</td>\n      <td>0.0</td>\n      <td>0.0</td>\n      <td>0.0</td>\n      <td>0.0</td>\n      <td>0.0</td>\n      <td>0.0</td>\n      <td>0.0</td>\n      <td>0.0</td>\n      <td>0.0</td>\n      <td>0.0</td>\n      <td>0.0</td>\n      <td>0.0</td>\n      <td>0.0</td>\n      <td>0.0</td>\n      <td>0.0</td>\n      <td>0.0</td>\n      <td>0.0</td>\n      <td>0.0</td>\n      <td>0.0</td>\n      <td>0.0</td>\n      <td>0.0</td>\n      <td>0.0</td>\n      <td>0.0</td>\n      <td>0.0</td>\n      <td>0.0</td>\n      <td>0.0</td>\n      <td>0.0</td>\n      <td>0.0</td>\n      <td>0.0</td>\n      <td>0.0</td>\n      <td>0.0</td>\n      <td>0.0</td>\n    </tr>\n    <tr>\n      <th>5</th>\n      <td>6</td>\n      <td>0.0</td>\n      <td>0.0</td>\n      <td>0.0</td>\n      <td>0.0</td>\n      <td>1.0</td>\n      <td>0.0</td>\n      <td>0.0</td>\n      <td>0.0</td>\n      <td>1.0</td>\n      <td>0.0</td>\n      <td>0.0</td>\n      <td>0.0</td>\n      <td>0.0</td>\n      <td>0.0</td>\n      <td>0.0</td>\n      <td>0.0</td>\n      <td>0.0</td>\n      <td>0.0</td>\n      <td>0.0</td>\n      <td>0.0</td>\n      <td>0.0</td>\n      <td>0.0</td>\n      <td>0.0</td>\n      <td>0.0</td>\n      <td>0.0</td>\n      <td>0.0</td>\n      <td>0.0</td>\n      <td>0.0</td>\n      <td>0.0</td>\n      <td>0.0</td>\n      <td>0.0</td>\n      <td>0.0</td>\n      <td>0.0</td>\n      <td>0.0</td>\n      <td>0.0</td>\n      <td>0.0</td>\n      <td>0.0</td>\n      <td>0.0</td>\n      <td>0.0</td>\n      <td>0.0</td>\n      <td>0.0</td>\n      <td>0.0</td>\n      <td>0.0</td>\n      <td>0.0</td>\n      <td>0.0</td>\n      <td>0.0</td>\n      <td>0.0</td>\n      <td>0.0</td>\n      <td>0.0</td>\n    </tr>\n    <tr>\n      <th>6</th>\n      <td>7</td>\n      <td>0.0</td>\n      <td>0.0</td>\n      <td>0.0</td>\n      <td>0.0</td>\n      <td>0.0</td>\n      <td>0.0</td>\n      <td>0.0</td>\n      <td>1.0</td>\n      <td>0.0</td>\n      <td>0.0</td>\n      <td>0.0</td>\n      <td>1.0</td>\n      <td>1.0</td>\n      <td>1.0</td>\n      <td>0.0</td>\n      <td>0.0</td>\n      <td>0.0</td>\n      <td>0.0</td>\n      <td>0.0</td>\n      <td>0.0</td>\n      <td>0.0</td>\n      <td>0.0</td>\n      <td>0.0</td>\n      <td>0.0</td>\n      <td>0.0</td>\n      <td>0.0</td>\n      <td>0.0</td>\n      <td>0.0</td>\n      <td>0.0</td>\n      <td>0.0</td>\n      <td>0.0</td>\n      <td>0.0</td>\n      <td>0.0</td>\n      <td>0.0</td>\n      <td>0.0</td>\n      <td>0.0</td>\n      <td>0.0</td>\n      <td>0.0</td>\n      <td>0.0</td>\n      <td>0.0</td>\n      <td>0.0</td>\n      <td>0.0</td>\n      <td>0.0</td>\n      <td>0.0</td>\n      <td>0.0</td>\n      <td>0.0</td>\n      <td>0.0</td>\n      <td>0.0</td>\n      <td>0.0</td>\n    </tr>\n    <tr>\n      <th>7</th>\n      <td>8</td>\n      <td>0.0</td>\n      <td>0.0</td>\n      <td>0.0</td>\n      <td>1.0</td>\n      <td>1.0</td>\n      <td>0.0</td>\n      <td>1.0</td>\n      <td>0.0</td>\n      <td>0.0</td>\n      <td>0.0</td>\n      <td>1.0</td>\n      <td>1.0</td>\n      <td>1.0</td>\n      <td>0.0</td>\n      <td>0.0</td>\n      <td>0.0</td>\n      <td>0.0</td>\n      <td>0.0</td>\n      <td>0.0</td>\n      <td>0.0</td>\n      <td>0.0</td>\n      <td>0.0</td>\n      <td>0.0</td>\n      <td>0.0</td>\n      <td>0.0</td>\n      <td>0.0</td>\n      <td>0.0</td>\n      <td>0.0</td>\n      <td>0.0</td>\n      <td>0.0</td>\n      <td>0.0</td>\n      <td>0.0</td>\n      <td>0.0</td>\n      <td>0.0</td>\n      <td>0.0</td>\n      <td>0.0</td>\n      <td>0.0</td>\n      <td>0.0</td>\n      <td>0.0</td>\n      <td>0.0</td>\n      <td>0.0</td>\n      <td>0.0</td>\n      <td>0.0</td>\n      <td>0.0</td>\n      <td>0.0</td>\n      <td>0.0</td>\n      <td>0.0</td>\n      <td>0.0</td>\n      <td>0.0</td>\n    </tr>\n    <tr>\n      <th>8</th>\n      <td>9</td>\n      <td>0.0</td>\n      <td>0.0</td>\n      <td>0.0</td>\n      <td>0.0</td>\n      <td>1.0</td>\n      <td>1.0</td>\n      <td>0.0</td>\n      <td>0.0</td>\n      <td>0.0</td>\n      <td>1.0</td>\n      <td>0.0</td>\n      <td>0.0</td>\n      <td>0.0</td>\n      <td>0.0</td>\n      <td>1.0</td>\n      <td>0.0</td>\n      <td>0.0</td>\n      <td>0.0</td>\n      <td>0.0</td>\n      <td>1.0</td>\n      <td>0.0</td>\n      <td>1.0</td>\n      <td>0.0</td>\n      <td>0.0</td>\n      <td>1.0</td>\n      <td>1.0</td>\n      <td>0.0</td>\n      <td>0.0</td>\n      <td>0.0</td>\n      <td>0.0</td>\n      <td>0.0</td>\n      <td>0.0</td>\n      <td>0.0</td>\n      <td>0.0</td>\n      <td>0.0</td>\n      <td>0.0</td>\n      <td>0.0</td>\n      <td>0.0</td>\n      <td>0.0</td>\n      <td>0.0</td>\n      <td>0.0</td>\n      <td>0.0</td>\n      <td>0.0</td>\n      <td>0.0</td>\n      <td>0.0</td>\n      <td>0.0</td>\n      <td>0.0</td>\n      <td>0.0</td>\n      <td>0.0</td>\n    </tr>\n    <tr>\n      <th>9</th>\n      <td>10</td>\n      <td>0.0</td>\n      <td>0.0</td>\n      <td>0.0</td>\n      <td>0.0</td>\n      <td>0.0</td>\n      <td>0.0</td>\n      <td>0.0</td>\n      <td>0.0</td>\n      <td>1.0</td>\n      <td>0.0</td>\n      <td>0.0</td>\n      <td>0.0</td>\n      <td>0.0</td>\n      <td>0.0</td>\n      <td>0.0</td>\n      <td>0.0</td>\n      <td>1.0</td>\n      <td>0.0</td>\n      <td>0.0</td>\n      <td>1.0</td>\n      <td>0.0</td>\n      <td>1.0</td>\n      <td>0.0</td>\n      <td>0.0</td>\n      <td>0.0</td>\n      <td>0.0</td>\n      <td>0.0</td>\n      <td>0.0</td>\n      <td>0.0</td>\n      <td>0.0</td>\n      <td>0.0</td>\n      <td>0.0</td>\n      <td>0.0</td>\n      <td>0.0</td>\n      <td>0.0</td>\n      <td>0.0</td>\n      <td>0.0</td>\n      <td>0.0</td>\n      <td>0.0</td>\n      <td>0.0</td>\n      <td>0.0</td>\n      <td>0.0</td>\n      <td>0.0</td>\n      <td>0.0</td>\n      <td>0.0</td>\n      <td>0.0</td>\n      <td>0.0</td>\n      <td>0.0</td>\n      <td>0.0</td>\n    </tr>\n    <tr>\n      <th>10</th>\n      <td>11</td>\n      <td>0.0</td>\n      <td>0.0</td>\n      <td>0.0</td>\n      <td>0.0</td>\n      <td>1.0</td>\n      <td>0.0</td>\n      <td>0.0</td>\n      <td>1.0</td>\n      <td>0.0</td>\n      <td>0.0</td>\n      <td>0.0</td>\n      <td>1.0</td>\n      <td>0.0</td>\n      <td>0.0</td>\n      <td>1.0</td>\n      <td>1.0</td>\n      <td>0.0</td>\n      <td>0.0</td>\n      <td>0.0</td>\n      <td>0.0</td>\n      <td>0.0</td>\n      <td>0.0</td>\n      <td>0.0</td>\n      <td>0.0</td>\n      <td>0.0</td>\n      <td>0.0</td>\n      <td>0.0</td>\n      <td>0.0</td>\n      <td>0.0</td>\n      <td>0.0</td>\n      <td>0.0</td>\n      <td>0.0</td>\n      <td>0.0</td>\n      <td>0.0</td>\n      <td>0.0</td>\n      <td>0.0</td>\n      <td>0.0</td>\n      <td>0.0</td>\n      <td>0.0</td>\n      <td>0.0</td>\n      <td>0.0</td>\n      <td>0.0</td>\n      <td>0.0</td>\n      <td>0.0</td>\n      <td>0.0</td>\n      <td>0.0</td>\n      <td>0.0</td>\n      <td>0.0</td>\n      <td>0.0</td>\n    </tr>\n    <tr>\n      <th>11</th>\n      <td>12</td>\n      <td>0.0</td>\n      <td>0.0</td>\n      <td>0.0</td>\n      <td>0.0</td>\n      <td>0.0</td>\n      <td>0.0</td>\n      <td>1.0</td>\n      <td>1.0</td>\n      <td>0.0</td>\n      <td>0.0</td>\n      <td>1.0</td>\n      <td>0.0</td>\n      <td>1.0</td>\n      <td>1.0</td>\n      <td>0.0</td>\n      <td>1.0</td>\n      <td>0.0</td>\n      <td>0.0</td>\n      <td>0.0</td>\n      <td>0.0</td>\n      <td>0.0</td>\n      <td>0.0</td>\n      <td>0.0</td>\n      <td>0.0</td>\n      <td>0.0</td>\n      <td>0.0</td>\n      <td>0.0</td>\n      <td>0.0</td>\n      <td>0.0</td>\n      <td>0.0</td>\n      <td>0.0</td>\n      <td>0.0</td>\n      <td>0.0</td>\n      <td>0.0</td>\n      <td>0.0</td>\n      <td>0.0</td>\n      <td>0.0</td>\n      <td>0.0</td>\n      <td>0.0</td>\n      <td>0.0</td>\n      <td>0.0</td>\n      <td>0.0</td>\n      <td>0.0</td>\n      <td>0.0</td>\n      <td>0.0</td>\n      <td>0.0</td>\n      <td>0.0</td>\n      <td>0.0</td>\n      <td>0.0</td>\n    </tr>\n    <tr>\n      <th>12</th>\n      <td>13</td>\n      <td>0.0</td>\n      <td>0.0</td>\n      <td>0.0</td>\n      <td>0.0</td>\n      <td>0.0</td>\n      <td>0.0</td>\n      <td>1.0</td>\n      <td>1.0</td>\n      <td>0.0</td>\n      <td>0.0</td>\n      <td>0.0</td>\n      <td>1.0</td>\n      <td>0.0</td>\n      <td>1.0</td>\n      <td>0.0</td>\n      <td>0.0</td>\n      <td>0.0</td>\n      <td>0.0</td>\n      <td>0.0</td>\n      <td>0.0</td>\n      <td>0.0</td>\n      <td>0.0</td>\n      <td>0.0</td>\n      <td>0.0</td>\n      <td>0.0</td>\n      <td>0.0</td>\n      <td>0.0</td>\n      <td>0.0</td>\n      <td>0.0</td>\n      <td>0.0</td>\n      <td>0.0</td>\n      <td>0.0</td>\n      <td>0.0</td>\n      <td>0.0</td>\n      <td>0.0</td>\n      <td>0.0</td>\n      <td>0.0</td>\n      <td>0.0</td>\n      <td>0.0</td>\n      <td>0.0</td>\n      <td>0.0</td>\n      <td>0.0</td>\n      <td>0.0</td>\n      <td>0.0</td>\n      <td>0.0</td>\n      <td>0.0</td>\n      <td>0.0</td>\n      <td>0.0</td>\n      <td>0.0</td>\n    </tr>\n    <tr>\n      <th>13</th>\n      <td>14</td>\n      <td>0.0</td>\n      <td>0.0</td>\n      <td>0.0</td>\n      <td>0.0</td>\n      <td>0.0</td>\n      <td>0.0</td>\n      <td>1.0</td>\n      <td>0.0</td>\n      <td>0.0</td>\n      <td>0.0</td>\n      <td>0.0</td>\n      <td>1.0</td>\n      <td>1.0</td>\n      <td>0.0</td>\n      <td>0.0</td>\n      <td>1.0</td>\n      <td>0.0</td>\n      <td>1.0</td>\n      <td>1.0</td>\n      <td>0.0</td>\n      <td>0.0</td>\n      <td>0.0</td>\n      <td>0.0</td>\n      <td>0.0</td>\n      <td>0.0</td>\n      <td>0.0</td>\n      <td>0.0</td>\n      <td>0.0</td>\n      <td>0.0</td>\n      <td>0.0</td>\n      <td>0.0</td>\n      <td>0.0</td>\n      <td>0.0</td>\n      <td>0.0</td>\n      <td>0.0</td>\n      <td>0.0</td>\n      <td>0.0</td>\n      <td>0.0</td>\n      <td>0.0</td>\n      <td>0.0</td>\n      <td>0.0</td>\n      <td>0.0</td>\n      <td>0.0</td>\n      <td>0.0</td>\n      <td>0.0</td>\n      <td>0.0</td>\n      <td>0.0</td>\n      <td>0.0</td>\n      <td>0.0</td>\n    </tr>\n    <tr>\n      <th>14</th>\n      <td>15</td>\n      <td>0.0</td>\n      <td>0.0</td>\n      <td>0.0</td>\n      <td>0.0</td>\n      <td>1.0</td>\n      <td>0.0</td>\n      <td>0.0</td>\n      <td>0.0</td>\n      <td>1.0</td>\n      <td>0.0</td>\n      <td>1.0</td>\n      <td>0.0</td>\n      <td>0.0</td>\n      <td>0.0</td>\n      <td>0.0</td>\n      <td>1.0</td>\n      <td>0.0</td>\n      <td>0.0</td>\n      <td>0.0</td>\n      <td>0.0</td>\n      <td>0.0</td>\n      <td>0.0</td>\n      <td>0.0</td>\n      <td>0.0</td>\n      <td>1.0</td>\n      <td>1.0</td>\n      <td>0.0</td>\n      <td>0.0</td>\n      <td>0.0</td>\n      <td>0.0</td>\n      <td>0.0</td>\n      <td>0.0</td>\n      <td>0.0</td>\n      <td>0.0</td>\n      <td>0.0</td>\n      <td>0.0</td>\n      <td>0.0</td>\n      <td>0.0</td>\n      <td>0.0</td>\n      <td>0.0</td>\n      <td>0.0</td>\n      <td>0.0</td>\n      <td>0.0</td>\n      <td>0.0</td>\n      <td>0.0</td>\n      <td>0.0</td>\n      <td>0.0</td>\n      <td>0.0</td>\n      <td>0.0</td>\n    </tr>\n    <tr>\n      <th>15</th>\n      <td>16</td>\n      <td>0.0</td>\n      <td>0.0</td>\n      <td>0.0</td>\n      <td>0.0</td>\n      <td>1.0</td>\n      <td>0.0</td>\n      <td>0.0</td>\n      <td>0.0</td>\n      <td>0.0</td>\n      <td>0.0</td>\n      <td>1.0</td>\n      <td>1.0</td>\n      <td>0.0</td>\n      <td>1.0</td>\n      <td>1.0</td>\n      <td>0.0</td>\n      <td>0.0</td>\n      <td>1.0</td>\n      <td>0.0</td>\n      <td>0.0</td>\n      <td>0.0</td>\n      <td>0.0</td>\n      <td>0.0</td>\n      <td>1.0</td>\n      <td>1.0</td>\n      <td>0.0</td>\n      <td>0.0</td>\n      <td>0.0</td>\n      <td>0.0</td>\n      <td>0.0</td>\n      <td>0.0</td>\n      <td>0.0</td>\n      <td>0.0</td>\n      <td>0.0</td>\n      <td>0.0</td>\n      <td>0.0</td>\n      <td>0.0</td>\n      <td>0.0</td>\n      <td>0.0</td>\n      <td>0.0</td>\n      <td>0.0</td>\n      <td>0.0</td>\n      <td>0.0</td>\n      <td>0.0</td>\n      <td>0.0</td>\n      <td>0.0</td>\n      <td>0.0</td>\n      <td>0.0</td>\n      <td>0.0</td>\n    </tr>\n    <tr>\n      <th>16</th>\n      <td>17</td>\n      <td>0.0</td>\n      <td>0.0</td>\n      <td>0.0</td>\n      <td>0.0</td>\n      <td>0.0</td>\n      <td>0.0</td>\n      <td>0.0</td>\n      <td>0.0</td>\n      <td>0.0</td>\n      <td>1.0</td>\n      <td>0.0</td>\n      <td>0.0</td>\n      <td>0.0</td>\n      <td>0.0</td>\n      <td>0.0</td>\n      <td>0.0</td>\n      <td>0.0</td>\n      <td>0.0</td>\n      <td>0.0</td>\n      <td>1.0</td>\n      <td>0.0</td>\n      <td>0.0</td>\n      <td>1.0</td>\n      <td>0.0</td>\n      <td>0.0</td>\n      <td>0.0</td>\n      <td>0.0</td>\n      <td>0.0</td>\n      <td>0.0</td>\n      <td>0.0</td>\n      <td>0.0</td>\n      <td>0.0</td>\n      <td>0.0</td>\n      <td>0.0</td>\n      <td>0.0</td>\n      <td>0.0</td>\n      <td>0.0</td>\n      <td>0.0</td>\n      <td>0.0</td>\n      <td>0.0</td>\n      <td>0.0</td>\n      <td>0.0</td>\n      <td>0.0</td>\n      <td>0.0</td>\n      <td>0.0</td>\n      <td>0.0</td>\n      <td>0.0</td>\n      <td>0.0</td>\n      <td>0.0</td>\n    </tr>\n    <tr>\n      <th>17</th>\n      <td>18</td>\n      <td>0.0</td>\n      <td>0.0</td>\n      <td>0.0</td>\n      <td>0.0</td>\n      <td>0.0</td>\n      <td>0.0</td>\n      <td>0.0</td>\n      <td>0.0</td>\n      <td>0.0</td>\n      <td>0.0</td>\n      <td>0.0</td>\n      <td>0.0</td>\n      <td>0.0</td>\n      <td>1.0</td>\n      <td>0.0</td>\n      <td>1.0</td>\n      <td>0.0</td>\n      <td>0.0</td>\n      <td>1.0</td>\n      <td>0.0</td>\n      <td>0.0</td>\n      <td>0.0</td>\n      <td>0.0</td>\n      <td>1.0</td>\n      <td>0.0</td>\n      <td>0.0</td>\n      <td>0.0</td>\n      <td>0.0</td>\n      <td>0.0</td>\n      <td>0.0</td>\n      <td>0.0</td>\n      <td>0.0</td>\n      <td>0.0</td>\n      <td>0.0</td>\n      <td>0.0</td>\n      <td>0.0</td>\n      <td>0.0</td>\n      <td>0.0</td>\n      <td>0.0</td>\n      <td>0.0</td>\n      <td>0.0</td>\n      <td>0.0</td>\n      <td>0.0</td>\n      <td>0.0</td>\n      <td>0.0</td>\n      <td>0.0</td>\n      <td>0.0</td>\n      <td>0.0</td>\n      <td>0.0</td>\n    </tr>\n    <tr>\n      <th>18</th>\n      <td>19</td>\n      <td>0.0</td>\n      <td>0.0</td>\n      <td>0.0</td>\n      <td>0.0</td>\n      <td>0.0</td>\n      <td>0.0</td>\n      <td>0.0</td>\n      <td>0.0</td>\n      <td>0.0</td>\n      <td>0.0</td>\n      <td>0.0</td>\n      <td>0.0</td>\n      <td>0.0</td>\n      <td>1.0</td>\n      <td>0.0</td>\n      <td>0.0</td>\n      <td>0.0</td>\n      <td>1.0</td>\n      <td>0.0</td>\n      <td>0.0</td>\n      <td>0.0</td>\n      <td>0.0</td>\n      <td>0.0</td>\n      <td>1.0</td>\n      <td>0.0</td>\n      <td>0.0</td>\n      <td>0.0</td>\n      <td>0.0</td>\n      <td>0.0</td>\n      <td>0.0</td>\n      <td>0.0</td>\n      <td>0.0</td>\n      <td>0.0</td>\n      <td>0.0</td>\n      <td>0.0</td>\n      <td>0.0</td>\n      <td>0.0</td>\n      <td>0.0</td>\n      <td>0.0</td>\n      <td>0.0</td>\n      <td>0.0</td>\n      <td>0.0</td>\n      <td>0.0</td>\n      <td>0.0</td>\n      <td>0.0</td>\n      <td>0.0</td>\n      <td>0.0</td>\n      <td>0.0</td>\n      <td>0.0</td>\n    </tr>\n    <tr>\n      <th>19</th>\n      <td>20</td>\n      <td>0.0</td>\n      <td>0.0</td>\n      <td>0.0</td>\n      <td>0.0</td>\n      <td>0.0</td>\n      <td>0.0</td>\n      <td>0.0</td>\n      <td>0.0</td>\n      <td>1.0</td>\n      <td>1.0</td>\n      <td>0.0</td>\n      <td>0.0</td>\n      <td>0.0</td>\n      <td>0.0</td>\n      <td>0.0</td>\n      <td>0.0</td>\n      <td>1.0</td>\n      <td>0.0</td>\n      <td>0.0</td>\n      <td>0.0</td>\n      <td>0.0</td>\n      <td>1.0</td>\n      <td>1.0</td>\n      <td>0.0</td>\n      <td>0.0</td>\n      <td>0.0</td>\n      <td>1.0</td>\n      <td>0.0</td>\n      <td>0.0</td>\n      <td>0.0</td>\n      <td>0.0</td>\n      <td>1.0</td>\n      <td>1.0</td>\n      <td>0.0</td>\n      <td>1.0</td>\n      <td>0.0</td>\n      <td>0.0</td>\n      <td>0.0</td>\n      <td>0.0</td>\n      <td>1.0</td>\n      <td>0.0</td>\n      <td>0.0</td>\n      <td>0.0</td>\n      <td>0.0</td>\n      <td>0.0</td>\n      <td>0.0</td>\n      <td>0.0</td>\n      <td>0.0</td>\n      <td>0.0</td>\n    </tr>\n    <tr>\n      <th>20</th>\n      <td>21</td>\n      <td>0.0</td>\n      <td>0.0</td>\n      <td>0.0</td>\n      <td>0.0</td>\n      <td>0.0</td>\n      <td>0.0</td>\n      <td>0.0</td>\n      <td>0.0</td>\n      <td>0.0</td>\n      <td>0.0</td>\n      <td>0.0</td>\n      <td>0.0</td>\n      <td>0.0</td>\n      <td>0.0</td>\n      <td>0.0</td>\n      <td>0.0</td>\n      <td>0.0</td>\n      <td>0.0</td>\n      <td>0.0</td>\n      <td>0.0</td>\n      <td>0.0</td>\n      <td>0.0</td>\n      <td>0.0</td>\n      <td>1.0</td>\n      <td>0.0</td>\n      <td>0.0</td>\n      <td>0.0</td>\n      <td>0.0</td>\n      <td>0.0</td>\n      <td>1.0</td>\n      <td>0.0</td>\n      <td>0.0</td>\n      <td>0.0</td>\n      <td>1.0</td>\n      <td>0.0</td>\n      <td>0.0</td>\n      <td>0.0</td>\n      <td>0.0</td>\n      <td>0.0</td>\n      <td>0.0</td>\n      <td>0.0</td>\n      <td>0.0</td>\n      <td>0.0</td>\n      <td>0.0</td>\n      <td>0.0</td>\n      <td>0.0</td>\n      <td>0.0</td>\n      <td>0.0</td>\n      <td>0.0</td>\n    </tr>\n    <tr>\n      <th>21</th>\n      <td>22</td>\n      <td>0.0</td>\n      <td>0.0</td>\n      <td>0.0</td>\n      <td>0.0</td>\n      <td>0.0</td>\n      <td>0.0</td>\n      <td>0.0</td>\n      <td>0.0</td>\n      <td>1.0</td>\n      <td>1.0</td>\n      <td>0.0</td>\n      <td>0.0</td>\n      <td>0.0</td>\n      <td>0.0</td>\n      <td>0.0</td>\n      <td>0.0</td>\n      <td>0.0</td>\n      <td>0.0</td>\n      <td>0.0</td>\n      <td>1.0</td>\n      <td>0.0</td>\n      <td>0.0</td>\n      <td>0.0</td>\n      <td>0.0</td>\n      <td>0.0</td>\n      <td>1.0</td>\n      <td>1.0</td>\n      <td>1.0</td>\n      <td>0.0</td>\n      <td>0.0</td>\n      <td>0.0</td>\n      <td>0.0</td>\n      <td>0.0</td>\n      <td>0.0</td>\n      <td>0.0</td>\n      <td>0.0</td>\n      <td>0.0</td>\n      <td>0.0</td>\n      <td>0.0</td>\n      <td>0.0</td>\n      <td>0.0</td>\n      <td>0.0</td>\n      <td>0.0</td>\n      <td>0.0</td>\n      <td>0.0</td>\n      <td>0.0</td>\n      <td>0.0</td>\n      <td>0.0</td>\n      <td>0.0</td>\n    </tr>\n    <tr>\n      <th>22</th>\n      <td>23</td>\n      <td>0.0</td>\n      <td>0.0</td>\n      <td>0.0</td>\n      <td>0.0</td>\n      <td>0.0</td>\n      <td>0.0</td>\n      <td>0.0</td>\n      <td>0.0</td>\n      <td>0.0</td>\n      <td>0.0</td>\n      <td>0.0</td>\n      <td>0.0</td>\n      <td>0.0</td>\n      <td>0.0</td>\n      <td>0.0</td>\n      <td>0.0</td>\n      <td>1.0</td>\n      <td>0.0</td>\n      <td>0.0</td>\n      <td>1.0</td>\n      <td>0.0</td>\n      <td>0.0</td>\n      <td>0.0</td>\n      <td>0.0</td>\n      <td>0.0</td>\n      <td>0.0</td>\n      <td>0.0</td>\n      <td>0.0</td>\n      <td>0.0</td>\n      <td>0.0</td>\n      <td>0.0</td>\n      <td>1.0</td>\n      <td>0.0</td>\n      <td>0.0</td>\n      <td>0.0</td>\n      <td>0.0</td>\n      <td>0.0</td>\n      <td>0.0</td>\n      <td>0.0</td>\n      <td>0.0</td>\n      <td>0.0</td>\n      <td>0.0</td>\n      <td>0.0</td>\n      <td>0.0</td>\n      <td>0.0</td>\n      <td>0.0</td>\n      <td>0.0</td>\n      <td>0.0</td>\n      <td>0.0</td>\n    </tr>\n    <tr>\n      <th>23</th>\n      <td>24</td>\n      <td>0.0</td>\n      <td>0.0</td>\n      <td>0.0</td>\n      <td>0.0</td>\n      <td>0.0</td>\n      <td>0.0</td>\n      <td>0.0</td>\n      <td>0.0</td>\n      <td>0.0</td>\n      <td>0.0</td>\n      <td>0.0</td>\n      <td>0.0</td>\n      <td>0.0</td>\n      <td>0.0</td>\n      <td>0.0</td>\n      <td>1.0</td>\n      <td>0.0</td>\n      <td>1.0</td>\n      <td>1.0</td>\n      <td>0.0</td>\n      <td>1.0</td>\n      <td>0.0</td>\n      <td>0.0</td>\n      <td>0.0</td>\n      <td>1.0</td>\n      <td>0.0</td>\n      <td>0.0</td>\n      <td>0.0</td>\n      <td>1.0</td>\n      <td>1.0</td>\n      <td>0.0</td>\n      <td>0.0</td>\n      <td>0.0</td>\n      <td>0.0</td>\n      <td>0.0</td>\n      <td>0.0</td>\n      <td>0.0</td>\n      <td>0.0</td>\n      <td>0.0</td>\n      <td>0.0</td>\n      <td>0.0</td>\n      <td>0.0</td>\n      <td>0.0</td>\n      <td>0.0</td>\n      <td>0.0</td>\n      <td>0.0</td>\n      <td>0.0</td>\n      <td>0.0</td>\n      <td>0.0</td>\n    </tr>\n    <tr>\n      <th>24</th>\n      <td>25</td>\n      <td>0.0</td>\n      <td>0.0</td>\n      <td>0.0</td>\n      <td>0.0</td>\n      <td>0.0</td>\n      <td>0.0</td>\n      <td>0.0</td>\n      <td>0.0</td>\n      <td>1.0</td>\n      <td>0.0</td>\n      <td>0.0</td>\n      <td>0.0</td>\n      <td>0.0</td>\n      <td>0.0</td>\n      <td>1.0</td>\n      <td>1.0</td>\n      <td>0.0</td>\n      <td>0.0</td>\n      <td>0.0</td>\n      <td>0.0</td>\n      <td>0.0</td>\n      <td>0.0</td>\n      <td>0.0</td>\n      <td>1.0</td>\n      <td>0.0</td>\n      <td>1.0</td>\n      <td>0.0</td>\n      <td>1.0</td>\n      <td>1.0</td>\n      <td>1.0</td>\n      <td>0.0</td>\n      <td>0.0</td>\n      <td>0.0</td>\n      <td>0.0</td>\n      <td>0.0</td>\n      <td>0.0</td>\n      <td>0.0</td>\n      <td>0.0</td>\n      <td>0.0</td>\n      <td>0.0</td>\n      <td>0.0</td>\n      <td>0.0</td>\n      <td>0.0</td>\n      <td>0.0</td>\n      <td>0.0</td>\n      <td>0.0</td>\n      <td>0.0</td>\n      <td>0.0</td>\n      <td>0.0</td>\n    </tr>\n    <tr>\n      <th>25</th>\n      <td>26</td>\n      <td>0.0</td>\n      <td>0.0</td>\n      <td>0.0</td>\n      <td>0.0</td>\n      <td>0.0</td>\n      <td>0.0</td>\n      <td>0.0</td>\n      <td>0.0</td>\n      <td>1.0</td>\n      <td>0.0</td>\n      <td>0.0</td>\n      <td>0.0</td>\n      <td>0.0</td>\n      <td>0.0</td>\n      <td>1.0</td>\n      <td>0.0</td>\n      <td>0.0</td>\n      <td>0.0</td>\n      <td>0.0</td>\n      <td>0.0</td>\n      <td>0.0</td>\n      <td>1.0</td>\n      <td>0.0</td>\n      <td>0.0</td>\n      <td>1.0</td>\n      <td>0.0</td>\n      <td>0.0</td>\n      <td>1.0</td>\n      <td>1.0</td>\n      <td>0.0</td>\n      <td>0.0</td>\n      <td>0.0</td>\n      <td>0.0</td>\n      <td>0.0</td>\n      <td>0.0</td>\n      <td>0.0</td>\n      <td>0.0</td>\n      <td>0.0</td>\n      <td>0.0</td>\n      <td>0.0</td>\n      <td>0.0</td>\n      <td>0.0</td>\n      <td>0.0</td>\n      <td>0.0</td>\n      <td>0.0</td>\n      <td>0.0</td>\n      <td>0.0</td>\n      <td>0.0</td>\n      <td>0.0</td>\n    </tr>\n    <tr>\n      <th>26</th>\n      <td>27</td>\n      <td>0.0</td>\n      <td>0.0</td>\n      <td>0.0</td>\n      <td>0.0</td>\n      <td>0.0</td>\n      <td>0.0</td>\n      <td>0.0</td>\n      <td>0.0</td>\n      <td>0.0</td>\n      <td>0.0</td>\n      <td>0.0</td>\n      <td>0.0</td>\n      <td>0.0</td>\n      <td>0.0</td>\n      <td>0.0</td>\n      <td>0.0</td>\n      <td>0.0</td>\n      <td>0.0</td>\n      <td>0.0</td>\n      <td>1.0</td>\n      <td>0.0</td>\n      <td>1.0</td>\n      <td>0.0</td>\n      <td>0.0</td>\n      <td>0.0</td>\n      <td>0.0</td>\n      <td>0.0</td>\n      <td>1.0</td>\n      <td>0.0</td>\n      <td>0.0</td>\n      <td>0.0</td>\n      <td>0.0</td>\n      <td>1.0</td>\n      <td>0.0</td>\n      <td>0.0</td>\n      <td>0.0</td>\n      <td>0.0</td>\n      <td>0.0</td>\n      <td>0.0</td>\n      <td>0.0</td>\n      <td>0.0</td>\n      <td>0.0</td>\n      <td>0.0</td>\n      <td>0.0</td>\n      <td>0.0</td>\n      <td>0.0</td>\n      <td>0.0</td>\n      <td>0.0</td>\n      <td>0.0</td>\n    </tr>\n    <tr>\n      <th>27</th>\n      <td>28</td>\n      <td>0.0</td>\n      <td>0.0</td>\n      <td>0.0</td>\n      <td>0.0</td>\n      <td>0.0</td>\n      <td>0.0</td>\n      <td>0.0</td>\n      <td>0.0</td>\n      <td>0.0</td>\n      <td>0.0</td>\n      <td>0.0</td>\n      <td>0.0</td>\n      <td>0.0</td>\n      <td>0.0</td>\n      <td>0.0</td>\n      <td>0.0</td>\n      <td>0.0</td>\n      <td>0.0</td>\n      <td>0.0</td>\n      <td>0.0</td>\n      <td>0.0</td>\n      <td>1.0</td>\n      <td>0.0</td>\n      <td>0.0</td>\n      <td>1.0</td>\n      <td>1.0</td>\n      <td>1.0</td>\n      <td>0.0</td>\n      <td>1.0</td>\n      <td>0.0</td>\n      <td>0.0</td>\n      <td>0.0</td>\n      <td>1.0</td>\n      <td>0.0</td>\n      <td>1.0</td>\n      <td>0.0</td>\n      <td>1.0</td>\n      <td>1.0</td>\n      <td>0.0</td>\n      <td>0.0</td>\n      <td>0.0</td>\n      <td>0.0</td>\n      <td>0.0</td>\n      <td>0.0</td>\n      <td>0.0</td>\n      <td>0.0</td>\n      <td>0.0</td>\n      <td>0.0</td>\n      <td>0.0</td>\n    </tr>\n    <tr>\n      <th>28</th>\n      <td>29</td>\n      <td>0.0</td>\n      <td>0.0</td>\n      <td>0.0</td>\n      <td>0.0</td>\n      <td>0.0</td>\n      <td>0.0</td>\n      <td>0.0</td>\n      <td>0.0</td>\n      <td>0.0</td>\n      <td>0.0</td>\n      <td>0.0</td>\n      <td>0.0</td>\n      <td>0.0</td>\n      <td>0.0</td>\n      <td>0.0</td>\n      <td>0.0</td>\n      <td>0.0</td>\n      <td>0.0</td>\n      <td>0.0</td>\n      <td>0.0</td>\n      <td>0.0</td>\n      <td>0.0</td>\n      <td>0.0</td>\n      <td>1.0</td>\n      <td>1.0</td>\n      <td>1.0</td>\n      <td>0.0</td>\n      <td>1.0</td>\n      <td>0.0</td>\n      <td>1.0</td>\n      <td>0.0</td>\n      <td>0.0</td>\n      <td>0.0</td>\n      <td>0.0</td>\n      <td>0.0</td>\n      <td>0.0</td>\n      <td>1.0</td>\n      <td>1.0</td>\n      <td>0.0</td>\n      <td>0.0</td>\n      <td>0.0</td>\n      <td>0.0</td>\n      <td>0.0</td>\n      <td>0.0</td>\n      <td>0.0</td>\n      <td>0.0</td>\n      <td>0.0</td>\n      <td>0.0</td>\n      <td>0.0</td>\n    </tr>\n    <tr>\n      <th>29</th>\n      <td>30</td>\n      <td>0.0</td>\n      <td>0.0</td>\n      <td>0.0</td>\n      <td>0.0</td>\n      <td>0.0</td>\n      <td>0.0</td>\n      <td>0.0</td>\n      <td>0.0</td>\n      <td>0.0</td>\n      <td>0.0</td>\n      <td>0.0</td>\n      <td>0.0</td>\n      <td>0.0</td>\n      <td>0.0</td>\n      <td>0.0</td>\n      <td>0.0</td>\n      <td>0.0</td>\n      <td>0.0</td>\n      <td>0.0</td>\n      <td>0.0</td>\n      <td>1.0</td>\n      <td>0.0</td>\n      <td>0.0</td>\n      <td>1.0</td>\n      <td>1.0</td>\n      <td>0.0</td>\n      <td>0.0</td>\n      <td>0.0</td>\n      <td>1.0</td>\n      <td>0.0</td>\n      <td>0.0</td>\n      <td>0.0</td>\n      <td>0.0</td>\n      <td>0.0</td>\n      <td>0.0</td>\n      <td>0.0</td>\n      <td>1.0</td>\n      <td>0.0</td>\n      <td>0.0</td>\n      <td>0.0</td>\n      <td>0.0</td>\n      <td>0.0</td>\n      <td>0.0</td>\n      <td>0.0</td>\n      <td>0.0</td>\n      <td>0.0</td>\n      <td>0.0</td>\n      <td>0.0</td>\n      <td>0.0</td>\n    </tr>\n    <tr>\n      <th>30</th>\n      <td>31</td>\n      <td>0.0</td>\n      <td>0.0</td>\n      <td>0.0</td>\n      <td>0.0</td>\n      <td>0.0</td>\n      <td>0.0</td>\n      <td>0.0</td>\n      <td>0.0</td>\n      <td>0.0</td>\n      <td>0.0</td>\n      <td>0.0</td>\n      <td>0.0</td>\n      <td>0.0</td>\n      <td>0.0</td>\n      <td>0.0</td>\n      <td>0.0</td>\n      <td>0.0</td>\n      <td>0.0</td>\n      <td>0.0</td>\n      <td>0.0</td>\n      <td>0.0</td>\n      <td>0.0</td>\n      <td>0.0</td>\n      <td>0.0</td>\n      <td>0.0</td>\n      <td>0.0</td>\n      <td>0.0</td>\n      <td>0.0</td>\n      <td>0.0</td>\n      <td>0.0</td>\n      <td>0.0</td>\n      <td>0.0</td>\n      <td>0.0</td>\n      <td>1.0</td>\n      <td>0.0</td>\n      <td>1.0</td>\n      <td>0.0</td>\n      <td>0.0</td>\n      <td>1.0</td>\n      <td>0.0</td>\n      <td>0.0</td>\n      <td>0.0</td>\n      <td>0.0</td>\n      <td>0.0</td>\n      <td>0.0</td>\n      <td>0.0</td>\n      <td>0.0</td>\n      <td>0.0</td>\n      <td>0.0</td>\n    </tr>\n    <tr>\n      <th>31</th>\n      <td>32</td>\n      <td>0.0</td>\n      <td>0.0</td>\n      <td>0.0</td>\n      <td>0.0</td>\n      <td>0.0</td>\n      <td>0.0</td>\n      <td>0.0</td>\n      <td>0.0</td>\n      <td>0.0</td>\n      <td>0.0</td>\n      <td>0.0</td>\n      <td>0.0</td>\n      <td>0.0</td>\n      <td>0.0</td>\n      <td>0.0</td>\n      <td>0.0</td>\n      <td>0.0</td>\n      <td>0.0</td>\n      <td>0.0</td>\n      <td>1.0</td>\n      <td>0.0</td>\n      <td>0.0</td>\n      <td>1.0</td>\n      <td>0.0</td>\n      <td>0.0</td>\n      <td>0.0</td>\n      <td>0.0</td>\n      <td>0.0</td>\n      <td>0.0</td>\n      <td>0.0</td>\n      <td>0.0</td>\n      <td>0.0</td>\n      <td>0.0</td>\n      <td>0.0</td>\n      <td>0.0</td>\n      <td>0.0</td>\n      <td>0.0</td>\n      <td>0.0</td>\n      <td>0.0</td>\n      <td>1.0</td>\n      <td>1.0</td>\n      <td>0.0</td>\n      <td>0.0</td>\n      <td>0.0</td>\n      <td>0.0</td>\n      <td>0.0</td>\n      <td>0.0</td>\n      <td>0.0</td>\n      <td>0.0</td>\n    </tr>\n    <tr>\n      <th>32</th>\n      <td>33</td>\n      <td>0.0</td>\n      <td>0.0</td>\n      <td>0.0</td>\n      <td>0.0</td>\n      <td>0.0</td>\n      <td>0.0</td>\n      <td>0.0</td>\n      <td>0.0</td>\n      <td>0.0</td>\n      <td>0.0</td>\n      <td>0.0</td>\n      <td>0.0</td>\n      <td>0.0</td>\n      <td>0.0</td>\n      <td>0.0</td>\n      <td>0.0</td>\n      <td>0.0</td>\n      <td>0.0</td>\n      <td>0.0</td>\n      <td>1.0</td>\n      <td>0.0</td>\n      <td>0.0</td>\n      <td>0.0</td>\n      <td>0.0</td>\n      <td>0.0</td>\n      <td>0.0</td>\n      <td>1.0</td>\n      <td>1.0</td>\n      <td>0.0</td>\n      <td>0.0</td>\n      <td>0.0</td>\n      <td>0.0</td>\n      <td>0.0</td>\n      <td>0.0</td>\n      <td>1.0</td>\n      <td>0.0</td>\n      <td>0.0</td>\n      <td>0.0</td>\n      <td>0.0</td>\n      <td>0.0</td>\n      <td>0.0</td>\n      <td>0.0</td>\n      <td>0.0</td>\n      <td>0.0</td>\n      <td>0.0</td>\n      <td>0.0</td>\n      <td>0.0</td>\n      <td>0.0</td>\n      <td>0.0</td>\n    </tr>\n    <tr>\n      <th>33</th>\n      <td>34</td>\n      <td>0.0</td>\n      <td>0.0</td>\n      <td>0.0</td>\n      <td>0.0</td>\n      <td>0.0</td>\n      <td>0.0</td>\n      <td>0.0</td>\n      <td>0.0</td>\n      <td>0.0</td>\n      <td>0.0</td>\n      <td>0.0</td>\n      <td>0.0</td>\n      <td>0.0</td>\n      <td>0.0</td>\n      <td>0.0</td>\n      <td>0.0</td>\n      <td>0.0</td>\n      <td>0.0</td>\n      <td>0.0</td>\n      <td>0.0</td>\n      <td>1.0</td>\n      <td>0.0</td>\n      <td>0.0</td>\n      <td>0.0</td>\n      <td>0.0</td>\n      <td>0.0</td>\n      <td>0.0</td>\n      <td>0.0</td>\n      <td>0.0</td>\n      <td>0.0</td>\n      <td>1.0</td>\n      <td>0.0</td>\n      <td>0.0</td>\n      <td>0.0</td>\n      <td>0.0</td>\n      <td>1.0</td>\n      <td>0.0</td>\n      <td>0.0</td>\n      <td>0.0</td>\n      <td>0.0</td>\n      <td>0.0</td>\n      <td>1.0</td>\n      <td>0.0</td>\n      <td>0.0</td>\n      <td>0.0</td>\n      <td>0.0</td>\n      <td>0.0</td>\n      <td>0.0</td>\n      <td>0.0</td>\n    </tr>\n    <tr>\n      <th>34</th>\n      <td>35</td>\n      <td>0.0</td>\n      <td>0.0</td>\n      <td>0.0</td>\n      <td>0.0</td>\n      <td>0.0</td>\n      <td>0.0</td>\n      <td>0.0</td>\n      <td>0.0</td>\n      <td>0.0</td>\n      <td>0.0</td>\n      <td>0.0</td>\n      <td>0.0</td>\n      <td>0.0</td>\n      <td>0.0</td>\n      <td>0.0</td>\n      <td>0.0</td>\n      <td>0.0</td>\n      <td>0.0</td>\n      <td>0.0</td>\n      <td>1.0</td>\n      <td>0.0</td>\n      <td>0.0</td>\n      <td>0.0</td>\n      <td>0.0</td>\n      <td>0.0</td>\n      <td>0.0</td>\n      <td>0.0</td>\n      <td>1.0</td>\n      <td>0.0</td>\n      <td>0.0</td>\n      <td>0.0</td>\n      <td>0.0</td>\n      <td>1.0</td>\n      <td>0.0</td>\n      <td>0.0</td>\n      <td>0.0</td>\n      <td>0.0</td>\n      <td>1.0</td>\n      <td>0.0</td>\n      <td>1.0</td>\n      <td>0.0</td>\n      <td>0.0</td>\n      <td>1.0</td>\n      <td>1.0</td>\n      <td>0.0</td>\n      <td>0.0</td>\n      <td>0.0</td>\n      <td>0.0</td>\n      <td>0.0</td>\n    </tr>\n    <tr>\n      <th>35</th>\n      <td>36</td>\n      <td>0.0</td>\n      <td>0.0</td>\n      <td>0.0</td>\n      <td>0.0</td>\n      <td>0.0</td>\n      <td>0.0</td>\n      <td>0.0</td>\n      <td>0.0</td>\n      <td>0.0</td>\n      <td>0.0</td>\n      <td>0.0</td>\n      <td>0.0</td>\n      <td>0.0</td>\n      <td>0.0</td>\n      <td>0.0</td>\n      <td>0.0</td>\n      <td>0.0</td>\n      <td>0.0</td>\n      <td>0.0</td>\n      <td>0.0</td>\n      <td>0.0</td>\n      <td>0.0</td>\n      <td>0.0</td>\n      <td>0.0</td>\n      <td>0.0</td>\n      <td>0.0</td>\n      <td>0.0</td>\n      <td>0.0</td>\n      <td>0.0</td>\n      <td>0.0</td>\n      <td>1.0</td>\n      <td>0.0</td>\n      <td>0.0</td>\n      <td>1.0</td>\n      <td>0.0</td>\n      <td>0.0</td>\n      <td>0.0</td>\n      <td>0.0</td>\n      <td>1.0</td>\n      <td>0.0</td>\n      <td>0.0</td>\n      <td>1.0</td>\n      <td>0.0</td>\n      <td>0.0</td>\n      <td>0.0</td>\n      <td>1.0</td>\n      <td>0.0</td>\n      <td>0.0</td>\n      <td>0.0</td>\n    </tr>\n    <tr>\n      <th>36</th>\n      <td>37</td>\n      <td>0.0</td>\n      <td>0.0</td>\n      <td>0.0</td>\n      <td>0.0</td>\n      <td>0.0</td>\n      <td>0.0</td>\n      <td>0.0</td>\n      <td>0.0</td>\n      <td>0.0</td>\n      <td>0.0</td>\n      <td>0.0</td>\n      <td>0.0</td>\n      <td>0.0</td>\n      <td>0.0</td>\n      <td>0.0</td>\n      <td>0.0</td>\n      <td>0.0</td>\n      <td>0.0</td>\n      <td>0.0</td>\n      <td>0.0</td>\n      <td>0.0</td>\n      <td>0.0</td>\n      <td>0.0</td>\n      <td>0.0</td>\n      <td>0.0</td>\n      <td>0.0</td>\n      <td>0.0</td>\n      <td>1.0</td>\n      <td>1.0</td>\n      <td>1.0</td>\n      <td>0.0</td>\n      <td>0.0</td>\n      <td>0.0</td>\n      <td>0.0</td>\n      <td>0.0</td>\n      <td>0.0</td>\n      <td>0.0</td>\n      <td>1.0</td>\n      <td>0.0</td>\n      <td>0.0</td>\n      <td>0.0</td>\n      <td>0.0</td>\n      <td>1.0</td>\n      <td>0.0</td>\n      <td>1.0</td>\n      <td>0.0</td>\n      <td>0.0</td>\n      <td>0.0</td>\n      <td>0.0</td>\n    </tr>\n    <tr>\n      <th>37</th>\n      <td>38</td>\n      <td>0.0</td>\n      <td>0.0</td>\n      <td>0.0</td>\n      <td>0.0</td>\n      <td>0.0</td>\n      <td>0.0</td>\n      <td>0.0</td>\n      <td>0.0</td>\n      <td>0.0</td>\n      <td>0.0</td>\n      <td>0.0</td>\n      <td>0.0</td>\n      <td>0.0</td>\n      <td>0.0</td>\n      <td>0.0</td>\n      <td>0.0</td>\n      <td>0.0</td>\n      <td>0.0</td>\n      <td>0.0</td>\n      <td>0.0</td>\n      <td>0.0</td>\n      <td>0.0</td>\n      <td>0.0</td>\n      <td>0.0</td>\n      <td>0.0</td>\n      <td>0.0</td>\n      <td>0.0</td>\n      <td>1.0</td>\n      <td>1.0</td>\n      <td>0.0</td>\n      <td>0.0</td>\n      <td>0.0</td>\n      <td>0.0</td>\n      <td>0.0</td>\n      <td>1.0</td>\n      <td>0.0</td>\n      <td>1.0</td>\n      <td>0.0</td>\n      <td>0.0</td>\n      <td>0.0</td>\n      <td>0.0</td>\n      <td>0.0</td>\n      <td>1.0</td>\n      <td>1.0</td>\n      <td>0.0</td>\n      <td>0.0</td>\n      <td>0.0</td>\n      <td>0.0</td>\n      <td>0.0</td>\n    </tr>\n    <tr>\n      <th>38</th>\n      <td>39</td>\n      <td>0.0</td>\n      <td>0.0</td>\n      <td>0.0</td>\n      <td>0.0</td>\n      <td>0.0</td>\n      <td>0.0</td>\n      <td>0.0</td>\n      <td>0.0</td>\n      <td>0.0</td>\n      <td>0.0</td>\n      <td>0.0</td>\n      <td>0.0</td>\n      <td>0.0</td>\n      <td>0.0</td>\n      <td>0.0</td>\n      <td>0.0</td>\n      <td>0.0</td>\n      <td>0.0</td>\n      <td>0.0</td>\n      <td>0.0</td>\n      <td>0.0</td>\n      <td>0.0</td>\n      <td>0.0</td>\n      <td>0.0</td>\n      <td>0.0</td>\n      <td>0.0</td>\n      <td>0.0</td>\n      <td>0.0</td>\n      <td>0.0</td>\n      <td>0.0</td>\n      <td>1.0</td>\n      <td>0.0</td>\n      <td>0.0</td>\n      <td>0.0</td>\n      <td>0.0</td>\n      <td>1.0</td>\n      <td>0.0</td>\n      <td>0.0</td>\n      <td>0.0</td>\n      <td>0.0</td>\n      <td>0.0</td>\n      <td>0.0</td>\n      <td>0.0</td>\n      <td>0.0</td>\n      <td>0.0</td>\n      <td>1.0</td>\n      <td>0.0</td>\n      <td>0.0</td>\n      <td>0.0</td>\n    </tr>\n    <tr>\n      <th>39</th>\n      <td>40</td>\n      <td>0.0</td>\n      <td>0.0</td>\n      <td>0.0</td>\n      <td>0.0</td>\n      <td>0.0</td>\n      <td>0.0</td>\n      <td>0.0</td>\n      <td>0.0</td>\n      <td>0.0</td>\n      <td>0.0</td>\n      <td>0.0</td>\n      <td>0.0</td>\n      <td>0.0</td>\n      <td>0.0</td>\n      <td>0.0</td>\n      <td>0.0</td>\n      <td>0.0</td>\n      <td>0.0</td>\n      <td>0.0</td>\n      <td>1.0</td>\n      <td>0.0</td>\n      <td>0.0</td>\n      <td>0.0</td>\n      <td>0.0</td>\n      <td>0.0</td>\n      <td>0.0</td>\n      <td>0.0</td>\n      <td>0.0</td>\n      <td>0.0</td>\n      <td>0.0</td>\n      <td>0.0</td>\n      <td>1.0</td>\n      <td>0.0</td>\n      <td>0.0</td>\n      <td>1.0</td>\n      <td>0.0</td>\n      <td>0.0</td>\n      <td>0.0</td>\n      <td>0.0</td>\n      <td>0.0</td>\n      <td>1.0</td>\n      <td>0.0</td>\n      <td>0.0</td>\n      <td>0.0</td>\n      <td>0.0</td>\n      <td>0.0</td>\n      <td>1.0</td>\n      <td>0.0</td>\n      <td>0.0</td>\n    </tr>\n    <tr>\n      <th>40</th>\n      <td>41</td>\n      <td>0.0</td>\n      <td>0.0</td>\n      <td>0.0</td>\n      <td>0.0</td>\n      <td>0.0</td>\n      <td>0.0</td>\n      <td>0.0</td>\n      <td>0.0</td>\n      <td>0.0</td>\n      <td>0.0</td>\n      <td>0.0</td>\n      <td>0.0</td>\n      <td>0.0</td>\n      <td>0.0</td>\n      <td>0.0</td>\n      <td>0.0</td>\n      <td>0.0</td>\n      <td>0.0</td>\n      <td>0.0</td>\n      <td>0.0</td>\n      <td>0.0</td>\n      <td>0.0</td>\n      <td>0.0</td>\n      <td>0.0</td>\n      <td>0.0</td>\n      <td>0.0</td>\n      <td>0.0</td>\n      <td>0.0</td>\n      <td>0.0</td>\n      <td>0.0</td>\n      <td>0.0</td>\n      <td>1.0</td>\n      <td>0.0</td>\n      <td>0.0</td>\n      <td>0.0</td>\n      <td>0.0</td>\n      <td>0.0</td>\n      <td>0.0</td>\n      <td>0.0</td>\n      <td>1.0</td>\n      <td>0.0</td>\n      <td>0.0</td>\n      <td>0.0</td>\n      <td>0.0</td>\n      <td>0.0</td>\n      <td>0.0</td>\n      <td>1.0</td>\n      <td>0.0</td>\n      <td>0.0</td>\n    </tr>\n    <tr>\n      <th>41</th>\n      <td>42</td>\n      <td>0.0</td>\n      <td>0.0</td>\n      <td>0.0</td>\n      <td>0.0</td>\n      <td>0.0</td>\n      <td>0.0</td>\n      <td>0.0</td>\n      <td>0.0</td>\n      <td>0.0</td>\n      <td>0.0</td>\n      <td>0.0</td>\n      <td>0.0</td>\n      <td>0.0</td>\n      <td>0.0</td>\n      <td>0.0</td>\n      <td>0.0</td>\n      <td>0.0</td>\n      <td>0.0</td>\n      <td>0.0</td>\n      <td>0.0</td>\n      <td>0.0</td>\n      <td>0.0</td>\n      <td>0.0</td>\n      <td>0.0</td>\n      <td>0.0</td>\n      <td>0.0</td>\n      <td>0.0</td>\n      <td>0.0</td>\n      <td>0.0</td>\n      <td>0.0</td>\n      <td>0.0</td>\n      <td>0.0</td>\n      <td>0.0</td>\n      <td>1.0</td>\n      <td>0.0</td>\n      <td>1.0</td>\n      <td>0.0</td>\n      <td>0.0</td>\n      <td>0.0</td>\n      <td>0.0</td>\n      <td>0.0</td>\n      <td>0.0</td>\n      <td>0.0</td>\n      <td>0.0</td>\n      <td>0.0</td>\n      <td>0.0</td>\n      <td>0.0</td>\n      <td>0.0</td>\n      <td>0.0</td>\n    </tr>\n    <tr>\n      <th>42</th>\n      <td>43</td>\n      <td>0.0</td>\n      <td>0.0</td>\n      <td>0.0</td>\n      <td>0.0</td>\n      <td>0.0</td>\n      <td>0.0</td>\n      <td>0.0</td>\n      <td>0.0</td>\n      <td>0.0</td>\n      <td>0.0</td>\n      <td>0.0</td>\n      <td>0.0</td>\n      <td>0.0</td>\n      <td>0.0</td>\n      <td>0.0</td>\n      <td>0.0</td>\n      <td>0.0</td>\n      <td>0.0</td>\n      <td>0.0</td>\n      <td>0.0</td>\n      <td>0.0</td>\n      <td>0.0</td>\n      <td>0.0</td>\n      <td>0.0</td>\n      <td>0.0</td>\n      <td>0.0</td>\n      <td>0.0</td>\n      <td>0.0</td>\n      <td>0.0</td>\n      <td>0.0</td>\n      <td>0.0</td>\n      <td>0.0</td>\n      <td>0.0</td>\n      <td>0.0</td>\n      <td>1.0</td>\n      <td>0.0</td>\n      <td>1.0</td>\n      <td>1.0</td>\n      <td>0.0</td>\n      <td>0.0</td>\n      <td>0.0</td>\n      <td>0.0</td>\n      <td>0.0</td>\n      <td>1.0</td>\n      <td>1.0</td>\n      <td>0.0</td>\n      <td>0.0</td>\n      <td>1.0</td>\n      <td>0.0</td>\n    </tr>\n    <tr>\n      <th>43</th>\n      <td>44</td>\n      <td>0.0</td>\n      <td>0.0</td>\n      <td>0.0</td>\n      <td>0.0</td>\n      <td>0.0</td>\n      <td>0.0</td>\n      <td>0.0</td>\n      <td>0.0</td>\n      <td>0.0</td>\n      <td>0.0</td>\n      <td>0.0</td>\n      <td>0.0</td>\n      <td>0.0</td>\n      <td>0.0</td>\n      <td>0.0</td>\n      <td>0.0</td>\n      <td>0.0</td>\n      <td>0.0</td>\n      <td>0.0</td>\n      <td>0.0</td>\n      <td>0.0</td>\n      <td>0.0</td>\n      <td>0.0</td>\n      <td>0.0</td>\n      <td>0.0</td>\n      <td>0.0</td>\n      <td>0.0</td>\n      <td>0.0</td>\n      <td>0.0</td>\n      <td>0.0</td>\n      <td>0.0</td>\n      <td>0.0</td>\n      <td>0.0</td>\n      <td>0.0</td>\n      <td>1.0</td>\n      <td>0.0</td>\n      <td>0.0</td>\n      <td>1.0</td>\n      <td>0.0</td>\n      <td>0.0</td>\n      <td>0.0</td>\n      <td>0.0</td>\n      <td>1.0</td>\n      <td>0.0</td>\n      <td>0.0</td>\n      <td>0.0</td>\n      <td>0.0</td>\n      <td>1.0</td>\n      <td>1.0</td>\n    </tr>\n    <tr>\n      <th>44</th>\n      <td>45</td>\n      <td>0.0</td>\n      <td>0.0</td>\n      <td>0.0</td>\n      <td>0.0</td>\n      <td>0.0</td>\n      <td>0.0</td>\n      <td>0.0</td>\n      <td>0.0</td>\n      <td>0.0</td>\n      <td>0.0</td>\n      <td>0.0</td>\n      <td>0.0</td>\n      <td>0.0</td>\n      <td>0.0</td>\n      <td>0.0</td>\n      <td>0.0</td>\n      <td>0.0</td>\n      <td>0.0</td>\n      <td>0.0</td>\n      <td>0.0</td>\n      <td>0.0</td>\n      <td>0.0</td>\n      <td>0.0</td>\n      <td>0.0</td>\n      <td>0.0</td>\n      <td>0.0</td>\n      <td>0.0</td>\n      <td>0.0</td>\n      <td>0.0</td>\n      <td>0.0</td>\n      <td>0.0</td>\n      <td>0.0</td>\n      <td>0.0</td>\n      <td>0.0</td>\n      <td>0.0</td>\n      <td>0.0</td>\n      <td>1.0</td>\n      <td>0.0</td>\n      <td>0.0</td>\n      <td>0.0</td>\n      <td>0.0</td>\n      <td>0.0</td>\n      <td>1.0</td>\n      <td>0.0</td>\n      <td>0.0</td>\n      <td>0.0</td>\n      <td>0.0</td>\n      <td>1.0</td>\n      <td>1.0</td>\n    </tr>\n    <tr>\n      <th>45</th>\n      <td>46</td>\n      <td>0.0</td>\n      <td>0.0</td>\n      <td>0.0</td>\n      <td>0.0</td>\n      <td>0.0</td>\n      <td>0.0</td>\n      <td>0.0</td>\n      <td>0.0</td>\n      <td>0.0</td>\n      <td>0.0</td>\n      <td>0.0</td>\n      <td>0.0</td>\n      <td>0.0</td>\n      <td>0.0</td>\n      <td>0.0</td>\n      <td>0.0</td>\n      <td>0.0</td>\n      <td>0.0</td>\n      <td>0.0</td>\n      <td>0.0</td>\n      <td>0.0</td>\n      <td>0.0</td>\n      <td>0.0</td>\n      <td>0.0</td>\n      <td>0.0</td>\n      <td>0.0</td>\n      <td>0.0</td>\n      <td>0.0</td>\n      <td>0.0</td>\n      <td>0.0</td>\n      <td>0.0</td>\n      <td>0.0</td>\n      <td>0.0</td>\n      <td>0.0</td>\n      <td>0.0</td>\n      <td>1.0</td>\n      <td>0.0</td>\n      <td>0.0</td>\n      <td>1.0</td>\n      <td>0.0</td>\n      <td>0.0</td>\n      <td>0.0</td>\n      <td>0.0</td>\n      <td>0.0</td>\n      <td>0.0</td>\n      <td>0.0</td>\n      <td>0.0</td>\n      <td>0.0</td>\n      <td>0.0</td>\n    </tr>\n    <tr>\n      <th>46</th>\n      <td>47</td>\n      <td>0.0</td>\n      <td>0.0</td>\n      <td>0.0</td>\n      <td>0.0</td>\n      <td>0.0</td>\n      <td>0.0</td>\n      <td>0.0</td>\n      <td>0.0</td>\n      <td>0.0</td>\n      <td>0.0</td>\n      <td>0.0</td>\n      <td>0.0</td>\n      <td>0.0</td>\n      <td>0.0</td>\n      <td>0.0</td>\n      <td>0.0</td>\n      <td>0.0</td>\n      <td>0.0</td>\n      <td>0.0</td>\n      <td>0.0</td>\n      <td>0.0</td>\n      <td>0.0</td>\n      <td>0.0</td>\n      <td>0.0</td>\n      <td>0.0</td>\n      <td>0.0</td>\n      <td>0.0</td>\n      <td>0.0</td>\n      <td>0.0</td>\n      <td>0.0</td>\n      <td>0.0</td>\n      <td>0.0</td>\n      <td>0.0</td>\n      <td>0.0</td>\n      <td>0.0</td>\n      <td>0.0</td>\n      <td>0.0</td>\n      <td>0.0</td>\n      <td>0.0</td>\n      <td>1.0</td>\n      <td>1.0</td>\n      <td>0.0</td>\n      <td>0.0</td>\n      <td>0.0</td>\n      <td>0.0</td>\n      <td>0.0</td>\n      <td>0.0</td>\n      <td>0.0</td>\n      <td>0.0</td>\n    </tr>\n    <tr>\n      <th>47</th>\n      <td>48</td>\n      <td>0.0</td>\n      <td>0.0</td>\n      <td>0.0</td>\n      <td>0.0</td>\n      <td>0.0</td>\n      <td>0.0</td>\n      <td>0.0</td>\n      <td>0.0</td>\n      <td>0.0</td>\n      <td>0.0</td>\n      <td>0.0</td>\n      <td>0.0</td>\n      <td>0.0</td>\n      <td>0.0</td>\n      <td>0.0</td>\n      <td>0.0</td>\n      <td>0.0</td>\n      <td>0.0</td>\n      <td>0.0</td>\n      <td>0.0</td>\n      <td>0.0</td>\n      <td>0.0</td>\n      <td>0.0</td>\n      <td>0.0</td>\n      <td>0.0</td>\n      <td>0.0</td>\n      <td>0.0</td>\n      <td>0.0</td>\n      <td>0.0</td>\n      <td>0.0</td>\n      <td>0.0</td>\n      <td>0.0</td>\n      <td>0.0</td>\n      <td>0.0</td>\n      <td>0.0</td>\n      <td>0.0</td>\n      <td>0.0</td>\n      <td>0.0</td>\n      <td>0.0</td>\n      <td>0.0</td>\n      <td>0.0</td>\n      <td>0.0</td>\n      <td>1.0</td>\n      <td>1.0</td>\n      <td>1.0</td>\n      <td>0.0</td>\n      <td>0.0</td>\n      <td>0.0</td>\n      <td>1.0</td>\n    </tr>\n    <tr>\n      <th>48</th>\n      <td>49</td>\n      <td>0.0</td>\n      <td>0.0</td>\n      <td>0.0</td>\n      <td>0.0</td>\n      <td>0.0</td>\n      <td>0.0</td>\n      <td>0.0</td>\n      <td>0.0</td>\n      <td>0.0</td>\n      <td>0.0</td>\n      <td>0.0</td>\n      <td>0.0</td>\n      <td>0.0</td>\n      <td>0.0</td>\n      <td>0.0</td>\n      <td>0.0</td>\n      <td>0.0</td>\n      <td>0.0</td>\n      <td>0.0</td>\n      <td>0.0</td>\n      <td>0.0</td>\n      <td>0.0</td>\n      <td>0.0</td>\n      <td>0.0</td>\n      <td>0.0</td>\n      <td>0.0</td>\n      <td>0.0</td>\n      <td>0.0</td>\n      <td>0.0</td>\n      <td>0.0</td>\n      <td>0.0</td>\n      <td>0.0</td>\n      <td>0.0</td>\n      <td>0.0</td>\n      <td>0.0</td>\n      <td>0.0</td>\n      <td>0.0</td>\n      <td>0.0</td>\n      <td>0.0</td>\n      <td>0.0</td>\n      <td>0.0</td>\n      <td>0.0</td>\n      <td>0.0</td>\n      <td>1.0</td>\n      <td>1.0</td>\n      <td>0.0</td>\n      <td>0.0</td>\n      <td>1.0</td>\n      <td>0.0</td>\n    </tr>\n  </tbody>\n</table>\n</div>"
     },
     "metadata": {}
    }
   ],
   "execution_count": 16
  },
  {
   "cell_type": "markdown",
   "source": "# Export W",
   "metadata": {
    "cell_id": "e25ca82f5818450aac50ad89560c0b92",
    "tags": [],
    "is_collapsed": false,
    "owner_user_id": "3e428fbe-be88-4851-af0f-3aa6c027cd24",
    "deepnote_cell_type": "text-cell-h1"
   }
  },
  {
   "cell_type": "code",
   "source": "df_ids_AND_WqueenMatrix.to_csv('df_ids_AND_WqueenMatrix.csv')\ndf_WqueenMatrix.to_csv('df_WqueenMatrix.csv', index = False)\ndf_WqueenMatrix.to_stata('df_WqueenMatrix.dta', write_index = False)",
   "metadata": {
    "cell_id": "ba9de9a085ea45b1b33719001a7f3050",
    "tags": [],
    "deepnote_to_be_reexecuted": false,
    "source_hash": "7ac08fa9",
    "execution_start": 1653788950461,
    "execution_millis": 23,
    "deepnote_cell_type": "code",
    "deepnote_cell_height": 116.953125
   },
   "outputs": [],
   "execution_count": 17
  },
  {
   "cell_type": "code",
   "source": "",
   "metadata": {
    "cell_id": "caf8246715f84e1397727e01a7b69c5d",
    "tags": [],
    "deepnote_to_be_reexecuted": false,
    "source_hash": "b623e53d",
    "execution_start": 1653788950487,
    "execution_millis": 1,
    "deepnote_cell_type": "code",
    "deepnote_cell_height": 65.953125
   },
   "outputs": [],
   "execution_count": 17
  },
  {
   "cell_type": "markdown",
   "source": "<a style='text-decoration:none;line-height:16px;display:flex;color:#5B5B62;padding:10px;justify-content:end;' href='https://deepnote.com?utm_source=created-in-deepnote-cell&projectId=d3458c2b-7b0a-425f-b3ea-855191342009' target=\"_blank\">\n<img alt='Created in deepnote.com' style='display:inline;max-height:16px;margin:0px;margin-right:7.5px;' src='data:image/svg+xml;base64,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' > </img>\nCreated in <span style='font-weight:600;margin-left:4px;'>Deepnote</span></a>",
   "metadata": {
    "tags": [],
    "created_in_deepnote_cell": true,
    "deepnote_cell_type": "markdown"
   }
  }
 ],
 "nbformat": 4,
 "nbformat_minor": 2,
 "metadata": {
  "orig_nbformat": 2,
  "deepnote": {},
  "deepnote_notebook_id": "06eec9bd-5556-45da-b393-62a2fe0f21f7",
  "deepnote_execution_queue": []
 }
}